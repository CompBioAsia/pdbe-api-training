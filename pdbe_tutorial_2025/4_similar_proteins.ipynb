{
 "cells": [
  {
   "cell_type": "markdown",
   "id": "8360f2e0",
   "metadata": {},
   "source": [
    "# PDBe API Training\n",
    "\n",
    "### PDBe Similar proteins for a given protein\n",
    "\n",
    "This tutorial will guide you through searching PDBe programmatically to find similar proteins for a given protein."
   ]
  },
  {
   "cell_type": "markdown",
   "id": "0d0db1cd",
   "metadata": {},
   "source": [
    "## Setup\n",
    "\n",
    "First we will import the code which is required to search the API and reformat the results.\n",
    "\n",
    "Run the cell below - by pressing the play button."
   ]
  },
  {
   "cell_type": "code",
   "execution_count": null,
   "id": "bb161de1",
   "metadata": {},
   "outputs": [],
   "source": [
    "import sys\n",
    "sys.path.insert(0, '..')\n",
    "from tutorial_utilities.api_modules import explode_dataset, get_url\n",
    "import pandas as pd"
   ]
  },
  {
   "cell_type": "markdown",
   "id": "32c1ad31",
   "metadata": {},
   "source": [
    "---\n",
    "---"
   ]
  },
  {
   "cell_type": "markdown",
   "id": "c6b115ff",
   "metadata": {},
   "source": [
    "## Obtaining data\n",
    "\n",
    "Now we will find all the proteins with 40% or more sequence identity to Human Acetylcholinesterase (Uniprot accession: P22303)."
   ]
  },
  {
   "cell_type": "code",
   "execution_count": null,
   "id": "d9bbb9e5",
   "metadata": {},
   "outputs": [],
   "source": [
    "BASE_URL = \"https://www.ebi.ac.uk/pdbe/\"\n",
    "PDBEKB_UNIPROT_URL = BASE_URL + \"graph-api/uniprot/\"\n",
    "\n",
    "\n",
    "def get_similar_protein_data(accession, identity):\n",
    "    \"\"\"\n",
    "    Get similar protein data for a given UniProt accession and identity threshold\n",
    "    \"\"\"\n",
    "\n",
    "    url = f\"{PDBEKB_UNIPROT_URL}similar_proteins/{accession}/{str(identity)}\"\n",
    "    print(url)\n",
    "\n",
    "    data = get_url(url=url)\n",
    "\n",
    "    return data"
   ]
  },
  {
   "cell_type": "code",
   "execution_count": null,
   "id": "7570fae8",
   "metadata": {},
   "outputs": [],
   "source": [
    "uniprot_accession = 'P22303'\n",
    "identity_cutoff = 40\n",
    "results = get_similar_protein_data(uniprot_accession, identity_cutoff) "
   ]
  },
  {
   "cell_type": "markdown",
   "id": "eac94b12",
   "metadata": {},
   "source": [
    "---\n",
    "---"
   ]
  },
  {
   "cell_type": "markdown",
   "id": "b9d673b6",
   "metadata": {},
   "source": [
    "## Reformatting the data\n",
    "\n",
    "The output results of the query contain all the information about the similar proteins, however it is in a complex nested list that makes it difficult to parse without reformatting.\n",
    "\n",
    "The following code simplifies the data, flattening the nested format:"
   ]
  },
  {
   "cell_type": "code",
   "execution_count": null,
   "id": "b50176b8",
   "metadata": {},
   "outputs": [],
   "source": [
    "# Reformat data to make it a list of similar proteins for the protein of interest\n",
    "df_expanded_uniprot = explode_dataset(\n",
    "    result=results[uniprot_accession], \n",
    "    column_to_explode='mapped_segment'\n",
    ")\n",
    "\n",
    "# Obtain the flattened data for each similar protein\n",
    "data = pd.json_normalize(df_expanded_uniprot['mapped_segment'])\n",
    "\n",
    "# Create reformatted dataset by joining the flattened data with the exploded dataset \n",
    "df_similar_proteins = df_expanded_uniprot.join(data)\n",
    "df_similar_proteins = df_similar_proteins.drop(columns='mapped_segment')"
   ]
  },
  {
   "cell_type": "markdown",
   "id": "2e6818ce",
   "metadata": {},
   "source": [
    "---\n",
    "---"
   ]
  },
  {
   "cell_type": "markdown",
   "id": "6b716e93",
   "metadata": {},
   "source": [
    "## Analysing the results\n",
    "\n",
    "Once the data has been reformatted into a human-readable format, it is simple to obtain the relevant information.\n",
    "\n",
    "**--This fulfils Project Aim 3A--**"
   ]
  },
  {
   "cell_type": "code",
   "execution_count": null,
   "id": "ef6bb285",
   "metadata": {},
   "outputs": [],
   "source": [
    "df_similar_proteins.head()"
   ]
  },
  {
   "cell_type": "markdown",
   "id": "3577ad3f",
   "metadata": {},
   "source": [
    "We can also filter this dataframe of similar proteins based on various column values like `sequence_identity`, `taxid` or `species`. For example, we can filter all the similar proteins from Human (`taxid= 9606`) as shown below. \n",
    "\n",
    "**--The following filtering fulfils Project Aim 3B--**"
   ]
  },
  {
   "cell_type": "code",
   "execution_count": null,
   "id": "cbe6c1f8",
   "metadata": {},
   "outputs": [],
   "source": [
    "df_human_similar = df_similar_proteins[df_similar_proteins['taxid'] == 9606] \n",
    "df_human_similar"
   ]
  },
  {
   "cell_type": "markdown",
   "id": "fa3bde8c",
   "metadata": {},
   "source": [
    "---\n",
    "---"
   ]
  },
  {
   "cell_type": "markdown",
   "id": "d3a8f761",
   "metadata": {},
   "source": [
    "## Writing the results to file\n",
    "\n",
    "We can save the results to a CSV file which we can load into excel."
   ]
  },
  {
   "cell_type": "code",
   "execution_count": null,
   "id": "bdff12e3",
   "metadata": {},
   "outputs": [],
   "source": [
    "df_similar_proteins.to_csv(\"similar_proteins_project_aims_3a.csv\")\n",
    "df_human_similar.to_csv(\"similar_proteins_project_aims_3b.csv\")"
   ]
  }
 ],
 "metadata": {
  "kernelspec": {
   "display_name": "Python 3 (ipykernel)",
   "language": "python",
   "name": "python3"
  },
  "language_info": {
   "codemirror_mode": {
    "name": "ipython",
    "version": 3
   },
   "file_extension": ".py",
   "mimetype": "text/x-python",
   "name": "python",
   "nbconvert_exporter": "python",
   "pygments_lexer": "ipython3",
   "version": "3.9.16"
  }
 },
 "nbformat": 4,
 "nbformat_minor": 5
}
