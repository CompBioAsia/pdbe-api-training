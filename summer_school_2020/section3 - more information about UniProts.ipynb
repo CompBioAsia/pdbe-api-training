{
 "cells": [
  {
   "cell_type": "markdown",
   "metadata": {},
   "source": [
    "# PDBe API Training\n",
    "\n",
    "### PDBe Interactions\n",
    "\n",
    "This tutorial will guide you through searching PDBe programmatically.\n",
    "\n",
    "\n",
    "First we will import the code which will do the work\n",
    "Run the cell below - by pressing the green play button."
   ]
  },
  {
   "cell_type": "code",
   "execution_count": 3,
   "metadata": {
    "pycharm": {
     "name": "#%%\n"
    }
   },
   "outputs": [],
   "source": [
    "import sys\n",
    "sys.path.insert(0,'..') # to ensure the below import works in all Jupyter notebooks\n",
    "from python_modules.api_modules import run_sequence_search, explode_dataset, get_ligand_site_data\n"
   ]
  },
  {
   "cell_type": "markdown",
   "metadata": {
    "pycharm": {
     "name": "#%% md\n"
    }
   },
   "source": [
    "Now we are ready to actually run the sequence search we did in the last module\n",
    "\n",
    "We will search for a sequence with an example sequence from UniProt P24941 -\n",
    "Cyclin-dependent kinase 2"
   ]
  },
  {
   "cell_type": "code",
   "execution_count": 5,
   "metadata": {
    "pycharm": {
     "name": "#%%\n"
    }
   },
   "outputs": [
    {
     "name": "stdout",
     "output_type": "stream",
     "text": [
      "Number of results 222\n"
     ]
    }
   ],
   "source": [
    "sequence_to_search = \"\"\"\n",
    "MEDAKNIKKGPAPFYPLEDGTAGEQLHKAMKRYALVPGTIAFTDAHIEVNITYAEYFEMS\n",
    "VRLAEAMKRYGLNTNHRIVVCSENSLQFFMPVLGALFIGVAVAPANDIYNERELLNSMNI\n",
    "SQPTVVFVSKKGLQKILNVQKKLPIIQKIIIMDSKTDYQGFQSMYTFVTSHLPPGFNEYD\n",
    "FVPESFDRDKTIALIMNSSGSTGLPKGVALPHRTACVRFSHARDPIFGNQIIPDTAILSV\n",
    "VPFHHGFGMFTTLGYLICGFRVVLMYRFEEELFLRSLQDYKIQSALLVPTLFSFFAKSTL\n",
    "IDKYDLSNLHEIASGGAPLSKEVGEAVAKRFHLPGIRQGYGLTETTSAILITPEGDDKPG\n",
    "AVGKVVPFFEAKVVDLDTGKTLGVNQRGELCVRGPMIMSGYVNNPEATNALIDKDGWLHS\n",
    "GDIAYWDEDEHFFIVDRLKSLIKYKGYQVAPAELESILLQHPNIFDAGVAGLPDDDAGEL\n",
    "PAAVVVLEHGKTMTEKEIVDYVASQVTTAKKLRGGVVFVDEVPKGLTGKLDARKIREILI\n",
    "KAKKGGKSKL\n",
    "\"\"\"\n",
    "filter_list = ['pfam_accession', 'pdb_id', 'molecule_name', 'ec_number',\n",
    "               'uniprot_accession_best', 'tax_id']\n",
    "\n",
    "search_results = run_sequence_search(sequence_to_search,\n",
    "                                     filter_terms=filter_list,\n",
    "                                     number_of_rows=1000\n",
    "                                     )"
   ]
  },
  {
   "cell_type": "code",
   "execution_count": 8,
   "metadata": {
    "pycharm": {
     "name": "#%%\n"
    }
   },
   "outputs": [],
   "source": [
    "df = explode_dataset(search_results)\n",
    "df = df.query('percentage_identity > 80')\n",
    "group_by_uniprot = df.groupby('uniprot_accession_best').count().sort_values('pdb_id', ascending=False)"
   ]
  },
  {
   "cell_type": "markdown",
   "metadata": {
    "pycharm": {
     "name": "#%% md\n"
    }
   },
   "source": [
    "How many UniProt accessions were there?"
   ]
  },
  {
   "cell_type": "code",
   "execution_count": 9,
   "metadata": {
    "pycharm": {
     "name": "#%%\n"
    }
   },
   "outputs": [
    {
     "data": {
      "text/plain": "2"
     },
     "execution_count": 9,
     "metadata": {},
     "output_type": "execute_result"
    }
   ],
   "source": [
    "len(group_by_uniprot)"
   ]
  },
  {
   "cell_type": "markdown",
   "metadata": {
    "pycharm": {
     "name": "#%% md\n"
    }
   },
   "source": []
  },
  {
   "cell_type": "code",
   "execution_count": 10,
   "metadata": {
    "pycharm": {
     "name": "#%%\n"
    }
   },
   "outputs": [
    {
     "data": {
      "text/plain": "                        chain_id  ec_number  entity_id  entry_entity  \\\nuniprot_accession_best                                                 \nP08659                        48         48         48            48   \nQ5UFR2                         4          4          4             4   \n\n                        molecule_name  pdb_id  pfam_accession  tax_id  \\\nuniprot_accession_best                                                  \nP08659                             48      48              46      48   \nQ5UFR2                              4       4               4       4   \n\n                        e_value  percentage_identity  result_sequence  \nuniprot_accession_best                                                 \nP08659                       48                   48                0  \nQ5UFR2                        4                    4                0  ",
      "text/html": "<div>\n<style scoped>\n    .dataframe tbody tr th:only-of-type {\n        vertical-align: middle;\n    }\n\n    .dataframe tbody tr th {\n        vertical-align: top;\n    }\n\n    .dataframe thead th {\n        text-align: right;\n    }\n</style>\n<table border=\"1\" class=\"dataframe\">\n  <thead>\n    <tr style=\"text-align: right;\">\n      <th></th>\n      <th>chain_id</th>\n      <th>ec_number</th>\n      <th>entity_id</th>\n      <th>entry_entity</th>\n      <th>molecule_name</th>\n      <th>pdb_id</th>\n      <th>pfam_accession</th>\n      <th>tax_id</th>\n      <th>e_value</th>\n      <th>percentage_identity</th>\n      <th>result_sequence</th>\n    </tr>\n    <tr>\n      <th>uniprot_accession_best</th>\n      <th></th>\n      <th></th>\n      <th></th>\n      <th></th>\n      <th></th>\n      <th></th>\n      <th></th>\n      <th></th>\n      <th></th>\n      <th></th>\n      <th></th>\n    </tr>\n  </thead>\n  <tbody>\n    <tr>\n      <th>P08659</th>\n      <td>48</td>\n      <td>48</td>\n      <td>48</td>\n      <td>48</td>\n      <td>48</td>\n      <td>48</td>\n      <td>46</td>\n      <td>48</td>\n      <td>48</td>\n      <td>48</td>\n      <td>0</td>\n    </tr>\n    <tr>\n      <th>Q5UFR2</th>\n      <td>4</td>\n      <td>4</td>\n      <td>4</td>\n      <td>4</td>\n      <td>4</td>\n      <td>4</td>\n      <td>4</td>\n      <td>4</td>\n      <td>4</td>\n      <td>4</td>\n      <td>0</td>\n    </tr>\n  </tbody>\n</table>\n</div>"
     },
     "execution_count": 10,
     "metadata": {},
     "output_type": "execute_result"
    }
   ],
   "source": [
    "group_by_uniprot"
   ]
  },
  {
   "cell_type": "markdown",
   "metadata": {
    "pycharm": {
     "name": "#%% md\n"
    }
   },
   "source": [
    "get the first UniProt"
   ]
  },
  {
   "cell_type": "code",
   "execution_count": 11,
   "metadata": {
    "pycharm": {
     "name": "#%%\n"
    }
   },
   "outputs": [
    {
     "data": {
      "text/plain": "'P08659'"
     },
     "execution_count": 11,
     "metadata": {},
     "output_type": "execute_result"
    }
   ],
   "source": [
    "uniprot_accession = df['uniprot_accession_best'].iloc[0]\n",
    "\n",
    "uniprot_accession"
   ]
  },
  {
   "cell_type": "markdown",
   "metadata": {
    "pycharm": {
     "name": "#%% md\n"
    }
   },
   "source": [
    "Get compounds which interact with the UniProt"
   ]
  },
  {
   "cell_type": "code",
   "execution_count": 12,
   "metadata": {
    "pycharm": {
     "name": "#%%\n"
    }
   },
   "outputs": [
    {
     "name": "stdout",
     "output_type": "stream",
     "text": [
      "https://www.ebi.ac.uk/pdbe/graph-api/uniprot/ligand_sites/P08659\n"
     ]
    }
   ],
   "source": [
    "ligand_data = get_ligand_site_data(uniprot_accession=uniprot_accession)\n",
    "df2 = explode_dataset(ligand_data)"
   ]
  },
  {
   "cell_type": "code",
   "execution_count": 13,
   "outputs": [
    {
     "data": {
      "text/plain": "   startIndex  endIndex startCode endCode indexType  \\\n0         316       316       GLY     GLY   UNIPROT   \n1         317       317       ALA     ALA   UNIPROT   \n2         318       318       PRO     PRO   UNIPROT   \n3         339       339       GLY     GLY   UNIPROT   \n4         340       340       TYR     TYR   UNIPROT   \n\n                               interactingPDBEntries allPDBEntries  \\\n0  {'pdbId': '5gyz', 'entityId': 1, 'chainIds': 'A'}          5gyz   \n1  {'pdbId': '5gyz', 'entityId': 1, 'chainIds': 'A'}          5gyz   \n2  {'pdbId': '5gyz', 'entityId': 1, 'chainIds': 'A'}          5gyz   \n3  {'pdbId': '5gyz', 'entityId': 1, 'chainIds': 'A'}          5gyz   \n4  {'pdbId': '5gyz', 'entityId': 1, 'chainIds': 'A'}          5gyz   \n\n  ligand_accession              ligand_name  ligand_num_atoms  \\\n0              AMP  ADENOSINE MONOPHOSPHATE                23   \n1              AMP  ADENOSINE MONOPHOSPHATE                23   \n2              AMP  ADENOSINE MONOPHOSPHATE                23   \n3              AMP  ADENOSINE MONOPHOSPHATE                23   \n4              AMP  ADENOSINE MONOPHOSPHATE                23   \n\n  uniprot_accession  interation_ratio  \n0            P08659               1.0  \n1            P08659               1.0  \n2            P08659               1.0  \n3            P08659               1.0  \n4            P08659               1.0  ",
      "text/html": "<div>\n<style scoped>\n    .dataframe tbody tr th:only-of-type {\n        vertical-align: middle;\n    }\n\n    .dataframe tbody tr th {\n        vertical-align: top;\n    }\n\n    .dataframe thead th {\n        text-align: right;\n    }\n</style>\n<table border=\"1\" class=\"dataframe\">\n  <thead>\n    <tr style=\"text-align: right;\">\n      <th></th>\n      <th>startIndex</th>\n      <th>endIndex</th>\n      <th>startCode</th>\n      <th>endCode</th>\n      <th>indexType</th>\n      <th>interactingPDBEntries</th>\n      <th>allPDBEntries</th>\n      <th>ligand_accession</th>\n      <th>ligand_name</th>\n      <th>ligand_num_atoms</th>\n      <th>uniprot_accession</th>\n      <th>interation_ratio</th>\n    </tr>\n  </thead>\n  <tbody>\n    <tr>\n      <th>0</th>\n      <td>316</td>\n      <td>316</td>\n      <td>GLY</td>\n      <td>GLY</td>\n      <td>UNIPROT</td>\n      <td>{'pdbId': '5gyz', 'entityId': 1, 'chainIds': 'A'}</td>\n      <td>5gyz</td>\n      <td>AMP</td>\n      <td>ADENOSINE MONOPHOSPHATE</td>\n      <td>23</td>\n      <td>P08659</td>\n      <td>1.0</td>\n    </tr>\n    <tr>\n      <th>1</th>\n      <td>317</td>\n      <td>317</td>\n      <td>ALA</td>\n      <td>ALA</td>\n      <td>UNIPROT</td>\n      <td>{'pdbId': '5gyz', 'entityId': 1, 'chainIds': 'A'}</td>\n      <td>5gyz</td>\n      <td>AMP</td>\n      <td>ADENOSINE MONOPHOSPHATE</td>\n      <td>23</td>\n      <td>P08659</td>\n      <td>1.0</td>\n    </tr>\n    <tr>\n      <th>2</th>\n      <td>318</td>\n      <td>318</td>\n      <td>PRO</td>\n      <td>PRO</td>\n      <td>UNIPROT</td>\n      <td>{'pdbId': '5gyz', 'entityId': 1, 'chainIds': 'A'}</td>\n      <td>5gyz</td>\n      <td>AMP</td>\n      <td>ADENOSINE MONOPHOSPHATE</td>\n      <td>23</td>\n      <td>P08659</td>\n      <td>1.0</td>\n    </tr>\n    <tr>\n      <th>3</th>\n      <td>339</td>\n      <td>339</td>\n      <td>GLY</td>\n      <td>GLY</td>\n      <td>UNIPROT</td>\n      <td>{'pdbId': '5gyz', 'entityId': 1, 'chainIds': 'A'}</td>\n      <td>5gyz</td>\n      <td>AMP</td>\n      <td>ADENOSINE MONOPHOSPHATE</td>\n      <td>23</td>\n      <td>P08659</td>\n      <td>1.0</td>\n    </tr>\n    <tr>\n      <th>4</th>\n      <td>340</td>\n      <td>340</td>\n      <td>TYR</td>\n      <td>TYR</td>\n      <td>UNIPROT</td>\n      <td>{'pdbId': '5gyz', 'entityId': 1, 'chainIds': 'A'}</td>\n      <td>5gyz</td>\n      <td>AMP</td>\n      <td>ADENOSINE MONOPHOSPHATE</td>\n      <td>23</td>\n      <td>P08659</td>\n      <td>1.0</td>\n    </tr>\n  </tbody>\n</table>\n</div>"
     },
     "execution_count": 13,
     "metadata": {},
     "output_type": "execute_result"
    }
   ],
   "source": [
    "df2.head()\n"
   ],
   "metadata": {
    "collapsed": false,
    "pycharm": {
     "name": "#%%\n"
    }
   }
  }
 ],
 "metadata": {
  "kernelspec": {
   "name": "pycharm-9a06295a",
   "language": "python",
   "display_name": "PyCharm (pdbe_jupyter)"
  },
  "language_info": {
   "codemirror_mode": {
    "name": "ipython",
    "version": 3
   },
   "file_extension": ".py",
   "mimetype": "text/x-python",
   "name": "python",
   "nbconvert_exporter": "python",
   "pygments_lexer": "ipython3",
   "version": "3.7.0"
  }
 },
 "nbformat": 4,
 "nbformat_minor": 1
}