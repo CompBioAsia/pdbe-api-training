{
 "cells": [
  {
   "cell_type": "code",
   "execution_count": null,
   "metadata": {
    "collapsed": true
   },
   "outputs": [],
   "source": []
  },
  {
   "cell_type": "markdown",
   "source": [
    "# PDBe API Training\n",
    "\n",
    "### PDBe Interactions\n",
    "\n",
    "This tutorial will guide you through searching PDBe programmatically.\n",
    "\n",
    "\n",
    "First we will import the code which will do the work\n",
    "Run the cell below - by pressing the green play button."
   ],
   "metadata": {
    "collapsed": false
   }
  },
  {
   "cell_type": "code",
   "execution_count": 1,
   "outputs": [],
   "source": [
    "import pandas as pd\n",
    "import numpy as np\n",
    "import requests\n",
    "import matplotlib.pyplot as plt\n",
    "from IPython.display import SVG, display\n",
    "import sys\n",
    "sys.path.insert(0,'..')\n",
    "from python_modules.api_modules import run_sequence_search, explode_dataset, get_macromolecule_interaction_data\n"
   ],
   "metadata": {
    "collapsed": false,
    "pycharm": {
     "name": "#%%\n"
    }
   }
  },
  {
   "cell_type": "markdown",
   "source": [
    "Now we are ready to actually run the sequence search we did in the last module\n",
    "\n",
    "We will search for a sequence with an example sequence from UniProt P24941 -\n",
    "Cyclin-dependent kinase 2"
   ],
   "metadata": {
    "collapsed": false
   }
  },
  {
   "cell_type": "code",
   "execution_count": 2,
   "outputs": [
    {
     "name": "stdout",
     "output_type": "stream",
     "text": [
      "Number of results 222\n"
     ]
    }
   ],
   "source": [
    "sequence_to_search = \"\"\"\n",
    "MEDAKNIKKGPAPFYPLEDGTAGEQLHKAMKRYALVPGTIAFTDAHIEVNITYAEYFEMS\n",
    "VRLAEAMKRYGLNTNHRIVVCSENSLQFFMPVLGALFIGVAVAPANDIYNERELLNSMNI\n",
    "SQPTVVFVSKKGLQKILNVQKKLPIIQKIIIMDSKTDYQGFQSMYTFVTSHLPPGFNEYD\n",
    "FVPESFDRDKTIALIMNSSGSTGLPKGVALPHRTACVRFSHARDPIFGNQIIPDTAILSV\n",
    "VPFHHGFGMFTTLGYLICGFRVVLMYRFEEELFLR\n",
    "SLQDYKIQSALLVPTLFSFFAKSTL\n",
    "IDKYDLSNLHEIASGGAPLSKEVGEAVAKRFHLPGIRQGYGLTETTSAILITPEGDDKPG\n",
    "AVGKVVPFFEAKVVDLDTGKTLGVNQRGELCVRGPMIMSGYVNNPEATNALIDKDGWLHS\n",
    "GDIAYWDEDEHFFIVDRLKSLIKYKGYQVAPAELESILLQHPNIFDAGVAGLPDDDAGEL\n",
    "PAAVVVLEHGKTMTEKEIVDYVASQVTTAKKLRGGVVFVDEVPKGLTGKLDARKIREILI\n",
    "KAKKGGKSKL\n",
    "\"\"\"\n",
    "filter_list = ['pfam_accession', 'pdb_id', 'molecule_name', 'ec_number',\n",
    "               'uniprot_accession_best', 'tax_id']\n",
    "\n",
    "search_results = run_sequence_search(sequence_to_search,\n",
    "                                     filter_terms=filter_list,\n",
    "                                     number_of_rows=1000\n",
    "                                     )"
   ],
   "metadata": {
    "collapsed": false,
    "pycharm": {
     "name": "#%%\n"
    }
   }
  },
  {
   "cell_type": "markdown",
   "source": [
    "Load the data into a Dataframe"
   ],
   "metadata": {
    "collapsed": false
   }
  },
  {
   "cell_type": "code",
   "execution_count": 3,
   "outputs": [],
   "source": [
    "df = explode_dataset(search_results)\n",
    "df = df.query('percentage_identity > 80')\n",
    "group_by_uniprot = df.groupby('uniprot_accession_best').count().sort_values('pdb_id', ascending=False)"
   ],
   "metadata": {
    "collapsed": false,
    "pycharm": {
     "name": "#%%\n"
    }
   }
  },
  {
   "cell_type": "markdown",
   "source": [
    "How many UniProt accessions were there?"
   ],
   "metadata": {
    "collapsed": false
   }
  },
  {
   "cell_type": "code",
   "execution_count": 4,
   "outputs": [
    {
     "data": {
      "text/plain": "2"
     },
     "execution_count": 4,
     "metadata": {},
     "output_type": "execute_result"
    }
   ],
   "source": [
    "len(group_by_uniprot)"
   ],
   "metadata": {
    "collapsed": false,
    "pycharm": {
     "name": "#%%\n"
    }
   }
  },
  {
   "cell_type": "markdown",
   "source": [
    "lets look at the data to see what we have"
   ],
   "metadata": {
    "collapsed": false
   }
  },
  {
   "cell_type": "code",
   "execution_count": 5,
   "outputs": [
    {
     "data": {
      "text/plain": "                        chain_id  ec_number  entity_id  entry_entity  \\\nuniprot_accession_best                                                 \nP08659                        48         48         48            48   \nQ5UFR2                         4          4          4             4   \n\n                        molecule_name  pdb_id  pfam_accession  tax_id  \\\nuniprot_accession_best                                                  \nP08659                             48      48              46      48   \nQ5UFR2                              4       4               4       4   \n\n                        e_value  percentage_identity  result_sequence  \nuniprot_accession_best                                                 \nP08659                       48                   48                0  \nQ5UFR2                        4                    4                0  ",
      "text/html": "<div>\n<style scoped>\n    .dataframe tbody tr th:only-of-type {\n        vertical-align: middle;\n    }\n\n    .dataframe tbody tr th {\n        vertical-align: top;\n    }\n\n    .dataframe thead th {\n        text-align: right;\n    }\n</style>\n<table border=\"1\" class=\"dataframe\">\n  <thead>\n    <tr style=\"text-align: right;\">\n      <th></th>\n      <th>chain_id</th>\n      <th>ec_number</th>\n      <th>entity_id</th>\n      <th>entry_entity</th>\n      <th>molecule_name</th>\n      <th>pdb_id</th>\n      <th>pfam_accession</th>\n      <th>tax_id</th>\n      <th>e_value</th>\n      <th>percentage_identity</th>\n      <th>result_sequence</th>\n    </tr>\n    <tr>\n      <th>uniprot_accession_best</th>\n      <th></th>\n      <th></th>\n      <th></th>\n      <th></th>\n      <th></th>\n      <th></th>\n      <th></th>\n      <th></th>\n      <th></th>\n      <th></th>\n      <th></th>\n    </tr>\n  </thead>\n  <tbody>\n    <tr>\n      <th>P08659</th>\n      <td>48</td>\n      <td>48</td>\n      <td>48</td>\n      <td>48</td>\n      <td>48</td>\n      <td>48</td>\n      <td>46</td>\n      <td>48</td>\n      <td>48</td>\n      <td>48</td>\n      <td>0</td>\n    </tr>\n    <tr>\n      <th>Q5UFR2</th>\n      <td>4</td>\n      <td>4</td>\n      <td>4</td>\n      <td>4</td>\n      <td>4</td>\n      <td>4</td>\n      <td>4</td>\n      <td>4</td>\n      <td>4</td>\n      <td>4</td>\n      <td>0</td>\n    </tr>\n  </tbody>\n</table>\n</div>"
     },
     "execution_count": 5,
     "metadata": {},
     "output_type": "execute_result"
    }
   ],
   "source": [
    "group_by_uniprot.head()"
   ],
   "metadata": {
    "collapsed": false,
    "pycharm": {
     "name": "#%%\n"
    }
   }
  },
  {
   "cell_type": "markdown",
   "source": [
    "get the first UniProt from the results"
   ],
   "metadata": {
    "collapsed": false
   }
  },
  {
   "cell_type": "code",
   "execution_count": 8,
   "outputs": [
    {
     "data": {
      "text/plain": "'P07550'"
     },
     "execution_count": 8,
     "metadata": {},
     "output_type": "execute_result"
    }
   ],
   "source": [
    "uniprot_accession = df['uniprot_accession_best'].iloc[0]"
   ],
   "metadata": {
    "collapsed": false,
    "pycharm": {
     "name": "#%%\n"
    }
   }
  },
  {
   "cell_type": "code",
   "execution_count": 2,
   "outputs": [
    {
     "data": {
      "text/plain": "'P07550'"
     },
     "execution_count": 2,
     "metadata": {},
     "output_type": "execute_result"
    }
   ],
   "source": [
    "uniprot_accession = 'P07550'\n",
    "uniprot_accession\n"
   ],
   "metadata": {
    "collapsed": false,
    "pycharm": {
     "name": "#%%\n"
    }
   }
  },
  {
   "cell_type": "markdown",
   "source": [
    "Get macromolecules which interact with the UniProt"
   ],
   "metadata": {
    "collapsed": false
   }
  },
  {
   "cell_type": "code",
   "execution_count": 3,
   "outputs": [
    {
     "name": "stdout",
     "output_type": "stream",
     "text": [
      "https://www.ebi.ac.uk/pdbe/graph-api/uniprot/interface_residues/P07550\n"
     ]
    }
   ],
   "source": [
    "interaction_data = get_macromolecule_interaction_data(uniprot_accession=uniprot_accession)\n",
    "df2 = explode_dataset(interaction_data)"
   ],
   "metadata": {
    "collapsed": false,
    "pycharm": {
     "name": "#%%\n"
    }
   }
  },
  {
   "cell_type": "code",
   "execution_count": 4,
   "outputs": [
    {
     "data": {
      "text/plain": "      startIndex  endIndex startCode endCode indexType  \\\n0             63        63       ARG     ARG   UNIPROT   \n1             63        63       ARG     ARG   UNIPROT   \n2             63        63       ARG     ARG   UNIPROT   \n3             63        63       ARG     ARG   UNIPROT   \n4             63        63       ARG     ARG   UNIPROT   \n...          ...       ...       ...     ...       ...   \n1683         225       225       GLU     GLU   UNIPROT   \n1684         229       229       GLN     GLN   UNIPROT   \n1685         232       232       LYS     LYS   UNIPROT   \n1686         239       239       ARG     ARG   UNIPROT   \n1687         274       274       THR     THR   UNIPROT   \n\n                                  interactingPDBEntries allPDBEntries  \\\n0                      {'pdbId': '5jqh', 'entityId': 2}          4qkx   \n1                      {'pdbId': '5jqh', 'entityId': 2}          3p0g   \n2                      {'pdbId': '5jqh', 'entityId': 2}          4ldo   \n3                      {'pdbId': '5jqh', 'entityId': 2}          6n48   \n4                      {'pdbId': '5jqh', 'entityId': 2}          4lde   \n...                                                 ...           ...   \n1683  {'pdbId': '6ni3', 'entityId': 1, 'chainIds': 'A'}          6ni3   \n1684  {'pdbId': '6ni3', 'entityId': 1, 'chainIds': 'A'}          6ni3   \n1685  {'pdbId': '6ni3', 'entityId': 1, 'chainIds': 'A'}          6ni3   \n1686  {'pdbId': '6ni3', 'entityId': 1, 'chainIds': 'A'}          6ni3   \n1687  {'pdbId': '6ni3', 'entityId': 1, 'chainIds': 'A'}          6ni3   \n\n     interaction_accession                                   interaction_name  \\\n0           IG-heavy chain                          Camelid Antibody Fragment   \n1           IG-heavy chain                          Camelid Antibody Fragment   \n2           IG-heavy chain                          Camelid Antibody Fragment   \n3           IG-heavy chain                          Camelid Antibody Fragment   \n4           IG-heavy chain                          Camelid Antibody Fragment   \n...                    ...                                                ...   \n1683                P63092  Guanine nucleotide-binding protein G(s) subuni...   \n1684                P63092  Guanine nucleotide-binding protein G(s) subuni...   \n1685                P63092  Guanine nucleotide-binding protein G(s) subuni...   \n1686                P63092  Guanine nucleotide-binding protein G(s) subuni...   \n1687                P63092  Guanine nucleotide-binding protein G(s) subuni...   \n\n     length uniprot_accession interaction_accession_type  \\\n0      None            P07550                         AB   \n1      None            P07550                         AB   \n2      None            P07550                         AB   \n3      None            P07550                         AB   \n4      None            P07550                         AB   \n...     ...               ...                        ...   \n1683   None            P07550                        UNP   \n1684   None            P07550                        UNP   \n1685   None            P07550                        UNP   \n1686   None            P07550                        UNP   \n1687   None            P07550                        UNP   \n\n                                interacting_pdb_entries  interaction_ratio  \n0                      {'pdbId': '5jqh', 'entityId': 2}              0.125  \n1                      {'pdbId': '5jqh', 'entityId': 2}              0.125  \n2                      {'pdbId': '5jqh', 'entityId': 2}              0.125  \n3                      {'pdbId': '5jqh', 'entityId': 2}              0.125  \n4                      {'pdbId': '5jqh', 'entityId': 2}              0.125  \n...                                                 ...                ...  \n1683  {'pdbId': '6ni3', 'entityId': 1, 'chainIds': 'A'}              1.000  \n1684  {'pdbId': '6ni3', 'entityId': 1, 'chainIds': 'A'}              1.000  \n1685  {'pdbId': '6ni3', 'entityId': 1, 'chainIds': 'A'}              1.000  \n1686  {'pdbId': '6ni3', 'entityId': 1, 'chainIds': 'A'}              1.000  \n1687  {'pdbId': '6ni3', 'entityId': 1, 'chainIds': 'A'}              1.000  \n\n[1688 rows x 14 columns]",
      "text/html": "<div>\n<style scoped>\n    .dataframe tbody tr th:only-of-type {\n        vertical-align: middle;\n    }\n\n    .dataframe tbody tr th {\n        vertical-align: top;\n    }\n\n    .dataframe thead th {\n        text-align: right;\n    }\n</style>\n<table border=\"1\" class=\"dataframe\">\n  <thead>\n    <tr style=\"text-align: right;\">\n      <th></th>\n      <th>startIndex</th>\n      <th>endIndex</th>\n      <th>startCode</th>\n      <th>endCode</th>\n      <th>indexType</th>\n      <th>interactingPDBEntries</th>\n      <th>allPDBEntries</th>\n      <th>interaction_accession</th>\n      <th>interaction_name</th>\n      <th>length</th>\n      <th>uniprot_accession</th>\n      <th>interaction_accession_type</th>\n      <th>interacting_pdb_entries</th>\n      <th>interaction_ratio</th>\n    </tr>\n  </thead>\n  <tbody>\n    <tr>\n      <th>0</th>\n      <td>63</td>\n      <td>63</td>\n      <td>ARG</td>\n      <td>ARG</td>\n      <td>UNIPROT</td>\n      <td>{'pdbId': '5jqh', 'entityId': 2}</td>\n      <td>4qkx</td>\n      <td>IG-heavy chain</td>\n      <td>Camelid Antibody Fragment</td>\n      <td>None</td>\n      <td>P07550</td>\n      <td>AB</td>\n      <td>{'pdbId': '5jqh', 'entityId': 2}</td>\n      <td>0.125</td>\n    </tr>\n    <tr>\n      <th>1</th>\n      <td>63</td>\n      <td>63</td>\n      <td>ARG</td>\n      <td>ARG</td>\n      <td>UNIPROT</td>\n      <td>{'pdbId': '5jqh', 'entityId': 2}</td>\n      <td>3p0g</td>\n      <td>IG-heavy chain</td>\n      <td>Camelid Antibody Fragment</td>\n      <td>None</td>\n      <td>P07550</td>\n      <td>AB</td>\n      <td>{'pdbId': '5jqh', 'entityId': 2}</td>\n      <td>0.125</td>\n    </tr>\n    <tr>\n      <th>2</th>\n      <td>63</td>\n      <td>63</td>\n      <td>ARG</td>\n      <td>ARG</td>\n      <td>UNIPROT</td>\n      <td>{'pdbId': '5jqh', 'entityId': 2}</td>\n      <td>4ldo</td>\n      <td>IG-heavy chain</td>\n      <td>Camelid Antibody Fragment</td>\n      <td>None</td>\n      <td>P07550</td>\n      <td>AB</td>\n      <td>{'pdbId': '5jqh', 'entityId': 2}</td>\n      <td>0.125</td>\n    </tr>\n    <tr>\n      <th>3</th>\n      <td>63</td>\n      <td>63</td>\n      <td>ARG</td>\n      <td>ARG</td>\n      <td>UNIPROT</td>\n      <td>{'pdbId': '5jqh', 'entityId': 2}</td>\n      <td>6n48</td>\n      <td>IG-heavy chain</td>\n      <td>Camelid Antibody Fragment</td>\n      <td>None</td>\n      <td>P07550</td>\n      <td>AB</td>\n      <td>{'pdbId': '5jqh', 'entityId': 2}</td>\n      <td>0.125</td>\n    </tr>\n    <tr>\n      <th>4</th>\n      <td>63</td>\n      <td>63</td>\n      <td>ARG</td>\n      <td>ARG</td>\n      <td>UNIPROT</td>\n      <td>{'pdbId': '5jqh', 'entityId': 2}</td>\n      <td>4lde</td>\n      <td>IG-heavy chain</td>\n      <td>Camelid Antibody Fragment</td>\n      <td>None</td>\n      <td>P07550</td>\n      <td>AB</td>\n      <td>{'pdbId': '5jqh', 'entityId': 2}</td>\n      <td>0.125</td>\n    </tr>\n    <tr>\n      <th>...</th>\n      <td>...</td>\n      <td>...</td>\n      <td>...</td>\n      <td>...</td>\n      <td>...</td>\n      <td>...</td>\n      <td>...</td>\n      <td>...</td>\n      <td>...</td>\n      <td>...</td>\n      <td>...</td>\n      <td>...</td>\n      <td>...</td>\n      <td>...</td>\n    </tr>\n    <tr>\n      <th>1683</th>\n      <td>225</td>\n      <td>225</td>\n      <td>GLU</td>\n      <td>GLU</td>\n      <td>UNIPROT</td>\n      <td>{'pdbId': '6ni3', 'entityId': 1, 'chainIds': 'A'}</td>\n      <td>6ni3</td>\n      <td>P63092</td>\n      <td>Guanine nucleotide-binding protein G(s) subuni...</td>\n      <td>None</td>\n      <td>P07550</td>\n      <td>UNP</td>\n      <td>{'pdbId': '6ni3', 'entityId': 1, 'chainIds': 'A'}</td>\n      <td>1.000</td>\n    </tr>\n    <tr>\n      <th>1684</th>\n      <td>229</td>\n      <td>229</td>\n      <td>GLN</td>\n      <td>GLN</td>\n      <td>UNIPROT</td>\n      <td>{'pdbId': '6ni3', 'entityId': 1, 'chainIds': 'A'}</td>\n      <td>6ni3</td>\n      <td>P63092</td>\n      <td>Guanine nucleotide-binding protein G(s) subuni...</td>\n      <td>None</td>\n      <td>P07550</td>\n      <td>UNP</td>\n      <td>{'pdbId': '6ni3', 'entityId': 1, 'chainIds': 'A'}</td>\n      <td>1.000</td>\n    </tr>\n    <tr>\n      <th>1685</th>\n      <td>232</td>\n      <td>232</td>\n      <td>LYS</td>\n      <td>LYS</td>\n      <td>UNIPROT</td>\n      <td>{'pdbId': '6ni3', 'entityId': 1, 'chainIds': 'A'}</td>\n      <td>6ni3</td>\n      <td>P63092</td>\n      <td>Guanine nucleotide-binding protein G(s) subuni...</td>\n      <td>None</td>\n      <td>P07550</td>\n      <td>UNP</td>\n      <td>{'pdbId': '6ni3', 'entityId': 1, 'chainIds': 'A'}</td>\n      <td>1.000</td>\n    </tr>\n    <tr>\n      <th>1686</th>\n      <td>239</td>\n      <td>239</td>\n      <td>ARG</td>\n      <td>ARG</td>\n      <td>UNIPROT</td>\n      <td>{'pdbId': '6ni3', 'entityId': 1, 'chainIds': 'A'}</td>\n      <td>6ni3</td>\n      <td>P63092</td>\n      <td>Guanine nucleotide-binding protein G(s) subuni...</td>\n      <td>None</td>\n      <td>P07550</td>\n      <td>UNP</td>\n      <td>{'pdbId': '6ni3', 'entityId': 1, 'chainIds': 'A'}</td>\n      <td>1.000</td>\n    </tr>\n    <tr>\n      <th>1687</th>\n      <td>274</td>\n      <td>274</td>\n      <td>THR</td>\n      <td>THR</td>\n      <td>UNIPROT</td>\n      <td>{'pdbId': '6ni3', 'entityId': 1, 'chainIds': 'A'}</td>\n      <td>6ni3</td>\n      <td>P63092</td>\n      <td>Guanine nucleotide-binding protein G(s) subuni...</td>\n      <td>None</td>\n      <td>P07550</td>\n      <td>UNP</td>\n      <td>{'pdbId': '6ni3', 'entityId': 1, 'chainIds': 'A'}</td>\n      <td>1.000</td>\n    </tr>\n  </tbody>\n</table>\n<p>1688 rows × 14 columns</p>\n</div>"
     },
     "execution_count": 4,
     "metadata": {},
     "output_type": "execute_result"
    }
   ],
   "source": [
    "df2"
   ],
   "metadata": {
    "collapsed": false,
    "pycharm": {
     "name": "#%%\n"
    }
   }
  }
 ],
 "metadata": {
  "kernelspec": {
   "display_name": "Python 3",
   "language": "python",
   "name": "python3"
  },
  "language_info": {
   "codemirror_mode": {
    "name": "ipython",
    "version": 2
   },
   "file_extension": ".py",
   "mimetype": "text/x-python",
   "name": "python",
   "nbconvert_exporter": "python",
   "pygments_lexer": "ipython2",
   "version": "2.7.6"
  }
 },
 "nbformat": 4,
 "nbformat_minor": 0
}