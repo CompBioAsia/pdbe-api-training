{
 "cells": [
  {
   "cell_type": "markdown",
   "metadata": {
    "collapsed": true,
    "pycharm": {
     "name": "#%% md\n"
    }
   },
   "source": [
    "# PDBe API Training\n",
    "\n",
    "### PDBe search\n",
    "\n",
    "Searching with a sequence"
   ]
  },
  {
   "cell_type": "code",
   "execution_count": 1,
   "outputs": [],
   "source": [
    "from pprint import pprint # used for pretty printing\n",
    "import sys\n",
    "sys.path.insert(0,'..') # to ensure the below import works in all Jupyter notebooks\n",
    "from python_modules.api_modules import run_sequence_search, pandas_dataset, pandas_count, pandas_plot, pandas_plot_multi_groupby"
   ],
   "metadata": {
    "collapsed": false,
    "pycharm": {
     "name": "#%%\n"
    }
   }
  },
  {
   "cell_type": "markdown",
   "source": [
    "We will search for a sequence with an example sequence from UniProt P24941 -\n",
    "Cyclin-dependent kinase 2"
   ],
   "metadata": {
    "collapsed": false,
    "pycharm": {
     "name": "#%% md\n"
    }
   }
  },
  {
   "cell_type": "code",
   "execution_count": 2,
   "outputs": [
    {
     "name": "stdout",
     "output_type": "stream",
     "text": [
      "https://www.ebi.ac.uk/pdbe/search/pdb/select?group=true&group.field=pdb_id&group.ngroups=true&json.nl=map&start=0&sort=fasta(e_value) asc&xjoin_fasta=true&bf=fasta(percentIdentity)&xjoin_fasta.external.expupperlim=0.1&xjoin_fasta.external.sequence=\n",
      "MENFQKVEKIGEGTYGVVYKARNKLTGEVVALKKIRLDTETEGVPSTAIREISLLKELNH\n",
      "PNIVKLLDVIHTENKLYLVFEFLHQDLKKFMDASALTGIPLPLIKSYLFQLLQGLAFCHS\n",
      "HRVLHRDLKPQNLLINTEGAIKLADFGLARAFGVPVRTYTHEVVTLWYRAPEILLGCKYY\n",
      "STAVDIWSLGCIFAEMVTRRALFPGDSEIDQLFRIFRTLGTPDEVVWPGVTSMPDYKPSF\n",
      "PKWARQDFSKVVPPLDEDGRSLLSQMLHYDPNKRISAKAALAHPFFQDVTKPVPHLRL&q=*:*&fq={!xjoin}xjoin_fasta&fl=pfam_accession,pdb_id,molecule_name,ec_number,uniprot_accession_best,tax_id&wt=json&rows=10\n",
      "Number of results 10\n"
     ]
    }
   ],
   "source": [
    "sequence_to_search = \"\"\"\n",
    "MENFQKVEKIGEGTYGVVYKARNKLTGEVVALKKIRLDTETEGVPSTAIREISLLKELNH\n",
    "PNIVKLLDVIHTENKLYLVFEFLHQDLKKFMDASALTGIPLPLIKSYLFQLLQGLAFCHS\n",
    "HRVLHRDLKPQNLLINTEGAIKLADFGLARAFGVPVRTYTHEVVTLWYRAPEILLGCKYY\n",
    "STAVDIWSLGCIFAEMVTRRALFPGDSEIDQLFRIFRTLGTPDEVVWPGVTSMPDYKPSF\n",
    "PKWARQDFSKVVPPLDEDGRSLLSQMLHYDPNKRISAKAALAHPFFQDVTKPVPHLRL\"\"\"\n",
    "\n",
    "filter_list = ['pfam_accession', 'pdb_id', 'molecule_name', 'ec_number',\n",
    "               'uniprot_accession_best', 'tax_id']\n",
    "\n",
    "first_results = run_sequence_search(sequence_to_search, filter_terms=filter_list)"
   ],
   "metadata": {
    "collapsed": false,
    "pycharm": {
     "name": "#%%\n"
    }
   }
  },
  {
   "cell_type": "markdown",
   "source": [
    "Print the first result to see what we have"
   ],
   "metadata": {
    "collapsed": false,
    "pycharm": {
     "name": "#%% md\n"
    }
   }
  },
  {
   "cell_type": "code",
   "execution_count": 3,
   "outputs": [
    {
     "name": "stdout",
     "output_type": "stream",
     "text": [
      "{'e_value': 2.4e-76,\n",
      " 'ec_number': ['2.7.11.22'],\n",
      " 'molecule_name': ['Cyclin-dependent kinase 2'],\n",
      " 'pdb_id': '3ezr',\n",
      " 'percentage_identity': 100.0,\n",
      " 'pfam_accession': ['PF00069'],\n",
      " 'tax_id': [9606],\n",
      " 'uniprot_accession_best': ['P24941']}\n"
     ]
    }
   ],
   "source": [
    "pprint(first_results[0])"
   ],
   "metadata": {
    "collapsed": false,
    "pycharm": {
     "name": "#%%\n"
    }
   }
  },
  {
   "cell_type": "markdown",
   "source": [
    "Before we do any further analysis we should get a few more results so we can see some patterns.\n",
    "We are going to increase the number of results to 1000"
   ],
   "metadata": {
    "collapsed": false,
    "pycharm": {
     "name": "#%% md\n"
    }
   }
  },
  {
   "cell_type": "code",
   "execution_count": 9,
   "outputs": [
    {
     "name": "stdout",
     "output_type": "stream",
     "text": [
      "https://www.ebi.ac.uk/pdbe/search/pdb/select?group=true&group.field=pdb_id&group.ngroups=true&json.nl=map&start=0&sort=fasta(e_value) asc&xjoin_fasta=true&bf=fasta(percentIdentity)&xjoin_fasta.external.expupperlim=0.1&xjoin_fasta.external.sequence=\n",
      "MENFQKVEKIGEGTYGVVYKARNKLTGEVVALKKIRLDTETEGVPSTAIREISLLKELNH\n",
      "PNIVKLLDVIHTENKLYLVFEFLHQDLKKFMDASALTGIPLPLIKSYLFQLLQGLAFCHS\n",
      "HRVLHRDLKPQNLLINTEGAIKLADFGLARAFGVPVRTYTHEVVTLWYRAPEILLGCKYY\n",
      "STAVDIWSLGCIFAEMVTRRALFPGDSEIDQLFRIFRTLGTPDEVVWPGVTSMPDYKPSF\n",
      "PKWARQDFSKVVPPLDEDGRSLLSQMLHYDPNKRISAKAALAHPFFQDVTKPVPHLRL&q=*:*&fq={!xjoin}xjoin_fasta&fl=pfam_accession,pdb_id,molecule_name,ec_number,uniprot_accession_best,tax_id&wt=json&rows=1000\n",
      "Number of results 819\n"
     ]
    }
   ],
   "source": [
    "first_results = run_sequence_search(sequence_to_search,\n",
    "                                    filter_terms=filter_list,\n",
    "                                    number_of_rows=1000\n",
    "                                    )\n"
   ],
   "metadata": {
    "collapsed": false,
    "pycharm": {
     "name": "#%%\n"
    }
   }
  },
  {
   "cell_type": "markdown",
   "source": [
    "Load the results into a Pandas Dataframe so we can query them"
   ],
   "metadata": {
    "collapsed": false,
    "pycharm": {
     "name": "#%% md\n"
    }
   }
  },
  {
   "cell_type": "code",
   "execution_count": 16,
   "outputs": [],
   "source": [
    "df = pandas_dataset(first_results)"
   ],
   "metadata": {
    "collapsed": false,
    "pycharm": {
     "name": "#%%\n"
    }
   }
  },
  {
   "cell_type": "markdown",
   "source": [
    "Lets see what we have - you'll see it looks a bit like a spreadsheet or a database"
   ],
   "metadata": {
    "collapsed": false,
    "pycharm": {
     "name": "#%% md\n"
    }
   }
  },
  {
   "cell_type": "code",
   "execution_count": 17,
   "outputs": [
    {
     "name": "stdout",
     "output_type": "stream",
     "text": [
      "   ec_number              molecule_name pdb_id   pfam_accession tax_id  \\\n",
      "0  2.7.11.22  Cyclin-dependent kinase 2   3ezr          PF00069   9606   \n",
      "1  2.7.11.22  Cyclin-dependent kinase 2   5osj          PF00069   9606   \n",
      "2  2.7.11.22  Cyclin-dependent kinase 2   2r3p          PF00069   9606   \n",
      "3  2.7.11.22  Cyclin-dependent kinase 2   2vtr          PF00069   9606   \n",
      "4        NaN                  Cyclin-A2   1ogu  PF00134,PF02984   9606   \n",
      "\n",
      "  uniprot_accession_best       e_value  percentage_identity  \n",
      "0                 P24941  1.400000e-75                100.0  \n",
      "1                 P24941  1.400000e-75                100.0  \n",
      "2                 P24941  1.400000e-75                100.0  \n",
      "3                 P24941  1.400000e-75                100.0  \n",
      "4                 P20248  1.400000e-75                100.0  \n"
     ]
    }
   ],
   "source": [
    "print(df.head())"
   ],
   "metadata": {
    "collapsed": false,
    "pycharm": {
     "name": "#%%\n"
    }
   }
  },
  {
   "cell_type": "markdown",
   "source": [
    "There isn't a cut off of eValue or percentage identity in our search\n",
    "so we should look what the values go to\n",
    "\n",
    "we can select the column and find the minimum value with .min()"
   ],
   "metadata": {
    "collapsed": false,
    "pycharm": {
     "name": "#%% md\n"
    }
   }
  },
  {
   "cell_type": "code",
   "execution_count": 20,
   "outputs": [
    {
     "name": "stdout",
     "output_type": "stream",
     "text": [
      "100.0\n",
      "36.1\n"
     ]
    }
   ],
   "source": [
    "print(df['percentage_identity'].max())\n",
    "print(df['percentage_identity'].min())"
   ],
   "metadata": {
    "collapsed": false,
    "pycharm": {
     "name": "#%%\n"
    }
   }
  },
  {
   "cell_type": "markdown",
   "source": [
    "same for e value - here we want the min and max\n"
   ],
   "metadata": {
    "collapsed": false,
    "pycharm": {
     "name": "#%% md\n"
    }
   }
  },
  {
   "cell_type": "code",
   "execution_count": 19,
   "outputs": [
    {
     "name": "stdout",
     "output_type": "stream",
     "text": [
      "1.1e-19\n",
      "1.4e-75\n"
     ]
    }
   ],
   "source": [
    "print(df['e_value'].min())\n",
    "print(df['e_value'].max())"
   ],
   "metadata": {
    "collapsed": false,
    "pycharm": {
     "name": "#%%\n"
    }
   }
  },
  {
   "cell_type": "markdown",
   "source": [
    "We can see that percentage identity drops to as low as 36%\n",
    "Lets say we want to restrict it to 50%"
   ],
   "metadata": {
    "collapsed": false,
    "pycharm": {
     "name": "#%% md\n"
    }
   }
  },
  {
   "cell_type": "code",
   "execution_count": 21,
   "outputs": [],
   "source": [
    "df2 = df[df['percentage_identity'] > 50]"
   ],
   "metadata": {
    "collapsed": false,
    "pycharm": {
     "name": "#%%\n"
    }
   }
  },
  {
   "cell_type": "markdown",
   "source": [
    "We stored the results in a new Dataframe called \"df2\""
   ],
   "metadata": {
    "collapsed": false,
    "pycharm": {
     "name": "#%% md\n"
    }
   }
  },
  {
   "cell_type": "code",
   "execution_count": 28,
   "outputs": [
    {
     "name": "stdout",
     "output_type": "stream",
     "text": [
      "   ec_number              molecule_name pdb_id   pfam_accession tax_id  \\\n",
      "0  2.7.11.22  Cyclin-dependent kinase 2   3ezr          PF00069   9606   \n",
      "1  2.7.11.22  Cyclin-dependent kinase 2   5osj          PF00069   9606   \n",
      "2  2.7.11.22  Cyclin-dependent kinase 2   2r3p          PF00069   9606   \n",
      "3  2.7.11.22  Cyclin-dependent kinase 2   2vtr          PF00069   9606   \n",
      "4        NaN                  Cyclin-A2   1ogu  PF00134,PF02984   9606   \n",
      "\n",
      "  uniprot_accession_best       e_value  percentage_identity  \n",
      "0                 P24941  1.400000e-75                100.0  \n",
      "1                 P24941  1.400000e-75                100.0  \n",
      "2                 P24941  1.400000e-75                100.0  \n",
      "3                 P24941  1.400000e-75                100.0  \n",
      "4                 P20248  1.400000e-75                100.0  \n",
      "Number of entries in the Dataframe: 441\n",
      "Max value of percentage identity: 100.0\n",
      "Min value of percentage identity: 54.2\n"
     ]
    }
   ],
   "source": [
    "print(df2.head())\n",
    "print('Number of entries in the Dataframe: {}'.format(len(df2)))\n",
    "print('Max value of percentage identity: {}'.format(df2['percentage_identity'].max()))\n",
    "print('Min value of percentage identity: {}'.format(df2['percentage_identity'].min()))"
   ],
   "metadata": {
    "collapsed": false,
    "pycharm": {
     "name": "#%%\n"
    }
   }
  }
 ],
 "metadata": {
  "kernelspec": {
   "display_name": "Python 3",
   "language": "python",
   "name": "python3"
  },
  "language_info": {
   "codemirror_mode": {
    "name": "ipython",
    "version": 2
   },
   "file_extension": ".py",
   "mimetype": "text/x-python",
   "name": "python",
   "nbconvert_exporter": "python",
   "pygments_lexer": "ipython2",
   "version": "2.7.6"
  }
 },
 "nbformat": 4,
 "nbformat_minor": 0
}