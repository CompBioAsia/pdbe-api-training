{
 "cells": [
  {
   "cell_type": "markdown",
   "source": [
    "# PDBe API Training\n",
    "\n",
    "### PDBe search\n",
    "\n",
    "This interactive Python notebook will guide you through programmatically accessing Protein Data Bank in Europe (PDBe)\n",
    "data using our REST API\n",
    "\n",
    "The REST API is a programmatic way to obtain information from the PDB and EMDB. You can access details about:\n",
    "\n",
    "* sample\n",
    "* experiment\n",
    "* models\n",
    "* compounds\n",
    "* cross-references\n",
    "* publications\n",
    "* quality\n",
    "* assemblies\n",
    "* search\n",
    "and more...\n",
    "For more information, visit https://pdbe.org/api\n",
    "\n",
    "\n",
    "This tutorial will guide you through searching PDBe programmatically.\n",
    "\n",
    "\n",
    "First we will import the code which will do the work"
   ],
   "metadata": {
    "collapsed": false,
    "pycharm": {
     "name": "#%% md\n"
    }
   }
  },
  {
   "cell_type": "code",
   "execution_count": 1,
   "metadata": {
    "collapsed": true
   },
   "outputs": [],
   "source": [
    "from python_modules.api_modules import run_search"
   ]
  },
  {
   "cell_type": "markdown",
   "source": [
    "Now we are ready to actually run a search against the PDB API for entries containing human Dihydrofolate reductase in the PDB. This will return a list of results - only 10 to start with.\n",
    "\n",
    "A list of search terms is available at:\n",
    "https://www.ebi.ac.uk/pdbe/api/doc/search.html\n",
    "\n",
    "This will return details of human Dihydrofolate reductase's in the PDB\n",
    "\n",
    "The search terms are defined as a dictionary (a hash in other programming lanuguages).\n",
    "e.g.\n",
    "{\"molecule_name\":\"Dihydrofolate reductase\"}\n",
    "Here we are searching for molecules named Dihydrofolate reductase.\n",
    "If we search for two terms i.e. molecule_name and organism_scientific_name then we will get molecules that match both search terms.\n",
    "\n",
    "We will return the number of results for two searches.\n",
    "\n",
    "The first one will hit the limit of 100. There are more than 100 Dihydrofolate reductase structures.\n",
    "We have to add the argument \"number_of_rows\" to a higher number, say 1000, to find all the examples."
   ],
   "metadata": {
    "collapsed": false,
    "pycharm": {
     "name": "#%% md\n"
    }
   }
  },
  {
   "cell_type": "code",
   "execution_count": 2,
   "outputs": [
    {
     "name": "stdout",
     "output_type": "stream",
     "text": [
      "1st search\n",
      "https://www.ebi.ac.uk/pdbe/search/pdb/select?q=molecule_name:\"Dihydrofolate reductase\"&wt=json&rows=100\n",
      "Number of results for Dihydrofolate reductase: 100\n",
      "Number of results\n",
      "100\n",
      "finished\n"
     ]
    }
   ],
   "source": [
    "print('1st search')\n",
    "search_terms = {\"molecule_name\":\"Dihydrofolate reductase\"}\n",
    "\n",
    "first_results = run_search(search_terms)\n",
    "number_of_results = len(first_results)\n",
    "print('Number of results')\n",
    "print(number_of_results)\n",
    "print('finished')"
   ],
   "metadata": {
    "collapsed": false,
    "pycharm": {
     "name": "#%%\n"
    }
   }
  },
  {
   "cell_type": "markdown",
   "source": [
    "We will then increase the number of rows to 1000"
   ],
   "metadata": {
    "collapsed": false,
    "pycharm": {
     "name": "#%% md\n"
    }
   }
  },
  {
   "cell_type": "code",
   "execution_count": null,
   "outputs": [],
   "source": [
    "print('Search with 1000 rows')\n",
    "first_results_more_rows = run_search(search_terms, number_of_rows=1000)\n",
    "print('Number of results: {}'.format(len(first_results_more_rows)))\n",
    "print('finished')"
   ],
   "metadata": {
    "collapsed": false,
    "pycharm": {
     "name": "#%%\n"
    }
   }
  }
 ],
 "metadata": {
  "kernelspec": {
   "display_name": "Python 3",
   "language": "python",
   "name": "python3"
  },
  "language_info": {
   "codemirror_mode": {
    "name": "ipython",
    "version": 2
   },
   "file_extension": ".py",
   "mimetype": "text/x-python",
   "name": "python",
   "nbconvert_exporter": "python",
   "pygments_lexer": "ipython2",
   "version": "2.7.6"
  }
 },
 "nbformat": 4,
 "nbformat_minor": 0
}