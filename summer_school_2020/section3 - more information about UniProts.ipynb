{
 "cells": [
  {
   "cell_type": "markdown",
   "metadata": {},
   "source": [
    "# PDBe API Training\n",
    "\n",
    "### PDBe Interactions\n",
    "\n",
    "This tutorial will guide you through searching PDBe programmatically.\n",
    "\n",
    "\n",
    "First we will import the code which will do the work\n",
    "Run the cell below - by pressing the green play button."
   ]
  },
  {
   "cell_type": "code",
   "execution_count": 3,
   "metadata": {
    "pycharm": {
     "name": "#%%\n"
    }
   },
   "outputs": [],
   "source": [
    "import sys\n",
    "sys.path.insert(0,'..') # to ensure the below import works in all Jupyter notebooks\n",
    "from python_modules.api_modules import run_sequence_search, pandas_dataset, get_ligand_site_data\n"
   ]
  },
  {
   "cell_type": "markdown",
   "metadata": {
    "pycharm": {
     "name": "#%% md\n"
    }
   },
   "source": [
    "Now we are ready to actually run the sequence search we did in the last module\n",
    "\n",
    "We will search for a sequence with an example sequence from UniProt P24941 -\n",
    "Cyclin-dependent kinase 2"
   ]
  },
  {
   "cell_type": "code",
   "execution_count": 4,
   "metadata": {
    "pycharm": {
     "name": "#%%\n"
    }
   },
   "outputs": [
    {
     "name": "stdout",
     "output_type": "stream",
     "text": [
      "Number of results 1000\n"
     ]
    }
   ],
   "source": [
    "sequence_to_search = \"\"\"\n",
    "MENFQKVEKIGEGTYGVVYKARNKLTGEVVALKKIRLDTETEGVPSTAIREISLLKELNH\n",
    "PNIVKLLDVIHTENKLYLVFEFLHQDLKKFMDASALTGIPLPLIKSYLFQLLQGLAFCHS\n",
    "HRVLHRDLKPQNLLINTEGAIKLADFGLARAFGVPVRTYTHEVVTLWYRAPEILLGCKYY\n",
    "STAVDIWSLGCIFAEMVTRRALFPGDSEIDQLFRIFRTLGTPDEVVWPGVTSMPDYKPSF\n",
    "PKWARQDFSKVVPPLDEDGRSLLSQMLHYDPNKRISAKAALAHPFFQDVTKPVPHLRL\"\"\"\n",
    "\n",
    "filter_list = ['pfam_accession', 'pdb_id', 'molecule_name', 'ec_number',\n",
    "               'uniprot_accession_best', 'tax_id']\n",
    "\n",
    "search_results = run_sequence_search(sequence_to_search,\n",
    "                                     filter_terms=filter_list,\n",
    "                                     number_of_rows=1000\n",
    "                                     )"
   ]
  },
  {
   "cell_type": "code",
   "execution_count": 5,
   "metadata": {
    "pycharm": {
     "name": "#%%\n"
    }
   },
   "outputs": [],
   "source": [
    "df = pandas_dataset(search_results)\n",
    "df = df.query('percentage_identity > 50')\n",
    "group_by_uniprot = df.groupby('uniprot_accession_best').count().sort_values('pdb_id', ascending=False)"
   ]
  },
  {
   "cell_type": "markdown",
   "metadata": {
    "pycharm": {
     "name": "#%% md\n"
    }
   },
   "source": [
    "How many UniProt accessions were there?"
   ]
  },
  {
   "cell_type": "code",
   "execution_count": 6,
   "metadata": {
    "pycharm": {
     "name": "#%%\n"
    }
   },
   "outputs": [
    {
     "data": {
      "text/plain": "29"
     },
     "execution_count": 6,
     "metadata": {},
     "output_type": "execute_result"
    }
   ],
   "source": [
    "len(group_by_uniprot)"
   ]
  },
  {
   "cell_type": "markdown",
   "metadata": {
    "pycharm": {
     "name": "#%% md\n"
    }
   },
   "source": []
  },
  {
   "cell_type": "code",
   "execution_count": 7,
   "metadata": {
    "pycharm": {
     "name": "#%%\n"
    }
   },
   "outputs": [
    {
     "data": {
      "text/plain": "                        ec_number  entity_id  entry_entity  molecule_name  \\\nuniprot_accession_best                                                      \nP24941                        418        418           418            418   \nP20248                          0         96            96             96   \nP30274                          0         16            16             16   \nP06493                         10         10            10             10   \nP14635                          0          8             8              8   \nQ00535                          6          6             6              6   \nQ15078                          0          5             5              5   \nK9J4F7                          0          5             5              5   \nP17157                          4          4             4              4   \nQ07785                          4          4             4              4   \nP33552                          0          4             4              4   \nP51943                          0          4             4              4   \nP46527                          0          4             4              4   \nQ5MJ70                          0          3             3              3   \nP61024                          0          2             2              2   \nQ5CRJ8                          1          2             2              2   \nQ00536                          2          2             2              2   \nA8BZ95                          1          2             2              2   \nP53124                          0          2             2              2   \nP24864                          0          2             2              2   \nP20052                          0          2             2              2   \nQ99741                          0          2             2              2   \nP89883                          0          1             1              1   \nP28749                          0          1             1              1   \nQ01094                          0          1             1              1   \nQ13415                          0          1             1              1   \nQ16667                          1          1             1              1   \nP06400                          0          1             1              1   \nP04637                          0          1             1              1   \n\n                        pdb_id  pfam_accession  tax_id  e_value  \\\nuniprot_accession_best                                            \nP24941                     418             418     418      418   \nP20248                      96              96      96       96   \nP30274                      16              16      16       16   \nP06493                      10              10      10       10   \nP14635                       8               8       8        8   \nQ00535                       6               6       6        6   \nQ15078                       5               3       5        5   \nK9J4F7                       5               5       5        5   \nP17157                       4               4       4        4   \nQ07785                       4               4       4        4   \nP33552                       4               4       4        4   \nP51943                       4               4       4        4   \nP46527                       4               3       4        4   \nQ5MJ70                       3               3       3        3   \nP61024                       2               2       2        2   \nQ5CRJ8                       2               2       2        2   \nQ00536                       2               2       2        2   \nA8BZ95                       2               2       2        2   \nP53124                       2               2       2        2   \nP24864                       2               2       2        2   \nP20052                       2               2       2        2   \nQ99741                       2               0       2        2   \nP89883                       1               1       1        1   \nP28749                       1               0       1        1   \nQ01094                       1               0       1        1   \nQ13415                       1               0       1        1   \nQ16667                       1               1       1        1   \nP06400                       1               0       1        1   \nP04637                       1               0       1        1   \n\n                        percentage_identity  \nuniprot_accession_best                       \nP24941                                  418  \nP20248                                   96  \nP30274                                   16  \nP06493                                   10  \nP14635                                    8  \nQ00535                                    6  \nQ15078                                    5  \nK9J4F7                                    5  \nP17157                                    4  \nQ07785                                    4  \nP33552                                    4  \nP51943                                    4  \nP46527                                    4  \nQ5MJ70                                    3  \nP61024                                    2  \nQ5CRJ8                                    2  \nQ00536                                    2  \nA8BZ95                                    2  \nP53124                                    2  \nP24864                                    2  \nP20052                                    2  \nQ99741                                    2  \nP89883                                    1  \nP28749                                    1  \nQ01094                                    1  \nQ13415                                    1  \nQ16667                                    1  \nP06400                                    1  \nP04637                                    1  ",
      "text/html": "<div>\n<style scoped>\n    .dataframe tbody tr th:only-of-type {\n        vertical-align: middle;\n    }\n\n    .dataframe tbody tr th {\n        vertical-align: top;\n    }\n\n    .dataframe thead th {\n        text-align: right;\n    }\n</style>\n<table border=\"1\" class=\"dataframe\">\n  <thead>\n    <tr style=\"text-align: right;\">\n      <th></th>\n      <th>ec_number</th>\n      <th>entity_id</th>\n      <th>entry_entity</th>\n      <th>molecule_name</th>\n      <th>pdb_id</th>\n      <th>pfam_accession</th>\n      <th>tax_id</th>\n      <th>e_value</th>\n      <th>percentage_identity</th>\n    </tr>\n    <tr>\n      <th>uniprot_accession_best</th>\n      <th></th>\n      <th></th>\n      <th></th>\n      <th></th>\n      <th></th>\n      <th></th>\n      <th></th>\n      <th></th>\n      <th></th>\n    </tr>\n  </thead>\n  <tbody>\n    <tr>\n      <th>P24941</th>\n      <td>418</td>\n      <td>418</td>\n      <td>418</td>\n      <td>418</td>\n      <td>418</td>\n      <td>418</td>\n      <td>418</td>\n      <td>418</td>\n      <td>418</td>\n    </tr>\n    <tr>\n      <th>P20248</th>\n      <td>0</td>\n      <td>96</td>\n      <td>96</td>\n      <td>96</td>\n      <td>96</td>\n      <td>96</td>\n      <td>96</td>\n      <td>96</td>\n      <td>96</td>\n    </tr>\n    <tr>\n      <th>P30274</th>\n      <td>0</td>\n      <td>16</td>\n      <td>16</td>\n      <td>16</td>\n      <td>16</td>\n      <td>16</td>\n      <td>16</td>\n      <td>16</td>\n      <td>16</td>\n    </tr>\n    <tr>\n      <th>P06493</th>\n      <td>10</td>\n      <td>10</td>\n      <td>10</td>\n      <td>10</td>\n      <td>10</td>\n      <td>10</td>\n      <td>10</td>\n      <td>10</td>\n      <td>10</td>\n    </tr>\n    <tr>\n      <th>P14635</th>\n      <td>0</td>\n      <td>8</td>\n      <td>8</td>\n      <td>8</td>\n      <td>8</td>\n      <td>8</td>\n      <td>8</td>\n      <td>8</td>\n      <td>8</td>\n    </tr>\n    <tr>\n      <th>Q00535</th>\n      <td>6</td>\n      <td>6</td>\n      <td>6</td>\n      <td>6</td>\n      <td>6</td>\n      <td>6</td>\n      <td>6</td>\n      <td>6</td>\n      <td>6</td>\n    </tr>\n    <tr>\n      <th>Q15078</th>\n      <td>0</td>\n      <td>5</td>\n      <td>5</td>\n      <td>5</td>\n      <td>5</td>\n      <td>3</td>\n      <td>5</td>\n      <td>5</td>\n      <td>5</td>\n    </tr>\n    <tr>\n      <th>K9J4F7</th>\n      <td>0</td>\n      <td>5</td>\n      <td>5</td>\n      <td>5</td>\n      <td>5</td>\n      <td>5</td>\n      <td>5</td>\n      <td>5</td>\n      <td>5</td>\n    </tr>\n    <tr>\n      <th>P17157</th>\n      <td>4</td>\n      <td>4</td>\n      <td>4</td>\n      <td>4</td>\n      <td>4</td>\n      <td>4</td>\n      <td>4</td>\n      <td>4</td>\n      <td>4</td>\n    </tr>\n    <tr>\n      <th>Q07785</th>\n      <td>4</td>\n      <td>4</td>\n      <td>4</td>\n      <td>4</td>\n      <td>4</td>\n      <td>4</td>\n      <td>4</td>\n      <td>4</td>\n      <td>4</td>\n    </tr>\n    <tr>\n      <th>P33552</th>\n      <td>0</td>\n      <td>4</td>\n      <td>4</td>\n      <td>4</td>\n      <td>4</td>\n      <td>4</td>\n      <td>4</td>\n      <td>4</td>\n      <td>4</td>\n    </tr>\n    <tr>\n      <th>P51943</th>\n      <td>0</td>\n      <td>4</td>\n      <td>4</td>\n      <td>4</td>\n      <td>4</td>\n      <td>4</td>\n      <td>4</td>\n      <td>4</td>\n      <td>4</td>\n    </tr>\n    <tr>\n      <th>P46527</th>\n      <td>0</td>\n      <td>4</td>\n      <td>4</td>\n      <td>4</td>\n      <td>4</td>\n      <td>3</td>\n      <td>4</td>\n      <td>4</td>\n      <td>4</td>\n    </tr>\n    <tr>\n      <th>Q5MJ70</th>\n      <td>0</td>\n      <td>3</td>\n      <td>3</td>\n      <td>3</td>\n      <td>3</td>\n      <td>3</td>\n      <td>3</td>\n      <td>3</td>\n      <td>3</td>\n    </tr>\n    <tr>\n      <th>P61024</th>\n      <td>0</td>\n      <td>2</td>\n      <td>2</td>\n      <td>2</td>\n      <td>2</td>\n      <td>2</td>\n      <td>2</td>\n      <td>2</td>\n      <td>2</td>\n    </tr>\n    <tr>\n      <th>Q5CRJ8</th>\n      <td>1</td>\n      <td>2</td>\n      <td>2</td>\n      <td>2</td>\n      <td>2</td>\n      <td>2</td>\n      <td>2</td>\n      <td>2</td>\n      <td>2</td>\n    </tr>\n    <tr>\n      <th>Q00536</th>\n      <td>2</td>\n      <td>2</td>\n      <td>2</td>\n      <td>2</td>\n      <td>2</td>\n      <td>2</td>\n      <td>2</td>\n      <td>2</td>\n      <td>2</td>\n    </tr>\n    <tr>\n      <th>A8BZ95</th>\n      <td>1</td>\n      <td>2</td>\n      <td>2</td>\n      <td>2</td>\n      <td>2</td>\n      <td>2</td>\n      <td>2</td>\n      <td>2</td>\n      <td>2</td>\n    </tr>\n    <tr>\n      <th>P53124</th>\n      <td>0</td>\n      <td>2</td>\n      <td>2</td>\n      <td>2</td>\n      <td>2</td>\n      <td>2</td>\n      <td>2</td>\n      <td>2</td>\n      <td>2</td>\n    </tr>\n    <tr>\n      <th>P24864</th>\n      <td>0</td>\n      <td>2</td>\n      <td>2</td>\n      <td>2</td>\n      <td>2</td>\n      <td>2</td>\n      <td>2</td>\n      <td>2</td>\n      <td>2</td>\n    </tr>\n    <tr>\n      <th>P20052</th>\n      <td>0</td>\n      <td>2</td>\n      <td>2</td>\n      <td>2</td>\n      <td>2</td>\n      <td>2</td>\n      <td>2</td>\n      <td>2</td>\n      <td>2</td>\n    </tr>\n    <tr>\n      <th>Q99741</th>\n      <td>0</td>\n      <td>2</td>\n      <td>2</td>\n      <td>2</td>\n      <td>2</td>\n      <td>0</td>\n      <td>2</td>\n      <td>2</td>\n      <td>2</td>\n    </tr>\n    <tr>\n      <th>P89883</th>\n      <td>0</td>\n      <td>1</td>\n      <td>1</td>\n      <td>1</td>\n      <td>1</td>\n      <td>1</td>\n      <td>1</td>\n      <td>1</td>\n      <td>1</td>\n    </tr>\n    <tr>\n      <th>P28749</th>\n      <td>0</td>\n      <td>1</td>\n      <td>1</td>\n      <td>1</td>\n      <td>1</td>\n      <td>0</td>\n      <td>1</td>\n      <td>1</td>\n      <td>1</td>\n    </tr>\n    <tr>\n      <th>Q01094</th>\n      <td>0</td>\n      <td>1</td>\n      <td>1</td>\n      <td>1</td>\n      <td>1</td>\n      <td>0</td>\n      <td>1</td>\n      <td>1</td>\n      <td>1</td>\n    </tr>\n    <tr>\n      <th>Q13415</th>\n      <td>0</td>\n      <td>1</td>\n      <td>1</td>\n      <td>1</td>\n      <td>1</td>\n      <td>0</td>\n      <td>1</td>\n      <td>1</td>\n      <td>1</td>\n    </tr>\n    <tr>\n      <th>Q16667</th>\n      <td>1</td>\n      <td>1</td>\n      <td>1</td>\n      <td>1</td>\n      <td>1</td>\n      <td>1</td>\n      <td>1</td>\n      <td>1</td>\n      <td>1</td>\n    </tr>\n    <tr>\n      <th>P06400</th>\n      <td>0</td>\n      <td>1</td>\n      <td>1</td>\n      <td>1</td>\n      <td>1</td>\n      <td>0</td>\n      <td>1</td>\n      <td>1</td>\n      <td>1</td>\n    </tr>\n    <tr>\n      <th>P04637</th>\n      <td>0</td>\n      <td>1</td>\n      <td>1</td>\n      <td>1</td>\n      <td>1</td>\n      <td>0</td>\n      <td>1</td>\n      <td>1</td>\n      <td>1</td>\n    </tr>\n  </tbody>\n</table>\n</div>"
     },
     "execution_count": 7,
     "metadata": {},
     "output_type": "execute_result"
    }
   ],
   "source": [
    "group_by_uniprot"
   ]
  },
  {
   "cell_type": "markdown",
   "metadata": {
    "pycharm": {
     "name": "#%% md\n"
    }
   },
   "source": [
    "get the first UniProt"
   ]
  },
  {
   "cell_type": "code",
   "execution_count": 8,
   "metadata": {
    "pycharm": {
     "name": "#%%\n"
    }
   },
   "outputs": [
    {
     "data": {
      "text/plain": "'P24941'"
     },
     "execution_count": 8,
     "metadata": {},
     "output_type": "execute_result"
    }
   ],
   "source": [
    "uniprot_accession = df['uniprot_accession_best'].iloc[0]\n",
    "\n",
    "uniprot_accession"
   ]
  },
  {
   "cell_type": "markdown",
   "metadata": {
    "pycharm": {
     "name": "#%% md\n"
    }
   },
   "source": [
    "Get compounds which interact with the UniProt"
   ]
  },
  {
   "cell_type": "code",
   "execution_count": 13,
   "metadata": {
    "pycharm": {
     "name": "#%%\n"
    }
   },
   "outputs": [
    {
     "name": "stdout",
     "output_type": "stream",
     "text": [
      "https://www.ebi.ac.uk/pdbe/graph-api/uniprot/ligand_sites/P24941\n"
     ]
    }
   ],
   "source": [
    "ligand_data = get_ligand_site_data(uniprot_accession=uniprot_accession)\n",
    "df2 = pandas_dataset(ligand_data)"
   ]
  },
  {
   "cell_type": "code",
   "execution_count": 14,
   "outputs": [
    {
     "data": {
      "text/plain": "   startIndex  endIndex startCode endCode indexType  \\\n0          11        11       GLY     GLY   UNIPROT   \n1          13        13       GLY     GLY   UNIPROT   \n2          15        15       TYR     TYR   UNIPROT   \n3          16        16       GLY     GLY   UNIPROT   \n4          18        18       VAL     VAL   UNIPROT   \n\n                               interactingPDBEntries        allPDBEntries  \\\n0  {'pdbId': '3qhr', 'entityId': 1, 'chainIds': '...  3qhr,3qhw,4i3z,4ii5   \n1  {'pdbId': '3qhr', 'entityId': 1, 'chainIds': '...  3qhr,3qhw,4i3z,4ii5   \n2  {'pdbId': '3qhr', 'entityId': 1, 'chainIds': 'A'}  3qhr,3qhw,4i3z,4ii5   \n3  {'pdbId': '3qhr', 'entityId': 1, 'chainIds': '...  3qhr,3qhw,4i3z,4ii5   \n4  {'pdbId': '3qhr', 'entityId': 1, 'chainIds': '...  3qhr,3qhw,4i3z,4ii5   \n\n  ligand_accession               ligand_name  ligand_num_atoms  \\\n0              ADP  ADENOSINE-5'-DIPHOSPHATE                27   \n1              ADP  ADENOSINE-5'-DIPHOSPHATE                27   \n2              ADP  ADENOSINE-5'-DIPHOSPHATE                27   \n3              ADP  ADENOSINE-5'-DIPHOSPHATE                27   \n4              ADP  ADENOSINE-5'-DIPHOSPHATE                27   \n\n  uniprot_accession  interation_ratio  \n0            P24941              0.75  \n1            P24941              0.50  \n2            P24941              0.25  \n3            P24941              0.50  \n4            P24941              1.00  ",
      "text/html": "<div>\n<style scoped>\n    .dataframe tbody tr th:only-of-type {\n        vertical-align: middle;\n    }\n\n    .dataframe tbody tr th {\n        vertical-align: top;\n    }\n\n    .dataframe thead th {\n        text-align: right;\n    }\n</style>\n<table border=\"1\" class=\"dataframe\">\n  <thead>\n    <tr style=\"text-align: right;\">\n      <th></th>\n      <th>startIndex</th>\n      <th>endIndex</th>\n      <th>startCode</th>\n      <th>endCode</th>\n      <th>indexType</th>\n      <th>interactingPDBEntries</th>\n      <th>allPDBEntries</th>\n      <th>ligand_accession</th>\n      <th>ligand_name</th>\n      <th>ligand_num_atoms</th>\n      <th>uniprot_accession</th>\n      <th>interation_ratio</th>\n    </tr>\n  </thead>\n  <tbody>\n    <tr>\n      <th>0</th>\n      <td>11</td>\n      <td>11</td>\n      <td>GLY</td>\n      <td>GLY</td>\n      <td>UNIPROT</td>\n      <td>{'pdbId': '3qhr', 'entityId': 1, 'chainIds': '...</td>\n      <td>3qhr,3qhw,4i3z,4ii5</td>\n      <td>ADP</td>\n      <td>ADENOSINE-5'-DIPHOSPHATE</td>\n      <td>27</td>\n      <td>P24941</td>\n      <td>0.75</td>\n    </tr>\n    <tr>\n      <th>1</th>\n      <td>13</td>\n      <td>13</td>\n      <td>GLY</td>\n      <td>GLY</td>\n      <td>UNIPROT</td>\n      <td>{'pdbId': '3qhr', 'entityId': 1, 'chainIds': '...</td>\n      <td>3qhr,3qhw,4i3z,4ii5</td>\n      <td>ADP</td>\n      <td>ADENOSINE-5'-DIPHOSPHATE</td>\n      <td>27</td>\n      <td>P24941</td>\n      <td>0.50</td>\n    </tr>\n    <tr>\n      <th>2</th>\n      <td>15</td>\n      <td>15</td>\n      <td>TYR</td>\n      <td>TYR</td>\n      <td>UNIPROT</td>\n      <td>{'pdbId': '3qhr', 'entityId': 1, 'chainIds': 'A'}</td>\n      <td>3qhr,3qhw,4i3z,4ii5</td>\n      <td>ADP</td>\n      <td>ADENOSINE-5'-DIPHOSPHATE</td>\n      <td>27</td>\n      <td>P24941</td>\n      <td>0.25</td>\n    </tr>\n    <tr>\n      <th>3</th>\n      <td>16</td>\n      <td>16</td>\n      <td>GLY</td>\n      <td>GLY</td>\n      <td>UNIPROT</td>\n      <td>{'pdbId': '3qhr', 'entityId': 1, 'chainIds': '...</td>\n      <td>3qhr,3qhw,4i3z,4ii5</td>\n      <td>ADP</td>\n      <td>ADENOSINE-5'-DIPHOSPHATE</td>\n      <td>27</td>\n      <td>P24941</td>\n      <td>0.50</td>\n    </tr>\n    <tr>\n      <th>4</th>\n      <td>18</td>\n      <td>18</td>\n      <td>VAL</td>\n      <td>VAL</td>\n      <td>UNIPROT</td>\n      <td>{'pdbId': '3qhr', 'entityId': 1, 'chainIds': '...</td>\n      <td>3qhr,3qhw,4i3z,4ii5</td>\n      <td>ADP</td>\n      <td>ADENOSINE-5'-DIPHOSPHATE</td>\n      <td>27</td>\n      <td>P24941</td>\n      <td>1.00</td>\n    </tr>\n  </tbody>\n</table>\n</div>"
     },
     "execution_count": 14,
     "metadata": {},
     "output_type": "execute_result"
    }
   ],
   "source": [
    "df2.head()\n"
   ],
   "metadata": {
    "collapsed": false,
    "pycharm": {
     "name": "#%%\n"
    }
   }
  }
 ],
 "metadata": {
  "kernelspec": {
   "name": "pycharm-9a06295a",
   "language": "python",
   "display_name": "PyCharm (pdbe_jupyter)"
  },
  "language_info": {
   "codemirror_mode": {
    "name": "ipython",
    "version": 3
   },
   "file_extension": ".py",
   "mimetype": "text/x-python",
   "name": "python",
   "nbconvert_exporter": "python",
   "pygments_lexer": "ipython3",
   "version": "3.7.0"
  }
 },
 "nbformat": 4,
 "nbformat_minor": 1
}