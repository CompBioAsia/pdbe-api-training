{
 "cells": [
  {
   "cell_type": "markdown",
   "metadata": {},
   "source": [
    "# PDBe API Training\n",
    "\n",
    "## PDBe Ligand Interactions for a given protein\n",
    "\n",
    "This tutorial will guide you through searching PDBe for ligand interactions programmatically.\n"
   ]
  },
  {
   "cell_type": "markdown",
   "metadata": {},
   "source": [
    "## Setup\n",
    "\n",
    "First we will import the code which is required to search the API and plot the results.\n",
    "\n",
    "Run the cell below by pressing the play button or `Ctrl+Enter`."
   ]
  },
  {
   "cell_type": "code",
   "execution_count": null,
   "metadata": {
    "pycharm": {
     "name": "#%%\n"
    }
   },
   "outputs": [],
   "source": [
    "import pandas as pd\n",
    "import requests\n",
    "from pprint import pprint\n",
    "import matplotlib.pyplot as plt\n",
    "import sys\n",
    "sys.path.insert(0,'..')"
   ]
  },
  {
   "cell_type": "markdown",
   "metadata": {},
   "source": [
    "---\n",
    "---"
   ]
  },
  {
   "cell_type": "markdown",
   "metadata": {
    "pycharm": {
     "name": "#%% md\n"
    }
   },
   "source": [
    "## Obtaining data\n",
    "\n",
    "Now we are ready to find all the ligands and its interaction details bound to a given \n",
    "protein.\n",
    "\n",
    "We will get ligands for the Human Acetylcholinesterase, which has the UniProt accession \n",
    "P22303. Because we will be retrieving ligand data multiple times throughout this \n",
    "notebook, "
   ]
  },
  {
   "cell_type": "code",
   "execution_count": null,
   "metadata": {},
   "outputs": [],
   "source": [
    "def get_url(url):\n",
    "    \"\"\"\n",
    "    Makes a request to a URL. Returns a JSON of the results\n",
    "    \"\"\"\n",
    "    response = requests.get(url)\n",
    "\n",
    "    if response.status_code == 200:\n",
    "        print(response.json())\n",
    "        return response.json()\n",
    "    \n",
    "    else:\n",
    "        print(\"[No data retrieved - %s] %s\" % (response.status_code, response.text))\n",
    "\n",
    "    return {}"
   ]
  },
  {
   "cell_type": "code",
   "execution_count": null,
   "metadata": {},
   "outputs": [],
   "source": [
    "BASE_URL = \"https://www.ebi.ac.uk/pdbe/\"  # the beginning of the URL for PDBe's API.\n",
    "PDBEKB_UNIPROT_URL = BASE_URL + \"graph-api/uniprot/\"\n",
    "\n",
    "def get_ligand_site_data(uniprot_accession):\n",
    "    \"\"\"\n",
    "    Retrieve ligand site data for a given UniProt accession\n",
    "    \"\"\"\n",
    "\n",
    "    url = PDBEKB_UNIPROT_URL + \"ligand_sites/\" + uniprot_accession\n",
    "    print(url)\n",
    "\n",
    "    data = get_url(url=url)\n",
    "    data_to_ret = []\n",
    "\n",
    "    for data_uniprot_accession in data:\n",
    "        accession_data = data.get(data_uniprot_accession)\n",
    "\n",
    "        for row in accession_data.get('data'):\n",
    "            ligand_accession = row.get('accession')\n",
    "            name = row.get('name')\n",
    "            num_atoms = row.get('additionalData', {}).get('numAtoms')\n",
    "\n",
    "            for residue in row.get('residues', []):\n",
    "                residue['ligand_accession'] = ligand_accession\n",
    "                residue['ligand_name'] = name\n",
    "                residue['ligand_num_atoms'] = num_atoms\n",
    "                residue['uniprot_accession'] = uniprot_accession\n",
    "                residue['interaction_ratio'] = len(\n",
    "                    residue.get('interactingPDBEntries', [])\n",
    "                ) / len(\n",
    "                    residue.get('allPDBEntries', [])\n",
    "                )\n",
    "\n",
    "                data_to_ret.append(residue)\n",
    "\n",
    "    return data_to_ret"
   ]
  },
  {
   "cell_type": "markdown",
   "metadata": {},
   "source": [
    "The next block may take a few seconds..."
   ]
  },
  {
   "cell_type": "code",
   "execution_count": null,
   "metadata": {
    "pycharm": {
     "name": "#%%\n"
    }
   },
   "outputs": [],
   "source": [
    "uniprot_accession = 'P22303'\n",
    "ligand_data = get_ligand_site_data(uniprot_accession=uniprot_accession)"
   ]
  },
  {
   "cell_type": "markdown",
   "metadata": {
    "pycharm": {
     "name": "#%% md\n"
    }
   },
   "source": [
    "The above code gets a list of all ligands which interact with the UniProt. The function \"get_ligand_site_data\" also calculates interaction ratio for each residue within their respective ligand binding site.\n",
    "\n",
    "The interaction ratio for each residue within a ligand binding site is calculated by dividing the total number of PDB entries where the given residue interacts with the ligand by the total number of PDB entries that bind to that ligand. The interaction ratio represents the proportion of PDB entries that show an interaction between the residue and the specific ligand.\n",
    "\n",
    "This is a lot of information so it will need reformatting to become useful"
   ]
  },
  {
   "cell_type": "code",
   "execution_count": null,
   "metadata": {
    "pycharm": {
     "name": "#%%\n"
    },
    "scrolled": false
   },
   "outputs": [],
   "source": [
    "# Print data - Warning there is a lot of data here!\n",
    "pprint(ligand_data)"
   ]
  },
  {
   "cell_type": "markdown",
   "metadata": {},
   "source": [
    "---\n",
    "---"
   ]
  },
  {
   "cell_type": "markdown",
   "metadata": {},
   "source": [
    "## Reformatting the data"
   ]
  },
  {
   "cell_type": "code",
   "execution_count": null,
   "metadata": {},
   "outputs": [],
   "source": [
    "def explode_dataset(result, column_to_explode=None):\n",
    "    \"\"\"\n",
    "    Expand a dataset by exploding a column that contains a list of values\n",
    "    \"\"\"\n",
    "    \n",
    "    df = pd.DataFrame(result)\n",
    "    if column_to_explode:\n",
    "        df = df.explode(column=column_to_explode).reset_index(drop=True)\n",
    "\n",
    "    else:\n",
    "        for column in df.select_dtypes(include='object'):\n",
    "            df = df.explode(column=column).reset_index(drop=True)\n",
    "\n",
    "    return df"
   ]
  },
  {
   "cell_type": "code",
   "execution_count": null,
   "metadata": {
    "pycharm": {
     "name": "#%%\n"
    }
   },
   "outputs": [],
   "source": [
    "df2 = explode_dataset(result=ligand_data, column_to_explode='interactingPDBEntries')"
   ]
  },
  {
   "cell_type": "markdown",
   "metadata": {
    "pycharm": {
     "name": "#%% md\n"
    }
   },
   "source": [
    "Some post processing is required to separating interactingPDBEntries into separate columns"
   ]
  },
  {
   "cell_type": "code",
   "execution_count": null,
   "metadata": {
    "pycharm": {
     "name": "#%%\n"
    }
   },
   "outputs": [],
   "source": [
    "print(df2.head())"
   ]
  },
  {
   "cell_type": "code",
   "execution_count": null,
   "metadata": {
    "pycharm": {
     "name": "#%%\n"
    }
   },
   "outputs": [],
   "source": [
    "data = pd.json_normalize(df2['interactingPDBEntries'])\n",
    "df3 = df2.join(data).drop(columns='interactingPDBEntries')"
   ]
  },
  {
   "cell_type": "markdown",
   "metadata": {
    "pycharm": {
     "name": "#%% md\n"
    }
   },
   "source": [
    "\n",
    "startIndex and endIndex are the UniProt residue number, so we'll make a new column called residue_number\n",
    "and copy the startIndex there.\n",
    "We are also going to \"count\" the number of results - so we'll make a dummy count column to store it in"
   ]
  },
  {
   "cell_type": "code",
   "execution_count": null,
   "metadata": {
    "pycharm": {
     "name": "#%%\n"
    }
   },
   "outputs": [],
   "source": [
    "df3['residue_number'] = df3['startIndex']\n",
    "df3['count'] = df3['pdbId']"
   ]
  },
  {
   "cell_type": "markdown",
   "metadata": {},
   "source": [
    "---\n",
    "---"
   ]
  },
  {
   "cell_type": "markdown",
   "metadata": {},
   "source": [
    "## Exploratory analysis\n",
    "\n",
    "Now that the data has been reformatted we are ready to perform some exploratory analysis."
   ]
  },
  {
   "cell_type": "code",
   "execution_count": null,
   "metadata": {
    "pycharm": {
     "name": "#%%\n"
    },
    "scrolled": true
   },
   "outputs": [],
   "source": [
    "df3.head()"
   ]
  },
  {
   "cell_type": "markdown",
   "metadata": {
    "pycharm": {
     "name": "#%% md\n"
    }
   },
   "source": [
    "A higher interaction ratio indicates that the residue is more likely to consistently interact with the ligand across multiple protein structures. It suggests that the residue plays a crucial role in the binding of the ligand within the binding site. On the other hand, a lower interaction ratio suggests that the residue's interaction with the ligand may be less consistent or may occur in a more context-dependent manner.\n",
    "\n",
    "By calculating the interaction ratio for each residue within a ligand binding site, you can gain insights into the residues that are consistently involved in the binding of a specific ligand. This information can be valuable in understanding the key interactions between the ligand and the protein and potentially guide further studies or drug design efforts targeting that binding site.\n",
    "\n",
    "Ligands which tend to interact with well-defined residues consistently across all PDB entries have interaction_ratio of 1.0. So lets get them...."
   ]
  },
  {
   "cell_type": "code",
   "execution_count": null,
   "metadata": {
    "pycharm": {
     "name": "#%%\n"
    }
   },
   "outputs": [],
   "source": [
    "ret = df3.query('interaction_ratio == 1.0')['ligand_accession'].unique()\n",
    "print(ret)"
   ]
  },
  {
   "cell_type": "markdown",
   "metadata": {
    "pycharm": {
     "name": "#%% md\n"
    }
   },
   "source": [
    "Lets see if we can filter ligands by which ligands interact with the residues which have the most interactions.\n",
    "\n",
    "First lets see how many interactions we have per residue."
   ]
  },
  {
   "cell_type": "code",
   "execution_count": null,
   "metadata": {
    "pycharm": {
     "name": "#%%\n"
    }
   },
   "outputs": [],
   "source": [
    "df4 = df3.groupby('residue_number')['count']\n",
    "df4 = df4.count().reset_index()"
   ]
  },
  {
   "cell_type": "code",
   "execution_count": null,
   "metadata": {
    "pycharm": {
     "name": "#%%\n"
    }
   },
   "outputs": [],
   "source": [
    "df4.plot.scatter(x='residue_number', y='count')"
   ]
  },
  {
   "cell_type": "markdown",
   "metadata": {},
   "source": [
    "---\n",
    "---"
   ]
  },
  {
   "cell_type": "markdown",
   "metadata": {
    "pycharm": {
     "name": "#%% md\n"
    }
   },
   "source": [
    "## Obtaining summary statistics\n",
    "\n",
    "We can also obtain summary statistics for the interactions. \n",
    "\n",
    "For example, the mean number of interactions and the standard deviation"
   ]
  },
  {
   "cell_type": "code",
   "execution_count": 51,
   "metadata": {
    "pycharm": {
     "name": "#%%\n"
    }
   },
   "outputs": [
    {
     "name": "stdout",
     "output_type": "stream",
     "text": [
      "Mean: residue_number    321.925743\n",
      "count              10.925743\n",
      "dtype: float64\n",
      "Standard deviation: residue_number    146.458285\n",
      "count              15.796890\n",
      "dtype: float64\n"
     ]
    }
   ],
   "source": [
    "mean = df4.mean()\n",
    "std = df4.std()\n",
    "\n",
    "print(f\"Mean: {mean}\")\n",
    "print(f\"Standard deviation: {std}\")"
   ]
  },
  {
   "cell_type": "markdown",
   "metadata": {
    "pycharm": {
     "name": "#%% md\n"
    }
   },
   "source": [
    "To make the number easier to access, we can extract them and save them to new variables:"
   ]
  },
  {
   "cell_type": "code",
   "execution_count": 53,
   "metadata": {
    "pycharm": {
     "name": "#%%\n"
    }
   },
   "outputs": [
    {
     "name": "stdout",
     "output_type": "stream",
     "text": [
      "Mean: 10.925742574257425\n",
      "Standard deviation: 15.796889633173235\n"
     ]
    }
   ],
   "source": [
    "mean_value = float(mean.values[1])\n",
    "std_value = float(std.values[1])\n",
    "\n",
    "print(f\"Mean: {mean_value}\")\n",
    "print(f\"Standard deviation: {std_value}\")"
   ]
  },
  {
   "cell_type": "markdown",
   "metadata": {},
   "source": [
    "---\n",
    "---"
   ]
  },
  {
   "cell_type": "markdown",
   "metadata": {
    "pycharm": {
     "name": "#%% md\n"
    }
   },
   "source": [
    "## Finding the residues that form the most interactions\n",
    "\n",
    "Then we can plot residues which have more interactions than the mean in red\n",
    "and those which are equal to or below in blue."
   ]
  },
  {
   "cell_type": "code",
   "execution_count": null,
   "metadata": {
    "pycharm": {
     "name": "#%%\n"
    }
   },
   "outputs": [],
   "source": [
    "fig, ax = plt.subplots() # this makes one plot with an axis \"ax\" which we can add several plots to\n",
    "\n",
    "lt_data = df4.query(f'count <= {mean_value}')\n",
    "lt_data.plot.scatter(\n",
    "    x='residue_number', \n",
    "    y='count', \n",
    "    color='blue', \n",
    "    ax=ax\n",
    ")\n",
    "\n",
    "gt_data = df4.query(f'count > {mean_value}')\n",
    "gt_data.plot.scatter(\n",
    "    x='residue_number', \n",
    "    y='count', \n",
    "    color='red', \n",
    "    ax=ax\n",
    ")\n",
    "\n",
    "ax.axhline(mean_value)\n",
    "\n",
    "plt.show()\n",
    "plt.close()"
   ]
  },
  {
   "cell_type": "markdown",
   "metadata": {},
   "source": [
    "A higher threshold (two standard deviations) would be more useful to select only the most common ligand-binding residues"
   ]
  },
  {
   "cell_type": "code",
   "execution_count": null,
   "metadata": {},
   "outputs": [],
   "source": [
    "two_std_value = std_value * 2\n",
    "fig, ax = plt.subplots() # this makes one plot with an axis \"ax\" which we can add several plots to\n",
    "\n",
    "lt_data = df4.query(f'count <= {two_std_value}')\n",
    "lt_data.plot.scatter(\n",
    "    x='residue_number', \n",
    "    y='count', \n",
    "    color='blue', \n",
    "    ax=ax\n",
    ")\n",
    "\n",
    "gt_data = df4.query(f'count > {two_std_value}')\n",
    "gt_data.plot.scatter(\n",
    "    x='residue_number', \n",
    "    y='count', \n",
    "    color='red', \n",
    "    ax=ax\n",
    ")\n",
    "\n",
    "ax.axhline(two_std_value)\n",
    "\n",
    "plt.show()\n",
    "plt.close()"
   ]
  },
  {
   "cell_type": "markdown",
   "metadata": {
    "pycharm": {
     "name": "#%% md\n"
    }
   },
   "source": [
    "A list of the residues that form the most interactions (over 2 std) can be obtained:"
   ]
  },
  {
   "cell_type": "code",
   "execution_count": null,
   "metadata": {
    "pycharm": {
     "name": "#%%\n"
    }
   },
   "outputs": [],
   "source": [
    "all_data_over_two_std = df4.query(\n",
    "    f'count > {two_std_value}'\n",
    ")\n",
    "\n",
    "all_data_over_two_std = all_data_over_two_std.sort_values(\n",
    "    by='count', \n",
    "    ascending=False\n",
    ")\n",
    "\n",
    "all_data_over_two_std\n"
   ]
  },
  {
   "cell_type": "markdown",
   "metadata": {},
   "source": [
    "---\n",
    "---"
   ]
  },
  {
   "cell_type": "markdown",
   "metadata": {
    "pycharm": {
     "name": "#%% md\n"
    }
   },
   "source": [
    "## Finding the ligands that interact with these residues\n",
    "\n",
    "we only want the residue numbers for the next step"
   ]
  },
  {
   "cell_type": "code",
   "execution_count": null,
   "metadata": {
    "pycharm": {
     "name": "#%%\n"
    }
   },
   "outputs": [],
   "source": [
    "residue_numbers_over_two_std = all_data_over_two_std['residue_number']\n",
    "print(residue_numbers_over_two_std)"
   ]
  },
  {
   "cell_type": "markdown",
   "metadata": {
    "pycharm": {
     "name": "#%% md\n"
    }
   },
   "source": [
    "What ligands interact with these residues?\n",
    "\n",
    "Now we want to get all ligand_accessions which interact with a residue in \"residue_numbers_over_two_std\""
   ]
  },
  {
   "cell_type": "code",
   "execution_count": null,
   "metadata": {
    "pycharm": {
     "name": "#%%\n"
    }
   },
   "outputs": [],
   "source": [
    "df5  = df3[df3['residue_number'].isin(residue_numbers_over_two_std)]['ligand_accession']\n",
    "print(df5)"
   ]
  },
  {
   "cell_type": "markdown",
   "metadata": {
    "pycharm": {
     "name": "#%% md\n"
    }
   },
   "source": [
    "The same ligand appears several times so we an \"unique\" the list to get our list of ligands\n",
    "which have a number of interactions over the mean interaction count."
   ]
  },
  {
   "cell_type": "code",
   "execution_count": null,
   "metadata": {
    "pycharm": {
     "name": "#%%\n"
    }
   },
   "outputs": [],
   "source": [
    "interesting_ligands = list(df5.unique())\n",
    "print(interesting_ligands)"
   ]
  },
  {
   "cell_type": "markdown",
   "metadata": {},
   "source": [
    "PDBe-KB annotates ligands as drug-like, co-factor-like or reactant-like. This mapping is based on mapping to DrugBank, similarity with co-factor templates or ChEBI/Rhea databases. Let's see if any of these interesting_ligands we found has any functional role."
   ]
  },
  {
   "cell_type": "code",
   "execution_count": null,
   "metadata": {},
   "outputs": [],
   "source": [
    "LIGAND_ROLE_URL = PDBEKB_UNIPROT_URL + \"ligands/\"\n",
    "\n",
    "def get_ligand_role_data(uniprot_accession):\n",
    "    \"\"\"\n",
    "    Retrieve ligand role data for a given UniProt accession\n",
    "    \"\"\"\n",
    "\n",
    "    url = LIGAND_ROLE_URL + uniprot_accession\n",
    "    my_data = get_url(url=url)\n",
    "    data = my_data[uniprot_accession]\n",
    "    data_to_ret = []\n",
    "\n",
    "    for ligand_row in data :\n",
    "        for ligand in ligand_row :\n",
    "            dict1 = ligand_row[ligand]\n",
    "\n",
    "            dict1['pdbs'] = \",\".join(dict1['pdbs'])\n",
    "            dict1['acts_as'] = \",\".join([item.strip() for item in dict1['acts_as']])\n",
    "\n",
    "            dict2 = {\"ligand_code\":ligand}\n",
    "            dict3 = {k:v for d in (dict1,dict2) for k,v in d.items()}\n",
    "            \n",
    "            data_to_ret.append(dict3)\n",
    "\n",
    "    return data_to_ret"
   ]
  },
  {
   "cell_type": "code",
   "execution_count": null,
   "metadata": {},
   "outputs": [],
   "source": [
    "# get ligand annotations from PDBe-KB\n",
    "data = get_ligand_role_data(uniprot_accession)\n",
    "print(data[0])"
   ]
  },
  {
   "cell_type": "code",
   "execution_count": null,
   "metadata": {},
   "outputs": [],
   "source": [
    "# convert the data in pandas dataframe\n",
    "df = pd.DataFrame(data)\n",
    "print(df.head)"
   ]
  },
  {
   "cell_type": "code",
   "execution_count": null,
   "metadata": {},
   "outputs": [],
   "source": [
    "# find all the ligand which have any functional role\n",
    "df[df['acts_as'] != '']"
   ]
  },
  {
   "cell_type": "markdown",
   "metadata": {
    "pycharm": {
     "name": "#%% md\n"
    }
   },
   "source": [
    "It's worth seeing which ligands are not in our list"
   ]
  },
  {
   "cell_type": "code",
   "execution_count": null,
   "metadata": {
    "pycharm": {
     "name": "#%%\n"
    }
   },
   "outputs": [],
   "source": [
    "all_ligands = list(df3['ligand_accession'].unique())\n",
    "\n",
    "missing_ligands = [x for x in all_ligands if x not in interesting_ligands]\n",
    "missing_ligands"
   ]
  },
  {
   "cell_type": "markdown",
   "metadata": {
    "pycharm": {
     "name": "#%% md\n"
    }
   },
   "source": [
    "Now we can display the interactions only for those ligands we have found\n",
    "\n",
    "We will start with our Dataframe df3"
   ]
  },
  {
   "cell_type": "code",
   "execution_count": null,
   "metadata": {
    "pycharm": {
     "name": "#%%\n"
    }
   },
   "outputs": [],
   "source": [
    "df3.head()"
   ]
  },
  {
   "cell_type": "markdown",
   "metadata": {
    "pycharm": {
     "name": "#%% md\n"
    }
   },
   "source": [
    "We will select only ligands which interact the most in a Dataframe df6"
   ]
  },
  {
   "cell_type": "code",
   "execution_count": 57,
   "metadata": {
    "pycharm": {
     "name": "#%%\n"
    }
   },
   "outputs": [
    {
     "data": {
      "text/html": [
       "<div>\n",
       "<style scoped>\n",
       "    .dataframe tbody tr th:only-of-type {\n",
       "        vertical-align: middle;\n",
       "    }\n",
       "\n",
       "    .dataframe tbody tr th {\n",
       "        vertical-align: top;\n",
       "    }\n",
       "\n",
       "    .dataframe thead th {\n",
       "        text-align: right;\n",
       "    }\n",
       "</style>\n",
       "<table border=\"1\" class=\"dataframe\">\n",
       "  <thead>\n",
       "    <tr style=\"text-align: right;\">\n",
       "      <th></th>\n",
       "      <th>residue_number</th>\n",
       "      <th>ligand_accession</th>\n",
       "      <th>interaction_ratio</th>\n",
       "    </tr>\n",
       "  </thead>\n",
       "  <tbody>\n",
       "    <tr>\n",
       "      <th>0</th>\n",
       "      <td>44</td>\n",
       "      <td>CL</td>\n",
       "      <td>0.111111</td>\n",
       "    </tr>\n",
       "    <tr>\n",
       "      <th>1</th>\n",
       "      <td>47</td>\n",
       "      <td>CL</td>\n",
       "      <td>0.666667</td>\n",
       "    </tr>\n",
       "    <tr>\n",
       "      <th>2</th>\n",
       "      <td>47</td>\n",
       "      <td>SO4</td>\n",
       "      <td>0.500000</td>\n",
       "    </tr>\n",
       "    <tr>\n",
       "      <th>3</th>\n",
       "      <td>53</td>\n",
       "      <td>CL</td>\n",
       "      <td>0.111111</td>\n",
       "    </tr>\n",
       "    <tr>\n",
       "      <th>4</th>\n",
       "      <td>53</td>\n",
       "      <td>SO4</td>\n",
       "      <td>0.100000</td>\n",
       "    </tr>\n",
       "    <tr>\n",
       "      <th>...</th>\n",
       "      <td>...</td>\n",
       "      <td>...</td>\n",
       "      <td>...</td>\n",
       "    </tr>\n",
       "    <tr>\n",
       "      <th>772</th>\n",
       "      <td>565</td>\n",
       "      <td>EDO</td>\n",
       "      <td>1.000000</td>\n",
       "    </tr>\n",
       "    <tr>\n",
       "      <th>773</th>\n",
       "      <td>565</td>\n",
       "      <td>MG</td>\n",
       "      <td>0.250000</td>\n",
       "    </tr>\n",
       "    <tr>\n",
       "      <th>774</th>\n",
       "      <td>565</td>\n",
       "      <td>NO3</td>\n",
       "      <td>0.315789</td>\n",
       "    </tr>\n",
       "    <tr>\n",
       "      <th>775</th>\n",
       "      <td>565</td>\n",
       "      <td>SO4</td>\n",
       "      <td>0.700000</td>\n",
       "    </tr>\n",
       "    <tr>\n",
       "      <th>776</th>\n",
       "      <td>569</td>\n",
       "      <td>CL</td>\n",
       "      <td>0.111111</td>\n",
       "    </tr>\n",
       "  </tbody>\n",
       "</table>\n",
       "<p>777 rows × 3 columns</p>\n",
       "</div>"
      ],
      "text/plain": [
       "     residue_number ligand_accession  interaction_ratio\n",
       "0                44               CL           0.111111\n",
       "1                47               CL           0.666667\n",
       "2                47              SO4           0.500000\n",
       "3                53               CL           0.111111\n",
       "4                53              SO4           0.100000\n",
       "..              ...              ...                ...\n",
       "772             565              EDO           1.000000\n",
       "773             565               MG           0.250000\n",
       "774             565              NO3           0.315789\n",
       "775             565              SO4           0.700000\n",
       "776             569               CL           0.111111\n",
       "\n",
       "[777 rows x 3 columns]"
      ]
     },
     "execution_count": 57,
     "metadata": {},
     "output_type": "execute_result"
    }
   ],
   "source": [
    "df6 = df3.groupby(['residue_number', 'ligand_accession'])\n",
    "\n",
    "df6 = df6['interaction_ratio'].mean().reset_index()"
   ]
  },
  {
   "cell_type": "markdown",
   "metadata": {
    "pycharm": {
     "name": "#%% md\n"
    }
   },
   "source": [
    "We are going to scale the interactions as we use this later"
   ]
  },
  {
   "cell_type": "code",
   "execution_count": null,
   "metadata": {
    "pycharm": {
     "name": "#%%\n"
    }
   },
   "outputs": [],
   "source": [
    "df6['interaction_ratio'] = df6['interaction_ratio'].apply(lambda x: x*2)\n",
    "df6"
   ]
  },
  {
   "cell_type": "markdown",
   "metadata": {
    "pycharm": {
     "name": "#%% md\n"
    }
   },
   "source": [
    "Now we can plot the ligand interactions of those ligands which interact with the most interacting residues.\n",
    "\n",
    "We will put each ligand on a row and scale the interactions by the percentage of PDB entries they are seen in.\n"
   ]
  },
  {
   "cell_type": "code",
   "execution_count": null,
   "metadata": {
    "pycharm": {
     "name": "#%%\n"
    }
   },
   "outputs": [],
   "source": [
    "# prepare a figure\n",
    "plt.rcParams['figure.figsize'] = [12, 12]\n",
    "fig, ax = plt.subplots()\n",
    "\n",
    "# plot the less interesting ligands in blue\n",
    "for ligand in missing_ligands:\n",
    "    data = df6[df6['ligand_accession'] == ligand]\n",
    "    data.plot.scatter(\n",
    "        x='residue_number', \n",
    "        y='ligand_accession', \n",
    "        ax=ax, \n",
    "        s='interaction_ratio', \n",
    "        c='blue'\n",
    "    )\n",
    "\n",
    "# plot the interesting ligands in red\n",
    "for ligand in interesting_ligands:\n",
    "    data = df6[df6['ligand_accession'] == ligand]\n",
    "    data.plot.scatter(\n",
    "        x='residue_number', \n",
    "        y='ligand_accession', \n",
    "        ax=ax, \n",
    "        s='interaction_ratio', \n",
    "        c='red'\n",
    "    )\n",
    "\n",
    "plt.ylabel('Ligand')\n",
    "plt.xlabel('UniProt Residue Number')\n",
    "plt.title('Residues which interact with ligands,\\nSpheres scaled by amount of times each interaction is seen in PDB entries')\n",
    "plt.show()\n",
    "plt.close()"
   ]
  },
  {
   "cell_type": "markdown",
   "metadata": {},
   "source": [
    "---\n",
    "---"
   ]
  },
  {
   "cell_type": "markdown",
   "metadata": {},
   "source": [
    "## Comparing the chemical structures of ligands\n",
    "\n",
    "It would be interesting to see if the similar ligands bind to the same residues. Let's take any ligand from above interesting ligand dataset and find all the other ligands which are similar to it. \n",
    "\n",
    "In the example below, we have taken the neurotoxin VX (HET CODE- VX) and acetylcholinesterase inhibitor. We found all the ligands similar to VX using \"get_similar_ligand_data\" function. This function takes ligand name and similarity cutoff (0-1) as arguments. Here we have used similarity cutoff of 0.7 and found all the ligands which are 70 % or more similar to VX. "
   ]
  },
  {
   "cell_type": "code",
   "execution_count": null,
   "metadata": {},
   "outputs": [],
   "source": [
    "PDBEKB_LIGAND_URL = BASE_URL + \"graph-api/compound/\"\n",
    "\n",
    "def get_similar_ligand_data(het_code, similarity_cutoff):\n",
    "    \"\"\"\n",
    "    Retrieve similar ligand data for a given ligand code\n",
    "    \"\"\"\n",
    "\n",
    "    url = PDBEKB_LIGAND_URL + \"similarity/\" + het_code\n",
    "    data = get_url(url=url)\n",
    "    similar_ligands ={}\n",
    "\n",
    "    for row in data[het_code] :\n",
    "\n",
    "        if 'similar_ligands' in row :\n",
    "            sl= row['similar_ligands']\n",
    "\n",
    "            for lig in sl :\n",
    "                \n",
    "                if float(lig['similarity_score']) >= similarity_cutoff :\n",
    "                    similar_ligands[lig['chem_comp_id']] = lig['similarity_score']\n",
    "\n",
    "    return similar_ligands"
   ]
  },
  {
   "cell_type": "code",
   "execution_count": null,
   "metadata": {
    "pycharm": {
     "name": "#%%\n"
    }
   },
   "outputs": [],
   "source": [
    "ligand_exp = \"VX\"\n",
    "similarity_cutoff = 0.7\n",
    "\n",
    "# Finding similar ligands to ligand_exp \n",
    "similar_ligands = get_similar_ligand_data(ligand_exp, similarity_cutoff)\n",
    "sdf = pd.DataFrame(similar_ligands.items(),columns = ['similar_ligand','similarity_score'])\n",
    "print(sdf)\n",
    "\n",
    "# Find common ligands from similar_ligands and interesting_ligands\n",
    "common_ligands = [item for item in similar_ligands if item in interesting_ligands]\n",
    "print(f\"Common ligands include - {common_ligands}\")"
   ]
  },
  {
   "cell_type": "markdown",
   "metadata": {},
   "source": [
    "Now, you can compare if VX and common_ligands bind to same residues or not and check if similar ligands tend to bind to similar sites."
   ]
  },
  {
   "cell_type": "code",
   "execution_count": null,
   "metadata": {},
   "outputs": [],
   "source": [
    "# Get the binding site for your ligand of interest\n",
    "binding_site_1 = sorted(\n",
    "    df3[df3['ligand_accession'] == 'VX']['residue_number'].unique()\n",
    ")\n",
    "print(f\"Binding site for VX: {binding_site_1}\")\n",
    "\n",
    "# Get binding site for common ligands \n",
    "common_binding_residues = []\n",
    "for ligand in common_ligands :\n",
    "    binding_site_2 = sorted(\n",
    "        df3[df3['ligand_accession'] == ligand]['residue_number'].unique()\n",
    "    )\n",
    "    print(f\"Binding site for {ligand}: {binding_site_2}\")\n",
    "    common_binding_residues += [item for item in binding_site_2 if item in binding_site_1]\n",
    "    \n",
    "print(f\"Common binding site residues {common_binding_residues}\")"
   ]
  }
 ],
 "metadata": {
  "kernelspec": {
   "display_name": "Python 3 (ipykernel)",
   "language": "python",
   "name": "python3"
  },
  "language_info": {
   "codemirror_mode": {
    "name": "ipython",
    "version": 3
   },
   "file_extension": ".py",
   "mimetype": "text/x-python",
   "name": "python",
   "nbconvert_exporter": "python",
   "pygments_lexer": "ipython3",
   "version": "3.10.12"
  }
 },
 "nbformat": 4,
 "nbformat_minor": 1
}
