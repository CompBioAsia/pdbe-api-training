{
 "cells": [
  {
   "cell_type": "markdown",
   "metadata": {},
   "source": [
    "# PDBe API Training\n",
    "\n",
    "### PDBe Predicted models for a given protein\n",
    "\n",
    "This tutorial will guide you through obtaining all the experimental and predicted models programmatically.\n",
    "\n",
    "## Introduction\n",
    "The 3D-Beacons Network facilitates the aggregation of coordinate files and metadata for both experimental and theoretical protein models. It encompasses a wide range of state-of-the-art and specialized model providers, as well as data from the Protein Data Bank (PDB).\n",
    "\n",
    "Model providers:\n",
    "* PDBe\n",
    "* SWISS-MODEL\n",
    "* AlphaFold DB\n",
    "* Genome3D\n",
    "* SASBDB\n",
    "* AlphaFill\n",
    "* ModelArchive\n",
    "* Protein Ensemble Database\n",
    "\n",
    "For more information, visit https://www.ebi.ac.uk/pdbe/pdbe-kb/3dbeacons/"
   ]
  },
  {
   "cell_type": "markdown",
   "metadata": {},
   "source": [
    "## Setup\n",
    "\n",
    "First we will import the code which is required to search the API and reformat the results.\n",
    "\n",
    "Run the cell below - by pressing the play button."
   ]
  },
  {
   "cell_type": "code",
   "execution_count": null,
   "metadata": {},
   "outputs": [],
   "source": [
    "import sys\n",
    "sys.path.insert(0,'..')\n",
    "from tutorial_utilities.api_modules import get_url\n",
    "import pandas as pd"
   ]
  },
  {
   "cell_type": "markdown",
   "metadata": {},
   "source": [
    "---\n",
    "---"
   ]
  },
  {
   "cell_type": "markdown",
   "metadata": {},
   "source": [
    "## Obtaining the data\n",
    "\n",
    "The following code retrieves all available structures in 3D-Beacons from a single Uniprot accession ID.\n",
    "\n",
    "We will retrieve entries for the Human Acetylcholinesterase, which has the UniProt accession P22303."
   ]
  },
  {
   "cell_type": "code",
   "execution_count": null,
   "metadata": {},
   "outputs": [],
   "source": [
    "BASE_URL = \"https://www.ebi.ac.uk/pdbe/\"\n",
    "PDBEKB_3BBEACONS_URL = BASE_URL + \"pdbe-kb/3dbeacons/api/uniprot/summary/\"\n",
    "\n",
    "def get_all_models(uniprot_accession):\n",
    "    \"\"\"\n",
    "    Get all models for a given uniprot accession\n",
    "    \"\"\"\n",
    "    # Example of a lambda function, which is a small nameless function that has no \n",
    "    # previous definition\n",
    "    dictfilt = lambda x, y: dict([ (i,x[i]) for i in x if i in set(y) ])\n",
    "    url = f\"{PDBEKB_3BBEACONS_URL}/{uniprot_accession}.json\"\n",
    "\n",
    "    data = get_url(url=url)\n",
    "    data_to_ret = []\n",
    "    structures = data['structures']\n",
    "    \n",
    "    for row in structures:\n",
    "        my_row = row['summary']\n",
    "        # Example of list comprehension to quicly create a list\n",
    "        necc_rows = [keys for keys in my_row.keys() if keys !='entities']\n",
    "        necc_rows = dictfilt(my_row,necc_rows)\n",
    "\n",
    "        for item in my_row['entities'] :\n",
    "            # Example of dictionary comprehension to quicly create a dictionary\n",
    "            dict3 = {k:v for d in (necc_rows,item) for k,v in d.items()}\n",
    "            data_to_ret.append(dict3)\n",
    "\n",
    "    return data_to_ret"
   ]
  },
  {
   "cell_type": "code",
   "execution_count": null,
   "metadata": {},
   "outputs": [],
   "source": [
    "uniprot_accession = 'P22303'\n",
    "result= get_all_models(uniprot_accession)\n",
    "\n",
    "df_models = pd.DataFrame(result)\n",
    "df_models.head()"
   ]
  },
  {
   "cell_type": "markdown",
   "metadata": {},
   "source": [
    "You can filter the models based on Model categories.\n",
    "\n",
    "3D-Beacons provides four different types of models:\n",
    "1. EXPERIMENTALLY DETERMINED\n",
    "2. CONFORMATIONAL ENSEMBLE\n",
    "3. TEMPLATE-BASED\n",
    "4. AB-INITIO\n",
    "\n",
    "Let's look at total number of models available for each of these different types of model categories in this example."
   ]
  },
  {
   "cell_type": "code",
   "execution_count": null,
   "metadata": {},
   "outputs": [],
   "source": [
    "df_models['model_category'].value_counts()"
   ]
  },
  {
   "cell_type": "markdown",
   "metadata": {},
   "source": [
    "Let's get all the template-based models for this protein."
   ]
  },
  {
   "cell_type": "code",
   "execution_count": null,
   "metadata": {},
   "outputs": [],
   "source": [
    "df_template_models = df_models[df_models['model_category'] == 'TEMPLATE-BASED']\n",
    "df_template_models.head()"
   ]
  },
  {
   "cell_type": "markdown",
   "metadata": {},
   "source": [
    "You can also filter this data by provider and experimental method. \n",
    "\n",
    "Let's filter all the structures solved by `X-RAY DIFFRACTION` provided by PDBe. "
   ]
  },
  {
   "cell_type": "code",
   "execution_count": null,
   "metadata": {},
   "outputs": [],
   "source": [
    "df_xray_models = df_models[\n",
    "    ( df_models['provider'] == 'PDBe' ) \n",
    "    & \n",
    "    ( df_models['experimental_method']=='X-RAY DIFFRACTION' )\n",
    "]\n",
    "df_xray_models.head()"
   ]
  }
 ],
 "metadata": {
  "kernelspec": {
   "display_name": "Python 3 (ipykernel)",
   "language": "python",
   "name": "python3"
  },
  "language_info": {
   "codemirror_mode": {
    "name": "ipython",
    "version": 3
   },
   "file_extension": ".py",
   "mimetype": "text/x-python",
   "name": "python",
   "nbconvert_exporter": "python",
   "pygments_lexer": "ipython3",
   "version": "3.9.16"
  }
 },
 "nbformat": 4,
 "nbformat_minor": 2
}
