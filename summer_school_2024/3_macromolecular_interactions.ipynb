{
 "cells": [
  {
   "cell_type": "markdown",
   "metadata": {},
   "source": [
    "# PDBe API Training\n",
    "\n",
    "### PDBe Macromolecular Interactions for a given protein\n",
    "\n",
    "This tutorial will guide you through searching PDBe for macromolecular interactions programmatically."
   ]
  },
  {
   "cell_type": "markdown",
   "metadata": {},
   "source": [
    "### Setup\n",
    "\n",
    "First we will import the code which is required to search the API and plot the results.\n",
    "\n",
    "Run the cell below - by pressing the play button."
   ]
  },
  {
   "cell_type": "code",
   "execution_count": null,
   "metadata": {
    "pycharm": {
     "name": "#%%\n"
    }
   },
   "outputs": [],
   "source": [
    "import pandas as pd\n",
    "from pprint import pprint\n",
    "import sys\n",
    "sys.path.insert(0,'..')\n",
    "from tutorial_utilities.api_modules import explode_dataset, get_macromolecule_interaction_data"
   ]
  },
  {
   "cell_type": "markdown",
   "metadata": {},
   "source": [
    "### Obtaining data\n",
    "\n",
    "Now we are ready to find all the macromolecular interactions that a protein in the PDB archive forms.\n",
    "\n",
    "We will get the macromolecular interactions of Human Acetylcholinesterase, which has the UniProt accession P22303."
   ]
  },
  {
   "cell_type": "code",
   "execution_count": null,
   "metadata": {
    "pycharm": {
     "name": "#%%\n"
    }
   },
   "outputs": [],
   "source": [
    "uniprot_accession = \"P22303\"\n",
    "interaction_data = get_macromolecule_interaction_data(uniprot_accession=uniprot_accession)"
   ]
  },
  {
   "cell_type": "code",
   "execution_count": null,
   "metadata": {
    "pycharm": {
     "name": "#%%\n"
    }
   },
   "outputs": [],
   "source": [
    "pprint(interaction_data[0])"
   ]
  },
  {
   "cell_type": "markdown",
   "metadata": {},
   "source": [
    "### Reformatting the data\n",
    "\n",
    "The output results of the query contain all the information about the macromolecular interactions, however it is in a complex nested list that makes it difficult to parse without reformatting.\n",
    "\n",
    "The following code simplifies the data, flattening the nested format:"
   ]
  },
  {
   "cell_type": "code",
   "execution_count": null,
   "metadata": {
    "pycharm": {
     "name": "#%%\n"
    }
   },
   "outputs": [],
   "source": [
    "# Reformat data to make it a list of the macromolecular interactions found in the PDB archive for the protein\n",
    "df_exploded = explode_dataset(result=interaction_data, column_to_explode='interactingPDBEntries')"
   ]
  },
  {
   "cell_type": "code",
   "execution_count": null,
   "metadata": {
    "pycharm": {
     "name": "#%%\n"
    }
   },
   "outputs": [],
   "source": [
    "print(df_exploded)"
   ]
  },
  {
   "cell_type": "markdown",
   "metadata": {},
   "source": [
    "### Exploring the data\n",
    "\n",
    "The following code lists all the unique macromolecules (UniProt IDs) that interact with human Acetylcholinesterase in the PDB archive:\n",
    "\n",
    "**--The following filtering fulfils Project Aim 1B--**"
   ]
  },
  {
   "cell_type": "code",
   "execution_count": null,
   "metadata": {},
   "outputs": [],
   "source": [
    "df_exploded['interaction_accession'].unique()"
   ]
  },
  {
   "cell_type": "markdown",
   "metadata": {},
   "source": [
    "Some post processing is required to reformat interactingPDBEntries into separate columns. Here we convert the interactingPDBEntries column from a semi-structured JSON data format into a flat table:"
   ]
  },
  {
   "cell_type": "code",
   "execution_count": null,
   "metadata": {
    "pycharm": {
     "name": "#%%\n"
    }
   },
   "outputs": [],
   "source": [
    "data = pd.json_normalize(df_exploded['interactingPDBEntries'])\n",
    "df_interactions = df_exploded.join(data).drop(columns='interactingPDBEntries')"
   ]
  },
  {
   "cell_type": "code",
   "execution_count": null,
   "metadata": {
    "pycharm": {
     "name": "#%%\n"
    }
   },
   "outputs": [],
   "source": [
    "df_interactions"
   ]
  },
  {
   "cell_type": "markdown",
   "metadata": {},
   "source": [
    "startIndex and endIndex are the UniProt residue number, so we'll make a new column called residue_number and copy the startIndex there. We are also going to \"count\" the number of results - so we'll make a dummy count column to store it in."
   ]
  },
  {
   "cell_type": "code",
   "execution_count": null,
   "metadata": {
    "pycharm": {
     "name": "#%%\n"
    }
   },
   "outputs": [],
   "source": [
    "df_interactions['residue_number'] = df_interactions['startIndex']\n",
    "dfdf_interactions3['count'] = df_interactions['pdbId']"
   ]
  },
  {
   "cell_type": "markdown",
   "metadata": {},
   "source": [
    "Now we are ready to use the data."
   ]
  },
  {
   "cell_type": "code",
   "execution_count": null,
   "metadata": {
    "pycharm": {
     "name": "#%%\n"
    }
   },
   "outputs": [],
   "source": [
    "df_interactions.head()"
   ]
  },
  {
   "cell_type": "markdown",
   "metadata": {},
   "source": [
    "Now, you can do similar analysis as you did in 2_ligand_interactions.ipynb. Investigate if there is an overlap in drug-binding and macro-molecular binding site."
   ]
  }
 ],
 "metadata": {
  "kernelspec": {
   "display_name": "Python 3 (ipykernel)",
   "language": "python",
   "name": "python3"
  },
  "language_info": {
   "codemirror_mode": {
    "name": "ipython",
    "version": 3
   },
   "file_extension": ".py",
   "mimetype": "text/x-python",
   "name": "python",
   "nbconvert_exporter": "python",
   "pygments_lexer": "ipython3",
   "version": "3.9.16"
  }
 },
 "nbformat": 4,
 "nbformat_minor": 1
}
