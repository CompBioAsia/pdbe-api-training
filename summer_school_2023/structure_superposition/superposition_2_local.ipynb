{
 "cells": [
  {
   "cell_type": "markdown",
   "metadata": {},
   "source": [
    "# Protein structure superposing\n",
    "\n"
   ]
  },
  {
   "cell_type": "markdown",
   "metadata": {},
   "source": [
    "## 2) **Superposing structures locally**\n",
    "\n",
    "Web-based services are extremely powerful, especially when searching against large databases such as the [PDBe archive](https://www.ebi.ac.uk/pdbe/node/1) or [AlphaFold database](https://alphafold.ebi.ac.uk/). However, you might be working with newly solved protein structures, which are not on either of these databases, or want to modify your superposition command beyond the scope of the options provided. This is where superposing structures on your own machine can be useful. Most superposition software can run on modern consumer hardware in a reasonable time, which makes exploring proteins on a laptop feasible. We will be looking at several useful superposition algorithms used in many structural biology packages such as Pymol, _Coot_ and CCP4.\n",
    "\n",
    "Running software from the command line provides several benefits over GUI-based applications. One advantage is the (sometimes significantly) lower computational overhead required to run command line applications vs those with GUIs. This can make running operations faster, especially on older hardware or where a visual interface is not immediately necessary. Secondly, once we know the the parameters we need, we can execute the program without traversing menus, toggling option fields and locating the files in cumbersome file managers. Running software from the command line also allows us to quickly repeat executions, modify parameters and even incorperate them into our own code. We can also obtain a log from our execution of the program -- a report of programmatic events, errors, warnings, values, runtime and more -- which can sometimes be very useful when trouble shooting problems or debugging your own code. Although not exclusive to command-line applications, GUIs often omit log information for brevity. \n",
    "\n",
    "Fortunately, many tools for protein superposition exist as command-line programs. We will be using the structual biology tool suite [CCP4](https://www.ccp4.ac.uk/) as it contains several excellent superposition algorithms. Many also exist as webservers, which can be used to query databases such as the PDBe or AlphaFoldDB, or modules we can load into our own code. Let's take a closer look at CCP4.\n",
    "\n",
    "----------------------\n"
   ]
  },
  {
   "cell_type": "markdown",
   "metadata": {},
   "source": [
    "### 2.1) **Setup CCP4**\n",
    "\n",
    "The software suite CCP4 contains several command-line programs for superposing structures. CCP4 should be installed on your virtual machine, but can be downloaded from [their website](https://www.ccp4.ac.uk/). Once installed, run the command below to enable you to execute programs from CCP4 as terminal commands:\n",
    "\n",
    "> `source /path/to/ccp4-8.0/bin/ccp4.setup-sh`\n",
    "\n",
    "You will need to adjust the path to point to the location of your CCP4 installation. For users working on EMBL-EBI's virtual machine, this is:\n",
    "\n",
    "> ` source /opt/xtal/ccp4-8.0/bin/ccp4.setup-sh`\n",
    "\n",
    "Now you will be able to run any program offered by the CCP4 suite! You can find the documentation for all programs CCP4 contains [here](https://www.ccp4.ac.uk/html/). We will be limiting our use of CCP4 to only the programs useful for protein superposition in this tutorial. Let us begin by comparing the two superposition algorithms: SSM and GESAMT. "
   ]
  },
  {
   "cell_type": "markdown",
   "metadata": {},
   "source": [
    "### 2.2) **CCP4: Superpose tools**\n",
    "\n",
    "#### 2.2.1) SSM\n",
    "\n",
    "> `superpose ./examples_mmcif/4pqe.cif ./examples_mmcif/6emi.cif -o superpose_example_output.cif`\n",
    "\n",
    "This command will superpose the structure `6emi` to `4pqe`, saving the new version to the file `ssm_example_output.pdb`. Either mmCIF or PDB file formats can be parsed into `superpose`. Specify the desired file type of the output superposition file by changing the file prefix (`.cif` or `.pdb`)."
   ]
  },
  {
   "cell_type": "markdown",
   "metadata": {},
   "source": [
    "#### 2.2.2) GESAMT\n",
    "\n",
    "> `gesamt ./examples_mmcif/4pqe.cif ./examples_mmcif/6emi.cif -o gesamt_example_output.cif`\n",
    "\n",
    "This command will superpose the structure `6emi` to `4pqe`, saving the new version to the file `gesamt_example_output.pdb`. Either mmCIF or PDB file formats can be parsed into `superpose`. Specify the desired file type of the output superposition file by changing the file prefix (`.cif` or `.pdb`)."
   ]
  },
  {
   "cell_type": "markdown",
   "metadata": {},
   "source": [
    "#### 2.2.3) Specifying chains\n",
    "\n",
    "If a structure file contains multiple chains, the arguments `-s` and `-d` can be parsed in to specify the chains (and residue ranges) over which to perform superposition. `-s` is used to specify the static chain and `-d` for mobile chain(s). The example below shows these flags in use:\n",
    "\n",
    "> `gesamt ./examples_mmcif/4pqe.cif -s A ./examples_mmcif/6emi.cif -d 'A:' -o gesamt_example_output.cif`\n",
    "\n",
    "A residue range can be given after the `:` in the `-d` flag. For example:\n",
    "\n",
    "> `gesamt ./examples_mmcif/4pqe.cif -s A ./examples_mmcif/6emi.cif -d 'A:100-200' -o gesamt_example_output_res_range.cif`\n",
    "\n",
    "superposes 6emi.cif onto 4pqe.cif, only over residues 100-200 in 6emi.cif. \n",
    "\n",
    "A useful application of parsing chains can be structurally aligning the individual chains from an NMR ensemble. The GESAMT documentation gives a nice example of how this can be performed:\n",
    "\n",
    "> `gesamt 1nmr.pdb -s '/1/A' 1nmr.pdb -s '/2/A' 1nmr.pdb -s '/3/A' 1nmr.pdb -s '/4/A' 1nmr.pdb -s '/5/A' 1nmr.pdb -s '/6/A' -r0=1.5 -sigma=1.0 -o 1nmr_cluster.cif -o-cf -a align.seq`\n",
    "\n",
    "_NB: the files in the above example are only illustrative of an NMR ensemble alignment_\n",
    "\n",
    "Executing a superposition application from the command line like this can be further automated, as detailed in the next notebook. Here, `gesamt` is used as an example but the arguments are identical for `superpose`. "
   ]
  },
  {
   "cell_type": "markdown",
   "metadata": {},
   "source": [
    "### 2.4) **Viewing the results**\n",
    "\n",
    "In addition to saving our superposition as a PDB file, we are also provided with debug information printed to the terminal. Included is also information regarding the structural alignment, such as RMSD, Q-score and the rotation-translation matrice(s). Furthermore, we are also provided with the sequence identity and multiple-sequence alignment. We can capture this information by following our superposition command with the `>>` operation and the name of the file we want to send the information to. For example, \n",
    "\n",
    "> `gesamt test1.cif test2.cif -o test.pdb >> test.out`\n",
    "\n",
    "Now, you can now open the output PDB file in your favourite molecular graphics viewer. We suggest opening your results in [Mol* Viewer](https://molstar.org/viewer/), a feature-rich online viewer that opens in your browser. Compare whether SSM and GESAMT give the same result. Many molecular graphics viewers are packaged with SSM as their default structural alignment tool. GESAMT was built on SSM to remediate some of its limitations, without a prohibitive runtime penalty. \n",
    "\n",
    "To import your superposition results into [Mol* Viewer](https://molstar.org/viewer/), first click the '_Open files_' option, select all the structures you want and click '_Open_'\n",
    "\n",
    "<img src=\"./figures/mol_star_file_open.png\" \n",
    "     width=\"500\" \n",
    "     height=\"400\" />\n",
    "\n",
    "Then click '_Apply_' to add those structures to your session.\n",
    "\n",
    "<img src=\"./figures/mol_star_apply.png\" \n",
    "     width=\"500\" \n",
    "     height=\"400\" />\n",
    "\n",
    "You should see your superposed structures in the viewing window. The structural similarities/differences can be visualised using Mol*'s tools. \n",
    "\n",
    "<img src=\"./figures/mol_star_imported.png\" \n",
    "     width=\"500\" \n",
    "     height=\"400\" />\n",
    "\n",
    "As the superposition results are returned in PDB file format, they can be parsed into other molecular graphics viewers such as PyMol or Chimera. \n"
   ]
  },
  {
   "cell_type": "markdown",
   "metadata": {},
   "source": [
    "### 2.5) **Superposing with PyMol**\n",
    "\n",
    "The molecular graphics viewer, PyMol, has already been installed on your virtual machine. Included in PyMol by default are the `align`, `cealign` and `super` tools.\n",
    "\n",
    " - `align`: Performs a sequence alignment, followed by _n_ rounds of refinement to minimise all-atom RMSD. Suitable for structures with >30 % sequnce identity. \n",
    " - `cealign`: Implementation of the CE algorithm. The algorithm is robust but can be slow for large proteins or comparisons with little sequence similarity. \n",
    " - `super`: Good for structures with very low sequence similarity. Performs a structural alignment using information about each residue's main chain path, secondary, and current coordinates, followed by _n_ rounds of refinement to minimise all-atom RMSD. \n",
    "\n",
    "To run any of these tools, open PyMol and locate the command panel in the GUI:\n",
    "\n",
    "<img src=\"./figures/pymol_command_panel_annotated.png\" \n",
    "     width=\"500\" \n",
    "     height=\"400\" />\n",
    "\n",
    "The command below is a general description for running any of PyMol's superposition tools:\n",
    "\n",
    "> `<tool_name> structure1, structure2`\n",
    "\n",
    "where `<tool_name>` is one of `align`, `cealign`, or `super` and `structure1`/`structure2` are the two structures to superpose. For example, \n",
    "\n",
    "> `align structure1, structure2`\n",
    "\n",
    "uses the `align` tool to superpose `structure1` onto `structure2`. Confusingly, `cealign` instead would superpose `structure2` onto `structure1`. For more information on using any of PyMol's command line tools, visit the [PyMol Wiki](https://pymolwiki.org/index.php/Main_Page). \n",
    "\n",
    "\n",
    "<!-- ![PyMol command panel](./figures/pymol_command_panel_annotated.png) -->"
   ]
  },
  {
   "cell_type": "markdown",
   "metadata": {},
   "source": [
    "----------------------------\n",
    "\n",
    "#### **Practice exercise 2: Exploring structural differences**\n",
    "\n",
    "The _Escherichia coli_ enzyme [aminoglycoside phosphotransferase](https://www.ebi.ac.uk/interpro/entry/InterPro/IPR002575/) is responsible for antibiotic resistance towards kanamycin, phosphorylating the drug to ablate its target affinity. Several structures of the enzyme have been solved and are available from the PDBe-KB's [Aggregate Views of Proteins page](https://www.ebi.ac.uk/pdbe/pdbe-kb/proteins/Q47396). Download the results (preferably in `.cif` format) to your virtual machine and use one or more of the above superposition tools to structurally align the models. These are structures with an exact match to a segment of the protein (UniProt accession: [Q47396](https://www.uniprot.org/uniprot/Q47396#sequences)). \n",
    "\n",
    "To find structures with similar but not perfect sequence identity, perform a [BLAST](https://www.uniprot.org/blast/) search against the PDBe archive. The amino acid sequence for _E. coli_ aminoglycoside phosphotransferase is:\n",
    "\n",
    "```\n",
    ">tr|Q47396|Q47396_ECOLX Aminoglycoside phosphotransferase OS=Escherichia coli OX=562 GN=mphA PE=1 SV=1\n",
    "MTVVTTADTSQLYALAARHGLKLHGPLTVNELGLDYRIVIATVDDGRRWVLRIPRRAEVS\n",
    "AKVEPEARVLAMLKNRLPFAVPDWRVANAELVAYPMLEDSTAMVIQPGSSTPDWVVPQDS\n",
    "EVFAESFATALAALHAVPISAAVDAGMLIRTPTQARQKVADDVDRVRREFVVNDKRLHRW\n",
    "QRWLDDDSSWPDFSVVVHGDLYVGHVLIDNTERVSGMIDWSEARVDDPAIDMAAHLMVFG\n",
    "EEGLAKLLLTYEAAGGRVWPRLAHHIAERLAFGAVTYALFALDSGNEEYLAAAKAQLAAA\n",
    "E\n",
    "```\n",
    "\n",
    "Superpose the structures from your search results using one or more of the methods above and inspect the structures for possible functionally important similarities/differences. You will need to import your results into a molecular graphics viewer, such as Mol* or PyMol. The ligand-binding site for might be good place to start. \n",
    "\n",
    "Export images of your findings, highlighting key features from the superposition. "
   ]
  }
 ],
 "metadata": {
  "interpreter": {
   "hash": "31f2aee4e71d21fbe5cf8b01ff0e069b9275f58929596ceb00d14d90e3e16cd6"
  },
  "kernelspec": {
   "display_name": "Python 3 (ipykernel)",
   "language": "python",
   "name": "python3"
  },
  "language_info": {
   "codemirror_mode": {
    "name": "ipython",
    "version": 3
   },
   "file_extension": ".py",
   "mimetype": "text/x-python",
   "name": "python",
   "nbconvert_exporter": "python",
   "pygments_lexer": "ipython3",
   "version": "3.9.16"
  }
 },
 "nbformat": 4,
 "nbformat_minor": 2
}
