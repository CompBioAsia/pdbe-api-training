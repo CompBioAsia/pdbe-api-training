{
  "cells": [
    {
      "cell_type": "markdown",
      "metadata": {
        "id": "J071z7PSeET3"
      },
      "source": [
        "# Tips and Tricks in Python\n",
        "\n",
        "The following sections are some useful Python data types and operations that can help you write cleaner and more efficient code. They are completely optional, but might be useful in your work."
      ]
    },
    {
      "cell_type": "markdown",
      "metadata": {},
      "source": [
        "## List comprehension"
      ]
    },
    {
      "cell_type": "code",
      "execution_count": null,
      "metadata": {
        "id": "TiBV3elveDcl"
      },
      "outputs": [],
      "source": [
        "# Create an ordered list of 20 elements, for the square of the integers 1-20\n",
        "\n",
        "def f(x):\n",
        "  return x**2 + 6 / 3908345\n",
        "\n",
        "list_comp = [(x+1)**2 for x in range(20)]\n",
        "list_comp = [(x)**2 for x in range(1, 21)]\n",
        "list_comp = [f(x) for x in range(20)]\n",
        "\n",
        "thelist = []\n",
        "for i in range(20):\n",
        "  thelist.append((i+1)**2)"
      ]
    },
    {
      "cell_type": "markdown",
      "metadata": {},
      "source": [
        "## Working with time"
      ]
    },
    {
      "cell_type": "code",
      "execution_count": null,
      "metadata": {
        "id": "6Z7XY3QrrVyU"
      },
      "outputs": [],
      "source": [
        "import datetime\n",
        "my_set = set(range(1, 1000000000))\n",
        "my_list = list(range(1, 1000000000))"
      ]
    },
    {
      "cell_type": "code",
      "execution_count": null,
      "metadata": {
        "colab": {
          "base_uri": "https://localhost:8080/"
        },
        "id": "KGrlgjl3eKaU",
        "outputId": "36677f1f-647b-4e55-bbf5-b811cca1890e"
      },
      "outputs": [],
      "source": [
        "# Sets -- faster\n",
        "\n",
        "time_1 = datetime.datetime.now().timestamp()\n",
        "\n",
        "my_tuple = (1000000000, 999999999, 999999998, 999999997)\n",
        "\n",
        "for i in my_tuple:\n",
        "  if i in my_set:\n",
        "    print(f\"{i} is in array\")\n",
        "\n",
        "time_2 = datetime.datetime.now().timestamp()\n",
        "\n",
        "print(\"Total time elapsed:\", time_2 - time_1)\n",
        "\n",
        "# Total time elapsed with list: 0.2018570899963379\n",
        "# Total time elapsed with set: 0.0001590251922607422"
      ]
    },
    {
      "cell_type": "markdown",
      "metadata": {},
      "source": [
        "## Generators\n",
        "\n",
        "Faster and more memory efficient than list comprehensions"
      ]
    },
    {
      "cell_type": "code",
      "execution_count": null,
      "metadata": {
        "id": "znD8KcjyeLnl"
      },
      "outputs": [],
      "source": [
        "# Example generator\n",
        "def my_gen():\n",
        "  for i in range(10):\n",
        "    yield i\n",
        "\n",
        "# Example of using a generator\n",
        "for i in my_gen():\n",
        "    print(i)"
      ]
    },
    {
      "cell_type": "markdown",
      "metadata": {},
      "source": [
        "## Sets - unordered collections of unique elements\n",
        "\n",
        "Great when you need to do `in` checks or set operations like union, intersection, etc.\n",
        "\n",
        "Some operations can be blisteringly fast using sets."
      ]
    },
    {
      "cell_type": "code",
      "execution_count": 2,
      "metadata": {},
      "outputs": [],
      "source": [
        "# Example of using sets\n",
        "my_set = set()\n",
        "for i in range(10):\n",
        "  my_set.add(i)\n",
        "\n",
        "my_new_set_1 = {1, 2, 3, 4, 5}\n",
        "my_new_set_2 = {i for i in range(10)}\n"
      ]
    },
    {
      "cell_type": "markdown",
      "metadata": {},
      "source": [
        "## Accessing data from APIs"
      ]
    },
    {
      "cell_type": "code",
      "execution_count": null,
      "metadata": {
        "id": "TYkJHNSpeuUt"
      },
      "outputs": [],
      "source": [
        "# The requests library -- a look at APIs\n",
        "import requests\n",
        "\n",
        "# uri = \"https://www.ebi.ac.uk/pdbe/graph-api/uniprot/superposition/P69441\"\n",
        "uri = \"https://ftp.ebi.ac.uk/pub/databases/pdbe-kb/superposition/P/P69441/P69441.json\"\n",
        "\n",
        "data = requests.get(uri)\n",
        "\n",
        "if data.status_code == 200:\n",
        "  print(data.text)\n",
        "\n",
        "else:\n",
        "  print(\"Not success\")"
      ]
    },
    {
      "cell_type": "markdown",
      "metadata": {},
      "source": [
        "## Classes "
      ]
    },
    {
      "cell_type": "code",
      "execution_count": null,
      "metadata": {
        "id": "wJQg43PB1hfV"
      },
      "outputs": [],
      "source": [
        "class RestrictionEnzyme:\n",
        "\n",
        "  def __init__(self):\n",
        "    self.cut_site = \"GCATGC\"\n",
        "\n",
        "  def _iterate_bases(self, dna):\n",
        "    \"\"\"\n",
        "    Private method\n",
        "    \"\"\"\n",
        "\n",
        "    for i, base in enumerate(dna):\n",
        "      # Complete the code\n",
        "\n",
        "      return (i, base)\n",
        "\n",
        "\n",
        "  def cut_dna(self, dna):\n",
        "\n",
        "    cut_site = self._iterate_bases(dna)\n",
        "\n",
        "\n",
        "  def find_cut_sites(self, dna):\n",
        "\n",
        "    cut_site = self._iterate_bases(dna)\n",
        "\n",
        "    self.cut_dna(dna)\n",
        "\n",
        "    # Complete the code\n",
        "\n",
        "    return (start, end)\n",
        "\n"
      ]
    },
    {
      "cell_type": "code",
      "execution_count": null,
      "metadata": {
        "id": "eV_AWMqs1yQj"
      },
      "outputs": [],
      "source": [
        "my_restriction_enzyme = RestrictionEnzyme(\"AATTCGAATT\")\n",
        "\n",
        "dna = \"ATTCTATAGCTAGCTAGACCGTGACGCATGCAACGTGGTGCTAGATAGCTAC\"\n",
        "\n",
        "my_restriction_enzyme.cut_dna(dna)"
      ]
    },
    {
      "cell_type": "code",
      "execution_count": null,
      "metadata": {
        "id": "Gh3NBg6y6BYh"
      },
      "outputs": [],
      "source": [
        "from math import sqrt\n",
        "\n",
        "class Rectangle:\n",
        "\n",
        "  def __init__(self, side_A, side_B):\n",
        "    self.side_A = side_A\n",
        "    self.side_B = side_B\n",
        "\n",
        "\n",
        "  def calculate_area(self):\n",
        "    return self.side_A * self.side_B\n",
        "\n",
        "\n",
        "  def calculate_diagonal(self):\n",
        "\n",
        "    diagonal = sqrt(\n",
        "      self.side_A**2 + self.side_B**2\n",
        "    )\n",
        "    return diagonal\n",
        "\n",
        "  def calculate_diagonal_angle(self):\n",
        "\n",
        "    diagonal = self.calculate_diagonal()\n",
        "\n"
      ]
    }
  ],
  "metadata": {
    "colab": {
      "provenance": []
    },
    "kernelspec": {
      "display_name": "env",
      "language": "python",
      "name": "python3"
    },
    "language_info": {
      "codemirror_mode": {
        "name": "ipython",
        "version": 3
      },
      "file_extension": ".py",
      "mimetype": "text/x-python",
      "name": "python",
      "nbconvert_exporter": "python",
      "pygments_lexer": "ipython3",
      "version": "3.10.15"
    }
  },
  "nbformat": 4,
  "nbformat_minor": 0
}
