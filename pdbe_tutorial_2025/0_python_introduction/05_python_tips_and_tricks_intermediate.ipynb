{
  "nbformat": 4,
  "nbformat_minor": 0,
  "metadata": {
    "colab": {
      "provenance": []
    },
    "kernelspec": {
      "name": "python3",
      "display_name": "Python 3"
    },
    "language_info": {
      "name": "python"
    }
  },
  "cells": [
    {
      "cell_type": "markdown",
      "source": [
        "# Tips and Tricks in Python"
      ],
      "metadata": {
        "id": "J071z7PSeET3"
      }
    },
    {
      "cell_type": "code",
      "execution_count": null,
      "metadata": {
        "id": "TiBV3elveDcl"
      },
      "outputs": [],
      "source": [
        "# List comprehension\n",
        "\n",
        "# Create an ordered list of 20 elements, for the square of the integers 1-20\n",
        "\n",
        "def f(x):\n",
        "  return x**2 + 6 / 3908345\n",
        "\n",
        "list_comp = [(x+1)**2 for x in range(20)]\n",
        "list_comp = [(x)**2 for x in range(1, 21)]\n",
        "list_comp = [f(x) for x in range(20)]\n",
        "\n",
        "thelist = []\n",
        "for i in range(20):\n",
        "  thelist.append((i+1)**2)"
      ]
    },
    {
      "cell_type": "code",
      "source": [
        "import datetime\n",
        "my_set = set(range(1, 1000000000))\n",
        "my_list = list(range(1, 1000000000))"
      ],
      "metadata": {
        "id": "6Z7XY3QrrVyU"
      },
      "execution_count": null,
      "outputs": []
    },
    {
      "cell_type": "code",
      "source": [
        "# Sets -- faster\n",
        "\n",
        "time_1 = datetime.datetime.now().timestamp()\n",
        "\n",
        "my_tuple = (1000000000, 999999999, 999999998, 999999997)\n",
        "\n",
        "for i in my_tuple:\n",
        "  if i in my_set:\n",
        "    print(f\"{i} is in array\")\n",
        "\n",
        "time_2 = datetime.datetime.now().timestamp()\n",
        "\n",
        "print(\"Total time elapsed:\", time_2 - time_1)\n",
        "\n",
        "# Total time elapsed with list: 0.2018570899963379\n",
        "# Total time elapsed with set: 0.0001590251922607422"
      ],
      "metadata": {
        "id": "KGrlgjl3eKaU",
        "colab": {
          "base_uri": "https://localhost:8080/"
        },
        "outputId": "36677f1f-647b-4e55-bbf5-b811cca1890e"
      },
      "execution_count": null,
      "outputs": [
        {
          "output_type": "stream",
          "name": "stdout",
          "text": [
            "Total time elapsed: 0.0001590251922607422\n"
          ]
        }
      ]
    },
    {
      "cell_type": "code",
      "source": [
        "# Built-in generators -- fast and less memory"
      ],
      "metadata": {
        "id": "znD8KcjyeLnl"
      },
      "execution_count": null,
      "outputs": []
    },
    {
      "cell_type": "code",
      "source": [
        "# The requests library -- a look at APIs\n",
        "import requests\n",
        "\n",
        "# uri = \"https://www.ebi.ac.uk/pdbe/graph-api/uniprot/superposition/P69441\"\n",
        "uri = \"https://ftp.ebi.ac.uk/pub/databases/pdbe-kb/superposition/P/P69441/P69441.json\"\n",
        "\n",
        "data = requests.get(uri)\n",
        "\n",
        "if data.status_code == 200:\n",
        "  print(data.text)\n",
        "\n",
        "else:\n",
        "  print(\"Not success\")"
      ],
      "metadata": {
        "id": "TYkJHNSpeuUt"
      },
      "execution_count": null,
      "outputs": []
    },
    {
      "cell_type": "code",
      "source": [
        "\n",
        "\n",
        "class RestrictionEnzyme:\n",
        "\n",
        "  def __init__(self):\n",
        "    self.cut_site = \"GCATGC\"\n",
        "\n",
        "  def iterate_bases(self, dna):\n",
        "\n",
        "    for i in dna:\n",
        "\n",
        "      return sample_data\n",
        "\n",
        "\n",
        "\n",
        "  def cut_dna(self, dna):\n",
        "\n",
        "    sample_data = self.iterate_bases(dna)\n",
        "\n",
        "\n",
        "\n",
        "\n",
        "\n",
        "  def find_cut_sites(self, dna):\n",
        "\n",
        "    sample_data = self.iterate_bases(dna)\n",
        "\n",
        "    self.cut_dna(dna)\n",
        "\n",
        "\n",
        "    return (start, end)\n",
        "\n"
      ],
      "metadata": {
        "id": "wJQg43PB1hfV"
      },
      "execution_count": null,
      "outputs": []
    },
    {
      "cell_type": "code",
      "source": [
        "my_restriction_enzyme = RestrictionEnzyme(\"AATTCGAATT\")\n",
        "\n",
        "dna = \"ATTCTATAGCTAGCTAGACCGTGACGCATGCAACGTGGTGCTAGATAGCTAC\"\n",
        "\n",
        "my_restriction_enzyme.cut_dna(dna)"
      ],
      "metadata": {
        "id": "eV_AWMqs1yQj"
      },
      "execution_count": null,
      "outputs": []
    },
    {
      "cell_type": "code",
      "source": [
        "from math import sqrt\n",
        "\n",
        "\n",
        "\n",
        "class Rectangle:\n",
        "\n",
        "  def __init__(self, side_A, side_B):\n",
        "    self.side_A = side_A\n",
        "    self.side_B = side_B\n",
        "\n",
        "\n",
        "  def calculate_area(self):\n",
        "    return self.side_A * self.side_B\n",
        "\n",
        "\n",
        "  def calculate_diagonal(self):\n",
        "\n",
        "    diagonal = sqrt(\n",
        "      self.side_A**2 + self.side_B**2\n",
        "    )\n",
        "    return diagonal\n",
        "\n",
        "  def calculate_diagonal_angle(self):\n",
        "\n",
        "    diagonal = self.calculate_diagonal()\n",
        "\n",
        "\n",
        "\n",
        "\n",
        "\n"
      ],
      "metadata": {
        "id": "Gh3NBg6y6BYh"
      },
      "execution_count": null,
      "outputs": []
    }
  ]
}