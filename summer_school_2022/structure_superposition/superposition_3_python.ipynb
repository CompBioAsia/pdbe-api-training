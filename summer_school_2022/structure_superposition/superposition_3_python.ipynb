{
 "cells": [
  {
   "cell_type": "markdown",
   "metadata": {},
   "source": [
    "# Protein structure superposing\n",
    "\n"
   ]
  },
  {
   "cell_type": "markdown",
   "metadata": {},
   "source": [
    "## 3) **Superposing with Python**\n",
    "\n",
    "Gemmi is an efficient parser for the `mmCIF` file format. We will be using it here to parse in structures from the PDBe we have saved locally. Once loaded into the script, we will explore different protein structure superposition tools. "
   ]
  },
  {
   "cell_type": "code",
   "execution_count": 1,
   "metadata": {},
   "outputs": [],
   "source": [
    "import subprocess\n",
    "import pathlib\n",
    "import gemmi\n",
    "import Bio"
   ]
  },
  {
   "cell_type": "markdown",
   "metadata": {},
   "source": [
    "### 3.1) Loading and saving structure files\n",
    "\n",
    "Structure files, typically in PDB or mmCIF formats, can be parsed into Python scripts using the built-in read-write functions, such as `open()` and `write()`. However, tools have been developed to make this process quick and easy. We will be focusing on the file parsing module Gemmi as it is relatively quick and has good support for the modern mmCIF file format. Another set of functions for parsing structure files into Python is included in the popular Biopython library, which tends to focus on files in the PDB format. \n",
    "\n",
    "\n",
    "#### **Gemmi**\n",
    "\n",
    "[Gemmi](https://gemmi.readthedocs.io/en/latest/) is a modern Python and C++ library containing many tools for performing common tasks in structural biology. It is well suited to handling mmCIF (PDBx/mmCIF) file formats, which are organised into blocks and loops of data.\n",
    "\n",
    "To load a mmCIF file:"
   ]
  },
  {
   "cell_type": "code",
   "execution_count": null,
   "metadata": {},
   "outputs": [],
   "source": [
    "from gemmi import cif\n",
    "\n",
    "# Location of saved structure file\n",
    "path_mmcifs = \"examples_mmcif/\"\n",
    "path_6mka = str( path_mmcifs + \"6mka.cif\" )\n",
    "\n",
    "# Load file into program\n",
    "mmcif_6mka = cif.read_file( path_6mka ).sole_block()\n",
    "\n",
    "print(mmcif_6mka)"
   ]
  },
  {
   "cell_type": "markdown",
   "metadata": {},
   "source": [
    "To extract information from the parsed mmCIF file, we can use the `find()` method, where we provide the blocks and loops of data we want to access. For a complete list of all data blocks and loops, refer to the [file format documentation](https://mmcif.wwpdb.org/dictionaries/mmcif_pdbx_v50.dic/Categories/index.html) provided by the [wwPDB](http://www.wwpdb.org/). \n",
    "\n",
    "As an introductory example, the code below will extract the atom type, atom label, atom coordinates, occupancy and chain ID (author stated)."
   ]
  },
  {
   "cell_type": "code",
   "execution_count": null,
   "metadata": {},
   "outputs": [],
   "source": [
    "import numpy as np\n",
    "import pandas as pd\n",
    "\n",
    "# Extract data\n",
    "mmcif_table =  mmcif_6mka.find(\n",
    "    \"_atom_site.\",\n",
    "    [\n",
    "        \"group_PDB\",\n",
    "        \"label_atom_id\",\n",
    "        \"Cartn_x\",\n",
    "        \"Cartn_y\",\n",
    "        \"Cartn_z\",\n",
    "        \"occupancy\",\n",
    "        \"auth_asym_id\"\n",
    "    ],\n",
    "    )\n",
    "\n",
    "# Convert to Numpy array\n",
    "# ... not strictly necessary but improves runtime performance and data handling\n",
    "mmcif_array = np.asarray(mmcif_table)\n",
    "\n",
    "# Convert to Pandas DataFrame\n",
    "# ... especially useful for data handling and selecting rows\n",
    "mmcif_df = pd.DataFrame(\n",
    "    mmcif_table,\n",
    "    columns=[\n",
    "        \"group_PDB\",\n",
    "        \"label_atom_id\",\n",
    "        \"Cartn_x\",\n",
    "        \"Cartn_y\",\n",
    "        \"Cartn_z\",\n",
    "        \"occupancy\",\n",
    "        \"auth_asym_id\"\n",
    "        ]\n",
    "    )\n",
    "\n",
    "# Extract only the CA atoms\n",
    "ca_atoms = mmcif_df.loc[mmcif_df[\"label_atom_id\"] == \"CA\"]\n",
    "print(ca_atoms)\n"
   ]
  },
  {
   "cell_type": "markdown",
   "metadata": {},
   "source": [
    "Gemmi can also load structure files as coordinate objects, a feature especially useful for superpositioning. We will be using this method of parsing for superposing structures but the former approach can be used to extract any information stored in the mmCIF file. "
   ]
  },
  {
   "cell_type": "code",
   "execution_count": null,
   "metadata": {},
   "outputs": [],
   "source": [
    "# Load example structure into script\n",
    "model_original = gemmi.read_structure('./examples_mmcif/1lzh_updated.cif') # PDB format accepted\n",
    "\n",
    "print(model_original.ncs)\n",
    "\n",
    "\n",
    "model = model_original[0]\n",
    "\n",
    "# Assign static chain\n",
    "static = model['A'].get_polymer()\n",
    "# Assign mobile chains\n",
    "mobile = model['B'].get_polymer()\n",
    "ptype = static.check_polymer_type()     # Useful when not already known\n",
    "\n",
    "superposed = gemmi.calculate_superposition(\n",
    "    static,               # Structure 1\n",
    "    mobile,               # Structure 2\n",
    "    ptype,                  # The type of macromolecule\n",
    "    gemmi.SupSelect.CaP     # Select only CAs\n",
    "    )\n",
    "\n",
    "print(\"RMSD = \", superposed.rmsd)\n",
    "\n",
    "# Some useful transformations\n",
    "superposed_matrix = superposed.transform.mat\n",
    "superposed_vector = superposed.transform.vec\n",
    "\n",
    "superposed_matrix = np.asarray(superposed_matrix)\n",
    "superposed_vector = np.asarray(superposed_vector)\n",
    "\n",
    "print(superposed_matrix)\n",
    "print(superposed_vector)\n",
    "\n",
    "\n"
   ]
  },
  {
   "cell_type": "markdown",
   "metadata": {},
   "source": [
    "### 3.1) Superposing in Python\n",
    "\n",
    "#### **Biopython**\n",
    "One approach to superposing structures programatically is use the popular Python package _Biopython_. The package contains three structural alignment tools, `SVDSuperimposer`, `Superimposer` and `CEAligner`. Each tool implements a different algorithm that attempts to minimise the root mean square deviation (RMSD) between all atoms for two given protein structures. A quick summary for each is detailed below:\n",
    "\n",
    " - `SVDSuperimposer`: \n",
    " - `Superimposer`:\n",
    " - `CEAligner`:\n",
    "\n",
    "\n",
    " "
   ]
  },
  {
   "cell_type": "code",
   "execution_count": null,
   "metadata": {},
   "outputs": [],
   "source": [
    "import Bio.PDB\n",
    "import numpy\n",
    "\n",
    "pdb_code = \"1JOY\"\n",
    "pdb_filename = \"%s.pdb\" % pdb_code\n",
    "pdb_out_filename = \"%s_aligned.pdb\" % pdb_code\n",
    "\n",
    "seq_str = 'MAAGVKQLADDRTLLMAGVSHDLRTPLTRIRLATEMMSEQDGYLAESINKDIEECNAIIEQFIDYLR'\n",
    "use_str = '-----------RTLLMAGVSHDLRTPLTRIRLATEMMSEQDGYLAESINKDI---------------'\n",
    "use = [letter<>\"-\" for letter in use_str]\n",
    "assert len(use) == len(seq_str)"
   ]
  },
  {
   "cell_type": "code",
   "execution_count": null,
   "metadata": {},
   "outputs": [],
   "source": [
    "    ref_atoms = []\n",
    "    alt_atoms = []\n",
    "    for (ref_chain, alt_chain) in zip(ref_model, alt_model) :\n",
    "        for ref_res, alt_res, amino, allow in zip(ref_chain, alt_chain, seq_str, use) :\n",
    "            assert ref_res.resname == alt_res.resname\n",
    "            assert ref_res.id      == alt_res.id\n",
    "            assert amino == Bio.PDB.Polypeptide.three_to_one(ref_res.resname)\n",
    "            if allow :\n",
    "                #CA = alpha carbon\n",
    "                ref_atoms.append(ref_res['CA'])    \n",
    "                alt_atoms.append(alt_res['CA'])"
   ]
  },
  {
   "cell_type": "code",
   "execution_count": null,
   "metadata": {},
   "outputs": [],
   "source": [
    "print(\"Loading PDB file %s\" % pdb_filename)\n",
    "structure = Bio.PDB.PDBParser().get_structure(pdb_code, pdb_filename)\n",
    "\n",
    "print(\"Everything aligned to first model...\")\n",
    "ref_model = structure[0]\n",
    "for alt_model in structure :\n",
    "    #Build paired lists of c-alpha atoms, ref_atoms and alt_atoms\n",
    "    #[code shown later]\n",
    "\n",
    "    #Align these paired atom lists:\n",
    "    super_imposer = Bio.PDB.Superimposer()\n",
    "    super_imposer.set_atoms(ref_atoms, alt_atoms)\n",
    "\n",
    "    if ref_model.id == alt_model.id :\n",
    "        #Check for self/self get zero RMS, zero translation\n",
    "        #and identity matrix for the rotation.\n",
    "        assert numpy.abs(super_imposer.rms) < 0.0000001\n",
    "        assert numpy.max(numpy.abs(super_imposer.rotran[1])) < 0.000001\n",
    "        assert numpy.max(numpy.abs(super_imposer.rotran[0]) - numpy.identity(3)) < 0.000001\n",
    "    else :\n",
    "        #Update the structure by moving all the atoms in\n",
    "        #this model (not just the ones used for the alignment)\n",
    "        super_imposer.apply(alt_model.get_atoms())\n",
    "\n",
    "    print(\"RMS(first model, model %i) = %0.2f\" % (alt_model.id, super_imposer.rms) )"
   ]
  },
  {
   "cell_type": "markdown",
   "metadata": {},
   "source": [
    "#### **Gemmi**\n",
    "\n"
   ]
  },
  {
   "cell_type": "code",
   "execution_count": null,
   "metadata": {},
   "outputs": [],
   "source": []
  },
  {
   "cell_type": "markdown",
   "metadata": {},
   "source": [
    "### 3.2) Command line tools via Python\n",
    "\n",
    "Some tools are often only available as command line applications, meaning they lack a dedicated Python (or any other programming language) API. This prevents us from using the code for these tools directly in our code. However, we can still use these applications through the command line using the `subprocess` module. You will sometimes see the `os` module used for functionally similar purposes. Which you decide to use is often a matter of preference. We will be considering the `subprocess` module as it is rich in features relative to `os`. \n",
    "\n",
    "`subprocess` allows us to send commands to the terminal through Python. Take a look at the general example below:\n",
    "\n"
   ]
  },
  {
   "cell_type": "code",
   "execution_count": 2,
   "metadata": {},
   "outputs": [
    {
     "name": "stdout",
     "output_type": "stream",
     "text": [
      "total 17280\n",
      "-rw-r--r--  1 jellaway  staff   405166 May  5 15:12 sup.out\n",
      "-rw-r--r--  1 jellaway  staff   405166 May  5 15:19 superpose_example_output.pdb\n",
      "-rw-r--r--  1 jellaway  staff   765940 May  5 16:01 gesamt_example_output.pdb\n",
      "-rw-r--r--  1 jellaway  staff  3628476 May 14 14:55 1joy.pdb\n",
      "drwxr-xr-x  8 jellaway  staff      256 May 14 14:55 figures\n",
      "-rw-r--r--  1 jellaway  staff     5739 May 14 17:09 superposition_1_web.ipynb\n",
      "-rw-r--r--  1 jellaway  staff  3603199 Jun  7 09:09 1joy_aligned.pdb\n",
      "drwxr-xr-x  8 jellaway  staff      256 Jun  7 09:09 examples_mmcif\n",
      "drwxr-xr-x  9 jellaway  staff      288 Jun  7 09:09 examples_pdb\n",
      "-rw-r--r--  1 jellaway  staff    11616 Jun  7 09:55 superposition_2_local.ipynb\n",
      "-rw-r--r--  1 jellaway  staff    14846 Jun  7 10:29 superposition_3_python.ipynb\n"
     ]
    }
   ],
   "source": [
    "import subprocess\n",
    "\n",
    "# Define the command to run in the terminal\n",
    "path = '.'\n",
    "command = [f\"ls -ltr {path}\"]       # ls -ltr .\n",
    "\n",
    "# Ensure results are formatted as strings\n",
    "args = {\n",
    "    \"shell\" : True, \n",
    "    \"encoding\" : \"utf-8\"\n",
    "    }\n",
    "\n",
    "# Send the command to the terminal for execution\n",
    "results = subprocess.check_output(command, **args).splitlines()\n",
    "\n",
    "# Display the results, line-by-line, from the command\n",
    "for line in results:\n",
    "    print(line)"
   ]
  },
  {
   "cell_type": "markdown",
   "metadata": {},
   "source": [
    "Providing you are in the same directory in which this notebook is running, executing the command `ls -ltr .` will give you exactly the same result. \n",
    "\n",
    "To simply run a command in the terminal without saving the results, use:"
   ]
  },
  {
   "cell_type": "code",
   "execution_count": 8,
   "metadata": {},
   "outputs": [
    {
     "name": "stdout",
     "output_type": "stream",
     "text": [
      "total 17296\n",
      "-rw-r--r--  1 jellaway  staff   405166 May  5 15:12 sup.out\n",
      "-rw-r--r--  1 jellaway  staff   405166 May  5 15:19 superpose_example_output.pdb\n",
      "-rw-r--r--  1 jellaway  staff   765940 May  5 16:01 gesamt_example_output.pdb\n",
      "-rw-r--r--  1 jellaway  staff  3628476 May 14 14:55 1joy.pdb\n",
      "drwxr-xr-x  8 jellaway  staff      256 May 14 14:55 figures\n",
      "-rw-r--r--  1 jellaway  staff     5739 May 14 17:09 superposition_1_web.ipynb\n",
      "-rw-r--r--  1 jellaway  staff  3603199 Jun  7 09:09 1joy_aligned.pdb\n",
      "drwxr-xr-x  8 jellaway  staff      256 Jun  7 09:09 examples_mmcif\n",
      "drwxr-xr-x  9 jellaway  staff      288 Jun  7 09:09 examples_pdb\n",
      "-rw-r--r--  1 jellaway  staff    11616 Jun  7 09:55 superposition_2_local.ipynb\n",
      "-rw-r--r--  1 jellaway  staff    24476 Jun  7 10:04 superposition_3_python.ipynb\n"
     ]
    }
   ],
   "source": [
    "import os\n",
    "\n",
    "# Define the command to run in the terminal\n",
    "path = '.'\n",
    "command = f\"ls -ltr {path}\"       # ls -ltr .\n",
    "\n",
    "# Execute the command in the terminal. Results not saved\n",
    "results = os.system(command)"
   ]
  },
  {
   "cell_type": "markdown",
   "metadata": {},
   "source": [
    "_NB_: `ls` lists all of the files and subdirectories in a specified folder, `-ltr` are flags that modify the command's behaviour, and `.` tells the command to work on _this_ directory. `-ltr` is equivalent to `-l -t -r`, which are flags to tell `ls` to provide extended file/directory information, order the results by date modified, and reverse this order to place most recent files at the bottom, respecitvely. "
   ]
  },
  {
   "cell_type": "markdown",
   "metadata": {},
   "source": [
    "We can, therefore, implement `subprocess` commands in Python scripts to run superposition applications. Of course, this package is not exclusive to superposition and can be used to run any command line application automatically.\n",
    "\n",
    "The code below will serially superpose the structures in the `examples_mmcif` directory, using SSM and GESAMT.  "
   ]
  },
  {
   "cell_type": "code",
   "execution_count": 4,
   "metadata": {},
   "outputs": [
    {
     "name": "stdout",
     "output_type": "stream",
     "text": [
      "superpose ./examples_mmcif/6mka.cif ./examples_mmcif/6mkf.cif -o ssm_6mkf_to_6mka.pdb\n",
      "superpose ./examples_mmcif/6mka.cif ./examples_mmcif/6mkg.cif -o ssm_6mkg_to_6mka.pdb\n",
      "superpose ./examples_mmcif/6mka.cif ./examples_mmcif/6mkj.cif -o ssm_6mkj_to_6mka.pdb\n"
     ]
    },
    {
     "name": "stderr",
     "output_type": "stream",
     "text": [
      "sh: superpose: command not found\n",
      "sh: superpose: command not found\n",
      "sh: superpose: command not found\n"
     ]
    }
   ],
   "source": [
    "import subprocess\n",
    "\n",
    "# Define the commands for running superposition applications\n",
    "ssm = \"superpose\"\n",
    "gesamt = \"gesamt\"\n",
    "\n",
    "# Strings that will not change in script\n",
    "path_structures = \"./examples_mmcif/\"\n",
    "static_struct = \"6mka.cif\"\n",
    "path_static = f\"{path_structures}{static_struct}\"\n",
    "\n",
    "# Loop over the structures for superposition\n",
    "for mobile_struct in [\"6mkf.cif\", \"6mkg.cif\", \"6mkj.cif\"]:\n",
    "\n",
    "    # Path to mobile structure in superposition\n",
    "    path_mobile = f\"{path_structures}{mobile_struct}\"\n",
    "\n",
    "    # Out file names\n",
    "    save_file_ssm = f\"ssm_{mobile_struct[:4]}_to_{static_struct[:4]}.pdb\"\n",
    "    save_file_gesamt = f\"gesamt_{mobile_struct[:4]}_to_{static_struct[:4]}.pdb\"\n",
    "\n",
    "    # SSM command ready\n",
    "    command_ssm = [ssm, path_static, path_mobile, \"-o\", save_file_ssm]\n",
    "    command_ssm = f\"{ssm} {path_static} {path_mobile} -o {save_file_ssm}\"\n",
    "    # GESAMT command ready\n",
    "    command_gesamt = f\"{gesamt} {path_static} {path_mobile} -o {save_file_gesamt}\"\n",
    "    print(command_ssm)\n",
    "\n",
    "    # Execute SSM command\n",
    "    os.system(command_ssm)\n",
    "    # Execute GESAMT command\n",
    "    os.system(command_gesamt)"
   ]
  },
  {
   "cell_type": "markdown",
   "metadata": {},
   "source": [
    "If you receive a `command not found` error message, instead run the `ssm_gesamt_via_python.py` script, which contains exactly the same code. "
   ]
  },
  {
   "cell_type": "markdown",
   "metadata": {},
   "source": [
    "### **Practice exercise 3:** Serial superposition\n",
    "\n",
    "Using your results collected from the initial search of 5igh against one or of your chosen databases from exercise 1), write a Python script to superpose the models using either GESAMT or SSM. It might be useful to delegate some of the work across the group, allowing you to compare the SSM and GESAMT results to see if they agree. \n",
    "\n",
    "Once superposed, you can load your results into PyMol or Mol* and begin to identify common ligand-binding features between structures. "
   ]
  }
 ],
 "metadata": {
  "interpreter": {
   "hash": "31f2aee4e71d21fbe5cf8b01ff0e069b9275f58929596ceb00d14d90e3e16cd6"
  },
  "kernelspec": {
   "display_name": "Python 3.8.9 64-bit",
   "language": "python",
   "name": "python3"
  },
  "language_info": {
   "codemirror_mode": {
    "name": "ipython",
    "version": 3
   },
   "file_extension": ".py",
   "mimetype": "text/x-python",
   "name": "python",
   "nbconvert_exporter": "python",
   "pygments_lexer": "ipython3",
   "version": "3.8.9"
  },
  "orig_nbformat": 4
 },
 "nbformat": 4,
 "nbformat_minor": 2
}
