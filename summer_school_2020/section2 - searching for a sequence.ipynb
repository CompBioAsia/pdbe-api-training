{
 "cells": [
  {
   "cell_type": "markdown",
   "metadata": {
    "collapsed": true,
    "pycharm": {
     "name": "#%% md\n"
    }
   },
   "source": [
    "# PDBe API Training\n",
    "\n",
    "### PDBe search\n",
    "\n",
    "Searching with a sequence"
   ]
  },
  {
   "cell_type": "code",
   "execution_count": 1,
   "outputs": [],
   "source": [
    "from pprint import pprint # used for pretty printing\n",
    "import sys\n",
    "sys.path.insert(0,'..') # to ensure the below import works in all Jupyter notebooks\n",
    "from python_modules.api_modules import run_sequence_search, pandas_dataset, pandas_count, pandas_plot, pandas_plot_multi_groupby"
   ],
   "metadata": {
    "collapsed": false,
    "pycharm": {
     "name": "#%%\n"
    }
   }
  },
  {
   "cell_type": "markdown",
   "source": [
    "We will search for a sequence with an example sequence from UniProt P24941 -\n",
    "Cyclin-dependent kinase 2"
   ],
   "metadata": {
    "collapsed": false,
    "pycharm": {
     "name": "#%% md\n"
    }
   }
  },
  {
   "cell_type": "code",
   "execution_count": 2,
   "outputs": [
    {
     "name": "stdout",
     "output_type": "stream",
     "text": [
      "Number of results 10\n"
     ]
    }
   ],
   "source": [
    "sequence_to_search = \"\"\"\n",
    "MENFQKVEKIGEGTYGVVYKARNKLTGEVVALKKIRLDTETEGVPSTAIREISLLKELNH\n",
    "PNIVKLLDVIHTENKLYLVFEFLHQDLKKFMDASALTGIPLPLIKSYLFQLLQGLAFCHS\n",
    "HRVLHRDLKPQNLLINTEGAIKLADFGLARAFGVPVRTYTHEVVTLWYRAPEILLGCKYY\n",
    "STAVDIWSLGCIFAEMVTRRALFPGDSEIDQLFRIFRTLGTPDEVVWPGVTSMPDYKPSF\n",
    "PKWARQDFSKVVPPLDEDGRSLLSQMLHYDPNKRISAKAALAHPFFQDVTKPVPHLRL\"\"\"\n",
    "\n",
    "filter_list = ['pfam_accession', 'pdb_id', 'molecule_name', 'ec_number',\n",
    "               'uniprot_accession_best', 'tax_id']\n",
    "\n",
    "first_results = run_sequence_search(sequence_to_search, filter_terms=filter_list)"
   ],
   "metadata": {
    "collapsed": false,
    "pycharm": {
     "name": "#%%\n"
    }
   }
  },
  {
   "cell_type": "markdown",
   "source": [
    "Print the first result to see what we have"
   ],
   "metadata": {
    "collapsed": false,
    "pycharm": {
     "name": "#%% md\n"
    }
   }
  },
  {
   "cell_type": "code",
   "execution_count": 3,
   "outputs": [
    {
     "name": "stdout",
     "output_type": "stream",
     "text": [
      "{'e_value': 3.6e-76,\n",
      " 'ec_number': ['2.7.11.22'],\n",
      " 'entity_id': 1,\n",
      " 'entry_entity': '3ezr_1',\n",
      " 'molecule_name': ['Cyclin-dependent kinase 2'],\n",
      " 'pdb_id': '3ezr',\n",
      " 'percentage_identity': 100.0,\n",
      " 'pfam_accession': ['PF00069'],\n",
      " 'tax_id': [9606],\n",
      " 'uniprot_accession_best': ['P24941']}\n"
     ]
    }
   ],
   "source": [
    "pprint(first_results[0])"
   ],
   "metadata": {
    "collapsed": false,
    "pycharm": {
     "name": "#%%\n"
    }
   }
  },
  {
   "cell_type": "markdown",
   "source": [
    "Before we do any further analysis we should get a few more results so we can see some patterns.\n",
    "We are going to increase the number of results to 1000"
   ],
   "metadata": {
    "collapsed": false,
    "pycharm": {
     "name": "#%% md\n"
    }
   }
  },
  {
   "cell_type": "code",
   "execution_count": 5,
   "outputs": [
    {
     "name": "stdout",
     "output_type": "stream",
     "text": [
      "https://www.ebi.ac.uk/pdbe/search/pdb/select?json.nl=map&start=0&sort=fasta(e_value) asc&xjoin_fasta=true&bf=fasta(percentIdentity)&xjoin_fasta.external.expupperlim=0.1&xjoin_fasta.external.sequence=\n",
      "MENFQKVEKIGEGTYGVVYKARNKLTGEVVALKKIRLDTETEGVPSTAIREISLLKELNH\n",
      "PNIVKLLDVIHTENKLYLVFEFLHQDLKKFMDASALTGIPLPLIKSYLFQLLQGLAFCHS\n",
      "HRVLHRDLKPQNLLINTEGAIKLADFGLARAFGVPVRTYTHEVVTLWYRAPEILLGCKYY\n",
      "STAVDIWSLGCIFAEMVTRRALFPGDSEIDQLFRIFRTLGTPDEVVWPGVTSMPDYKPSF\n",
      "PKWARQDFSKVVPPLDEDGRSLLSQMLHYDPNKRISAKAALAHPFFQDVTKPVPHLRL&q=*:*&fq={!xjoin}xjoin_fasta&fl=molecule_name,tax_id,entity_id,pdb_id,uniprot_accession_best,entry_entity,pfam_accession,ec_number&wt=json&rows=1000\n",
      "Number of results 1000\n"
     ]
    }
   ],
   "source": [
    "first_results = run_sequence_search(sequence_to_search,\n",
    "                                    filter_terms=filter_list,\n",
    "                                    number_of_rows=1000\n",
    "                                    )\n"
   ],
   "metadata": {
    "collapsed": false,
    "pycharm": {
     "name": "#%%\n"
    }
   }
  },
  {
   "cell_type": "markdown",
   "source": [
    "Load the results into a Pandas Dataframe so we can query them"
   ],
   "metadata": {
    "collapsed": false,
    "pycharm": {
     "name": "#%% md\n"
    }
   }
  },
  {
   "cell_type": "code",
   "execution_count": 6,
   "outputs": [],
   "source": [
    "df = pandas_dataset(first_results)"
   ],
   "metadata": {
    "collapsed": false,
    "pycharm": {
     "name": "#%%\n"
    }
   }
  },
  {
   "cell_type": "markdown",
   "source": [
    "Lets see what we have - you'll see it looks a bit like a spreadsheet or a database"
   ],
   "metadata": {
    "collapsed": false,
    "pycharm": {
     "name": "#%% md\n"
    }
   }
  },
  {
   "cell_type": "code",
   "execution_count": 7,
   "outputs": [
    {
     "name": "stdout",
     "output_type": "stream",
     "text": [
      "   ec_number  entity_id entry_entity              molecule_name pdb_id  \\\n",
      "0  2.7.11.22          1       3ezr_1  Cyclin-dependent kinase 2   3ezr   \n",
      "1  2.7.11.22          1       2r3p_1  Cyclin-dependent kinase 2   2r3p   \n",
      "2  2.7.11.22          1       2vtr_1  Cyclin-dependent kinase 2   2vtr   \n",
      "3        NaN          2       3bht_2                  Cyclin-A2   3bht   \n",
      "4  2.7.11.22          1       3bht_1  Cyclin-dependent kinase 2   3bht   \n",
      "\n",
      "    pfam_accession tax_id uniprot_accession_best       e_value  \\\n",
      "0          PF00069   9606                 P24941  2.900000e-76   \n",
      "1          PF00069   9606                 P24941  2.900000e-76   \n",
      "2          PF00069   9606                 P24941  2.900000e-76   \n",
      "3  PF00134,PF02984   9913                 P30274  2.900000e-76   \n",
      "4          PF00069   9606                 P24941  2.900000e-76   \n",
      "\n",
      "   percentage_identity  \n",
      "0                100.0  \n",
      "1                100.0  \n",
      "2                100.0  \n",
      "3                100.0  \n",
      "4                100.0  \n"
     ]
    }
   ],
   "source": [
    "print(df.head())"
   ],
   "metadata": {
    "collapsed": false,
    "pycharm": {
     "name": "#%%\n"
    }
   }
  },
  {
   "cell_type": "markdown",
   "source": [
    "We can save the results to a CSV file which we can load into excel"
   ],
   "metadata": {
    "collapsed": false,
    "pycharm": {
     "name": "#%% md\n"
    }
   }
  },
  {
   "cell_type": "code",
   "execution_count": 8,
   "outputs": [],
   "source": [
    "df.to_csv(\"search_results.csv\")"
   ],
   "metadata": {
    "collapsed": false,
    "pycharm": {
     "name": "#%%\n"
    }
   }
  },
  {
   "cell_type": "markdown",
   "source": [
    "There isn't a cut off of eValue or percentage identity in our search\n",
    "so we should look what the values go to\n",
    "\n",
    "we can select the column and find the minimum value with .min() or maximum value with .max()"
   ],
   "metadata": {
    "collapsed": false,
    "pycharm": {
     "name": "#%% md\n"
    }
   }
  },
  {
   "cell_type": "code",
   "execution_count": 9,
   "outputs": [
    {
     "data": {
      "text/plain": "100.0"
     },
     "execution_count": 9,
     "metadata": {},
     "output_type": "execute_result"
    }
   ],
   "source": [
    "df['percentage_identity'].max()"
   ],
   "metadata": {
    "collapsed": false,
    "pycharm": {
     "name": "#%%\n"
    }
   }
  },
  {
   "cell_type": "code",
   "execution_count": 10,
   "outputs": [
    {
     "data": {
      "text/plain": "36.1"
     },
     "execution_count": 10,
     "metadata": {},
     "output_type": "execute_result"
    }
   ],
   "source": [
    "df['percentage_identity'].min()"
   ],
   "metadata": {
    "collapsed": false,
    "pycharm": {
     "name": "#%%\n"
    }
   }
  },
  {
   "cell_type": "markdown",
   "source": [
    "same for e value - here we want the min and max\n"
   ],
   "metadata": {
    "collapsed": false,
    "pycharm": {
     "name": "#%% md\n"
    }
   }
  },
  {
   "cell_type": "code",
   "execution_count": 11,
   "outputs": [
    {
     "data": {
      "text/plain": "2.9e-76"
     },
     "execution_count": 11,
     "metadata": {},
     "output_type": "execute_result"
    }
   ],
   "source": [
    "df['e_value'].min()"
   ],
   "metadata": {
    "collapsed": false,
    "pycharm": {
     "name": "#%%\n"
    }
   }
  },
  {
   "cell_type": "code",
   "execution_count": 12,
   "outputs": [
    {
     "data": {
      "text/plain": "5.5e-20"
     },
     "execution_count": 12,
     "metadata": {},
     "output_type": "execute_result"
    }
   ],
   "source": [
    "df['e_value'].max()"
   ],
   "metadata": {
    "collapsed": false,
    "pycharm": {
     "name": "#%%\n"
    }
   }
  },
  {
   "cell_type": "markdown",
   "source": [
    "We can see that percentage identity drops to as low as 36%\n",
    "Lets say we want to restrict it to 50%"
   ],
   "metadata": {
    "collapsed": false,
    "pycharm": {
     "name": "#%% md\n"
    }
   }
  },
  {
   "cell_type": "code",
   "execution_count": 13,
   "outputs": [],
   "source": [
    "df2 = df.query('percentage_identity > 50')"
   ],
   "metadata": {
    "collapsed": false,
    "pycharm": {
     "name": "#%%\n"
    }
   }
  },
  {
   "cell_type": "markdown",
   "source": [
    "We stored the results in a new Dataframe called \"df2\""
   ],
   "metadata": {
    "collapsed": false,
    "pycharm": {
     "name": "#%% md\n"
    }
   }
  },
  {
   "cell_type": "code",
   "execution_count": 14,
   "outputs": [
    {
     "data": {
      "text/plain": "   ec_number  entity_id entry_entity              molecule_name pdb_id  \\\n0  2.7.11.22          1       3ezr_1  Cyclin-dependent kinase 2   3ezr   \n1  2.7.11.22          1       2r3p_1  Cyclin-dependent kinase 2   2r3p   \n2  2.7.11.22          1       2vtr_1  Cyclin-dependent kinase 2   2vtr   \n3        NaN          2       3bht_2                  Cyclin-A2   3bht   \n4  2.7.11.22          1       3bht_1  Cyclin-dependent kinase 2   3bht   \n\n    pfam_accession tax_id uniprot_accession_best       e_value  \\\n0          PF00069   9606                 P24941  2.900000e-76   \n1          PF00069   9606                 P24941  2.900000e-76   \n2          PF00069   9606                 P24941  2.900000e-76   \n3  PF00134,PF02984   9913                 P30274  2.900000e-76   \n4          PF00069   9606                 P24941  2.900000e-76   \n\n   percentage_identity  \n0                100.0  \n1                100.0  \n2                100.0  \n3                100.0  \n4                100.0  ",
      "text/html": "<div>\n<style scoped>\n    .dataframe tbody tr th:only-of-type {\n        vertical-align: middle;\n    }\n\n    .dataframe tbody tr th {\n        vertical-align: top;\n    }\n\n    .dataframe thead th {\n        text-align: right;\n    }\n</style>\n<table border=\"1\" class=\"dataframe\">\n  <thead>\n    <tr style=\"text-align: right;\">\n      <th></th>\n      <th>ec_number</th>\n      <th>entity_id</th>\n      <th>entry_entity</th>\n      <th>molecule_name</th>\n      <th>pdb_id</th>\n      <th>pfam_accession</th>\n      <th>tax_id</th>\n      <th>uniprot_accession_best</th>\n      <th>e_value</th>\n      <th>percentage_identity</th>\n    </tr>\n  </thead>\n  <tbody>\n    <tr>\n      <th>0</th>\n      <td>2.7.11.22</td>\n      <td>1</td>\n      <td>3ezr_1</td>\n      <td>Cyclin-dependent kinase 2</td>\n      <td>3ezr</td>\n      <td>PF00069</td>\n      <td>9606</td>\n      <td>P24941</td>\n      <td>2.900000e-76</td>\n      <td>100.0</td>\n    </tr>\n    <tr>\n      <th>1</th>\n      <td>2.7.11.22</td>\n      <td>1</td>\n      <td>2r3p_1</td>\n      <td>Cyclin-dependent kinase 2</td>\n      <td>2r3p</td>\n      <td>PF00069</td>\n      <td>9606</td>\n      <td>P24941</td>\n      <td>2.900000e-76</td>\n      <td>100.0</td>\n    </tr>\n    <tr>\n      <th>2</th>\n      <td>2.7.11.22</td>\n      <td>1</td>\n      <td>2vtr_1</td>\n      <td>Cyclin-dependent kinase 2</td>\n      <td>2vtr</td>\n      <td>PF00069</td>\n      <td>9606</td>\n      <td>P24941</td>\n      <td>2.900000e-76</td>\n      <td>100.0</td>\n    </tr>\n    <tr>\n      <th>3</th>\n      <td>NaN</td>\n      <td>2</td>\n      <td>3bht_2</td>\n      <td>Cyclin-A2</td>\n      <td>3bht</td>\n      <td>PF00134,PF02984</td>\n      <td>9913</td>\n      <td>P30274</td>\n      <td>2.900000e-76</td>\n      <td>100.0</td>\n    </tr>\n    <tr>\n      <th>4</th>\n      <td>2.7.11.22</td>\n      <td>1</td>\n      <td>3bht_1</td>\n      <td>Cyclin-dependent kinase 2</td>\n      <td>3bht</td>\n      <td>PF00069</td>\n      <td>9606</td>\n      <td>P24941</td>\n      <td>2.900000e-76</td>\n      <td>100.0</td>\n    </tr>\n  </tbody>\n</table>\n</div>"
     },
     "execution_count": 14,
     "metadata": {},
     "output_type": "execute_result"
    }
   ],
   "source": [
    "df2.head()"
   ],
   "metadata": {
    "collapsed": false,
    "pycharm": {
     "name": "#%%\n"
    }
   }
  },
  {
   "cell_type": "markdown",
   "source": [
    "Number of entries in the Dataframe"
   ],
   "metadata": {
    "collapsed": false,
    "pycharm": {
     "name": "#%% md\n"
    }
   }
  },
  {
   "cell_type": "code",
   "execution_count": 15,
   "outputs": [
    {
     "data": {
      "text/plain": "621"
     },
     "execution_count": 15,
     "metadata": {},
     "output_type": "execute_result"
    }
   ],
   "source": [
    "len(df2)"
   ],
   "metadata": {
    "collapsed": false,
    "pycharm": {
     "name": "#%%\n"
    }
   }
  },
  {
   "cell_type": "markdown",
   "source": [
    "Max value of percentage identity"
   ],
   "metadata": {
    "collapsed": false,
    "pycharm": {
     "name": "#%% md\n"
    }
   }
  },
  {
   "cell_type": "code",
   "execution_count": 16,
   "outputs": [
    {
     "data": {
      "text/plain": "100.0"
     },
     "execution_count": 16,
     "metadata": {},
     "output_type": "execute_result"
    }
   ],
   "source": [
    "df2['percentage_identity'].max()"
   ],
   "metadata": {
    "collapsed": false,
    "pycharm": {
     "name": "#%%\n"
    }
   }
  },
  {
   "cell_type": "markdown",
   "source": [
    "Min value of percentage identity"
   ],
   "metadata": {
    "collapsed": false,
    "pycharm": {
     "name": "#%% md\n"
    }
   }
  },
  {
   "cell_type": "code",
   "execution_count": 17,
   "outputs": [
    {
     "data": {
      "text/plain": "54.2"
     },
     "execution_count": 17,
     "metadata": {},
     "output_type": "execute_result"
    }
   ],
   "source": [
    "df2['percentage_identity'].min()"
   ],
   "metadata": {
    "collapsed": false,
    "pycharm": {
     "name": "#%%\n"
    }
   }
  },
  {
   "cell_type": "markdown",
   "source": [
    "How many unique Pfam domains or UniProts did we get back?\n",
    "\n",
    "We can group the results by Pfram using \"groupby\" and then counting the results"
   ],
   "metadata": {
    "collapsed": false,
    "pycharm": {
     "name": "#%% md\n"
    }
   }
  },
  {
   "cell_type": "code",
   "execution_count": 18,
   "outputs": [
    {
     "data": {
      "text/plain": "                                                    ec_number  entity_id  \\\npfam_accession                                                             \nPF00069                                                   730        733   \nPF00134                                                     0          9   \nPF00134,PF02984                                             0        126   \nPF00134,PF09080                                             0          1   \nPF00134,PF09241                                             0          5   \nPF00134,PF16899                                             0          1   \nPF00183,PF02518                                             0          4   \nPF00352                                                     0          1   \nPF00382,PF08271                                             1          1   \nPF00481                                                     0          1   \nPF00562,PF04560,PF04561,PF04563,PF04565,PF04566...          0          1   \nPF00564                                                     1          1   \nPF00575,PF03876                                             0          1   \nPF00623,PF04983,PF04990,PF04992,PF04997,PF04998...          1          1   \nPF01000,PF01193                                             0          1   \nPF01096,PF02150                                             0          1   \nPF01096,PF07500,PF08711                                     0          1   \nPF01111                                                     0         11   \nPF01191,PF03871                                             0          1   \nPF01192                                                     0          1   \nPF01194                                                     0          1   \nPF01335                                                     0          3   \nPF02002,PF08271,PF11521                                     0          1   \nPF02186,PF18121                                             0          1   \nPF02234                                                     0          7   \nPF02268,PF02751                                             0          1   \nPF02270,PF17683                                             0          1   \nPF03153                                                     0          1   \nPF03234,PF08564,PF08565                                     0          4   \nPF03261                                                     0          3   \nPF03604                                                     0          1   \nPF03849,PF18307                                             0          1   \nPF03850                                                     0          1   \nPF03870                                                     0          1   \nPF03874                                                     0          1   \nPF03909,PF08567                                             0          1   \nPF04056,PF07975                                             0          1   \nPF04851,PF13625,PF16203                                     0          1   \nPF05706                                                     1          1   \nPF05793                                                     0          1   \nPF06331                                                     0          1   \nPF06391,PF17121                                             0          1   \nPF06733,PF06777,PF13307                                     0          1   \nPF08613                                                     0          4   \nPF11357                                                     0          3   \nPF12796                                                     0          2   \nPF13656                                                     0          1   \nPF13857                                                     0          1   \n\n                                                    entry_entity  \\\npfam_accession                                                     \nPF00069                                                      733   \nPF00134                                                        9   \nPF00134,PF02984                                              126   \nPF00134,PF09080                                                1   \nPF00134,PF09241                                                5   \nPF00134,PF16899                                                1   \nPF00183,PF02518                                                4   \nPF00352                                                        1   \nPF00382,PF08271                                                1   \nPF00481                                                        1   \nPF00562,PF04560,PF04561,PF04563,PF04565,PF04566...             1   \nPF00564                                                        1   \nPF00575,PF03876                                                1   \nPF00623,PF04983,PF04990,PF04992,PF04997,PF04998...             1   \nPF01000,PF01193                                                1   \nPF01096,PF02150                                                1   \nPF01096,PF07500,PF08711                                        1   \nPF01111                                                       11   \nPF01191,PF03871                                                1   \nPF01192                                                        1   \nPF01194                                                        1   \nPF01335                                                        3   \nPF02002,PF08271,PF11521                                        1   \nPF02186,PF18121                                                1   \nPF02234                                                        7   \nPF02268,PF02751                                                1   \nPF02270,PF17683                                                1   \nPF03153                                                        1   \nPF03234,PF08564,PF08565                                        4   \nPF03261                                                        3   \nPF03604                                                        1   \nPF03849,PF18307                                                1   \nPF03850                                                        1   \nPF03870                                                        1   \nPF03874                                                        1   \nPF03909,PF08567                                                1   \nPF04056,PF07975                                                1   \nPF04851,PF13625,PF16203                                        1   \nPF05706                                                        1   \nPF05793                                                        1   \nPF06331                                                        1   \nPF06391,PF17121                                                1   \nPF06733,PF06777,PF13307                                        1   \nPF08613                                                        4   \nPF11357                                                        3   \nPF12796                                                        2   \nPF13656                                                        1   \nPF13857                                                        1   \n\n                                                    molecule_name  pdb_id  \\\npfam_accession                                                              \nPF00069                                                       733     733   \nPF00134                                                         9       9   \nPF00134,PF02984                                               126     126   \nPF00134,PF09080                                                 1       1   \nPF00134,PF09241                                                 5       5   \nPF00134,PF16899                                                 1       1   \nPF00183,PF02518                                                 4       4   \nPF00352                                                         1       1   \nPF00382,PF08271                                                 1       1   \nPF00481                                                         1       1   \nPF00562,PF04560,PF04561,PF04563,PF04565,PF04566...              1       1   \nPF00564                                                         1       1   \nPF00575,PF03876                                                 1       1   \nPF00623,PF04983,PF04990,PF04992,PF04997,PF04998...              1       1   \nPF01000,PF01193                                                 1       1   \nPF01096,PF02150                                                 1       1   \nPF01096,PF07500,PF08711                                         1       1   \nPF01111                                                        11      11   \nPF01191,PF03871                                                 1       1   \nPF01192                                                         1       1   \nPF01194                                                         1       1   \nPF01335                                                         3       3   \nPF02002,PF08271,PF11521                                         1       1   \nPF02186,PF18121                                                 1       1   \nPF02234                                                         7       7   \nPF02268,PF02751                                                 1       1   \nPF02270,PF17683                                                 1       1   \nPF03153                                                         1       1   \nPF03234,PF08564,PF08565                                         4       4   \nPF03261                                                         3       3   \nPF03604                                                         1       1   \nPF03849,PF18307                                                 1       1   \nPF03850                                                         1       1   \nPF03870                                                         1       1   \nPF03874                                                         1       1   \nPF03909,PF08567                                                 1       1   \nPF04056,PF07975                                                 1       1   \nPF04851,PF13625,PF16203                                         1       1   \nPF05706                                                         1       1   \nPF05793                                                         1       1   \nPF06331                                                         1       1   \nPF06391,PF17121                                                 1       1   \nPF06733,PF06777,PF13307                                         1       1   \nPF08613                                                         4       4   \nPF11357                                                         3       3   \nPF12796                                                         2       2   \nPF13656                                                         1       1   \nPF13857                                                         1       1   \n\n                                                    tax_id  \\\npfam_accession                                               \nPF00069                                                733   \nPF00134                                                  9   \nPF00134,PF02984                                        126   \nPF00134,PF09080                                          1   \nPF00134,PF09241                                          5   \nPF00134,PF16899                                          1   \nPF00183,PF02518                                          4   \nPF00352                                                  1   \nPF00382,PF08271                                          1   \nPF00481                                                  1   \nPF00562,PF04560,PF04561,PF04563,PF04565,PF04566...       1   \nPF00564                                                  1   \nPF00575,PF03876                                          1   \nPF00623,PF04983,PF04990,PF04992,PF04997,PF04998...       1   \nPF01000,PF01193                                          1   \nPF01096,PF02150                                          1   \nPF01096,PF07500,PF08711                                  1   \nPF01111                                                 11   \nPF01191,PF03871                                          1   \nPF01192                                                  1   \nPF01194                                                  1   \nPF01335                                                  3   \nPF02002,PF08271,PF11521                                  1   \nPF02186,PF18121                                          1   \nPF02234                                                  7   \nPF02268,PF02751                                          1   \nPF02270,PF17683                                          1   \nPF03153                                                  1   \nPF03234,PF08564,PF08565                                  4   \nPF03261                                                  3   \nPF03604                                                  1   \nPF03849,PF18307                                          1   \nPF03850                                                  1   \nPF03870                                                  1   \nPF03874                                                  1   \nPF03909,PF08567                                          1   \nPF04056,PF07975                                          1   \nPF04851,PF13625,PF16203                                  1   \nPF05706                                                  1   \nPF05793                                                  1   \nPF06331                                                  1   \nPF06391,PF17121                                          1   \nPF06733,PF06777,PF13307                                  1   \nPF08613                                                  4   \nPF11357                                                  3   \nPF12796                                                  2   \nPF13656                                                  1   \nPF13857                                                  1   \n\n                                                    uniprot_accession_best  \\\npfam_accession                                                               \nPF00069                                                                733   \nPF00134                                                                  9   \nPF00134,PF02984                                                        126   \nPF00134,PF09080                                                          1   \nPF00134,PF09241                                                          5   \nPF00134,PF16899                                                          1   \nPF00183,PF02518                                                          4   \nPF00352                                                                  1   \nPF00382,PF08271                                                          1   \nPF00481                                                                  1   \nPF00562,PF04560,PF04561,PF04563,PF04565,PF04566...                       1   \nPF00564                                                                  1   \nPF00575,PF03876                                                          1   \nPF00623,PF04983,PF04990,PF04992,PF04997,PF04998...                       1   \nPF01000,PF01193                                                          1   \nPF01096,PF02150                                                          1   \nPF01096,PF07500,PF08711                                                  1   \nPF01111                                                                 11   \nPF01191,PF03871                                                          1   \nPF01192                                                                  1   \nPF01194                                                                  1   \nPF01335                                                                  3   \nPF02002,PF08271,PF11521                                                  1   \nPF02186,PF18121                                                          1   \nPF02234                                                                  7   \nPF02268,PF02751                                                          1   \nPF02270,PF17683                                                          1   \nPF03153                                                                  1   \nPF03234,PF08564,PF08565                                                  4   \nPF03261                                                                  3   \nPF03604                                                                  1   \nPF03849,PF18307                                                          1   \nPF03850                                                                  1   \nPF03870                                                                  1   \nPF03874                                                                  1   \nPF03909,PF08567                                                          1   \nPF04056,PF07975                                                          1   \nPF04851,PF13625,PF16203                                                  1   \nPF05706                                                                  1   \nPF05793                                                                  1   \nPF06331                                                                  1   \nPF06391,PF17121                                                          1   \nPF06733,PF06777,PF13307                                                  1   \nPF08613                                                                  4   \nPF11357                                                                  3   \nPF12796                                                                  2   \nPF13656                                                                  1   \nPF13857                                                                  1   \n\n                                                    e_value  \\\npfam_accession                                                \nPF00069                                                 733   \nPF00134                                                   9   \nPF00134,PF02984                                         126   \nPF00134,PF09080                                           1   \nPF00134,PF09241                                           5   \nPF00134,PF16899                                           1   \nPF00183,PF02518                                           4   \nPF00352                                                   1   \nPF00382,PF08271                                           1   \nPF00481                                                   1   \nPF00562,PF04560,PF04561,PF04563,PF04565,PF04566...        1   \nPF00564                                                   1   \nPF00575,PF03876                                           1   \nPF00623,PF04983,PF04990,PF04992,PF04997,PF04998...        1   \nPF01000,PF01193                                           1   \nPF01096,PF02150                                           1   \nPF01096,PF07500,PF08711                                   1   \nPF01111                                                  11   \nPF01191,PF03871                                           1   \nPF01192                                                   1   \nPF01194                                                   1   \nPF01335                                                   3   \nPF02002,PF08271,PF11521                                   1   \nPF02186,PF18121                                           1   \nPF02234                                                   7   \nPF02268,PF02751                                           1   \nPF02270,PF17683                                           1   \nPF03153                                                   1   \nPF03234,PF08564,PF08565                                   4   \nPF03261                                                   3   \nPF03604                                                   1   \nPF03849,PF18307                                           1   \nPF03850                                                   1   \nPF03870                                                   1   \nPF03874                                                   1   \nPF03909,PF08567                                           1   \nPF04056,PF07975                                           1   \nPF04851,PF13625,PF16203                                   1   \nPF05706                                                   1   \nPF05793                                                   1   \nPF06331                                                   1   \nPF06391,PF17121                                           1   \nPF06733,PF06777,PF13307                                   1   \nPF08613                                                   4   \nPF11357                                                   3   \nPF12796                                                   2   \nPF13656                                                   1   \nPF13857                                                   1   \n\n                                                    percentage_identity  \npfam_accession                                                           \nPF00069                                                             733  \nPF00134                                                               9  \nPF00134,PF02984                                                     126  \nPF00134,PF09080                                                       1  \nPF00134,PF09241                                                       5  \nPF00134,PF16899                                                       1  \nPF00183,PF02518                                                       4  \nPF00352                                                               1  \nPF00382,PF08271                                                       1  \nPF00481                                                               1  \nPF00562,PF04560,PF04561,PF04563,PF04565,PF04566...                    1  \nPF00564                                                               1  \nPF00575,PF03876                                                       1  \nPF00623,PF04983,PF04990,PF04992,PF04997,PF04998...                    1  \nPF01000,PF01193                                                       1  \nPF01096,PF02150                                                       1  \nPF01096,PF07500,PF08711                                               1  \nPF01111                                                              11  \nPF01191,PF03871                                                       1  \nPF01192                                                               1  \nPF01194                                                               1  \nPF01335                                                               3  \nPF02002,PF08271,PF11521                                               1  \nPF02186,PF18121                                                       1  \nPF02234                                                               7  \nPF02268,PF02751                                                       1  \nPF02270,PF17683                                                       1  \nPF03153                                                               1  \nPF03234,PF08564,PF08565                                               4  \nPF03261                                                               3  \nPF03604                                                               1  \nPF03849,PF18307                                                       1  \nPF03850                                                               1  \nPF03870                                                               1  \nPF03874                                                               1  \nPF03909,PF08567                                                       1  \nPF04056,PF07975                                                       1  \nPF04851,PF13625,PF16203                                               1  \nPF05706                                                               1  \nPF05793                                                               1  \nPF06331                                                               1  \nPF06391,PF17121                                                       1  \nPF06733,PF06777,PF13307                                               1  \nPF08613                                                               4  \nPF11357                                                               3  \nPF12796                                                               2  \nPF13656                                                               1  \nPF13857                                                               1  ",
      "text/html": "<div>\n<style scoped>\n    .dataframe tbody tr th:only-of-type {\n        vertical-align: middle;\n    }\n\n    .dataframe tbody tr th {\n        vertical-align: top;\n    }\n\n    .dataframe thead th {\n        text-align: right;\n    }\n</style>\n<table border=\"1\" class=\"dataframe\">\n  <thead>\n    <tr style=\"text-align: right;\">\n      <th></th>\n      <th>ec_number</th>\n      <th>entity_id</th>\n      <th>entry_entity</th>\n      <th>molecule_name</th>\n      <th>pdb_id</th>\n      <th>tax_id</th>\n      <th>uniprot_accession_best</th>\n      <th>e_value</th>\n      <th>percentage_identity</th>\n    </tr>\n    <tr>\n      <th>pfam_accession</th>\n      <th></th>\n      <th></th>\n      <th></th>\n      <th></th>\n      <th></th>\n      <th></th>\n      <th></th>\n      <th></th>\n      <th></th>\n    </tr>\n  </thead>\n  <tbody>\n    <tr>\n      <th>PF00069</th>\n      <td>730</td>\n      <td>733</td>\n      <td>733</td>\n      <td>733</td>\n      <td>733</td>\n      <td>733</td>\n      <td>733</td>\n      <td>733</td>\n      <td>733</td>\n    </tr>\n    <tr>\n      <th>PF00134</th>\n      <td>0</td>\n      <td>9</td>\n      <td>9</td>\n      <td>9</td>\n      <td>9</td>\n      <td>9</td>\n      <td>9</td>\n      <td>9</td>\n      <td>9</td>\n    </tr>\n    <tr>\n      <th>PF00134,PF02984</th>\n      <td>0</td>\n      <td>126</td>\n      <td>126</td>\n      <td>126</td>\n      <td>126</td>\n      <td>126</td>\n      <td>126</td>\n      <td>126</td>\n      <td>126</td>\n    </tr>\n    <tr>\n      <th>PF00134,PF09080</th>\n      <td>0</td>\n      <td>1</td>\n      <td>1</td>\n      <td>1</td>\n      <td>1</td>\n      <td>1</td>\n      <td>1</td>\n      <td>1</td>\n      <td>1</td>\n    </tr>\n    <tr>\n      <th>PF00134,PF09241</th>\n      <td>0</td>\n      <td>5</td>\n      <td>5</td>\n      <td>5</td>\n      <td>5</td>\n      <td>5</td>\n      <td>5</td>\n      <td>5</td>\n      <td>5</td>\n    </tr>\n    <tr>\n      <th>PF00134,PF16899</th>\n      <td>0</td>\n      <td>1</td>\n      <td>1</td>\n      <td>1</td>\n      <td>1</td>\n      <td>1</td>\n      <td>1</td>\n      <td>1</td>\n      <td>1</td>\n    </tr>\n    <tr>\n      <th>PF00183,PF02518</th>\n      <td>0</td>\n      <td>4</td>\n      <td>4</td>\n      <td>4</td>\n      <td>4</td>\n      <td>4</td>\n      <td>4</td>\n      <td>4</td>\n      <td>4</td>\n    </tr>\n    <tr>\n      <th>PF00352</th>\n      <td>0</td>\n      <td>1</td>\n      <td>1</td>\n      <td>1</td>\n      <td>1</td>\n      <td>1</td>\n      <td>1</td>\n      <td>1</td>\n      <td>1</td>\n    </tr>\n    <tr>\n      <th>PF00382,PF08271</th>\n      <td>1</td>\n      <td>1</td>\n      <td>1</td>\n      <td>1</td>\n      <td>1</td>\n      <td>1</td>\n      <td>1</td>\n      <td>1</td>\n      <td>1</td>\n    </tr>\n    <tr>\n      <th>PF00481</th>\n      <td>0</td>\n      <td>1</td>\n      <td>1</td>\n      <td>1</td>\n      <td>1</td>\n      <td>1</td>\n      <td>1</td>\n      <td>1</td>\n      <td>1</td>\n    </tr>\n    <tr>\n      <th>PF00562,PF04560,PF04561,PF04563,PF04565,PF04566,PF04567</th>\n      <td>0</td>\n      <td>1</td>\n      <td>1</td>\n      <td>1</td>\n      <td>1</td>\n      <td>1</td>\n      <td>1</td>\n      <td>1</td>\n      <td>1</td>\n    </tr>\n    <tr>\n      <th>PF00564</th>\n      <td>1</td>\n      <td>1</td>\n      <td>1</td>\n      <td>1</td>\n      <td>1</td>\n      <td>1</td>\n      <td>1</td>\n      <td>1</td>\n      <td>1</td>\n    </tr>\n    <tr>\n      <th>PF00575,PF03876</th>\n      <td>0</td>\n      <td>1</td>\n      <td>1</td>\n      <td>1</td>\n      <td>1</td>\n      <td>1</td>\n      <td>1</td>\n      <td>1</td>\n      <td>1</td>\n    </tr>\n    <tr>\n      <th>PF00623,PF04983,PF04990,PF04992,PF04997,PF04998,PF05000,PF05001</th>\n      <td>1</td>\n      <td>1</td>\n      <td>1</td>\n      <td>1</td>\n      <td>1</td>\n      <td>1</td>\n      <td>1</td>\n      <td>1</td>\n      <td>1</td>\n    </tr>\n    <tr>\n      <th>PF01000,PF01193</th>\n      <td>0</td>\n      <td>1</td>\n      <td>1</td>\n      <td>1</td>\n      <td>1</td>\n      <td>1</td>\n      <td>1</td>\n      <td>1</td>\n      <td>1</td>\n    </tr>\n    <tr>\n      <th>PF01096,PF02150</th>\n      <td>0</td>\n      <td>1</td>\n      <td>1</td>\n      <td>1</td>\n      <td>1</td>\n      <td>1</td>\n      <td>1</td>\n      <td>1</td>\n      <td>1</td>\n    </tr>\n    <tr>\n      <th>PF01096,PF07500,PF08711</th>\n      <td>0</td>\n      <td>1</td>\n      <td>1</td>\n      <td>1</td>\n      <td>1</td>\n      <td>1</td>\n      <td>1</td>\n      <td>1</td>\n      <td>1</td>\n    </tr>\n    <tr>\n      <th>PF01111</th>\n      <td>0</td>\n      <td>11</td>\n      <td>11</td>\n      <td>11</td>\n      <td>11</td>\n      <td>11</td>\n      <td>11</td>\n      <td>11</td>\n      <td>11</td>\n    </tr>\n    <tr>\n      <th>PF01191,PF03871</th>\n      <td>0</td>\n      <td>1</td>\n      <td>1</td>\n      <td>1</td>\n      <td>1</td>\n      <td>1</td>\n      <td>1</td>\n      <td>1</td>\n      <td>1</td>\n    </tr>\n    <tr>\n      <th>PF01192</th>\n      <td>0</td>\n      <td>1</td>\n      <td>1</td>\n      <td>1</td>\n      <td>1</td>\n      <td>1</td>\n      <td>1</td>\n      <td>1</td>\n      <td>1</td>\n    </tr>\n    <tr>\n      <th>PF01194</th>\n      <td>0</td>\n      <td>1</td>\n      <td>1</td>\n      <td>1</td>\n      <td>1</td>\n      <td>1</td>\n      <td>1</td>\n      <td>1</td>\n      <td>1</td>\n    </tr>\n    <tr>\n      <th>PF01335</th>\n      <td>0</td>\n      <td>3</td>\n      <td>3</td>\n      <td>3</td>\n      <td>3</td>\n      <td>3</td>\n      <td>3</td>\n      <td>3</td>\n      <td>3</td>\n    </tr>\n    <tr>\n      <th>PF02002,PF08271,PF11521</th>\n      <td>0</td>\n      <td>1</td>\n      <td>1</td>\n      <td>1</td>\n      <td>1</td>\n      <td>1</td>\n      <td>1</td>\n      <td>1</td>\n      <td>1</td>\n    </tr>\n    <tr>\n      <th>PF02186,PF18121</th>\n      <td>0</td>\n      <td>1</td>\n      <td>1</td>\n      <td>1</td>\n      <td>1</td>\n      <td>1</td>\n      <td>1</td>\n      <td>1</td>\n      <td>1</td>\n    </tr>\n    <tr>\n      <th>PF02234</th>\n      <td>0</td>\n      <td>7</td>\n      <td>7</td>\n      <td>7</td>\n      <td>7</td>\n      <td>7</td>\n      <td>7</td>\n      <td>7</td>\n      <td>7</td>\n    </tr>\n    <tr>\n      <th>PF02268,PF02751</th>\n      <td>0</td>\n      <td>1</td>\n      <td>1</td>\n      <td>1</td>\n      <td>1</td>\n      <td>1</td>\n      <td>1</td>\n      <td>1</td>\n      <td>1</td>\n    </tr>\n    <tr>\n      <th>PF02270,PF17683</th>\n      <td>0</td>\n      <td>1</td>\n      <td>1</td>\n      <td>1</td>\n      <td>1</td>\n      <td>1</td>\n      <td>1</td>\n      <td>1</td>\n      <td>1</td>\n    </tr>\n    <tr>\n      <th>PF03153</th>\n      <td>0</td>\n      <td>1</td>\n      <td>1</td>\n      <td>1</td>\n      <td>1</td>\n      <td>1</td>\n      <td>1</td>\n      <td>1</td>\n      <td>1</td>\n    </tr>\n    <tr>\n      <th>PF03234,PF08564,PF08565</th>\n      <td>0</td>\n      <td>4</td>\n      <td>4</td>\n      <td>4</td>\n      <td>4</td>\n      <td>4</td>\n      <td>4</td>\n      <td>4</td>\n      <td>4</td>\n    </tr>\n    <tr>\n      <th>PF03261</th>\n      <td>0</td>\n      <td>3</td>\n      <td>3</td>\n      <td>3</td>\n      <td>3</td>\n      <td>3</td>\n      <td>3</td>\n      <td>3</td>\n      <td>3</td>\n    </tr>\n    <tr>\n      <th>PF03604</th>\n      <td>0</td>\n      <td>1</td>\n      <td>1</td>\n      <td>1</td>\n      <td>1</td>\n      <td>1</td>\n      <td>1</td>\n      <td>1</td>\n      <td>1</td>\n    </tr>\n    <tr>\n      <th>PF03849,PF18307</th>\n      <td>0</td>\n      <td>1</td>\n      <td>1</td>\n      <td>1</td>\n      <td>1</td>\n      <td>1</td>\n      <td>1</td>\n      <td>1</td>\n      <td>1</td>\n    </tr>\n    <tr>\n      <th>PF03850</th>\n      <td>0</td>\n      <td>1</td>\n      <td>1</td>\n      <td>1</td>\n      <td>1</td>\n      <td>1</td>\n      <td>1</td>\n      <td>1</td>\n      <td>1</td>\n    </tr>\n    <tr>\n      <th>PF03870</th>\n      <td>0</td>\n      <td>1</td>\n      <td>1</td>\n      <td>1</td>\n      <td>1</td>\n      <td>1</td>\n      <td>1</td>\n      <td>1</td>\n      <td>1</td>\n    </tr>\n    <tr>\n      <th>PF03874</th>\n      <td>0</td>\n      <td>1</td>\n      <td>1</td>\n      <td>1</td>\n      <td>1</td>\n      <td>1</td>\n      <td>1</td>\n      <td>1</td>\n      <td>1</td>\n    </tr>\n    <tr>\n      <th>PF03909,PF08567</th>\n      <td>0</td>\n      <td>1</td>\n      <td>1</td>\n      <td>1</td>\n      <td>1</td>\n      <td>1</td>\n      <td>1</td>\n      <td>1</td>\n      <td>1</td>\n    </tr>\n    <tr>\n      <th>PF04056,PF07975</th>\n      <td>0</td>\n      <td>1</td>\n      <td>1</td>\n      <td>1</td>\n      <td>1</td>\n      <td>1</td>\n      <td>1</td>\n      <td>1</td>\n      <td>1</td>\n    </tr>\n    <tr>\n      <th>PF04851,PF13625,PF16203</th>\n      <td>0</td>\n      <td>1</td>\n      <td>1</td>\n      <td>1</td>\n      <td>1</td>\n      <td>1</td>\n      <td>1</td>\n      <td>1</td>\n      <td>1</td>\n    </tr>\n    <tr>\n      <th>PF05706</th>\n      <td>1</td>\n      <td>1</td>\n      <td>1</td>\n      <td>1</td>\n      <td>1</td>\n      <td>1</td>\n      <td>1</td>\n      <td>1</td>\n      <td>1</td>\n    </tr>\n    <tr>\n      <th>PF05793</th>\n      <td>0</td>\n      <td>1</td>\n      <td>1</td>\n      <td>1</td>\n      <td>1</td>\n      <td>1</td>\n      <td>1</td>\n      <td>1</td>\n      <td>1</td>\n    </tr>\n    <tr>\n      <th>PF06331</th>\n      <td>0</td>\n      <td>1</td>\n      <td>1</td>\n      <td>1</td>\n      <td>1</td>\n      <td>1</td>\n      <td>1</td>\n      <td>1</td>\n      <td>1</td>\n    </tr>\n    <tr>\n      <th>PF06391,PF17121</th>\n      <td>0</td>\n      <td>1</td>\n      <td>1</td>\n      <td>1</td>\n      <td>1</td>\n      <td>1</td>\n      <td>1</td>\n      <td>1</td>\n      <td>1</td>\n    </tr>\n    <tr>\n      <th>PF06733,PF06777,PF13307</th>\n      <td>0</td>\n      <td>1</td>\n      <td>1</td>\n      <td>1</td>\n      <td>1</td>\n      <td>1</td>\n      <td>1</td>\n      <td>1</td>\n      <td>1</td>\n    </tr>\n    <tr>\n      <th>PF08613</th>\n      <td>0</td>\n      <td>4</td>\n      <td>4</td>\n      <td>4</td>\n      <td>4</td>\n      <td>4</td>\n      <td>4</td>\n      <td>4</td>\n      <td>4</td>\n    </tr>\n    <tr>\n      <th>PF11357</th>\n      <td>0</td>\n      <td>3</td>\n      <td>3</td>\n      <td>3</td>\n      <td>3</td>\n      <td>3</td>\n      <td>3</td>\n      <td>3</td>\n      <td>3</td>\n    </tr>\n    <tr>\n      <th>PF12796</th>\n      <td>0</td>\n      <td>2</td>\n      <td>2</td>\n      <td>2</td>\n      <td>2</td>\n      <td>2</td>\n      <td>2</td>\n      <td>2</td>\n      <td>2</td>\n    </tr>\n    <tr>\n      <th>PF13656</th>\n      <td>0</td>\n      <td>1</td>\n      <td>1</td>\n      <td>1</td>\n      <td>1</td>\n      <td>1</td>\n      <td>1</td>\n      <td>1</td>\n      <td>1</td>\n    </tr>\n    <tr>\n      <th>PF13857</th>\n      <td>0</td>\n      <td>1</td>\n      <td>1</td>\n      <td>1</td>\n      <td>1</td>\n      <td>1</td>\n      <td>1</td>\n      <td>1</td>\n      <td>1</td>\n    </tr>\n  </tbody>\n</table>\n</div>"
     },
     "execution_count": 18,
     "metadata": {},
     "output_type": "execute_result"
    }
   ],
   "source": [
    "df.groupby('pfam_accession').count()"
   ],
   "metadata": {
    "collapsed": false,
    "pycharm": {
     "name": "#%%\n"
    }
   }
  },
  {
   "cell_type": "markdown",
   "source": [
    "same for uniprot accession\n",
    "This time we will sort the values by the number of PDB entries (\"pdb_id\"'s) they appear in."
   ],
   "metadata": {
    "collapsed": false,
    "pycharm": {
     "name": "#%% md\n"
    }
   }
  },
  {
   "cell_type": "code",
   "execution_count": 22,
   "outputs": [
    {
     "data": {
      "text/plain": "                        ec_number  entity_id  entry_entity  molecule_name  \\\nuniprot_accession_best                                                      \nP24941                        413        413           413            413   \nP28482                        109        109           109            109   \nP20248                          0         95            95             95   \nP63086                         59         59            59             59   \nP47811                         40         40            40             40   \n...                           ...        ...           ...            ...   \nP36954                          0          1             1              1   \nP36507                          1          1             1              1   \nP35269                          0          1             1              1   \nP35236                          1          1             1              1   \nQ9Z297                          0          1             1              1   \n\n                        pdb_id  pfam_accession  tax_id  e_value  \\\nuniprot_accession_best                                            \nP24941                     413             413     413      413   \nP28482                     109             109     109      109   \nP20248                      95              95      95       95   \nP63086                      59              59      59       59   \nP47811                      40              40      40       40   \n...                        ...             ...     ...      ...   \nP36954                       1               1       1        1   \nP36507                       1               0       1        1   \nP35269                       1               1       1        1   \nP35236                       1               0       1        1   \nQ9Z297                       1               1       1        1   \n\n                        percentage_identity  \nuniprot_accession_best                       \nP24941                                  413  \nP28482                                  109  \nP20248                                   95  \nP63086                                   59  \nP47811                                   40  \n...                                     ...  \nP36954                                    1  \nP36507                                    1  \nP35269                                    1  \nP35236                                    1  \nQ9Z297                                    1  \n\n[109 rows x 9 columns]",
      "text/html": "<div>\n<style scoped>\n    .dataframe tbody tr th:only-of-type {\n        vertical-align: middle;\n    }\n\n    .dataframe tbody tr th {\n        vertical-align: top;\n    }\n\n    .dataframe thead th {\n        text-align: right;\n    }\n</style>\n<table border=\"1\" class=\"dataframe\">\n  <thead>\n    <tr style=\"text-align: right;\">\n      <th></th>\n      <th>ec_number</th>\n      <th>entity_id</th>\n      <th>entry_entity</th>\n      <th>molecule_name</th>\n      <th>pdb_id</th>\n      <th>pfam_accession</th>\n      <th>tax_id</th>\n      <th>e_value</th>\n      <th>percentage_identity</th>\n    </tr>\n    <tr>\n      <th>uniprot_accession_best</th>\n      <th></th>\n      <th></th>\n      <th></th>\n      <th></th>\n      <th></th>\n      <th></th>\n      <th></th>\n      <th></th>\n      <th></th>\n    </tr>\n  </thead>\n  <tbody>\n    <tr>\n      <th>P24941</th>\n      <td>413</td>\n      <td>413</td>\n      <td>413</td>\n      <td>413</td>\n      <td>413</td>\n      <td>413</td>\n      <td>413</td>\n      <td>413</td>\n      <td>413</td>\n    </tr>\n    <tr>\n      <th>P28482</th>\n      <td>109</td>\n      <td>109</td>\n      <td>109</td>\n      <td>109</td>\n      <td>109</td>\n      <td>109</td>\n      <td>109</td>\n      <td>109</td>\n      <td>109</td>\n    </tr>\n    <tr>\n      <th>P20248</th>\n      <td>0</td>\n      <td>95</td>\n      <td>95</td>\n      <td>95</td>\n      <td>95</td>\n      <td>95</td>\n      <td>95</td>\n      <td>95</td>\n      <td>95</td>\n    </tr>\n    <tr>\n      <th>P63086</th>\n      <td>59</td>\n      <td>59</td>\n      <td>59</td>\n      <td>59</td>\n      <td>59</td>\n      <td>59</td>\n      <td>59</td>\n      <td>59</td>\n      <td>59</td>\n    </tr>\n    <tr>\n      <th>P47811</th>\n      <td>40</td>\n      <td>40</td>\n      <td>40</td>\n      <td>40</td>\n      <td>40</td>\n      <td>40</td>\n      <td>40</td>\n      <td>40</td>\n      <td>40</td>\n    </tr>\n    <tr>\n      <th>...</th>\n      <td>...</td>\n      <td>...</td>\n      <td>...</td>\n      <td>...</td>\n      <td>...</td>\n      <td>...</td>\n      <td>...</td>\n      <td>...</td>\n      <td>...</td>\n    </tr>\n    <tr>\n      <th>P36954</th>\n      <td>0</td>\n      <td>1</td>\n      <td>1</td>\n      <td>1</td>\n      <td>1</td>\n      <td>1</td>\n      <td>1</td>\n      <td>1</td>\n      <td>1</td>\n    </tr>\n    <tr>\n      <th>P36507</th>\n      <td>1</td>\n      <td>1</td>\n      <td>1</td>\n      <td>1</td>\n      <td>1</td>\n      <td>0</td>\n      <td>1</td>\n      <td>1</td>\n      <td>1</td>\n    </tr>\n    <tr>\n      <th>P35269</th>\n      <td>0</td>\n      <td>1</td>\n      <td>1</td>\n      <td>1</td>\n      <td>1</td>\n      <td>1</td>\n      <td>1</td>\n      <td>1</td>\n      <td>1</td>\n    </tr>\n    <tr>\n      <th>P35236</th>\n      <td>1</td>\n      <td>1</td>\n      <td>1</td>\n      <td>1</td>\n      <td>1</td>\n      <td>0</td>\n      <td>1</td>\n      <td>1</td>\n      <td>1</td>\n    </tr>\n    <tr>\n      <th>Q9Z297</th>\n      <td>0</td>\n      <td>1</td>\n      <td>1</td>\n      <td>1</td>\n      <td>1</td>\n      <td>1</td>\n      <td>1</td>\n      <td>1</td>\n      <td>1</td>\n    </tr>\n  </tbody>\n</table>\n<p>109 rows × 9 columns</p>\n</div>"
     },
     "execution_count": 22,
     "metadata": {},
     "output_type": "execute_result"
    }
   ],
   "source": [
    "group_by_uniprot = df.groupby('uniprot_accession_best').count().sort_values('pdb_id', ascending=False)\n",
    "group_by_uniprot"
   ],
   "metadata": {
    "collapsed": false,
    "pycharm": {
     "name": "#%%\n"
    }
   }
  },
  {
   "cell_type": "markdown",
   "source": [
    "In this case the most common UniProt accession is P24941.\n",
    "How many UniProt accessions were there?"
   ],
   "metadata": {
    "collapsed": false,
    "pycharm": {
     "name": "#%% md\n"
    }
   }
  },
  {
   "cell_type": "code",
   "execution_count": 20,
   "outputs": [
    {
     "data": {
      "text/plain": "109"
     },
     "execution_count": 20,
     "metadata": {},
     "output_type": "execute_result"
    }
   ],
   "source": [
    "len(group_by_uniprot)"
   ],
   "metadata": {
    "collapsed": false,
    "pycharm": {
     "name": "#%%\n"
    }
   }
  },
  {
   "cell_type": "markdown",
   "source": [
    "How many are enzymes? We can use \"ec_number\" to work see how many have E.C. numbers"
   ],
   "metadata": {
    "collapsed": false,
    "pycharm": {
     "name": "#%% md\n"
    }
   }
  },
  {
   "cell_type": "code",
   "execution_count": 25,
   "outputs": [],
   "source": [
    "uniprot_with_ec = group_by_uniprot.query('ec_number != 0')"
   ],
   "metadata": {
    "collapsed": false,
    "pycharm": {
     "name": "#%%\n"
    }
   }
  },
  {
   "cell_type": "code",
   "execution_count": 26,
   "outputs": [
    {
     "data": {
      "text/plain": "40"
     },
     "execution_count": 26,
     "metadata": {},
     "output_type": "execute_result"
    }
   ],
   "source": [
    "len(uniprot_with_ec)"
   ],
   "metadata": {
    "collapsed": false,
    "pycharm": {
     "name": "#%%\n"
    }
   }
  }
 ],
 "metadata": {
  "kernelspec": {
   "display_name": "Python 3",
   "language": "python",
   "name": "python3"
  },
  "language_info": {
   "codemirror_mode": {
    "name": "ipython",
    "version": 2
   },
   "file_extension": ".py",
   "mimetype": "text/x-python",
   "name": "python",
   "nbconvert_exporter": "python",
   "pygments_lexer": "ipython2",
   "version": "2.7.6"
  }
 },
 "nbformat": 4,
 "nbformat_minor": 0
}