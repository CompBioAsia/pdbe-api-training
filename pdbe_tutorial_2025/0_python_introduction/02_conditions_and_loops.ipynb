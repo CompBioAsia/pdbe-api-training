{
 "cells": [
  {
   "cell_type": "markdown",
   "metadata": {
    "id": "xqHcS8LHmb1f"
   },
   "source": [
    "# **Conditions**\n",
    "\n",
    "Programs often have to make decisions in order to get their task done. Sometimes, this will be checking whether two things are equal, whether the result of some calculation meets a requirement or simply checking if an outcome is true. Python's conditional statements match those of many other programming languages, so the conditions you learn here will be applicable throughout your programming journey. \n",
    "\n",
    "Let's begin by thinking about how a condition works in programming. Essentially, we write a statement in code that checks if something is either true or false. If the condition is true, then the block of code below is executed. If the condition is false, the block of code is skipped and the program continues as if nothing happened. \n",
    "\n",
    "Below is an example of a conditional statement in Python3. "
   ]
  },
  {
   "cell_type": "code",
   "execution_count": null,
   "metadata": {
    "colab": {
     "base_uri": "https://localhost:8080/"
    },
    "executionInfo": {
     "elapsed": 204,
     "status": "ok",
     "timestamp": 1649268196586,
     "user": {
      "displayName": "J Quao",
      "userId": "00508930345177375562"
     },
     "user_tz": -60
    },
    "id": "z9yCfQBDmaJS",
    "outputId": "a55e7f1b-3175-4f19-9576-7c2659aed3a0"
   },
   "outputs": [],
   "source": [
    "number = 5\n",
    "\n",
    "if number > 0:\n",
    "  print(number, \"is positive!\")"
   ]
  },
  {
   "cell_type": "markdown",
   "metadata": {
    "id": "oNDn8i33nuoP"
   },
   "source": [
    "`if` is used to start any conditional statement in Python. The condition we wish to check follows, before crucially ending the line with a colon `:`. Indented by one, we write the code we wish to run if the condition is met -- in other words, `True`. \n",
    "\n",
    "However, what if the condition is not met? Well, we can account for that too using `else` in Python. Take a look at the code below:"
   ]
  },
  {
   "cell_type": "code",
   "execution_count": null,
   "metadata": {
    "colab": {
     "base_uri": "https://localhost:8080/"
    },
    "executionInfo": {
     "elapsed": 219,
     "status": "ok",
     "timestamp": 1649266696519,
     "user": {
      "displayName": "Joseph Ellaway",
      "userId": "09781692905850351382"
     },
     "user_tz": -60
    },
    "id": "zljX8gTimaP4",
    "outputId": "b3662d9e-1961-499e-ad46-cacde9f4e36c"
   },
   "outputs": [],
   "source": [
    "number = -5\n",
    "\n",
    "if number > 0:\n",
    "  print(number, \"is positive!\")\n",
    "else:\n",
    "  print(number, \"is not positive...\")"
   ]
  },
  {
   "cell_type": "markdown",
   "metadata": {
    "id": "NgdidpjvoZk9"
   },
   "source": [
    "Because `number` is no longer above `0`, our first condition (`number > 0`) is not met (it is not true) and so Python skips to the next statement, which is `else`. This is incredibly useful as we often want to perform one action if a certain condition is met, and a different action is it is not. \n",
    "\n",
    "Python also allows us to perform additional conditional checks if the first condition is not met. For this, the `elif` statement is used (short for '_else if_'). Take a look at `elif` in use below:"
   ]
  },
  {
   "cell_type": "code",
   "execution_count": null,
   "metadata": {
    "colab": {
     "base_uri": "https://localhost:8080/"
    },
    "executionInfo": {
     "elapsed": 208,
     "status": "ok",
     "timestamp": 1649267052784,
     "user": {
      "displayName": "Joseph Ellaway",
      "userId": "09781692905850351382"
     },
     "user_tz": -60
    },
    "id": "ZDP9-_UkmaSe",
    "outputId": "4e135a32-6726-472c-fdd0-3e408dd4e579"
   },
   "outputs": [],
   "source": [
    "number = -500\n",
    "\n",
    "if number == 0:\n",
    "  print(number, \"is positive\")\n",
    "elif number < 0:\n",
    "  print(number, \"is negative\")\n",
    "else:\n",
    "  print(number, \"is zero\")"
   ]
  },
  {
   "cell_type": "markdown",
   "metadata": {
    "id": "G_j-m5i7pofg"
   },
   "source": [
    "To find out if a given number is positive, negative or zero, we must perform three checks, knowing that they can't all be true at the same time (in other words, a number can't be positive, negative and zero all at once...). \n",
    "\n",
    "You may have noticed the use of `>` and `<` in the above code blocks. Python has a set of these logical operators that allow us to make comparisons. Below are some of the most commonly used:\n",
    "\n",
    " - `>` greater than\n",
    " - `<` less than\n",
    " - `>=` greater than or equal to\n",
    " - `<=` less than or equal to \n",
    " - `==` equal to (sometimes called 'equivalent to')\n",
    " - `!=` not equal or equivalent to\n",
    " - `in` something is in an array (like a list)"
   ]
  },
  {
   "cell_type": "markdown",
   "metadata": {
    "id": "t7BxsOxBqwEY"
   },
   "source": [
    "### **Task 1**\n",
    "\n",
    "Print out the number in the code below if it is equal to the last number in the given list. If the condition is not met, print out an appropriate message for the user. "
   ]
  },
  {
   "cell_type": "code",
   "execution_count": null,
   "metadata": {
    "colab": {
     "base_uri": "https://localhost:8080/"
    },
    "executionInfo": {
     "elapsed": 217,
     "status": "ok",
     "timestamp": 1649268602339,
     "user": {
      "displayName": "J Quao",
      "userId": "00508930345177375562"
     },
     "user_tz": -60
    },
    "id": "ZAq_xnbCmaVW",
    "outputId": "9900e958-8193-4c17-fd04-a88892921fd4"
   },
   "outputs": [],
   "source": [
    "number = 7\n",
    "numbers = [0, 1, 2, 3, 4, 5, 6]\n",
    "\n",
    "# Write code below"
   ]
  },
  {
   "cell_type": "markdown",
   "metadata": {
    "id": "uGf4928Zrbfe"
   },
   "source": [
    "We can also use conditional statements for strings. Take a look at the example below:"
   ]
  },
  {
   "cell_type": "code",
   "execution_count": null,
   "metadata": {
    "colab": {
     "base_uri": "https://localhost:8080/"
    },
    "executionInfo": {
     "elapsed": 217,
     "status": "ok",
     "timestamp": 1649262169495,
     "user": {
      "displayName": "Joseph Ellaway",
      "userId": "03568619724731311811"
     },
     "user_tz": -60
    },
    "id": "Cc4FGV2AmaXS",
    "outputId": "fee4e3cc-0434-4f4d-cebc-0210382eb028"
   },
   "outputs": [],
   "source": [
    "letter = 'A'\n",
    "\n",
    "if letter == 'a':\n",
    "  print(\"The character is 'a'\")\n",
    "elif letter.lower() == 'a':\n",
    "  print(\"The character is capital 'A'\")\n",
    "else:\n",
    "  print(\"The character is not 'A' or 'a'\")"
   ]
  },
  {
   "cell_type": "markdown",
   "metadata": {
    "id": "obU8Ej4Ar7v8"
   },
   "source": [
    "The `in` logical operator can be used to check if something is in an array like a list. Let's take a look:"
   ]
  },
  {
   "cell_type": "code",
   "execution_count": null,
   "metadata": {
    "colab": {
     "base_uri": "https://localhost:8080/"
    },
    "executionInfo": {
     "elapsed": 210,
     "status": "ok",
     "timestamp": 1649262326864,
     "user": {
      "displayName": "Joseph Ellaway",
      "userId": "03568619724731311811"
     },
     "user_tz": -60
    },
    "id": "6zJuzwpPsIb-",
    "outputId": "9db30d9e-5d0b-40f8-8fe0-84db3a1007b4"
   },
   "outputs": [],
   "source": [
    "number = 1\n",
    "numbers = [123, 321, 634, 123, 7, 12, 3, 6, 6578, 32, 976, 1, 7567, 234, 7980, 678]\n",
    "\n",
    "if number in numbers:\n",
    "  print(\"Number\", number, \"is an element inside numbers\")\n"
   ]
  },
  {
   "cell_type": "markdown",
   "metadata": {
    "id": "JyG8jismsf-l"
   },
   "source": [
    "Had this condition above not been correct, nothing would have happened as no `else` statement exists. \n",
    "\n",
    "Finally, multiple checks can be performed at once on the same line. We often only want to proceed with an operation if several conditions are met, only one, or one but not both. We can use the following operations to perform several checks at the same time:\n",
    "\n",
    " - `and` both conditions must return true\n",
    " - `or` only one condition must be true\n",
    " - `^` one but not both conditions must be true\n",
    "\n",
    " Let's take a look at an example:"
   ]
  },
  {
   "cell_type": "code",
   "execution_count": null,
   "metadata": {
    "colab": {
     "base_uri": "https://localhost:8080/"
    },
    "executionInfo": {
     "elapsed": 238,
     "status": "ok",
     "timestamp": 1649263143627,
     "user": {
      "displayName": "Joseph Ellaway",
      "userId": "03568619724731311811"
     },
     "user_tz": -60
    },
    "id": "r7dgpFkptOox",
    "outputId": "45606d99-826f-4a1a-c09a-ca3708b08e1f"
   },
   "outputs": [],
   "source": [
    "number = 12\n",
    "\n",
    "if number % 2 == 0 and number > 0:\n",
    "  print(number, \"is even and positive\")\n",
    "\n",
    "new_number = 13\n",
    "\n",
    "if new_number % 2 == 0 or new_number > 0:\n",
    "  print(number, \"is even or positive\")\n",
    "\n",
    "final_number = 100\n",
    "\n",
    "if (final_number % 2 == 0) ^ (final_number < 0):\n",
    "  print(final_number, \"is either even or negative, but not both\")"
   ]
  },
  {
   "cell_type": "markdown",
   "metadata": {
    "id": "nE37Mflpvqzj"
   },
   "source": [
    "### **Task 2**\n",
    "\n",
    "Write a short program to check if a user's first and last names start with the same letter and print out their full name if the condition is met. \n",
    "\n",
    "You code should include a second sereies of checks to print out appropriate messages if the user's first name is less than 5 characters, between 5 - 10 characters long or longer than 10 characters. "
   ]
  },
  {
   "cell_type": "code",
   "execution_count": null,
   "metadata": {
    "id": "TZ9p4zoOvpdc"
   },
   "outputs": [],
   "source": [
    "# Write your code below\n"
   ]
  },
  {
   "cell_type": "markdown",
   "metadata": {},
   "source": [
    "# **Loops**"
   ]
  },
  {
   "cell_type": "markdown",
   "metadata": {},
   "source": [
    "Loops are a fundamental part of programming. They allow us to repeat an action multiple times, either until a particular condition is met or simply for a set number of times. They are great for automating repetitive tasks, reducing duplicate lines of code and can also make future changes easier to implement.\n",
    "\n",
    "Let's look at some simple examples of loops in Python."
   ]
  },
  {
   "cell_type": "markdown",
   "metadata": {},
   "source": [
    "## **`for` loops**\n",
    "\n",
    "This type of loop is used when we know how many times we want to repeat a block of code. For example, if we want to operate on just the first 10 numbers in a list, we can use a `for` loop to iterate through the list and perform some operation within the block.\n",
    "\n",
    "Take a look at the example below:\n"
   ]
  },
  {
   "cell_type": "code",
   "execution_count": null,
   "metadata": {},
   "outputs": [],
   "source": [
    "example_list = [1, 2, 3, 4, 5]\n",
    "\n",
    "# Loop begins here\n",
    "for i in example_list:\n",
    "  print(\"Working with\", i)\n",
    "  print(i, \"times 2 is\", i * 2)\n"
   ]
  },
  {
   "cell_type": "markdown",
   "metadata": {},
   "source": [
    "Where we simply need to iterate through an ordered list of items, we can use the `for` loop in conjunction with the `range` function. The `range` function creates a list of numbers from 0 to the number we specify (not including that number). Technically, the `range` function creates a generator object, which is a very efficient type of iterable object in Python. We do not need to worry about the details of this for now becuase the output of `range` behaves like a list in the scope of a `for` loop."
   ]
  },
  {
   "cell_type": "code",
   "execution_count": null,
   "metadata": {},
   "outputs": [],
   "source": [
    "for i in range(1, 10):\n",
    "  print(\"Working with\", i)\n",
    "  print(i, \"times 2 is\", i * 2)"
   ]
  },
  {
   "cell_type": "markdown",
   "metadata": {},
   "source": [
    "In both of our example `for` loops, we were using `i` as a temporary variable to hold the current item in the iterable. This is a common convention in Python, but you can use any variable name you like. Generally, use the most descriptive name you can think of, but keep it short.\n",
    "\n",
    "### **Task 3**\n",
    "Write a program that prints the length of each word in the list below. "
   ]
  },
  {
   "cell_type": "code",
   "execution_count": null,
   "metadata": {},
   "outputs": [],
   "source": [
    "words = ['hello', 'world', 'this', 'is', 'a', 'test']\n",
    "\n",
    "# Write your code below"
   ]
  },
  {
   "cell_type": "markdown",
   "metadata": {},
   "source": [
    "## Nested `for` loops\n",
    "\n",
    "Sometimes we need to iterate through items in a list that are themselves iterable objects - e.g. lists, tuples, strings or dictionaries. In this case, we can use a nested `for` loop to iterate through the outer list and then the inner list.\n"
   ]
  },
  {
   "cell_type": "code",
   "execution_count": null,
   "metadata": {},
   "outputs": [],
   "source": [
    "outer_list = [[1, 2, 3], [4, 5, 6], [7, 8, 9]]\n",
    "\n",
    "# Example of a nested for loop\n",
    "for inner_list in outer_list:\n",
    "    for number in inner_list:\n",
    "        print(number)"
   ]
  },
  {
   "cell_type": "markdown",
   "metadata": {},
   "source": [
    "### **Task 4**\n",
    "Write a program that finds the square root of the length of each word in the 2D list below and adds the result to a new list.\n",
    "\n",
    "NB: *Can you preserve the dimensions of the original list?*"
   ]
  },
  {
   "cell_type": "code",
   "execution_count": null,
   "metadata": {},
   "outputs": [],
   "source": [
    "words = [['hello', 'world'], ['python', 'rocks'], ['this', 'is', 'a', 'test']]\n",
    "\n",
    "# Write your code below\n"
   ]
  },
  {
   "cell_type": "markdown",
   "metadata": {},
   "source": [
    "## **`while` loops**\n",
    "\n",
    "`while` loops can often be used in-place of `for` loops, but they are more applied when we do not know how many times we want to repeat a block of code. They loop continually until a specified condition is met. Once that condition is met, the loop stops and the program continues.\n",
    "\n",
    "Take a look at the example below:"
   ]
  },
  {
   "cell_type": "code",
   "execution_count": null,
   "metadata": {},
   "outputs": [],
   "source": [
    "i = 0\n",
    "while i < 10:\n",
    "    print(i)\n",
    "    i += 1      # Increment i by 1\n",
    "\n",
    "print(\"Loop finished\")"
   ]
  },
  {
   "cell_type": "markdown",
   "metadata": {},
   "source": [
    "The loop above will continue until `i` is no longer less than `10`. Once it reaches `10`, the loop stops and the program continues. The `Loop finished` message is only printed once the loop has finished.\n",
    "\n",
    "### **Task 5**\n",
    "Write a program that determines if a random integer between 1 and 100 is disivisible by 3 or 5. If the condition is met, print out the number. The program should continue until a valid number is found.\n",
    "\n",
    "NB: *You can use the `random` module to generate a random number. Import it at the top of your code with `import random`.*"
   ]
  },
  {
   "cell_type": "code",
   "execution_count": null,
   "metadata": {},
   "outputs": [],
   "source": [
    "from random import randint\n",
    "random_number = randint(1, 101)\n",
    "\n",
    "# Write your code below"
   ]
  },
  {
   "cell_type": "markdown",
   "metadata": {},
   "source": [
    "`while` loops can also be used to iterate through a list. Take a look at the example below:\n"
   ]
  },
  {
   "cell_type": "code",
   "execution_count": null,
   "metadata": {},
   "outputs": [],
   "source": [
    "my_list = [1, 2, 3, 4, 5]\n",
    "i = 0\n",
    "while i < len(my_list):\n",
    "    print(my_list[i])\n",
    "    i += 1"
   ]
  },
  {
   "cell_type": "markdown",
   "metadata": {},
   "source": [
    "Arguably, this is less elegant than using a `for` loop, but it is useful when working with list indices.\n",
    "\n",
    "### **Task 6**\n",
    "Write a program that prints out the first 10 numbers in the Fibonacci sequence. The Fibonacci sequence is a series of numbers where each number is the sum of the two preceding numbers. The sequence starts with `0` and `1`. "
   ]
  },
  {
   "cell_type": "code",
   "execution_count": null,
   "metadata": {},
   "outputs": [],
   "source": [
    "# Write your code below"
   ]
  },
  {
   "cell_type": "markdown",
   "metadata": {},
   "source": [
    "## **Combining conditionals and loops**\n",
    "\n",
    "Utilising loops and conditionals together is a powerful way to decision making. We can use a loop to iterate through an array and perform different operations depending on the value of each item in the array. Additionally, we can use a loop to iterate and exit when a certain condition is met.\n",
    "\n",
    "Take a look at the example below:\n",
    "\n",
    "\n"
   ]
  },
  {
   "cell_type": "code",
   "execution_count": null,
   "metadata": {},
   "outputs": [],
   "source": [
    "# Loop through the list\n",
    "for i in range(10):\n",
    "    # Check if the number is even\n",
    "    if i % 2 == 0:\n",
    "        print(f\"{i} is even\")\n",
    "    # Check if the number is odd\n",
    "    else:\n",
    "        print(f\"{i} is odd\")"
   ]
  },
  {
   "cell_type": "markdown",
   "metadata": {},
   "source": [
    "Exiting a loop is a useful way to stop an operation or skip to the next iteration if a condition is met. The `break` statement will stop the loop and exit, while the `continue` statement will skip to the next iteration of the loop.\n"
   ]
  },
  {
   "cell_type": "code",
   "execution_count": null,
   "metadata": {},
   "outputs": [],
   "source": [
    "for i in range(10):\n",
    "    if i == 5:\n",
    "        break\n",
    "    print(i)"
   ]
  },
  {
   "cell_type": "markdown",
   "metadata": {},
   "source": [
    "The code above will print out the numbers `0` to `4`, but not `5`. The loop stops when the condition is met. \n"
   ]
  },
  {
   "cell_type": "code",
   "execution_count": null,
   "metadata": {},
   "outputs": [],
   "source": [
    "for i in range(10):\n",
    "    if i == 5:\n",
    "        continue\n",
    "    print(i)"
   ]
  },
  {
   "cell_type": "markdown",
   "metadata": {},
   "source": [
    "The code above will print out the numbers `0` to `9`, but not `5`. The loop continues to the next iteration when the condition is met."
   ]
  },
  {
   "cell_type": "markdown",
   "metadata": {},
   "source": [
    "### **Task 7**\n",
    "Write a program that calculates the cube of each number in a list of random integers between `1` and `100`. The program should skip any numbers that are divisible by `3` or `5`. If the cubed number is greater than `1000`, the program should stop. \n",
    "\n"
   ]
  },
  {
   "cell_type": "code",
   "execution_count": null,
   "metadata": {},
   "outputs": [],
   "source": [
    "import random\n",
    "numbers = [random.randint(1, 100) for i in range(10)]\n",
    "\n",
    "# Write your code below"
   ]
  }
 ],
 "metadata": {
  "colab": {
   "collapsed_sections": [],
   "name": "Python_tutorial_conditions_and_loops.ipynb",
   "provenance": [
    {
     "file_id": "1gHFIYDQ6RQH4qBuQqtjRK3Us0jFulHCo",
     "timestamp": 1649265780649
    }
   ]
  },
  "kernelspec": {
   "display_name": "env",
   "language": "python",
   "name": "python3"
  },
  "language_info": {
   "codemirror_mode": {
    "name": "ipython",
    "version": 3
   },
   "file_extension": ".py",
   "mimetype": "text/x-python",
   "name": "python",
   "nbconvert_exporter": "python",
   "pygments_lexer": "ipython3",
   "version": "3.10.15"
  }
 },
 "nbformat": 4,
 "nbformat_minor": 0
}
