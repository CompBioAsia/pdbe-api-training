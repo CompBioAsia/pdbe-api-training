{
 "cells": [
  {
   "cell_type": "markdown",
   "metadata": {
    "collapsed": true,
    "pycharm": {
     "name": "#%% md\n"
    }
   },
   "source": [
    "# PDBe API Training\n",
    "\n",
    "### PDBe search\n",
    "\n",
    "Searching with a sequence"
   ]
  },
  {
   "cell_type": "code",
   "execution_count": 1,
   "outputs": [],
   "source": [
    "from pprint import pprint # used for pretty printing\n",
    "import sys\n",
    "sys.path.insert(0,'..') # to ensure the below import works in all Jupyter notebooks\n",
    "from python_modules.api_modules import run_sequence_search, explode_dataset"
   ],
   "metadata": {
    "collapsed": false,
    "pycharm": {
     "name": "#%%\n"
    }
   }
  },
  {
   "cell_type": "markdown",
   "source": [
    "We will search for a sequence with an example sequence from luciferase from Photinus pyralis (Common eastern firefly)"
   ],
   "metadata": {
    "collapsed": false,
    "pycharm": {
     "name": "#%% md\n"
    }
   }
  },
  {
   "cell_type": "code",
   "execution_count": 2,
   "outputs": [],
   "source": [
    "sequence_to_search = \"\"\"\n",
    "MEDAKNIKKGPAPFYPLEDGTAGEQLHKAMKRYALVPGTIAFTDAHIEVNITYAEYFEMS\n",
    "VRLAEAMKRYGLNTNHRIVVCSENSLQFFMPVLGALFIGVAVAPANDIYNERELLNSMNI\n",
    "SQPTVVFVSKKGLQKILNVQKKLPIIQKIIIMDSKTDYQGFQSMYTFVTSHLPPGFNEYD\n",
    "FVPESFDRDKTIALIMNSSGSTGLPKGVALPHRTACVRFSHARDPIFGNQIIPDTAILSV\n",
    "VPFHHGFGMFTTLGYLICGFRVVLMYRFEEELFLRSLQDYKIQSALLVPTLFSFFAKSTL\n",
    "IDKYDLSNLHEIASGGAPLSKEVGEAVAKRFHLPGIRQGYGLTETTSAILITPEGDDKPG\n",
    "AVGKVVPFFEAKVVDLDTGKTLGVNQRGELCVRGPMIMSGYVNNPEATNALIDKDGWLHS\n",
    "GDIAYWDEDEHFFIVDRLKSLIKYKGYQVAPAELESILLQHPNIFDAGVAGLPDDDAGEL\n",
    "PAAVVVLEHGKTMTEKEIVDYVASQVTTAKKLRGGVVFVDEVPKGLTGKLDARKIREILI\n",
    "KAKKGGKSKL\n",
    "\"\"\""
   ],
   "metadata": {
    "collapsed": false,
    "pycharm": {
     "name": "#%%\n"
    }
   }
  },
  {
   "cell_type": "code",
   "execution_count": 3,
   "outputs": [
    {
     "name": "stdout",
     "output_type": "stream",
     "text": [
      "Number of results 10\n"
     ]
    }
   ],
   "source": [
    "filter_list = ['pfam_accession', 'pdb_id', 'molecule_name', 'ec_number',\n",
    "               'uniprot_accession_best', 'tax_id']\n",
    "\n",
    "first_results = run_sequence_search(sequence_to_search, filter_terms=filter_list)"
   ],
   "metadata": {
    "collapsed": false,
    "pycharm": {
     "name": "#%%\n"
    }
   }
  },
  {
   "cell_type": "markdown",
   "source": [
    "Print the first result to see what we have"
   ],
   "metadata": {
    "collapsed": false,
    "pycharm": {
     "name": "#%% md\n"
    }
   }
  },
  {
   "cell_type": "code",
   "execution_count": 4,
   "outputs": [
    {
     "name": "stdout",
     "output_type": "stream",
     "text": [
      "{'chain_id': 'A',\n",
      " 'e_value': 0.0,\n",
      " 'ec_number': ['1.13.12.7'],\n",
      " 'entity_id': 1,\n",
      " 'entry_entity': '3ies_1',\n",
      " 'molecule_name': ['Luciferin 4-monooxygenase'],\n",
      " 'pdb_id': '3ies',\n",
      " 'percentage_identity': 100.0,\n",
      " 'pfam_accession': ['PF00501', 'PF13193'],\n",
      " 'result_sequence': None,\n",
      " 'tax_id': [7054],\n",
      " 'uniprot_accession_best': ['P08659']}\n"
     ]
    }
   ],
   "source": [
    "pprint(first_results[0])"
   ],
   "metadata": {
    "collapsed": false,
    "pycharm": {
     "name": "#%%\n"
    }
   }
  },
  {
   "cell_type": "markdown",
   "source": [
    "Before we do any further analysis we should get a few more results so we can see some patterns.\n",
    "We are going to increase the number of results to 1000 to make sure we catch everything."
   ],
   "metadata": {
    "collapsed": false,
    "pycharm": {
     "name": "#%% md\n"
    }
   }
  },
  {
   "cell_type": "code",
   "execution_count": 5,
   "outputs": [
    {
     "name": "stdout",
     "output_type": "stream",
     "text": [
      "Number of results 222\n"
     ]
    }
   ],
   "source": [
    "first_results = run_sequence_search(sequence_to_search,\n",
    "                                    filter_terms=filter_list,\n",
    "                                    number_of_rows=1000\n",
    "                                    )\n"
   ],
   "metadata": {
    "collapsed": false,
    "pycharm": {
     "name": "#%%\n"
    }
   }
  },
  {
   "cell_type": "markdown",
   "source": [
    "Load the results into a Pandas Dataframe so we can query them"
   ],
   "metadata": {
    "collapsed": false,
    "pycharm": {
     "name": "#%% md\n"
    }
   }
  },
  {
   "cell_type": "code",
   "execution_count": 7,
   "outputs": [],
   "source": [
    "df = explode_dataset(first_results)\n"
   ],
   "metadata": {
    "collapsed": false,
    "pycharm": {
     "name": "#%%\n"
    }
   }
  },
  {
   "cell_type": "markdown",
   "source": [
    "Lets see what we have - you'll see it looks a bit like a spreadsheet or a database\n",
    "\n",
    "Note the same PDB code repeats lots of times as we exploded the results"
   ],
   "metadata": {
    "collapsed": false,
    "pycharm": {
     "name": "#%% md\n"
    }
   }
  },
  {
   "cell_type": "code",
   "execution_count": 9,
   "outputs": [
    {
     "data": {
      "text/plain": "  chain_id  ec_number  entity_id entry_entity              molecule_name  \\\n0        A  1.13.12.7          1       3ies_1  Luciferin 4-monooxygenase   \n1        A  1.13.12.7          1       3ies_1  Luciferin 4-monooxygenase   \n2        A  1.13.12.7          1       5kyt_1  Luciferin 4-monooxygenase   \n3        A  1.13.12.7          1       5kyt_1  Luciferin 4-monooxygenase   \n4        B  1.13.12.7          1       5kyt_1  Luciferin 4-monooxygenase   \n\n  pdb_id pfam_accession tax_id uniprot_accession_best  e_value  \\\n0   3ies        PF00501   7054                 P08659      0.0   \n1   3ies        PF13193   7054                 P08659      0.0   \n2   5kyt        PF00501   7054                 P08659      0.0   \n3   5kyt        PF13193   7054                 P08659      0.0   \n4   5kyt        PF00501   7054                 P08659      0.0   \n\n   percentage_identity result_sequence  \n0                100.0            None  \n1                100.0            None  \n2                 99.8            None  \n3                 99.8            None  \n4                 99.8            None  ",
      "text/html": "<div>\n<style scoped>\n    .dataframe tbody tr th:only-of-type {\n        vertical-align: middle;\n    }\n\n    .dataframe tbody tr th {\n        vertical-align: top;\n    }\n\n    .dataframe thead th {\n        text-align: right;\n    }\n</style>\n<table border=\"1\" class=\"dataframe\">\n  <thead>\n    <tr style=\"text-align: right;\">\n      <th></th>\n      <th>chain_id</th>\n      <th>ec_number</th>\n      <th>entity_id</th>\n      <th>entry_entity</th>\n      <th>molecule_name</th>\n      <th>pdb_id</th>\n      <th>pfam_accession</th>\n      <th>tax_id</th>\n      <th>uniprot_accession_best</th>\n      <th>e_value</th>\n      <th>percentage_identity</th>\n      <th>result_sequence</th>\n    </tr>\n  </thead>\n  <tbody>\n    <tr>\n      <th>0</th>\n      <td>A</td>\n      <td>1.13.12.7</td>\n      <td>1</td>\n      <td>3ies_1</td>\n      <td>Luciferin 4-monooxygenase</td>\n      <td>3ies</td>\n      <td>PF00501</td>\n      <td>7054</td>\n      <td>P08659</td>\n      <td>0.0</td>\n      <td>100.0</td>\n      <td>None</td>\n    </tr>\n    <tr>\n      <th>1</th>\n      <td>A</td>\n      <td>1.13.12.7</td>\n      <td>1</td>\n      <td>3ies_1</td>\n      <td>Luciferin 4-monooxygenase</td>\n      <td>3ies</td>\n      <td>PF13193</td>\n      <td>7054</td>\n      <td>P08659</td>\n      <td>0.0</td>\n      <td>100.0</td>\n      <td>None</td>\n    </tr>\n    <tr>\n      <th>2</th>\n      <td>A</td>\n      <td>1.13.12.7</td>\n      <td>1</td>\n      <td>5kyt_1</td>\n      <td>Luciferin 4-monooxygenase</td>\n      <td>5kyt</td>\n      <td>PF00501</td>\n      <td>7054</td>\n      <td>P08659</td>\n      <td>0.0</td>\n      <td>99.8</td>\n      <td>None</td>\n    </tr>\n    <tr>\n      <th>3</th>\n      <td>A</td>\n      <td>1.13.12.7</td>\n      <td>1</td>\n      <td>5kyt_1</td>\n      <td>Luciferin 4-monooxygenase</td>\n      <td>5kyt</td>\n      <td>PF13193</td>\n      <td>7054</td>\n      <td>P08659</td>\n      <td>0.0</td>\n      <td>99.8</td>\n      <td>None</td>\n    </tr>\n    <tr>\n      <th>4</th>\n      <td>B</td>\n      <td>1.13.12.7</td>\n      <td>1</td>\n      <td>5kyt_1</td>\n      <td>Luciferin 4-monooxygenase</td>\n      <td>5kyt</td>\n      <td>PF00501</td>\n      <td>7054</td>\n      <td>P08659</td>\n      <td>0.0</td>\n      <td>99.8</td>\n      <td>None</td>\n    </tr>\n  </tbody>\n</table>\n</div>"
     },
     "execution_count": 9,
     "metadata": {},
     "output_type": "execute_result"
    }
   ],
   "source": [
    "df.head()"
   ],
   "metadata": {
    "collapsed": false,
    "pycharm": {
     "name": "#%%\n"
    }
   }
  },
  {
   "cell_type": "markdown",
   "source": [
    "We can save the results to a CSV file which we can load into excel"
   ],
   "metadata": {
    "collapsed": false,
    "pycharm": {
     "name": "#%% md\n"
    }
   }
  },
  {
   "cell_type": "code",
   "execution_count": 8,
   "outputs": [],
   "source": [
    "df.to_csv(\"search_results.csv\")"
   ],
   "metadata": {
    "collapsed": false,
    "pycharm": {
     "name": "#%%\n"
    }
   }
  },
  {
   "cell_type": "markdown",
   "source": [
    "There isn't a cut off of eValue or percentage identity in our search\n",
    "so we should look what the values go to\n",
    "\n",
    "we can select the column and find the minimum value with .min() or maximum value with .max()"
   ],
   "metadata": {
    "collapsed": false,
    "pycharm": {
     "name": "#%% md\n"
    }
   }
  },
  {
   "cell_type": "code",
   "execution_count": 10,
   "outputs": [
    {
     "data": {
      "text/plain": "100.0"
     },
     "execution_count": 10,
     "metadata": {},
     "output_type": "execute_result"
    }
   ],
   "source": [
    "df['percentage_identity'].max()"
   ],
   "metadata": {
    "collapsed": false,
    "pycharm": {
     "name": "#%%\n"
    }
   }
  },
  {
   "cell_type": "code",
   "execution_count": 11,
   "outputs": [
    {
     "data": {
      "text/plain": "20.0"
     },
     "execution_count": 11,
     "metadata": {},
     "output_type": "execute_result"
    }
   ],
   "source": [
    "df['percentage_identity'].min()"
   ],
   "metadata": {
    "collapsed": false,
    "pycharm": {
     "name": "#%%\n"
    }
   }
  },
  {
   "cell_type": "markdown",
   "source": [
    "same for e value - here we want the min and max\n"
   ],
   "metadata": {
    "collapsed": false,
    "pycharm": {
     "name": "#%% md\n"
    }
   }
  },
  {
   "cell_type": "code",
   "execution_count": 11,
   "outputs": [
    {
     "data": {
      "text/plain": "2.9e-76"
     },
     "execution_count": 11,
     "metadata": {},
     "output_type": "execute_result"
    }
   ],
   "source": [
    "df['e_value'].min()"
   ],
   "metadata": {
    "collapsed": false,
    "pycharm": {
     "name": "#%%\n"
    }
   }
  },
  {
   "cell_type": "code",
   "execution_count": 12,
   "outputs": [
    {
     "data": {
      "text/plain": "5.5e-20"
     },
     "execution_count": 12,
     "metadata": {},
     "output_type": "execute_result"
    }
   ],
   "source": [
    "df['e_value'].max()"
   ],
   "metadata": {
    "collapsed": false,
    "pycharm": {
     "name": "#%%\n"
    }
   }
  },
  {
   "cell_type": "markdown",
   "source": [
    "We can see that percentage identity drops to as low as 20%\n",
    "Lets say we want to restrict it to 80%"
   ],
   "metadata": {
    "collapsed": false,
    "pycharm": {
     "name": "#%% md\n"
    }
   }
  },
  {
   "cell_type": "code",
   "execution_count": 12,
   "outputs": [],
   "source": [
    "df2 = df.query('percentage_identity > 80')"
   ],
   "metadata": {
    "collapsed": false,
    "pycharm": {
     "name": "#%%\n"
    }
   }
  },
  {
   "cell_type": "markdown",
   "source": [
    "We stored the results in a new Dataframe called \"df2\""
   ],
   "metadata": {
    "collapsed": false,
    "pycharm": {
     "name": "#%% md\n"
    }
   }
  },
  {
   "cell_type": "code",
   "execution_count": 13,
   "outputs": [
    {
     "data": {
      "text/plain": "  chain_id  ec_number  entity_id entry_entity              molecule_name  \\\n0        A  1.13.12.7          1       3ies_1  Luciferin 4-monooxygenase   \n1        A  1.13.12.7          1       3ies_1  Luciferin 4-monooxygenase   \n2        A  1.13.12.7          1       5kyt_1  Luciferin 4-monooxygenase   \n3        A  1.13.12.7          1       5kyt_1  Luciferin 4-monooxygenase   \n4        B  1.13.12.7          1       5kyt_1  Luciferin 4-monooxygenase   \n\n  pdb_id pfam_accession tax_id uniprot_accession_best  e_value  \\\n0   3ies        PF00501   7054                 P08659      0.0   \n1   3ies        PF13193   7054                 P08659      0.0   \n2   5kyt        PF00501   7054                 P08659      0.0   \n3   5kyt        PF13193   7054                 P08659      0.0   \n4   5kyt        PF00501   7054                 P08659      0.0   \n\n   percentage_identity result_sequence  \n0                100.0            None  \n1                100.0            None  \n2                 99.8            None  \n3                 99.8            None  \n4                 99.8            None  ",
      "text/html": "<div>\n<style scoped>\n    .dataframe tbody tr th:only-of-type {\n        vertical-align: middle;\n    }\n\n    .dataframe tbody tr th {\n        vertical-align: top;\n    }\n\n    .dataframe thead th {\n        text-align: right;\n    }\n</style>\n<table border=\"1\" class=\"dataframe\">\n  <thead>\n    <tr style=\"text-align: right;\">\n      <th></th>\n      <th>chain_id</th>\n      <th>ec_number</th>\n      <th>entity_id</th>\n      <th>entry_entity</th>\n      <th>molecule_name</th>\n      <th>pdb_id</th>\n      <th>pfam_accession</th>\n      <th>tax_id</th>\n      <th>uniprot_accession_best</th>\n      <th>e_value</th>\n      <th>percentage_identity</th>\n      <th>result_sequence</th>\n    </tr>\n  </thead>\n  <tbody>\n    <tr>\n      <th>0</th>\n      <td>A</td>\n      <td>1.13.12.7</td>\n      <td>1</td>\n      <td>3ies_1</td>\n      <td>Luciferin 4-monooxygenase</td>\n      <td>3ies</td>\n      <td>PF00501</td>\n      <td>7054</td>\n      <td>P08659</td>\n      <td>0.0</td>\n      <td>100.0</td>\n      <td>None</td>\n    </tr>\n    <tr>\n      <th>1</th>\n      <td>A</td>\n      <td>1.13.12.7</td>\n      <td>1</td>\n      <td>3ies_1</td>\n      <td>Luciferin 4-monooxygenase</td>\n      <td>3ies</td>\n      <td>PF13193</td>\n      <td>7054</td>\n      <td>P08659</td>\n      <td>0.0</td>\n      <td>100.0</td>\n      <td>None</td>\n    </tr>\n    <tr>\n      <th>2</th>\n      <td>A</td>\n      <td>1.13.12.7</td>\n      <td>1</td>\n      <td>5kyt_1</td>\n      <td>Luciferin 4-monooxygenase</td>\n      <td>5kyt</td>\n      <td>PF00501</td>\n      <td>7054</td>\n      <td>P08659</td>\n      <td>0.0</td>\n      <td>99.8</td>\n      <td>None</td>\n    </tr>\n    <tr>\n      <th>3</th>\n      <td>A</td>\n      <td>1.13.12.7</td>\n      <td>1</td>\n      <td>5kyt_1</td>\n      <td>Luciferin 4-monooxygenase</td>\n      <td>5kyt</td>\n      <td>PF13193</td>\n      <td>7054</td>\n      <td>P08659</td>\n      <td>0.0</td>\n      <td>99.8</td>\n      <td>None</td>\n    </tr>\n    <tr>\n      <th>4</th>\n      <td>B</td>\n      <td>1.13.12.7</td>\n      <td>1</td>\n      <td>5kyt_1</td>\n      <td>Luciferin 4-monooxygenase</td>\n      <td>5kyt</td>\n      <td>PF00501</td>\n      <td>7054</td>\n      <td>P08659</td>\n      <td>0.0</td>\n      <td>99.8</td>\n      <td>None</td>\n    </tr>\n  </tbody>\n</table>\n</div>"
     },
     "execution_count": 13,
     "metadata": {},
     "output_type": "execute_result"
    }
   ],
   "source": [
    "df2.head()"
   ],
   "metadata": {
    "collapsed": false,
    "pycharm": {
     "name": "#%%\n"
    }
   }
  },
  {
   "cell_type": "markdown",
   "source": [
    "Number of entries in the Dataframe"
   ],
   "metadata": {
    "collapsed": false,
    "pycharm": {
     "name": "#%% md\n"
    }
   }
  },
  {
   "cell_type": "code",
   "execution_count": 15,
   "outputs": [
    {
     "data": {
      "text/plain": "621"
     },
     "execution_count": 15,
     "metadata": {},
     "output_type": "execute_result"
    }
   ],
   "source": [
    "len(df2)"
   ],
   "metadata": {
    "collapsed": false,
    "pycharm": {
     "name": "#%%\n"
    }
   }
  },
  {
   "cell_type": "markdown",
   "source": [
    "Max value of percentage identity"
   ],
   "metadata": {
    "collapsed": false,
    "pycharm": {
     "name": "#%% md\n"
    }
   }
  },
  {
   "cell_type": "code",
   "execution_count": 12,
   "outputs": [
    {
     "data": {
      "text/plain": "100.0"
     },
     "execution_count": 12,
     "metadata": {},
     "output_type": "execute_result"
    }
   ],
   "source": [
    "df2['percentage_identity'].max()"
   ],
   "metadata": {
    "collapsed": false,
    "pycharm": {
     "name": "#%%\n"
    }
   }
  },
  {
   "cell_type": "markdown",
   "source": [
    "Min value of percentage identity"
   ],
   "metadata": {
    "collapsed": false,
    "pycharm": {
     "name": "#%% md\n"
    }
   }
  },
  {
   "cell_type": "code",
   "execution_count": 13,
   "outputs": [
    {
     "data": {
      "text/plain": "84.2"
     },
     "execution_count": 13,
     "metadata": {},
     "output_type": "execute_result"
    }
   ],
   "source": [
    "df2['percentage_identity'].min()"
   ],
   "metadata": {
    "collapsed": false,
    "pycharm": {
     "name": "#%%\n"
    }
   }
  },
  {
   "cell_type": "markdown",
   "source": [
    "How many unique Pfam domains or UniProts did we get back?\n",
    "\n",
    "We can group the results by Pfam using \"groupby\" and then counting the results"
   ],
   "metadata": {
    "collapsed": false,
    "pycharm": {
     "name": "#%% md\n"
    }
   }
  },
  {
   "cell_type": "code",
   "execution_count": 21,
   "outputs": [
    {
     "data": {
      "text/plain": "                chain_id  ec_number  entity_id  entry_entity  molecule_name  \\\npfam_accession                                                                \nPF00501               25         25         25            25             25   \nPF13193               25         25         25            25             25   \n\n                pdb_id  tax_id  uniprot_accession_best  e_value  \\\npfam_accession                                                    \nPF00501             25      25                      25       25   \nPF13193             25      25                      25       25   \n\n                percentage_identity  result_sequence  \npfam_accession                                        \nPF00501                          25                0  \nPF13193                          25                0  ",
      "text/html": "<div>\n<style scoped>\n    .dataframe tbody tr th:only-of-type {\n        vertical-align: middle;\n    }\n\n    .dataframe tbody tr th {\n        vertical-align: top;\n    }\n\n    .dataframe thead th {\n        text-align: right;\n    }\n</style>\n<table border=\"1\" class=\"dataframe\">\n  <thead>\n    <tr style=\"text-align: right;\">\n      <th></th>\n      <th>chain_id</th>\n      <th>ec_number</th>\n      <th>entity_id</th>\n      <th>entry_entity</th>\n      <th>molecule_name</th>\n      <th>pdb_id</th>\n      <th>tax_id</th>\n      <th>uniprot_accession_best</th>\n      <th>e_value</th>\n      <th>percentage_identity</th>\n      <th>result_sequence</th>\n    </tr>\n    <tr>\n      <th>pfam_accession</th>\n      <th></th>\n      <th></th>\n      <th></th>\n      <th></th>\n      <th></th>\n      <th></th>\n      <th></th>\n      <th></th>\n      <th></th>\n      <th></th>\n      <th></th>\n    </tr>\n  </thead>\n  <tbody>\n    <tr>\n      <th>PF00501</th>\n      <td>25</td>\n      <td>25</td>\n      <td>25</td>\n      <td>25</td>\n      <td>25</td>\n      <td>25</td>\n      <td>25</td>\n      <td>25</td>\n      <td>25</td>\n      <td>25</td>\n      <td>0</td>\n    </tr>\n    <tr>\n      <th>PF13193</th>\n      <td>25</td>\n      <td>25</td>\n      <td>25</td>\n      <td>25</td>\n      <td>25</td>\n      <td>25</td>\n      <td>25</td>\n      <td>25</td>\n      <td>25</td>\n      <td>25</td>\n      <td>0</td>\n    </tr>\n  </tbody>\n</table>\n</div>"
     },
     "execution_count": 21,
     "metadata": {},
     "output_type": "execute_result"
    }
   ],
   "source": [
    "df2.groupby('pfam_accession').count().sort_values('pdb_id', ascending=False)"
   ],
   "metadata": {
    "collapsed": false,
    "pycharm": {
     "name": "#%%\n"
    }
   }
  },
  {
   "cell_type": "markdown",
   "source": [
    "same for uniprot accession\n",
    "This time we will sort the values by the number of PDB entries (\"pdb_id\"'s) they appear in."
   ],
   "metadata": {
    "collapsed": false,
    "pycharm": {
     "name": "#%% md\n"
    }
   }
  },
  {
   "cell_type": "code",
   "execution_count": 19,
   "outputs": [],
   "source": [
    "group_by_uniprot = df2.groupby('uniprot_accession_best').count().sort_values('pdb_id', ascending=False)"
   ],
   "metadata": {
    "collapsed": false,
    "pycharm": {
     "name": "#%%\n"
    }
   }
  },
  {
   "cell_type": "markdown",
   "source": [
    "Then lets have a look at what we have"
   ],
   "metadata": {
    "collapsed": false,
    "pycharm": {
     "name": "#%% md\n"
    }
   }
  },
  {
   "cell_type": "code",
   "execution_count": 22,
   "outputs": [
    {
     "data": {
      "text/plain": "                        chain_id  ec_number  entity_id  entry_entity  \\\nuniprot_accession_best                                                 \nP08659                        48         48         48            48   \nQ5UFR2                         4          4          4             4   \n\n                        molecule_name  pdb_id  pfam_accession  tax_id  \\\nuniprot_accession_best                                                  \nP08659                             48      48              46      48   \nQ5UFR2                              4       4               4       4   \n\n                        e_value  percentage_identity  result_sequence  \nuniprot_accession_best                                                 \nP08659                       48                   48                0  \nQ5UFR2                        4                    4                0  ",
      "text/html": "<div>\n<style scoped>\n    .dataframe tbody tr th:only-of-type {\n        vertical-align: middle;\n    }\n\n    .dataframe tbody tr th {\n        vertical-align: top;\n    }\n\n    .dataframe thead th {\n        text-align: right;\n    }\n</style>\n<table border=\"1\" class=\"dataframe\">\n  <thead>\n    <tr style=\"text-align: right;\">\n      <th></th>\n      <th>chain_id</th>\n      <th>ec_number</th>\n      <th>entity_id</th>\n      <th>entry_entity</th>\n      <th>molecule_name</th>\n      <th>pdb_id</th>\n      <th>pfam_accession</th>\n      <th>tax_id</th>\n      <th>e_value</th>\n      <th>percentage_identity</th>\n      <th>result_sequence</th>\n    </tr>\n    <tr>\n      <th>uniprot_accession_best</th>\n      <th></th>\n      <th></th>\n      <th></th>\n      <th></th>\n      <th></th>\n      <th></th>\n      <th></th>\n      <th></th>\n      <th></th>\n      <th></th>\n      <th></th>\n    </tr>\n  </thead>\n  <tbody>\n    <tr>\n      <th>P08659</th>\n      <td>48</td>\n      <td>48</td>\n      <td>48</td>\n      <td>48</td>\n      <td>48</td>\n      <td>48</td>\n      <td>46</td>\n      <td>48</td>\n      <td>48</td>\n      <td>48</td>\n      <td>0</td>\n    </tr>\n    <tr>\n      <th>Q5UFR2</th>\n      <td>4</td>\n      <td>4</td>\n      <td>4</td>\n      <td>4</td>\n      <td>4</td>\n      <td>4</td>\n      <td>4</td>\n      <td>4</td>\n      <td>4</td>\n      <td>4</td>\n      <td>0</td>\n    </tr>\n  </tbody>\n</table>\n</div>"
     },
     "execution_count": 22,
     "metadata": {},
     "output_type": "execute_result"
    }
   ],
   "source": [
    "group_by_uniprot"
   ],
   "metadata": {
    "collapsed": false,
    "pycharm": {
     "name": "#%%\n"
    }
   }
  },
  {
   "cell_type": "markdown",
   "source": [
    "In this case the most common UniProt accession is P24941.\n",
    "How many UniProt accessions were there?"
   ],
   "metadata": {
    "collapsed": false,
    "pycharm": {
     "name": "#%% md\n"
    }
   }
  },
  {
   "cell_type": "code",
   "execution_count": 20,
   "outputs": [
    {
     "data": {
      "text/plain": "109"
     },
     "execution_count": 20,
     "metadata": {},
     "output_type": "execute_result"
    }
   ],
   "source": [
    "len(group_by_uniprot)"
   ],
   "metadata": {
    "collapsed": false,
    "pycharm": {
     "name": "#%%\n"
    }
   }
  },
  {
   "cell_type": "markdown",
   "source": [
    "How many are enzymes? We can use \"ec_number\" to work see how many have E.C. numbers"
   ],
   "metadata": {
    "collapsed": false,
    "pycharm": {
     "name": "#%% md\n"
    }
   }
  },
  {
   "cell_type": "code",
   "execution_count": 23,
   "outputs": [],
   "source": [
    "uniprot_with_ec = group_by_uniprot.query('ec_number != 0')"
   ],
   "metadata": {
    "collapsed": false,
    "pycharm": {
     "name": "#%%\n"
    }
   }
  },
  {
   "cell_type": "code",
   "execution_count": 24,
   "outputs": [
    {
     "data": {
      "text/plain": "2"
     },
     "execution_count": 24,
     "metadata": {},
     "output_type": "execute_result"
    }
   ],
   "source": [
    "len(uniprot_with_ec)"
   ],
   "metadata": {
    "collapsed": false,
    "pycharm": {
     "name": "#%%\n"
    }
   }
  }
 ],
 "metadata": {
  "kernelspec": {
   "display_name": "Python 3",
   "language": "python",
   "name": "python3"
  },
  "language_info": {
   "codemirror_mode": {
    "name": "ipython",
    "version": 2
   },
   "file_extension": ".py",
   "mimetype": "text/x-python",
   "name": "python",
   "nbconvert_exporter": "python",
   "pygments_lexer": "ipython2",
   "version": "2.7.6"
  }
 },
 "nbformat": 4,
 "nbformat_minor": 0
}