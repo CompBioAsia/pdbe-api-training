{
 "cells": [
  {
   "cell_type": "markdown",
   "id": "8360f2e0",
   "metadata": {},
   "source": [
    "# PDBe API Training\n",
    "\n",
    "### PDBe Protein complexes for a given protein\n",
    "\n",
    "This tutorial will guide you through searching PDBe programmatically to find the protein complexes formed by a given protein."
   ]
  },
  {
   "cell_type": "markdown",
   "id": "0d0db1cd",
   "metadata": {},
   "source": [
    "## Setup\n",
    "\n",
    "First we will import the code which is required to search the API and reformat the results.\n",
    "\n",
    "Run the cell below - by pressing the play button."
   ]
  },
  {
   "cell_type": "code",
   "execution_count": null,
   "id": "bb161de1",
   "metadata": {},
   "outputs": [],
   "source": [
    "import sys\n",
    "sys.path.insert(0, '..')\n",
    "from tutorial_utilities.api_modules import explode_dataset, get_url\n",
    "import pandas as pd"
   ]
  },
  {
   "cell_type": "markdown",
   "id": "32c1ad31",
   "metadata": {},
   "source": [
    "---\n",
    "---"
   ]
  },
  {
   "cell_type": "markdown",
   "id": "c6b115ff",
   "metadata": {},
   "source": [
    "## Obtaining data\n",
    "\n",
    "Now we will find all the complexes containing the Human Alpha-4 subunit of Nicotinic Acetylcholine Receptor Complex (Uniprot accession: P43681)."
   ]
  },
  {
   "cell_type": "code",
   "execution_count": null,
   "id": "d9bbb9e5",
   "metadata": {},
   "outputs": [],
   "source": [
    "BASE_URL = \"https://www.ebi.ac.uk/pdbe/\"\n",
    "PDBEKB_UNIPROT_URL = BASE_URL + \"graph-api/uniprot/\"\n",
    "\n",
    "\n",
    "def get_complexes_protein_data(accession):\n",
    "    \"\"\"\n",
    "    Get all the protein complexes observed in PDB entries for a given UniProt accession        \n",
    "    \"\"\"\n",
    "    \n",
    "    url = f\"{PDBEKB_UNIPROT_URL}complex/{accession}\"\n",
    "    print(url)\n",
    "\n",
    "    dictfilt = lambda x, y: dict([ (i,x[i]) for i in x if i in set(y) ])\n",
    "    data = get_url(url=url)\n",
    "    data_out = []\n",
    "    \n",
    "    for row in data[accession]:\n",
    "        \n",
    "        # Get complex ID for row\n",
    "        complex_id = list(row.keys())[0]\n",
    "\n",
    "        my_row = {\"complex_id\": complex_id}\n",
    "        my_row.update(row[complex_id])\n",
    "        \n",
    "        # Example of list comprehension to quickly create a list\n",
    "        necc_rows = [keys for keys in my_row.keys() if keys !='participants']\n",
    "        necc_rows = dictfilt(my_row,necc_rows)\n",
    "\n",
    "        for item in my_row['participants'] :\n",
    "            # Example of dictionary comprehension to quickly create a dictionary\n",
    "            dict3 = {k:v for d in (necc_rows,item) for k,v in d.items()}\n",
    "            data_out.append(dict3)\n",
    "\n",
    "    \n",
    "    return data_out"
   ]
  },
  {
   "cell_type": "code",
   "execution_count": null,
   "id": "7570fae8",
   "metadata": {},
   "outputs": [],
   "source": [
    "uniprot_accession = 'P43681'\n",
    "results = get_complexes_protein_data(uniprot_accession) \n",
    "results"
   ]
  },
  {
   "cell_type": "markdown",
   "id": "eac94b12",
   "metadata": {},
   "source": [
    "---\n",
    "---"
   ]
  },
  {
   "cell_type": "markdown",
   "id": "b9d673b6",
   "metadata": {},
   "source": [
    "## Reformatting the data\n",
    "\n",
    "The output results of the query contain all the information about the complexes containing the Alpha-4 subunit, however it is in a complex nested list that contains duplicates and this makes it difficult to parse without reformatting.\n",
    "\n",
    "The following code simplifies the data and removes duplicates by grouping the data by the Complex ID and UniProt Accession:"
   ]
  },
  {
   "cell_type": "code",
   "execution_count": null,
   "id": "b50176b8",
   "metadata": {},
   "outputs": [],
   "source": [
    "# Reformat data using groupby remove repetition in the dataset      \n",
    "df_complexes_with_duplicates = pd.DataFrame(results)\n",
    "df_complexes = df_complexes_with_duplicates.groupby(['complex_id', 'accession']).first().reset_index()\n",
    "df_complexes"
   ]
  },
  {
   "cell_type": "markdown",
   "id": "72261f37",
   "metadata": {},
   "source": [
    "We can also add new columns to make the data more human-readable. For example, adding protein names"
   ]
  },
  {
   "cell_type": "code",
   "execution_count": null,
   "id": "29952a0c",
   "metadata": {},
   "outputs": [],
   "source": [
    "# Map UniProt IDs to Protein Names\n",
    "accession_mapping = {\n",
    "    'P43681': 'Neuronal acetylcholine receptor subunit alpha-4',\n",
    "    'P17787': 'Neuronal acetylcholine receptor subunit beta-2',\n",
    "    'P0ABE7': 'Soluble cytochrome b562',\n",
    "}\n",
    "\n",
    "# Map Tax IDs to Tax Names\n",
    "taxonomy_mapping = {\n",
    "    562: 'Escherichia coli',\n",
    "    9606: 'Homo sapiens'\n",
    "}\n",
    "\n",
    "df_complexes['protein_name'] = df_complexes['accession'].map(accession_mapping)\n",
    "df_complexes['taxonomy_name'] = df_complexes['taxonomy_id'].map(taxonomy_mapping)\n",
    "\n",
    "#Reorder columns\n",
    "new_column_order = ['complex_id', 'subcomplexes', 'accession', 'protein_name', 'stoichiometry', 'taxonomy_id', 'taxonomy_name' ]\n",
    "df_complexes = df_complexes[new_column_order]\n",
    "\n",
    "\n",
    "df_complexes"
   ]
  },
  {
   "cell_type": "markdown",
   "id": "2e6818ce",
   "metadata": {},
   "source": [
    "---\n",
    "---"
   ]
  },
  {
   "cell_type": "markdown",
   "id": "6b716e93",
   "metadata": {},
   "source": [
    "## Analysing the results\n",
    "\n",
    "Once the data has been reformatted into a human-readable format, it is simple to obtain the relevant information.\n"
   ]
  },
  {
   "cell_type": "code",
   "execution_count": null,
   "id": "ef6bb285",
   "metadata": {},
   "outputs": [],
   "source": [
    "# List all the complexes the subunit Alpha-4 is found in\n",
    "df_complexes['complex_id'].unique().tolist()"
   ]
  },
  {
   "cell_type": "markdown",
   "id": "3577ad3f",
   "metadata": {},
   "source": [
    "We can also identify all the complexes which contain non-human proteins"
   ]
  },
  {
   "cell_type": "code",
   "execution_count": null,
   "id": "cbe6c1f8",
   "metadata": {},
   "outputs": [],
   "source": [
    "rows_with_non_human_proteins = df_complexes[df_complexes['taxonomy_name'] != 'Homo sapiens']\n",
    "rows_with_non_human_proteins['complex_id'].unique().tolist()"
   ]
  },
  {
   "cell_type": "markdown",
   "id": "9816fa83",
   "metadata": {},
   "source": [
    "### Optional extras\n",
    "\n",
    "In the above code finds all complexes where there are UniProt accessions that are not found in humans. Why might this miss some complexes that contain non-human proteins?"
   ]
  },
  {
   "cell_type": "markdown",
   "id": "fa3bde8c",
   "metadata": {},
   "source": [
    "---\n",
    "---"
   ]
  },
  {
   "cell_type": "markdown",
   "id": "d3a8f761",
   "metadata": {},
   "source": [
    "## Writing the results to file\n",
    "\n",
    "We can save the results to a CSV file which we can load into excel."
   ]
  },
  {
   "cell_type": "code",
   "execution_count": null,
   "id": "bdff12e3",
   "metadata": {},
   "outputs": [],
   "source": [
    "df_complexes.to_csv(\"complexes.csv\")"
   ]
  }
 ],
 "metadata": {
  "kernelspec": {
   "display_name": "Python 3 (ipykernel)",
   "language": "python",
   "name": "python3"
  },
  "language_info": {
   "codemirror_mode": {
    "name": "ipython",
    "version": 3
   },
   "file_extension": ".py",
   "mimetype": "text/x-python",
   "name": "python",
   "nbconvert_exporter": "python",
   "pygments_lexer": "ipython3",
   "version": "3.9.13"
  }
 },
 "nbformat": 4,
 "nbformat_minor": 5
}
