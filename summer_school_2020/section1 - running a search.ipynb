{
 "cells": [
  {
   "cell_type": "markdown",
   "source": [
    "# PDBe API Training\n",
    "\n",
    "### PDBe search\n",
    "\n",
    "This interactive Python notebook will guide you through programmatically accessing Protein Data Bank in Europe (PDBe)\n",
    "data using our REST API\n",
    "\n",
    "The REST API is a programmatic way to obtain information from the PDB and EMDB. You can access details about:\n",
    "\n",
    "* sample\n",
    "* experiment\n",
    "* models\n",
    "* compounds\n",
    "* cross-references\n",
    "* publications\n",
    "* quality\n",
    "* assemblies\n",
    "* search\n",
    "and more...\n",
    "For more information, visit https://pdbe.org/api\n",
    "\n",
    "\n",
    "This tutorial will guide you through searching PDBe programmatically.\n",
    "\n",
    "\n",
    "First we will import the code which will do the work\n",
    "Run the cell below - either by pressing the green play button."
   ],
   "metadata": {
    "collapsed": false,
    "pycharm": {
     "name": "#%% md\n"
    }
   }
  },
  {
   "cell_type": "code",
   "execution_count": 1,
   "metadata": {
    "collapsed": true
   },
   "outputs": [],
   "source": [
    "from api_modules import run_search"
   ]
  },
  {
   "cell_type": "markdown",
   "source": [
    "Now we are ready to actually run a search against the PDB API for entries containing human Dihydrofolate reductase in the PDB. This will return a list of results - only 10 to start with.\n",
    "\n",
    "A list of search terms is available at:\n",
    "https://www.ebi.ac.uk/pdbe/api/doc/search.html\n",
    "\n",
    "We are going to search for the molecule name \"Dihydrofolate reductase\" in the PDB\n",
    "\n",
    "The search terms are defined as a dictionary (a hash in other programming lanuguages).\n",
    "e.g.\n",
    "{\"molecule_name\":\"Dihydrofolate reductase\"}\n",
    "\n",
    "We have imported a function called \"run_search\" that will do the search for us.\n",
    "We have limited this to 100 results."
   ],
   "metadata": {
    "collapsed": false,
    "pycharm": {
     "name": "#%% md\n"
    }
   }
  },
  {
   "cell_type": "code",
   "execution_count": 2,
   "outputs": [
    {
     "name": "stdout",
     "output_type": "stream",
     "text": [
      "1st search - limited to 10 results\n",
      "https://www.ebi.ac.uk/pdbe/search/pdb/select?q=molecule_name:\"Dihydrofolate reductase\"&wt=json&rows=10\n",
      "Number of results for Dihydrofolate reductase: 10\n",
      "finished\n"
     ]
    }
   ],
   "source": [
    "print('1st search - limited to 10 results')\n",
    "\n",
    "search_terms = {\"molecule_name\":\"Dihydrofolate reductase\"}\n",
    "\n",
    "first_results = run_search(search_terms)\n",
    "print('finished')"
   ],
   "metadata": {
    "collapsed": false,
    "pycharm": {
     "name": "#%%\n"
    }
   }
  },
  {
   "cell_type": "markdown",
   "source": [
    "We will then increase the number of rows to 1000"
   ],
   "metadata": {
    "collapsed": false,
    "pycharm": {
     "name": "#%% md\n"
    }
   }
  },
  {
   "cell_type": "code",
   "execution_count": 3,
   "outputs": [
    {
     "name": "stdout",
     "output_type": "stream",
     "text": [
      "Search with 1000 rows\n",
      "https://www.ebi.ac.uk/pdbe/search/pdb/select?q=molecule_name:\"Dihydrofolate reductase\"&wt=json&rows=1000\n",
      "Number of results for Dihydrofolate reductase: 405\n",
      "finished\n"
     ]
    }
   ],
   "source": [
    "print('Search with 1000 rows')\n",
    "\n",
    "search_terms = {\"molecule_name\":\"Dihydrofolate reductase\"}\n",
    "\n",
    "first_results_more_rows = run_search(search_terms, number_of_rows=1000)\n",
    "print('finished')"
   ],
   "metadata": {
    "collapsed": false,
    "pycharm": {
     "name": "#%%\n"
    }
   }
  },
  {
   "cell_type": "markdown",
   "source": [],
   "metadata": {
    "collapsed": false,
    "pycharm": {
     "name": "#%% md\n"
    }
   }
  },
  {
   "cell_type": "code",
   "execution_count": null,
   "outputs": [],
   "source": [],
   "metadata": {
    "collapsed": false,
    "pycharm": {
     "name": "#%%\n"
    }
   }
  }
 ],
 "metadata": {
  "kernelspec": {
   "display_name": "Python 3",
   "language": "python",
   "name": "python3"
  },
  "language_info": {
   "codemirror_mode": {
    "name": "ipython",
    "version": 2
   },
   "file_extension": ".py",
   "mimetype": "text/x-python",
   "name": "python",
   "nbconvert_exporter": "python",
   "pygments_lexer": "ipython2",
   "version": "2.7.6"
  }
 },
 "nbformat": 4,
 "nbformat_minor": 0
}