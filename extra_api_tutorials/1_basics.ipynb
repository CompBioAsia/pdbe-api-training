{
 "cells": [
  {
   "cell_type": "markdown",
   "metadata": {},
   "source": [
    "PDBe API Training\n",
    "=========\n",
    "\n",
    "This interactive Python notebook will guide you through various ways of programmatically accessing Protein Data Bank in Europe (PDBe) data using REST API\n",
    "\n",
    "The REST API is a programmatic way to obtain information from the PDB and EMDB. You can access details about:\n",
    "\n",
    "* sample\n",
    "* experiment\n",
    "* models\n",
    "* compounds\n",
    "* cross-references\n",
    "* publications \n",
    "* quality \n",
    "* assemblies \n",
    "* and more...\n",
    "\n",
    "For more information, visit http://www.ebi.ac.uk/pdbe/pdbe-rest-api"
   ]
  },
  {
   "cell_type": "markdown",
   "metadata": {},
   "source": [
    "# Notebook #1\n",
    "\n",
    "This notebook is the first in the training material series. It aims to lay down the foundation for understanding how users can interact with the PDBe REST API using Python3."
   ]
  },
  {
   "cell_type": "markdown",
   "metadata": {},
   "source": [
    "## 1) Making imports and setting variables\n",
    "\n",
    "First, we import some packages that we will use, and set some variables.\n",
    "\n",
    "Note: Full list of valid URLs is available from http://www.ebi.ac.uk/pdbe/api/doc/\n"
   ]
  },
  {
   "cell_type": "code",
   "execution_count": 1,
   "metadata": {},
   "outputs": [],
   "source": [
    "import re\n",
    "import requests\n",
    "\n",
    "base_url = \"https://www.ebi.ac.uk/pdbe/\"\n",
    "\n",
    "api_base = base_url + \"api/\"\n",
    "\n",
    "summary_url = api_base + 'pdb/entry/summary/'"
   ]
  },
  {
   "cell_type": "markdown",
   "metadata": {},
   "source": [
    "## 2) Basic examples\n",
    "\n",
    "We will start with some very basic examples and operations."
   ]
  },
  {
   "cell_type": "markdown",
   "metadata": {},
   "source": [
    "### 2.1) Iterating through lists"
   ]
  },
  {
   "cell_type": "code",
   "execution_count": 2,
   "metadata": {},
   "outputs": [
    {
     "name": "stdout",
     "output_type": "stream",
     "text": [
      "Iterating through PDB id list\n",
      "\n",
      "1cbs\n",
      "3bow\n"
     ]
    }
   ],
   "source": [
    "# This is a simple list with 2 PDB entry IDs\n",
    "basic_pdb_list = [\"1cbs\", \"3bow\"]\n",
    "\n",
    "# Iterating through this list (or any other lists)\n",
    "# can be done with a simple function, such as:\n",
    "def iterate_list(my_list):\n",
    "    \"\"\"\n",
    "    This function will iterate through a list,\n",
    "    and print each item\n",
    "    \n",
    "    :param my_list: List\n",
    "    :return: None\n",
    "    \"\"\"\n",
    "    for item in my_list:\n",
    "        print(item)\n",
    "        \n",
    "# Calling the function:\n",
    "print(\"Iterating through PDB id list\")\n",
    "print()\n",
    "iterate_list(basic_pdb_list)"
   ]
  },
  {
   "cell_type": "markdown",
   "metadata": {},
   "source": [
    "### 2.2) Getting a specific item from a list\n",
    "\n",
    "Getting a specific element of a list can be done using a function such as this below.\n",
    "Please note that indices start from 0 in Python, so the first element of a list has an index of 0"
   ]
  },
  {
   "cell_type": "code",
   "execution_count": 3,
   "metadata": {},
   "outputs": [
    {
     "name": "stdout",
     "output_type": "stream",
     "text": [
      "First PDB id: 1cbs\n",
      "Second PDB id: 3bow\n"
     ]
    }
   ],
   "source": [
    "def get_item(index, my_list):\n",
    "    \"\"\"\n",
    "    This function will get an item from a list\n",
    "    using the index of the item\n",
    "    \n",
    "    :param index: Integer\n",
    "    :param my_list: List\n",
    "    :return: String\n",
    "    \"\"\"\n",
    "    return my_list[index]\n",
    "\n",
    "# Calling the function for the first element\n",
    "first = get_item(0, basic_pdb_list)\n",
    "print(\"First PDB id: %s\" % first)\n",
    "\n",
    "# Calling the function for the second element\n",
    "second = get_item(1, basic_pdb_list)\n",
    "print(\"Second PDB id: %s\" % second)"
   ]
  },
  {
   "cell_type": "markdown",
   "metadata": {},
   "source": [
    "### 2.3) Getting a value for a key from a dictionary\n",
    "\n",
    "Dictionaries are data structures with unique keys and corresponding values.\n",
    "\n",
    "PDBe API calls generally return data in the form of dictionaries, i.e. collections of key and value pairs\n",
    "\n",
    "Getting values from a dictionary can be done either by directly accessing the value using the key, or by using a simple function, such as below."
   ]
  },
  {
   "cell_type": "code",
   "execution_count": 5,
   "metadata": {},
   "outputs": [
    {
     "name": "stdout",
     "output_type": "stream",
     "text": [
      "Getting value directly: 1cbs\n",
      "Getting value using function: 1cbs\n"
     ]
    }
   ],
   "source": [
    "simple_dictionary = {\"key\": \"value\"}\n",
    "\n",
    "# Getting value directly from a dictionary using its key\n",
    "simple_dictionary[\"key\"]\n",
    "\n",
    "# Basic example of a dictionary with two keys and two\n",
    "# corresponding values\n",
    "basic_pdb_dictionary = {\n",
    "    \"pdb_id\": \"1cbs\",\n",
    "    \"experimental_method\": \"X-ray diffraction\",\n",
    "}\n",
    "\n",
    "# Getting value directly using key\n",
    "print(\"Getting value directly: %s\" % basic_pdb_dictionary[\"pdb_id\"])\n",
    "\n",
    "# Getting value using simple function\n",
    "def get_value(key, my_dictionary):\n",
    "    \"\"\"\n",
    "    Gets the value that corresponds to a key in a \n",
    "    dictionary\n",
    "    \n",
    "    :param key: String,\n",
    "    :param my_dictionary: Dict\n",
    "    :return: String\n",
    "    \"\"\"\n",
    "    return(my_dictionary[key])\n",
    "\n",
    "print(\"Getting value using function: %s\" % get_value(\"pdb_id\", basic_pdb_dictionary))"
   ]
  },
  {
   "cell_type": "markdown",
   "metadata": {},
   "source": [
    "## 3) Creating a mock PDBe entry\n",
    "\n",
    "The dictionary below will serve as an offline example of what an actual API call would return for the entry \"1CBS\" when querying for the entry summary\n",
    "\n",
    "You can try to make this call from your browser by copy/pasting the URL below:\n",
    "\n",
    "https://www.ebi.ac.uk/pdbe/api/pdb/entry/summary/1cbs"
   ]
  },
  {
   "cell_type": "code",
   "execution_count": 6,
   "metadata": {},
   "outputs": [],
   "source": [
    "mock_entry_summary = {\n",
    "  \"1cbs\": [\n",
    "    {\n",
    "      \"related_structures\": [ ], \n",
    "      \"split_entry\": [ ], \n",
    "      \"title\": \"CRYSTAL STRUCTURE OF CELLULAR RETINOIC-ACID-BINDING PROTEINS I AND II IN COMPLEX WITH ALL-TRANS-RETINOIC ACID AND A SYNTHETIC RETINOID\", \n",
    "      \"release_date\": \"19950126\", \n",
    "      \"experimental_method\": [\n",
    "        \"X-ray diffraction\"\n",
    "      ], \n",
    "      \"experimental_method_class\": [\n",
    "        \"x-ray\"\n",
    "      ], \n",
    "      \"revision_date\": \"20110713\", \n",
    "      \"entry_authors\": [\n",
    "        \"Kleywegt, G.J.\", \n",
    "        \"Bergfors, T.\", \n",
    "        \"Jones, T.A.\"\n",
    "      ], \n",
    "      \"deposition_site\": \"null\", \n",
    "      \"number_of_entities\": {\n",
    "        \"polypeptide\": 1, \n",
    "        \"dna\": 0, \n",
    "        \"ligand\": 1, \n",
    "        \"dna/rna\": 0, \n",
    "        \"rna\": 0, \n",
    "        \"sugar\": 0, \n",
    "        \"water\": 1, \n",
    "        \"other\": 0\n",
    "      }, \n",
    "      \"processing_site\": \"null\", \n",
    "      \"deposition_date\": \"19940928\", \n",
    "      \"assemblies\": [\n",
    "        {\n",
    "          \"assembly_id\": \"1\", \n",
    "          \"form\": \"homo\", \n",
    "          \"preferred\": \"true\", \n",
    "          \"name\": \"monomer\"\n",
    "        }\n",
    "      ]\n",
    "    }\n",
    "  ]\n",
    "}"
   ]
  },
  {
   "cell_type": "markdown",
   "metadata": {},
   "source": [
    "As you can see, the data is structured as a JSON dictionary, with key and value pairs, for example: \"revision_data\": \"20110713\"\n",
    "\n",
    "We will use this mock data for our first few operations."
   ]
  },
  {
   "cell_type": "markdown",
   "metadata": {},
   "source": [
    "## 4) Getting entry from the mock PDB data\n",
    "\n",
    "Now let's try to get entries using a simple function!\n",
    "We will first use the mock PDB data to perform our GET function (and call our get_value function)"
   ]
  },
  {
   "cell_type": "code",
   "execution_count": 7,
   "metadata": {},
   "outputs": [
    {
     "name": "stdout",
     "output_type": "stream",
     "text": [
      "Trying with PDB id which is not in the dictionary:\n",
      "Key error: '3bow'\n",
      "None\n",
      "\n",
      "Trying with PDB id which is in the dictionary:\n",
      "{'1cbs': [{'related_structures': [], 'split_entry': [], 'title': 'CRYSTAL STRUCTURE OF CELLULAR RETINOIC-ACID-BINDING PROTEINS I AND II IN COMPLEX WITH ALL-TRANS-RETINOIC ACID AND A SYNTHETIC RETINOID', 'release_date': '19950126', 'experimental_method': ['X-ray diffraction'], 'experimental_method_class': ['x-ray'], 'revision_date': '20110713', 'entry_authors': ['Kleywegt, G.J.', 'Bergfors, T.', 'Jones, T.A.'], 'deposition_site': 'null', 'number_of_entities': {'polypeptide': 1, 'dna': 0, 'ligand': 1, 'dna/rna': 0, 'rna': 0, 'sugar': 0, 'water': 1, 'other': 0}, 'processing_site': 'null', 'deposition_date': '19940928', 'assemblies': [{'assembly_id': '1', 'form': 'homo', 'preferred': 'true', 'name': 'monomer'}]}]}\n"
     ]
    }
   ],
   "source": [
    "def get_entry(pdb_id):\n",
    "    \"\"\"\n",
    "    This function tries to get the data that corresponds to \n",
    "    a PDB id\n",
    "    \n",
    "    If the entry id is not found, it print an error message\n",
    "    and returns None\n",
    "    \n",
    "    :param pdb_id: String\n",
    "    :return: Dict or None\n",
    "    \"\"\"\n",
    "    try:\n",
    "        # This next line will use our previously written\n",
    "        # get_value() function\n",
    "        return {pdb_id: get_value(pdb_id, mock_entry_summary)}\n",
    "    except KeyError as error:\n",
    "        print(\"Key error: %s\" % error)\n",
    "        return None\n",
    "\n",
    "# Try to get PDB entry \"3bow\"\n",
    "print(\"Trying with PDB id which is not in the dictionary:\")\n",
    "print(get_entry(\"3bow\"))\n",
    "print()\n",
    "\n",
    "# Try to get PDB entry \"1cbs\"\n",
    "print(\"Trying with PDB id which is in the dictionary:\")\n",
    "print(get_entry(\"1cbs\"))\n"
   ]
  },
  {
   "cell_type": "markdown",
   "metadata": {},
   "source": [
    "## 5) Getting summary information for an entry (still using mock data)\n",
    "\n",
    "Let's write a function that can be used to write a brief summary of a PDB entry\n",
    "\n",
    "Please note, that certain calls could return multiple PDB entries (i.e. POST calls), but the GET summary call we use in this exercise will always return only one PDB entry"
   ]
  },
  {
   "cell_type": "code",
   "execution_count": 8,
   "metadata": {},
   "outputs": [
    {
     "name": "stdout",
     "output_type": "stream",
     "text": [
      "Entry is titled \"CRYSTAL STRUCTURE OF CELLULAR RETINOIC-ACID-BINDING PROTEINS I AND II IN COMPLEX WITH ALL-TRANS-RETINOIC ACID AND A SYNTHETIC RETINOID\" and was released on 1995/01/26. This entry was determined using X-ray diffraction.\n"
     ]
    }
   ],
   "source": [
    "def make_summary(data):\n",
    "    \"\"\"\n",
    "    This function creates a summary for a PDB entry\n",
    "    by getting data for an entry, and extracting\n",
    "    pieces of information\n",
    "    \n",
    "    :param data: Dict\n",
    "    :return: String\n",
    "    \"\"\"\n",
    "    \n",
    "    pdb_id = \"\"\n",
    "    # Certain calls could return multiple PDB entries,\n",
    "    # but the GET summary call we use in this exercise\n",
    "    # will always return only one PDB entry\n",
    "    for key in data.keys():\n",
    "        pdb_id = key\n",
    "\n",
    "    # The data is a list of dictionaries, and for the summary information,\n",
    "    # it is always the first element of the list\n",
    "    entry = get_item(0, data[pdb_id])\n",
    "    \n",
    "    # Getting the title of the entry\n",
    "    title = get_value(\"title\", entry)\n",
    "    \n",
    "    # Getting the release date of the entry\n",
    "    release_date = get_value(\"release_date\", entry)\n",
    "    # Formatting the entry to make it more user-friendly\n",
    "    formatted_release_date = \"%s/%s/%s\" % (\n",
    "        release_date[:4], \n",
    "        release_date[4:6], \n",
    "        release_date[6:])\n",
    "    \n",
    "    # Getting the experimental methods\n",
    "    # Note that there can be multiple methods, so this is a list that\n",
    "    # needs to be iterated\n",
    "    experimental_methods = \"\"\n",
    "    for experimental_method in get_value(\"experimental_method\", entry):\n",
    "        if experimental_methods:\n",
    "            experimental_methods += \" and \"\n",
    "        experimental_methods += experimental_method\n",
    "     \n",
    "    # Creating the summary text using all the extracted \n",
    "    # information\n",
    "    summary = \"Entry is titled \\\"%s\\\" and was released on %s.\" % ( \n",
    "        title, \n",
    "        formatted_release_date)\n",
    "    summary += \" This entry was determined using %s.\" % experimental_methods\n",
    "    return summary\n",
    "\n",
    "print(make_summary(get_entry(\"1cbs\")))"
   ]
  },
  {
   "cell_type": "markdown",
   "metadata": {},
   "source": [
    "## 6) Switching to real API data\n",
    "\n",
    "Finally, we will start using the PDBe API to make real calls to get data for any PDB entry of interest\n",
    "\n",
    "First, we need a function to communicate with the API\n",
    "\n",
    "Making calls over the network is more expensive than getting data from a mock dictionary, so we will include an additional check before making the call: we will check if the PDB id in the pdb_id argument is a valid id that matches the PDB id pattern"
   ]
  },
  {
   "cell_type": "code",
   "execution_count": 9,
   "metadata": {},
   "outputs": [
    {
     "name": "stdout",
     "output_type": "stream",
     "text": [
      "Trying to GET data with invalid PDB id:\n",
      "Invalid PDB id\n",
      "None\n",
      "\n",
      "Trying to GET data with valid PDB id:\n",
      "{'1cbs': [{'related_structures': [], 'split_entry': [], 'title': 'CRYSTAL STRUCTURE OF CELLULAR RETINOIC-ACID-BINDING PROTEINS I AND II IN COMPLEX WITH ALL-TRANS-RETINOIC ACID AND A SYNTHETIC RETINOID', 'release_date': '19950126', 'experimental_method': ['X-ray diffraction'], 'experimental_method_class': ['x-ray'], 'revision_date': '20110713', 'entry_authors': ['Kleywegt, G.J.', 'Bergfors, T.', 'Jones, T.A.'], 'deposition_site': None, 'number_of_entities': {'polypeptide': 1, 'dna': 0, 'ligand': 1, 'dna/rna': 0, 'rna': 0, 'sugar': 0, 'water': 1, 'other': 0}, 'processing_site': None, 'deposition_date': '19940928', 'assemblies': [{'assembly_id': '1', 'form': 'homo', 'preferred': True, 'name': 'monomer'}]}]}\n"
     ]
    }
   ],
   "source": [
    "def get_entry_from_api(pdb_id, api_url):\n",
    "    \"\"\"\n",
    "    This function will make a call to the PDBe API using\n",
    "    the PDB id and API url provided as arguments\n",
    "    \n",
    "    :param pdb_id: String,\n",
    "    :param api_url: String\n",
    "    :return: Dict or None\n",
    "    \"\"\"\n",
    "    if not re.match(\"[0-9][A-Za-z][A-Za-z0-9]{2}\", pdb_id):\n",
    "        print(\"Invalid PDB id\")\n",
    "        return None\n",
    "    \n",
    "    # Make a GET call to the API URL\n",
    "    get_request = requests.get(url=api_url+pdb_id)\n",
    "    \n",
    "    if get_request.status_code == 200:\n",
    "        # If there is data returned (with HTML status code 200)\n",
    "        # then return the data in JSON format\n",
    "        return get_request.json()\n",
    "    else:\n",
    "        # If there is no data, print status code and response\n",
    "        print(get_request.status_code, get_request.text)\n",
    "        return None\n",
    "\n",
    "# Try our GET function with an invalid PDB id\n",
    "print(\"Trying to GET data with invalid PDB id:\")\n",
    "print(get_entry_from_api(\"whatever\", summary_url))\n",
    "print()    \n",
    "\n",
    "print(\"Trying to GET data with valid PDB id:\")\n",
    "print(get_entry_from_api(\"1cbs\", summary_url))\n",
    "\n",
    "# As you can hopefully see, the data displayed is very similar to\n",
    "# what we had in the mock data in previous sections - however,\n",
    "# this is actual data coming from the PDBe API\n",
    "    "
   ]
  },
  {
   "cell_type": "markdown",
   "metadata": {},
   "source": [
    "As you can hopefully see, the data displayed is very similar to what we had in the mock data in previous sections - however, this is actual data coming from the PDBe API"
   ]
  },
  {
   "cell_type": "markdown",
   "metadata": {},
   "source": [
    "## 7) Trying the make_summary() function with real API data\n",
    "\n",
    "To wrap up this first interactive notebook, we will try to use our make_summary() function on real API data - All we need to do is to change the argument (data) we are passing into it"
   ]
  },
  {
   "cell_type": "code",
   "execution_count": 10,
   "metadata": {},
   "outputs": [
    {
     "name": "stdout",
     "output_type": "stream",
     "text": [
      "Example #1\n",
      "Entry is titled \"Structure of M-calpain in complex with Calpastatin\" and was released on 2008/11/25. This entry was determined using X-ray diffraction.\n",
      "\n",
      "Example #2\n",
      "Entry is titled \"Solution Structure of L11 with SAXS and RDC\" and was released on 2009/10/06. This entry was determined using Solution NMR and X-ray solution scattering.\n"
     ]
    }
   ],
   "source": [
    "print(\"Example #1\")\n",
    "print(make_summary(get_entry_from_api(\"3bow\", summary_url)))\n",
    "print()\n",
    "print(\"Example #2\")\n",
    "print(make_summary(get_entry_from_api(\"2klm\", summary_url)))"
   ]
  },
  {
   "cell_type": "markdown",
   "metadata": {},
   "source": [
    "## This ends the first notebook - please proceed to other notebooks of your interest"
   ]
  },
  {
   "cell_type": "markdown",
   "metadata": {},
   "source": [
    "Copyright 2018 EMBL - European Bioinformatics Institute\n",
    "\n",
    "Licensed under the Apache License, Version 2.0 (the \"License\"); you may not use this file except in compliance with the License. You may obtain a copy of the License at http://www.apache.org/licenses/LICENSE-2.0\n",
    "\n",
    "Unless required by applicable law or agreed to in writing, software distributed under the License is distributed on an \"AS IS\" BASIS, WITHOUT WARRANTIES OR CONDITIONS OF ANY KIND, either express or implied. See the License for the specific language governing permissions and limitations under the License."
   ]
  }
 ],
 "metadata": {
  "kernelspec": {
   "display_name": "Python 3.8.9 64-bit",
   "language": "python",
   "name": "python3"
  },
  "language_info": {
   "codemirror_mode": {
    "name": "ipython",
    "version": 3
   },
   "file_extension": ".py",
   "mimetype": "text/x-python",
   "name": "python",
   "nbconvert_exporter": "python",
   "pygments_lexer": "ipython3",
   "version": "3.8.9"
  },
  "vscode": {
   "interpreter": {
    "hash": "31f2aee4e71d21fbe5cf8b01ff0e069b9275f58929596ceb00d14d90e3e16cd6"
   }
  }
 },
 "nbformat": 4,
 "nbformat_minor": 2
}
