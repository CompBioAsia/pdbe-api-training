{
 "cells": [
  {
   "cell_type": "markdown",
   "metadata": {},
   "source": [
    "# PDBe API Training\n",
    "\n",
    "### PDBe Ligand Interactions for a given protein\n",
    "\n",
    "This tutorial will guide you through searching PDBe programmatically.\n",
    "\n",
    "\n",
    "First we will import the code which will do the work\n",
    "Run the cell below - by pressing the green play button."
   ]
  },
  {
   "cell_type": "code",
   "execution_count": 7,
   "metadata": {
    "pycharm": {
     "name": "#%%\n"
    }
   },
   "outputs": [],
   "source": [
    "import pandas as pd\n",
    "import numpy as np\n",
    "import requests\n",
    "from pprint import pprint\n",
    "import matplotlib.pyplot as plt\n",
    "from IPython.display import SVG, display\n",
    "import sys\n",
    "sys.path.insert(0,'..')\n",
    "from python_modules.api_modules import explode_dataset, get_ligand_site_data, get_similar_ligand_data"
   ]
  },
  {
   "cell_type": "markdown",
   "metadata": {
    "pycharm": {
     "name": "#%% md\n"
    }
   },
   "source": [
    "Now we are ready to find all the ligands and its interaction details bound to a given protein.\n",
    "\n",
    "We will get ligands for a  SARS-CoV-2 Spike glycoprotein whose UniProt accession is P0DTC2 "
   ]
  },
  {
   "cell_type": "code",
   "execution_count": 8,
   "metadata": {
    "pycharm": {
     "name": "#%%\n"
    }
   },
   "outputs": [
    {
     "data": {
      "text/plain": [
       "'P0DTC2'"
      ]
     },
     "execution_count": 8,
     "metadata": {},
     "output_type": "execute_result"
    }
   ],
   "source": [
    "uniprot_accession = 'P0DTC2'\n",
    "\n",
    "uniprot_accession"
   ]
  },
  {
   "cell_type": "markdown",
   "metadata": {
    "pycharm": {
     "name": "#%% md\n"
    }
   },
   "source": [
    "Get compounds which interact with the UniProt"
   ]
  },
  {
   "cell_type": "code",
   "execution_count": 9,
   "metadata": {
    "pycharm": {
     "name": "#%%\n"
    }
   },
   "outputs": [
    {
     "name": "stdout",
     "output_type": "stream",
     "text": [
      "https://www.ebi.ac.uk/pdbe/graph-api/uniprot/ligand_sites/P0DTC2\n"
     ]
    }
   ],
   "source": [
    "ligand_data = get_ligand_site_data(uniprot_accession=uniprot_accession)"
   ]
  },
  {
   "cell_type": "code",
   "execution_count": 10,
   "metadata": {
    "pycharm": {
     "name": "#%%\n"
    },
    "scrolled": false
   },
   "outputs": [],
   "source": [
    "#pprint(ligand_data)"
   ]
  },
  {
   "cell_type": "code",
   "execution_count": 6,
   "metadata": {
    "pycharm": {
     "name": "#%%\n"
    }
   },
   "outputs": [],
   "source": [
    "df2 = explode_dataset(result=ligand_data, column_to_explode='interactingPDBEntries')"
   ]
  },
  {
   "cell_type": "markdown",
   "metadata": {
    "pycharm": {
     "name": "#%% md\n"
    }
   },
   "source": [
    "Some post processing is required to separating interactingPDBEntries into separate columns"
   ]
  },
  {
   "cell_type": "code",
   "execution_count": 23,
   "metadata": {
    "pycharm": {
     "name": "#%%\n"
    }
   },
   "outputs": [
    {
     "name": "stdout",
     "output_type": "stream",
     "text": [
      "   startIndex  endIndex startCode endCode indexType  \\\n",
      "0         660       660       TYR     TYR   UNIPROT   \n",
      "1         673       673       SER     SER   UNIPROT   \n",
      "2         675       675       GLN     GLN   UNIPROT   \n",
      "3         693       693       ILE     ILE   UNIPROT   \n",
      "4         695       695       TYR     TYR   UNIPROT   \n",
      "\n",
      "                               interactingPDBEntries allPDBEntries  \\\n",
      "0  {'pdbId': '7qur', 'entityId': 1, 'chainIds': 'B'}        [7qur]   \n",
      "1  {'pdbId': '7qur', 'entityId': 1, 'chainIds': 'B'}        [7qur]   \n",
      "2  {'pdbId': '7qur', 'entityId': 1, 'chainIds': 'B'}        [7qur]   \n",
      "3  {'pdbId': '7qur', 'entityId': 1, 'chainIds': 'B'}        [7qur]   \n",
      "4  {'pdbId': '7qur', 'entityId': 1, 'chainIds': 'B'}        [7qur]   \n",
      "\n",
      "  ligand_accession                   ligand_name  ligand_num_atoms  \\\n",
      "0              GE9  2,3,5-tris(iodanyl)benzamide                12   \n",
      "1              GE9  2,3,5-tris(iodanyl)benzamide                12   \n",
      "2              GE9  2,3,5-tris(iodanyl)benzamide                12   \n",
      "3              GE9  2,3,5-tris(iodanyl)benzamide                12   \n",
      "4              GE9  2,3,5-tris(iodanyl)benzamide                12   \n",
      "\n",
      "  uniprot_accession  interaction_ratio  \n",
      "0            P0DTC2                1.0  \n",
      "1            P0DTC2                1.0  \n",
      "2            P0DTC2                1.0  \n",
      "3            P0DTC2                1.0  \n",
      "4            P0DTC2                1.0  \n"
     ]
    }
   ],
   "source": [
    "print(df2.head())"
   ]
  },
  {
   "cell_type": "code",
   "execution_count": 24,
   "metadata": {
    "pycharm": {
     "name": "#%%\n"
    }
   },
   "outputs": [],
   "source": [
    "data = pd.json_normalize(df2['interactingPDBEntries'])\n",
    "df3 = df2.join(data).drop(columns='interactingPDBEntries')"
   ]
  },
  {
   "cell_type": "markdown",
   "metadata": {
    "pycharm": {
     "name": "#%% md\n"
    }
   },
   "source": [
    "\n",
    "startIndex and endIndex are the UniProt residue number, so we'll make a new column called residue_number\n",
    "and copy the startIndex there.\n",
    "We are also going to \"count\" the number of results - so we'll make a dummy count column to store it in"
   ]
  },
  {
   "cell_type": "code",
   "execution_count": 25,
   "metadata": {
    "pycharm": {
     "name": "#%%\n"
    }
   },
   "outputs": [],
   "source": [
    "df3['residue_number'] = df3['startIndex']\n",
    "df3['count'] = df3['pdbId']"
   ]
  },
  {
   "cell_type": "markdown",
   "metadata": {
    "pycharm": {
     "name": "#%% md\n"
    }
   },
   "source": [
    "Now we are ready to use the data."
   ]
  },
  {
   "cell_type": "code",
   "execution_count": 26,
   "metadata": {
    "pycharm": {
     "name": "#%%\n"
    }
   },
   "outputs": [
    {
     "data": {
      "text/html": [
       "<div>\n",
       "<style scoped>\n",
       "    .dataframe tbody tr th:only-of-type {\n",
       "        vertical-align: middle;\n",
       "    }\n",
       "\n",
       "    .dataframe tbody tr th {\n",
       "        vertical-align: top;\n",
       "    }\n",
       "\n",
       "    .dataframe thead th {\n",
       "        text-align: right;\n",
       "    }\n",
       "</style>\n",
       "<table border=\"1\" class=\"dataframe\">\n",
       "  <thead>\n",
       "    <tr style=\"text-align: right;\">\n",
       "      <th></th>\n",
       "      <th>startIndex</th>\n",
       "      <th>endIndex</th>\n",
       "      <th>startCode</th>\n",
       "      <th>endCode</th>\n",
       "      <th>indexType</th>\n",
       "      <th>allPDBEntries</th>\n",
       "      <th>ligand_accession</th>\n",
       "      <th>ligand_name</th>\n",
       "      <th>ligand_num_atoms</th>\n",
       "      <th>uniprot_accession</th>\n",
       "      <th>interaction_ratio</th>\n",
       "      <th>pdbId</th>\n",
       "      <th>entityId</th>\n",
       "      <th>chainIds</th>\n",
       "      <th>residue_number</th>\n",
       "      <th>count</th>\n",
       "    </tr>\n",
       "  </thead>\n",
       "  <tbody>\n",
       "    <tr>\n",
       "      <th>0</th>\n",
       "      <td>660</td>\n",
       "      <td>660</td>\n",
       "      <td>TYR</td>\n",
       "      <td>TYR</td>\n",
       "      <td>UNIPROT</td>\n",
       "      <td>[7qur]</td>\n",
       "      <td>GE9</td>\n",
       "      <td>2,3,5-tris(iodanyl)benzamide</td>\n",
       "      <td>12</td>\n",
       "      <td>P0DTC2</td>\n",
       "      <td>1.0</td>\n",
       "      <td>7qur</td>\n",
       "      <td>1</td>\n",
       "      <td>B</td>\n",
       "      <td>660</td>\n",
       "      <td>7qur</td>\n",
       "    </tr>\n",
       "    <tr>\n",
       "      <th>1</th>\n",
       "      <td>673</td>\n",
       "      <td>673</td>\n",
       "      <td>SER</td>\n",
       "      <td>SER</td>\n",
       "      <td>UNIPROT</td>\n",
       "      <td>[7qur]</td>\n",
       "      <td>GE9</td>\n",
       "      <td>2,3,5-tris(iodanyl)benzamide</td>\n",
       "      <td>12</td>\n",
       "      <td>P0DTC2</td>\n",
       "      <td>1.0</td>\n",
       "      <td>7qur</td>\n",
       "      <td>1</td>\n",
       "      <td>B</td>\n",
       "      <td>673</td>\n",
       "      <td>7qur</td>\n",
       "    </tr>\n",
       "    <tr>\n",
       "      <th>2</th>\n",
       "      <td>675</td>\n",
       "      <td>675</td>\n",
       "      <td>GLN</td>\n",
       "      <td>GLN</td>\n",
       "      <td>UNIPROT</td>\n",
       "      <td>[7qur]</td>\n",
       "      <td>GE9</td>\n",
       "      <td>2,3,5-tris(iodanyl)benzamide</td>\n",
       "      <td>12</td>\n",
       "      <td>P0DTC2</td>\n",
       "      <td>1.0</td>\n",
       "      <td>7qur</td>\n",
       "      <td>1</td>\n",
       "      <td>B</td>\n",
       "      <td>675</td>\n",
       "      <td>7qur</td>\n",
       "    </tr>\n",
       "    <tr>\n",
       "      <th>3</th>\n",
       "      <td>693</td>\n",
       "      <td>693</td>\n",
       "      <td>ILE</td>\n",
       "      <td>ILE</td>\n",
       "      <td>UNIPROT</td>\n",
       "      <td>[7qur]</td>\n",
       "      <td>GE9</td>\n",
       "      <td>2,3,5-tris(iodanyl)benzamide</td>\n",
       "      <td>12</td>\n",
       "      <td>P0DTC2</td>\n",
       "      <td>1.0</td>\n",
       "      <td>7qur</td>\n",
       "      <td>1</td>\n",
       "      <td>B</td>\n",
       "      <td>693</td>\n",
       "      <td>7qur</td>\n",
       "    </tr>\n",
       "    <tr>\n",
       "      <th>4</th>\n",
       "      <td>695</td>\n",
       "      <td>695</td>\n",
       "      <td>TYR</td>\n",
       "      <td>TYR</td>\n",
       "      <td>UNIPROT</td>\n",
       "      <td>[7qur]</td>\n",
       "      <td>GE9</td>\n",
       "      <td>2,3,5-tris(iodanyl)benzamide</td>\n",
       "      <td>12</td>\n",
       "      <td>P0DTC2</td>\n",
       "      <td>1.0</td>\n",
       "      <td>7qur</td>\n",
       "      <td>1</td>\n",
       "      <td>B</td>\n",
       "      <td>695</td>\n",
       "      <td>7qur</td>\n",
       "    </tr>\n",
       "  </tbody>\n",
       "</table>\n",
       "</div>"
      ],
      "text/plain": [
       "   startIndex  endIndex startCode endCode indexType allPDBEntries  \\\n",
       "0         660       660       TYR     TYR   UNIPROT        [7qur]   \n",
       "1         673       673       SER     SER   UNIPROT        [7qur]   \n",
       "2         675       675       GLN     GLN   UNIPROT        [7qur]   \n",
       "3         693       693       ILE     ILE   UNIPROT        [7qur]   \n",
       "4         695       695       TYR     TYR   UNIPROT        [7qur]   \n",
       "\n",
       "  ligand_accession                   ligand_name  ligand_num_atoms  \\\n",
       "0              GE9  2,3,5-tris(iodanyl)benzamide                12   \n",
       "1              GE9  2,3,5-tris(iodanyl)benzamide                12   \n",
       "2              GE9  2,3,5-tris(iodanyl)benzamide                12   \n",
       "3              GE9  2,3,5-tris(iodanyl)benzamide                12   \n",
       "4              GE9  2,3,5-tris(iodanyl)benzamide                12   \n",
       "\n",
       "  uniprot_accession  interaction_ratio pdbId  entityId chainIds  \\\n",
       "0            P0DTC2                1.0  7qur         1        B   \n",
       "1            P0DTC2                1.0  7qur         1        B   \n",
       "2            P0DTC2                1.0  7qur         1        B   \n",
       "3            P0DTC2                1.0  7qur         1        B   \n",
       "4            P0DTC2                1.0  7qur         1        B   \n",
       "\n",
       "   residue_number count  \n",
       "0             660  7qur  \n",
       "1             673  7qur  \n",
       "2             675  7qur  \n",
       "3             693  7qur  \n",
       "4             695  7qur  "
      ]
     },
     "execution_count": 26,
     "metadata": {},
     "output_type": "execute_result"
    }
   ],
   "source": [
    "df3.head()"
   ]
  },
  {
   "cell_type": "markdown",
   "metadata": {
    "pycharm": {
     "name": "#%% md\n"
    }
   },
   "source": [
    "Ligands which interact with every entry have an interaction_ratio of 1.0.\n",
    "So lets get them...."
   ]
  },
  {
   "cell_type": "code",
   "execution_count": 27,
   "metadata": {
    "pycharm": {
     "name": "#%%\n"
    }
   },
   "outputs": [],
   "source": [
    "df4 = df3.groupby('ligand_accession')['interaction_ratio'].mean().reset_index()\n",
    "ret = df4.query('interaction_ratio == 1.0')['ligand_accession'].values"
   ]
  },
  {
   "cell_type": "code",
   "execution_count": 28,
   "metadata": {
    "pycharm": {
     "name": "#%%\n"
    }
   },
   "outputs": [
    {
     "data": {
      "text/plain": [
       "array(['BU2', 'CA', 'CD', 'GAL', 'GE9', 'IOD', 'K', 'NDG', 'POL', 'SCN',\n",
       "       'SIA', 'STE', 'XYL'], dtype=object)"
      ]
     },
     "execution_count": 28,
     "metadata": {},
     "output_type": "execute_result"
    }
   ],
   "source": [
    "ret"
   ]
  },
  {
   "cell_type": "markdown",
   "metadata": {
    "pycharm": {
     "name": "#%% md\n"
    }
   },
   "source": [
    "Lets see if we can filter ligands by which ligands interact with the residues which have the most interactions.\n",
    "\n",
    "First lets see how many interactions we have per residue."
   ]
  },
  {
   "cell_type": "code",
   "execution_count": 29,
   "metadata": {
    "pycharm": {
     "name": "#%%\n"
    }
   },
   "outputs": [],
   "source": [
    "df4 = df3.groupby('residue_number')['count'].count().reset_index()"
   ]
  },
  {
   "cell_type": "code",
   "execution_count": 30,
   "metadata": {
    "pycharm": {
     "name": "#%%\n"
    }
   },
   "outputs": [
    {
     "data": {
      "text/plain": [
       "<AxesSubplot:xlabel='residue_number', ylabel='count'>"
      ]
     },
     "execution_count": 30,
     "metadata": {},
     "output_type": "execute_result"
    },
    {
     "data": {
      "image/png": "[encoded data removed]",
      "text/plain": [
       "<Figure size 432x288 with 1 Axes>"
      ]
     },
     "metadata": {
      "needs_background": "light"
     },
     "output_type": "display_data"
    }
   ],
   "source": [
    "df4.plot.scatter(x='residue_number', y='count')"
   ]
  },
  {
   "cell_type": "markdown",
   "metadata": {
    "pycharm": {
     "name": "#%% md\n"
    }
   },
   "source": [
    "We can the determine the mean number of interactions"
   ]
  },
  {
   "cell_type": "code",
   "execution_count": 31,
   "metadata": {
    "pycharm": {
     "name": "#%%\n"
    }
   },
   "outputs": [
    {
     "data": {
      "text/plain": [
       "residue_number    482.891949\n",
       "count              47.940678\n",
       "dtype: float64"
      ]
     },
     "execution_count": 31,
     "metadata": {},
     "output_type": "execute_result"
    }
   ],
   "source": [
    "mean = df4.mean()\n",
    "mean"
   ]
  },
  {
   "cell_type": "markdown",
   "metadata": {
    "pycharm": {
     "name": "#%% md\n"
    }
   },
   "source": [
    "We need to extract the mean value as a number from the above result"
   ]
  },
  {
   "cell_type": "code",
   "execution_count": 32,
   "metadata": {
    "pycharm": {
     "name": "#%%\n"
    }
   },
   "outputs": [
    {
     "data": {
      "text/plain": [
       "47.940677966101696"
      ]
     },
     "execution_count": 32,
     "metadata": {},
     "output_type": "execute_result"
    }
   ],
   "source": [
    "mean_value = float(mean.values[1])\n",
    "mean_value"
   ]
  },
  {
   "cell_type": "markdown",
   "metadata": {
    "pycharm": {
     "name": "#%% md\n"
    }
   },
   "source": [
    "Then we can plot residues which have more interactions than the mean in red\n",
    "and those which are equal to or below in blue."
   ]
  },
  {
   "cell_type": "code",
   "execution_count": 33,
   "metadata": {
    "pycharm": {
     "name": "#%%\n"
    }
   },
   "outputs": [
    {
     "data": {
      "image/png": "[encoded data removed]",
      "text/plain": [
       "<Figure size 432x288 with 1 Axes>"
      ]
     },
     "metadata": {
      "needs_background": "light"
     },
     "output_type": "display_data"
    }
   ],
   "source": [
    "fig, ax = plt.subplots() # this makes one plot with an axis \"ax\" which we can add several plots to\n",
    "df4.query('count <= {}'.format(mean_value)).plot.scatter(x='residue_number', y='count', color='blue', ax=ax)\n",
    "df4.query('count > {}'.format(mean_value)).plot.scatter(x='residue_number', y='count', color='red', ax=ax)\n",
    "ax.axhline(mean_value)\n",
    "plt.show()\n",
    "plt.close()"
   ]
  },
  {
   "cell_type": "markdown",
   "metadata": {
    "pycharm": {
     "name": "#%% md\n"
    }
   },
   "source": [
    "\n",
    "The actual residues are"
   ]
  },
  {
   "cell_type": "code",
   "execution_count": 34,
   "metadata": {
    "pycharm": {
     "name": "#%%\n"
    }
   },
   "outputs": [
    {
     "data": {
      "text/html": [
       "<div>\n",
       "<style scoped>\n",
       "    .dataframe tbody tr th:only-of-type {\n",
       "        vertical-align: middle;\n",
       "    }\n",
       "\n",
       "    .dataframe tbody tr th {\n",
       "        vertical-align: top;\n",
       "    }\n",
       "\n",
       "    .dataframe thead th {\n",
       "        text-align: right;\n",
       "    }\n",
       "</style>\n",
       "<table border=\"1\" class=\"dataframe\">\n",
       "  <thead>\n",
       "    <tr style=\"text-align: right;\">\n",
       "      <th></th>\n",
       "      <th>residue_number</th>\n",
       "      <th>count</th>\n",
       "    </tr>\n",
       "  </thead>\n",
       "  <tbody>\n",
       "    <tr>\n",
       "      <th>1</th>\n",
       "      <td>15</td>\n",
       "      <td>101</td>\n",
       "    </tr>\n",
       "    <tr>\n",
       "      <th>2</th>\n",
       "      <td>16</td>\n",
       "      <td>57</td>\n",
       "    </tr>\n",
       "    <tr>\n",
       "      <th>3</th>\n",
       "      <td>17</td>\n",
       "      <td>132</td>\n",
       "    </tr>\n",
       "    <tr>\n",
       "      <th>10</th>\n",
       "      <td>28</td>\n",
       "      <td>340</td>\n",
       "    </tr>\n",
       "    <tr>\n",
       "      <th>11</th>\n",
       "      <td>29</td>\n",
       "      <td>53</td>\n",
       "    </tr>\n",
       "    <tr>\n",
       "      <th>...</th>\n",
       "      <td>...</td>\n",
       "      <td>...</td>\n",
       "    </tr>\n",
       "    <tr>\n",
       "      <th>448</th>\n",
       "      <td>1130</td>\n",
       "      <td>269</td>\n",
       "    </tr>\n",
       "    <tr>\n",
       "      <th>449</th>\n",
       "      <td>1131</td>\n",
       "      <td>104</td>\n",
       "    </tr>\n",
       "    <tr>\n",
       "      <th>450</th>\n",
       "      <td>1132</td>\n",
       "      <td>62</td>\n",
       "    </tr>\n",
       "    <tr>\n",
       "      <th>451</th>\n",
       "      <td>1133</td>\n",
       "      <td>75</td>\n",
       "    </tr>\n",
       "    <tr>\n",
       "      <th>452</th>\n",
       "      <td>1134</td>\n",
       "      <td>446</td>\n",
       "    </tr>\n",
       "  </tbody>\n",
       "</table>\n",
       "<p>90 rows × 2 columns</p>\n",
       "</div>"
      ],
      "text/plain": [
       "     residue_number  count\n",
       "1                15    101\n",
       "2                16     57\n",
       "3                17    132\n",
       "10               28    340\n",
       "11               29     53\n",
       "..              ...    ...\n",
       "448            1130    269\n",
       "449            1131    104\n",
       "450            1132     62\n",
       "451            1133     75\n",
       "452            1134    446\n",
       "\n",
       "[90 rows x 2 columns]"
      ]
     },
     "execution_count": 34,
     "metadata": {},
     "output_type": "execute_result"
    }
   ],
   "source": [
    "all_data_over_mean = df4.query('count > {}'.format(mean_value))\n",
    "all_data_over_mean\n"
   ]
  },
  {
   "cell_type": "markdown",
   "metadata": {
    "pycharm": {
     "name": "#%% md\n"
    }
   },
   "source": [
    "we only want the residue numbers for the next step"
   ]
  },
  {
   "cell_type": "code",
   "execution_count": 35,
   "metadata": {
    "pycharm": {
     "name": "#%%\n"
    }
   },
   "outputs": [
    {
     "data": {
      "text/plain": [
       "1        15\n",
       "2        16\n",
       "3        17\n",
       "10       28\n",
       "11       29\n",
       "       ... \n",
       "448    1130\n",
       "449    1131\n",
       "450    1132\n",
       "451    1133\n",
       "452    1134\n",
       "Name: residue_number, Length: 90, dtype: int64"
      ]
     },
     "execution_count": 35,
     "metadata": {},
     "output_type": "execute_result"
    }
   ],
   "source": [
    "residue_numbers_over_mean = all_data_over_mean['residue_number']\n",
    "residue_numbers_over_mean"
   ]
  },
  {
   "cell_type": "markdown",
   "metadata": {
    "pycharm": {
     "name": "#%% md\n"
    }
   },
   "source": [
    "What ligands interact with these residues?\n",
    "\n",
    "Now we want to get all ligand_accessions which interact with a residue in \"residue_numbers_over_mean\""
   ]
  },
  {
   "cell_type": "code",
   "execution_count": 36,
   "metadata": {
    "pycharm": {
     "name": "#%%\n"
    }
   },
   "outputs": [
    {
     "data": {
      "text/plain": [
       "5        IMD\n",
       "6        IMD\n",
       "7        IMD\n",
       "8        IMD\n",
       "83       FUL\n",
       "        ... \n",
       "22567    SO4\n",
       "22568    SO4\n",
       "22571    SO4\n",
       "22572    SO4\n",
       "22573    SO4\n",
       "Name: ligand_accession, Length: 19999, dtype: object"
      ]
     },
     "execution_count": 36,
     "metadata": {},
     "output_type": "execute_result"
    }
   ],
   "source": [
    "df5  = df3[df3['residue_number'].isin(residue_numbers_over_mean)]['ligand_accession']\n",
    "df5"
   ]
  },
  {
   "cell_type": "markdown",
   "metadata": {
    "pycharm": {
     "name": "#%% md\n"
    }
   },
   "source": [
    "The same ligand appears several times so we an \"unique\" the list to get our list of ligands\n",
    "which have a number of interactions over the mean interaction count."
   ]
  },
  {
   "cell_type": "code",
   "execution_count": 37,
   "metadata": {
    "pycharm": {
     "name": "#%%\n"
    }
   },
   "outputs": [
    {
     "data": {
      "text/plain": [
       "['IMD',\n",
       " 'FUL',\n",
       " 'NDG',\n",
       " 'BMA',\n",
       " 'MAN',\n",
       " 'FUC',\n",
       " 'NAG',\n",
       " 'PRO',\n",
       " 'GOL',\n",
       " 'CIT',\n",
       " 'SCN',\n",
       " 'POL',\n",
       " '1PE',\n",
       " 'MPD',\n",
       " 'PGE',\n",
       " 'PO4',\n",
       " 'CAC',\n",
       " 'STE',\n",
       " 'PG4',\n",
       " 'DMS',\n",
       " 'CA',\n",
       " 'ELA',\n",
       " 'EIC',\n",
       " 'FMT',\n",
       " 'PEG',\n",
       " 'ACT',\n",
       " 'CL',\n",
       " 'EDO',\n",
       " 'SO4']"
      ]
     },
     "execution_count": 37,
     "metadata": {},
     "output_type": "execute_result"
    }
   ],
   "source": [
    "interesting_ligands = list(df5.unique())\n",
    "interesting_ligands"
   ]
  },
  {
   "cell_type": "markdown",
   "metadata": {
    "pycharm": {
     "name": "#%% md\n"
    }
   },
   "source": [
    "It's worth seeing which ligands are not in our list"
   ]
  },
  {
   "cell_type": "code",
   "execution_count": 38,
   "metadata": {
    "pycharm": {
     "name": "#%%\n"
    }
   },
   "outputs": [
    {
     "data": {
      "text/plain": [
       "['GE9',\n",
       " 'BLA',\n",
       " 'GAL',\n",
       " 'SIA',\n",
       " 'VCG',\n",
       " 'BR',\n",
       " 'PG0',\n",
       " 'IOD',\n",
       " 'NO3',\n",
       " 'BU2',\n",
       " 'XYL',\n",
       " 'K',\n",
       " 'IPA',\n",
       " 'TRS',\n",
       " 'ZN',\n",
       " 'CD',\n",
       " 'NA']"
      ]
     },
     "execution_count": 38,
     "metadata": {},
     "output_type": "execute_result"
    }
   ],
   "source": [
    "all_ligands = list(df3['ligand_accession'].unique())\n",
    "\n",
    "missing_ligands = [x for x in all_ligands if x not in interesting_ligands]\n",
    "missing_ligands"
   ]
  },
  {
   "cell_type": "markdown",
   "metadata": {
    "pycharm": {
     "name": "#%% md\n"
    }
   },
   "source": [
    "Now we can display the interactions only for those ligands we have found\n",
    "\n",
    "We will start with our Dataframe df3"
   ]
  },
  {
   "cell_type": "code",
   "execution_count": 39,
   "metadata": {
    "pycharm": {
     "name": "#%%\n"
    }
   },
   "outputs": [
    {
     "data": {
      "text/html": [
       "<div>\n",
       "<style scoped>\n",
       "    .dataframe tbody tr th:only-of-type {\n",
       "        vertical-align: middle;\n",
       "    }\n",
       "\n",
       "    .dataframe tbody tr th {\n",
       "        vertical-align: top;\n",
       "    }\n",
       "\n",
       "    .dataframe thead th {\n",
       "        text-align: right;\n",
       "    }\n",
       "</style>\n",
       "<table border=\"1\" class=\"dataframe\">\n",
       "  <thead>\n",
       "    <tr style=\"text-align: right;\">\n",
       "      <th></th>\n",
       "      <th>startIndex</th>\n",
       "      <th>endIndex</th>\n",
       "      <th>startCode</th>\n",
       "      <th>endCode</th>\n",
       "      <th>indexType</th>\n",
       "      <th>allPDBEntries</th>\n",
       "      <th>ligand_accession</th>\n",
       "      <th>ligand_name</th>\n",
       "      <th>ligand_num_atoms</th>\n",
       "      <th>uniprot_accession</th>\n",
       "      <th>interaction_ratio</th>\n",
       "      <th>pdbId</th>\n",
       "      <th>entityId</th>\n",
       "      <th>chainIds</th>\n",
       "      <th>residue_number</th>\n",
       "      <th>count</th>\n",
       "    </tr>\n",
       "  </thead>\n",
       "  <tbody>\n",
       "    <tr>\n",
       "      <th>0</th>\n",
       "      <td>660</td>\n",
       "      <td>660</td>\n",
       "      <td>TYR</td>\n",
       "      <td>TYR</td>\n",
       "      <td>UNIPROT</td>\n",
       "      <td>[7qur]</td>\n",
       "      <td>GE9</td>\n",
       "      <td>2,3,5-tris(iodanyl)benzamide</td>\n",
       "      <td>12</td>\n",
       "      <td>P0DTC2</td>\n",
       "      <td>1.0</td>\n",
       "      <td>7qur</td>\n",
       "      <td>1</td>\n",
       "      <td>B</td>\n",
       "      <td>660</td>\n",
       "      <td>7qur</td>\n",
       "    </tr>\n",
       "    <tr>\n",
       "      <th>1</th>\n",
       "      <td>673</td>\n",
       "      <td>673</td>\n",
       "      <td>SER</td>\n",
       "      <td>SER</td>\n",
       "      <td>UNIPROT</td>\n",
       "      <td>[7qur]</td>\n",
       "      <td>GE9</td>\n",
       "      <td>2,3,5-tris(iodanyl)benzamide</td>\n",
       "      <td>12</td>\n",
       "      <td>P0DTC2</td>\n",
       "      <td>1.0</td>\n",
       "      <td>7qur</td>\n",
       "      <td>1</td>\n",
       "      <td>B</td>\n",
       "      <td>673</td>\n",
       "      <td>7qur</td>\n",
       "    </tr>\n",
       "    <tr>\n",
       "      <th>2</th>\n",
       "      <td>675</td>\n",
       "      <td>675</td>\n",
       "      <td>GLN</td>\n",
       "      <td>GLN</td>\n",
       "      <td>UNIPROT</td>\n",
       "      <td>[7qur]</td>\n",
       "      <td>GE9</td>\n",
       "      <td>2,3,5-tris(iodanyl)benzamide</td>\n",
       "      <td>12</td>\n",
       "      <td>P0DTC2</td>\n",
       "      <td>1.0</td>\n",
       "      <td>7qur</td>\n",
       "      <td>1</td>\n",
       "      <td>B</td>\n",
       "      <td>675</td>\n",
       "      <td>7qur</td>\n",
       "    </tr>\n",
       "    <tr>\n",
       "      <th>3</th>\n",
       "      <td>693</td>\n",
       "      <td>693</td>\n",
       "      <td>ILE</td>\n",
       "      <td>ILE</td>\n",
       "      <td>UNIPROT</td>\n",
       "      <td>[7qur]</td>\n",
       "      <td>GE9</td>\n",
       "      <td>2,3,5-tris(iodanyl)benzamide</td>\n",
       "      <td>12</td>\n",
       "      <td>P0DTC2</td>\n",
       "      <td>1.0</td>\n",
       "      <td>7qur</td>\n",
       "      <td>1</td>\n",
       "      <td>B</td>\n",
       "      <td>693</td>\n",
       "      <td>7qur</td>\n",
       "    </tr>\n",
       "    <tr>\n",
       "      <th>4</th>\n",
       "      <td>695</td>\n",
       "      <td>695</td>\n",
       "      <td>TYR</td>\n",
       "      <td>TYR</td>\n",
       "      <td>UNIPROT</td>\n",
       "      <td>[7qur]</td>\n",
       "      <td>GE9</td>\n",
       "      <td>2,3,5-tris(iodanyl)benzamide</td>\n",
       "      <td>12</td>\n",
       "      <td>P0DTC2</td>\n",
       "      <td>1.0</td>\n",
       "      <td>7qur</td>\n",
       "      <td>1</td>\n",
       "      <td>B</td>\n",
       "      <td>695</td>\n",
       "      <td>7qur</td>\n",
       "    </tr>\n",
       "  </tbody>\n",
       "</table>\n",
       "</div>"
      ],
      "text/plain": [
       "   startIndex  endIndex startCode endCode indexType allPDBEntries  \\\n",
       "0         660       660       TYR     TYR   UNIPROT        [7qur]   \n",
       "1         673       673       SER     SER   UNIPROT        [7qur]   \n",
       "2         675       675       GLN     GLN   UNIPROT        [7qur]   \n",
       "3         693       693       ILE     ILE   UNIPROT        [7qur]   \n",
       "4         695       695       TYR     TYR   UNIPROT        [7qur]   \n",
       "\n",
       "  ligand_accession                   ligand_name  ligand_num_atoms  \\\n",
       "0              GE9  2,3,5-tris(iodanyl)benzamide                12   \n",
       "1              GE9  2,3,5-tris(iodanyl)benzamide                12   \n",
       "2              GE9  2,3,5-tris(iodanyl)benzamide                12   \n",
       "3              GE9  2,3,5-tris(iodanyl)benzamide                12   \n",
       "4              GE9  2,3,5-tris(iodanyl)benzamide                12   \n",
       "\n",
       "  uniprot_accession  interaction_ratio pdbId  entityId chainIds  \\\n",
       "0            P0DTC2                1.0  7qur         1        B   \n",
       "1            P0DTC2                1.0  7qur         1        B   \n",
       "2            P0DTC2                1.0  7qur         1        B   \n",
       "3            P0DTC2                1.0  7qur         1        B   \n",
       "4            P0DTC2                1.0  7qur         1        B   \n",
       "\n",
       "   residue_number count  \n",
       "0             660  7qur  \n",
       "1             673  7qur  \n",
       "2             675  7qur  \n",
       "3             693  7qur  \n",
       "4             695  7qur  "
      ]
     },
     "execution_count": 39,
     "metadata": {},
     "output_type": "execute_result"
    }
   ],
   "source": [
    "df3.head()"
   ]
  },
  {
   "cell_type": "markdown",
   "metadata": {
    "pycharm": {
     "name": "#%% md\n"
    }
   },
   "source": [
    "We will select only ligands which interact the most in a Dataframe df6"
   ]
  },
  {
   "cell_type": "code",
   "execution_count": 40,
   "metadata": {
    "pycharm": {
     "name": "#%%\n"
    }
   },
   "outputs": [],
   "source": [
    "df6 = df3.groupby(['residue_number', 'ligand_accession'])['interaction_ratio'].mean().reset_index()"
   ]
  },
  {
   "cell_type": "markdown",
   "metadata": {
    "pycharm": {
     "name": "#%% md\n"
    }
   },
   "source": [
    "We are going to scale the interactions as we use this later"
   ]
  },
  {
   "cell_type": "code",
   "execution_count": 41,
   "metadata": {
    "pycharm": {
     "name": "#%%\n"
    }
   },
   "outputs": [
    {
     "data": {
      "text/html": [
       "<div>\n",
       "<style scoped>\n",
       "    .dataframe tbody tr th:only-of-type {\n",
       "        vertical-align: middle;\n",
       "    }\n",
       "\n",
       "    .dataframe tbody tr th {\n",
       "        vertical-align: top;\n",
       "    }\n",
       "\n",
       "    .dataframe thead th {\n",
       "        text-align: right;\n",
       "    }\n",
       "</style>\n",
       "<table border=\"1\" class=\"dataframe\">\n",
       "  <thead>\n",
       "    <tr style=\"text-align: right;\">\n",
       "      <th></th>\n",
       "      <th>residue_number</th>\n",
       "      <th>ligand_accession</th>\n",
       "      <th>interaction_ratio</th>\n",
       "    </tr>\n",
       "  </thead>\n",
       "  <tbody>\n",
       "    <tr>\n",
       "      <th>0</th>\n",
       "      <td>14</td>\n",
       "      <td>NAG</td>\n",
       "      <td>0.007828</td>\n",
       "    </tr>\n",
       "    <tr>\n",
       "      <th>1</th>\n",
       "      <td>14</td>\n",
       "      <td>PGE</td>\n",
       "      <td>1.000000</td>\n",
       "    </tr>\n",
       "    <tr>\n",
       "      <th>2</th>\n",
       "      <td>15</td>\n",
       "      <td>NAG</td>\n",
       "      <td>0.391473</td>\n",
       "    </tr>\n",
       "    <tr>\n",
       "      <th>3</th>\n",
       "      <td>16</td>\n",
       "      <td>NAG</td>\n",
       "      <td>0.217557</td>\n",
       "    </tr>\n",
       "    <tr>\n",
       "      <th>4</th>\n",
       "      <td>17</td>\n",
       "      <td>FUC</td>\n",
       "      <td>0.090909</td>\n",
       "    </tr>\n",
       "    <tr>\n",
       "      <th>...</th>\n",
       "      <td>...</td>\n",
       "      <td>...</td>\n",
       "      <td>...</td>\n",
       "    </tr>\n",
       "    <tr>\n",
       "      <th>1027</th>\n",
       "      <td>1194</td>\n",
       "      <td>NAG</td>\n",
       "      <td>0.007921</td>\n",
       "    </tr>\n",
       "    <tr>\n",
       "      <th>1028</th>\n",
       "      <td>1195</td>\n",
       "      <td>EDO</td>\n",
       "      <td>2.000000</td>\n",
       "    </tr>\n",
       "    <tr>\n",
       "      <th>1029</th>\n",
       "      <td>1195</td>\n",
       "      <td>ZN</td>\n",
       "      <td>0.142857</td>\n",
       "    </tr>\n",
       "    <tr>\n",
       "      <th>1030</th>\n",
       "      <td>1199</td>\n",
       "      <td>ZN</td>\n",
       "      <td>0.142857</td>\n",
       "    </tr>\n",
       "    <tr>\n",
       "      <th>1031</th>\n",
       "      <td>1201</td>\n",
       "      <td>EDO</td>\n",
       "      <td>2.000000</td>\n",
       "    </tr>\n",
       "  </tbody>\n",
       "</table>\n",
       "<p>1032 rows × 3 columns</p>\n",
       "</div>"
      ],
      "text/plain": [
       "      residue_number ligand_accession  interaction_ratio\n",
       "0                 14              NAG           0.007828\n",
       "1                 14              PGE           1.000000\n",
       "2                 15              NAG           0.391473\n",
       "3                 16              NAG           0.217557\n",
       "4                 17              FUC           0.090909\n",
       "...              ...              ...                ...\n",
       "1027            1194              NAG           0.007921\n",
       "1028            1195              EDO           2.000000\n",
       "1029            1195               ZN           0.142857\n",
       "1030            1199               ZN           0.142857\n",
       "1031            1201              EDO           2.000000\n",
       "\n",
       "[1032 rows x 3 columns]"
      ]
     },
     "execution_count": 41,
     "metadata": {},
     "output_type": "execute_result"
    }
   ],
   "source": [
    "df6['interaction_ratio'] = df6['interaction_ratio'].apply(lambda x: x*2)\n",
    "df6"
   ]
  },
  {
   "cell_type": "markdown",
   "metadata": {
    "pycharm": {
     "name": "#%% md\n"
    }
   },
   "source": [
    "Now we can plot the ligand interactions of those ligands which interact with the most interacting residues.\n",
    "\n",
    "We will put each ligand on a row and scale the interactions by the percentage of PDB entries they are seen in.\n"
   ]
  },
  {
   "cell_type": "code",
   "execution_count": 42,
   "metadata": {
    "pycharm": {
     "name": "#%%\n"
    }
   },
   "outputs": [
    {
     "data": {
      "image/png": "[encoded data removed]",
      "text/plain": [
       "<Figure size 864x864 with 1 Axes>"
      ]
     },
     "metadata": {
      "needs_background": "light"
     },
     "output_type": "display_data"
    }
   ],
   "source": [
    "# prepare a figure\n",
    "plt.rcParams['figure.figsize'] = [12, 12]\n",
    "fig, ax = plt.subplots()\n",
    "\n",
    "# plot the less interesting ligands in blue\n",
    "for ligand in missing_ligands:\n",
    "    data = df6[df6['ligand_accession'] == ligand]\n",
    "    data.plot.scatter(x='residue_number', y='ligand_accession', ax=ax, s='interaction_ratio', c='blue')\n",
    "\n",
    "# plot the interesting ligands in red\n",
    "for ligand in interesting_ligands:\n",
    "    data = df6[df6['ligand_accession'] == ligand]\n",
    "    data.plot.scatter(x='residue_number', y='ligand_accession', ax=ax, s='interaction_ratio', c='red')\n",
    "\n",
    "\n",
    "plt.ylabel('Ligand')\n",
    "plt.xlabel('UniProt Residue Number')\n",
    "plt.title('Residues which interact with ligands,\\nSpheres scaled by amount of times each interaction is seen in PDB entries')\n",
    "plt.show()\n",
    "plt.close()"
   ]
  },
  {
   "cell_type": "markdown",
   "metadata": {},
   "source": [
    "It would be interesting to see if the ligands binding to same residues are similar to each other. Let's take any ligand from above interesting ligand dataset and find all the other ligands which are similar to it. \n",
    "\n",
    "In the example below, we have taken \"alpha-L-fucopyranose\" (HET CODE- FUC) and find all the ligands similar to it using \"get_similar_ligand_data\" function. This function takes ligand name and similarity cutoff (0-1) as arguments. Here we have used similarity cutoff of 0.7 and found all the ligands which are 70 % or more similar to FUC. "
   ]
  },
  {
   "cell_type": "code",
   "execution_count": 54,
   "metadata": {
    "pycharm": {
     "name": "#%%\n"
    }
   },
   "outputs": [
    {
     "name": "stdout",
     "output_type": "stream",
     "text": [
      "https://www.ebi.ac.uk/pdbe/graph-api/compound/similarity/FUC\n",
      "    similar_ligand  similarity_score\n",
      "0              TFU             0.769\n",
      "1              TGA             0.733\n",
      "2              TGK             0.833\n",
      "3              YIO             0.769\n",
      "4              TGY             0.833\n",
      "..             ...               ...\n",
      "177            EMZ             0.846\n",
      "178            EVA             0.714\n",
      "179            EXO             0.833\n",
      "180            FDK             0.769\n",
      "181            FSW             0.714\n",
      "\n",
      "[182 rows x 2 columns]\n",
      "['MAN', 'BMA']\n"
     ]
    }
   ],
   "source": [
    "ligand_exp = \"FUC\"\n",
    "similarity_cutoff = 0.7\n",
    "#finding similar ligands to ligand_exp \n",
    "similar_ligands = get_similar_ligand_data(ligand_exp, similarity_cutoff)\n",
    "sdf=pd.DataFrame(similar_ligands.items(),columns = ['similar_ligand','similarity_score'])\n",
    "print(sdf)\n",
    "#find common ligands from similar_ligands and interesting_ligands\n",
    "common_ligands = [item for item in similar_ligands if item in interesting_ligands]\n",
    "print(common_ligands)"
   ]
  },
  {
   "cell_type": "markdown",
   "metadata": {},
   "source": [
    "Now, you can compare if FUC and common_ligands bind to same residues or not and check if similar ligands tend to bind to similar sites."
   ]
  },
  {
   "cell_type": "code",
   "execution_count": null,
   "metadata": {},
   "outputs": [],
   "source": []
  }
 ],
 "metadata": {
  "kernelspec": {
   "display_name": "Python 3 (ipykernel)",
   "language": "python",
   "name": "python3"
  },
  "language_info": {
   "codemirror_mode": {
    "name": "ipython",
    "version": 3
   },
   "file_extension": ".py",
   "mimetype": "text/x-python",
   "name": "python",
   "nbconvert_exporter": "python",
   "pygments_lexer": "ipython3",
   "version": "3.9.12"
  }
 },
 "nbformat": 4,
 "nbformat_minor": 1
}
