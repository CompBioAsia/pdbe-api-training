{
 "cells": [
  {
   "cell_type": "markdown",
   "metadata": {},
   "source": [
    "# PDBe API Training\n",
    "\n",
    "### PDBe Ligand Interactions for a given protein\n",
    "\n",
    "This tutorial will guide you through searching PDBe programmatically.\n",
    "\n",
    "\n",
    "First we will import the code which will do the work\n",
    "Run the cell below - by pressing the green play button."
   ]
  },
  {
   "cell_type": "code",
   "execution_count": 1,
   "metadata": {
    "pycharm": {
     "name": "#%%\n"
    }
   },
   "outputs": [],
   "source": [
    "import pandas as pd\n",
    "import numpy as np\n",
    "import requests\n",
    "from pprint import pprint\n",
    "import matplotlib.pyplot as plt\n",
    "from IPython.display import SVG, display\n",
    "import sys\n",
    "sys.path.insert(0,'..')\n",
    "from python_modules.api_modules import explode_dataset, get_ligand_site_data, get_similar_ligand_data"
   ]
  },
  {
   "cell_type": "markdown",
   "metadata": {
    "pycharm": {
     "name": "#%% md\n"
    }
   },
   "source": [
    "Now we are ready to find all the ligands and its interaction details bound to a given protein.\n",
    "\n",
    "We will get ligands for the Human Acetylcholinesterase, which has the UniProt accession P22303 "
   ]
  },
  {
   "cell_type": "code",
   "execution_count": 2,
   "metadata": {
    "pycharm": {
     "name": "#%%\n"
    }
   },
   "outputs": [
    {
     "data": {
      "text/plain": [
       "'P22303'"
      ]
     },
     "execution_count": 2,
     "metadata": {},
     "output_type": "execute_result"
    }
   ],
   "source": [
    "uniprot_accession = 'P22303'\n",
    "\n",
    "uniprot_accession"
   ]
  },
  {
   "cell_type": "markdown",
   "metadata": {
    "pycharm": {
     "name": "#%% md\n"
    }
   },
   "source": [
    "Get compounds which interact with the UniProt"
   ]
  },
  {
   "cell_type": "code",
   "execution_count": 3,
   "metadata": {
    "pycharm": {
     "name": "#%%\n"
    }
   },
   "outputs": [
    {
     "name": "stdout",
     "output_type": "stream",
     "text": [
      "https://www.ebi.ac.uk/pdbe/graph-api/uniprot/ligand_sites/P22303\n"
     ]
    }
   ],
   "source": [
    "ligand_data = get_ligand_site_data(uniprot_accession=uniprot_accession)"
   ]
  },
  {
   "cell_type": "code",
   "execution_count": 4,
   "metadata": {
    "pycharm": {
     "name": "#%%\n"
    },
    "scrolled": false
   },
   "outputs": [],
   "source": [
    "#pprint(ligand_data)"
   ]
  },
  {
   "cell_type": "code",
   "execution_count": 5,
   "metadata": {
    "pycharm": {
     "name": "#%%\n"
    }
   },
   "outputs": [],
   "source": [
    "df2 = explode_dataset(result=ligand_data, column_to_explode='interactingPDBEntries')"
   ]
  },
  {
   "cell_type": "markdown",
   "metadata": {
    "pycharm": {
     "name": "#%% md\n"
    }
   },
   "source": [
    "Some post processing is required to separating interactingPDBEntries into separate columns"
   ]
  },
  {
   "cell_type": "code",
   "execution_count": 6,
   "metadata": {
    "pycharm": {
     "name": "#%%\n"
    }
   },
   "outputs": [
    {
     "name": "stdout",
     "output_type": "stream",
     "text": [
      "   startIndex  endIndex startCode endCode indexType   \n",
      "0         113       113       GLY     GLY   UNIPROT  \\\n",
      "1         114       114       THR     THR   UNIPROT   \n",
      "2         117       117       TRP     TRP   UNIPROT   \n",
      "3         233       233       GLU     GLU   UNIPROT   \n",
      "4         368       368       TYR     TYR   UNIPROT   \n",
      "\n",
      "                               interactingPDBEntries allPDBEntries   \n",
      "0  {'pdbId': '7xn1', 'entityId': 1, 'chainIds': 'A'}        [7xn1]  \\\n",
      "1  {'pdbId': '7xn1', 'entityId': 1, 'chainIds': 'A'}        [7xn1]   \n",
      "2  {'pdbId': '7xn1', 'entityId': 1, 'chainIds': 'A'}        [7xn1]   \n",
      "3  {'pdbId': '7xn1', 'entityId': 1, 'chainIds': 'A'}        [7xn1]   \n",
      "4  {'pdbId': '7xn1', 'entityId': 1, 'chainIds': 'A'}        [7xn1]   \n",
      "\n",
      "  ligand_accession ligand_name  ligand_num_atoms uniprot_accession   \n",
      "0              THA     TACRINE                15            P22303  \\\n",
      "1              THA     TACRINE                15            P22303   \n",
      "2              THA     TACRINE                15            P22303   \n",
      "3              THA     TACRINE                15            P22303   \n",
      "4              THA     TACRINE                15            P22303   \n",
      "\n",
      "   interaction_ratio  \n",
      "0                1.0  \n",
      "1                1.0  \n",
      "2                1.0  \n",
      "3                1.0  \n",
      "4                1.0  \n"
     ]
    }
   ],
   "source": [
    "print(df2.head())"
   ]
  },
  {
   "cell_type": "code",
   "execution_count": 7,
   "metadata": {
    "pycharm": {
     "name": "#%%\n"
    }
   },
   "outputs": [],
   "source": [
    "data = pd.json_normalize(df2['interactingPDBEntries'])\n",
    "df3 = df2.join(data).drop(columns='interactingPDBEntries')"
   ]
  },
  {
   "cell_type": "markdown",
   "metadata": {
    "pycharm": {
     "name": "#%% md\n"
    }
   },
   "source": [
    "\n",
    "startIndex and endIndex are the UniProt residue number, so we'll make a new column called residue_number\n",
    "and copy the startIndex there.\n",
    "We are also going to \"count\" the number of results - so we'll make a dummy count column to store it in"
   ]
  },
  {
   "cell_type": "code",
   "execution_count": 8,
   "metadata": {
    "pycharm": {
     "name": "#%%\n"
    }
   },
   "outputs": [],
   "source": [
    "df3['residue_number'] = df3['startIndex']\n",
    "df3['count'] = df3['pdbId']"
   ]
  },
  {
   "cell_type": "markdown",
   "metadata": {
    "pycharm": {
     "name": "#%% md\n"
    }
   },
   "source": [
    "Now we are ready to use the data."
   ]
  },
  {
   "cell_type": "code",
   "execution_count": 9,
   "metadata": {
    "pycharm": {
     "name": "#%%\n"
    }
   },
   "outputs": [
    {
     "data": {
      "text/html": [
       "<div>\n",
       "<style scoped>\n",
       "    .dataframe tbody tr th:only-of-type {\n",
       "        vertical-align: middle;\n",
       "    }\n",
       "\n",
       "    .dataframe tbody tr th {\n",
       "        vertical-align: top;\n",
       "    }\n",
       "\n",
       "    .dataframe thead th {\n",
       "        text-align: right;\n",
       "    }\n",
       "</style>\n",
       "<table border=\"1\" class=\"dataframe\">\n",
       "  <thead>\n",
       "    <tr style=\"text-align: right;\">\n",
       "      <th></th>\n",
       "      <th>startIndex</th>\n",
       "      <th>endIndex</th>\n",
       "      <th>startCode</th>\n",
       "      <th>endCode</th>\n",
       "      <th>indexType</th>\n",
       "      <th>allPDBEntries</th>\n",
       "      <th>ligand_accession</th>\n",
       "      <th>ligand_name</th>\n",
       "      <th>ligand_num_atoms</th>\n",
       "      <th>uniprot_accession</th>\n",
       "      <th>interaction_ratio</th>\n",
       "      <th>pdbId</th>\n",
       "      <th>entityId</th>\n",
       "      <th>chainIds</th>\n",
       "      <th>residue_number</th>\n",
       "      <th>count</th>\n",
       "    </tr>\n",
       "  </thead>\n",
       "  <tbody>\n",
       "    <tr>\n",
       "      <th>0</th>\n",
       "      <td>113</td>\n",
       "      <td>113</td>\n",
       "      <td>GLY</td>\n",
       "      <td>GLY</td>\n",
       "      <td>UNIPROT</td>\n",
       "      <td>[7xn1]</td>\n",
       "      <td>THA</td>\n",
       "      <td>TACRINE</td>\n",
       "      <td>15</td>\n",
       "      <td>P22303</td>\n",
       "      <td>1.0</td>\n",
       "      <td>7xn1</td>\n",
       "      <td>1</td>\n",
       "      <td>A</td>\n",
       "      <td>113</td>\n",
       "      <td>7xn1</td>\n",
       "    </tr>\n",
       "    <tr>\n",
       "      <th>1</th>\n",
       "      <td>114</td>\n",
       "      <td>114</td>\n",
       "      <td>THR</td>\n",
       "      <td>THR</td>\n",
       "      <td>UNIPROT</td>\n",
       "      <td>[7xn1]</td>\n",
       "      <td>THA</td>\n",
       "      <td>TACRINE</td>\n",
       "      <td>15</td>\n",
       "      <td>P22303</td>\n",
       "      <td>1.0</td>\n",
       "      <td>7xn1</td>\n",
       "      <td>1</td>\n",
       "      <td>A</td>\n",
       "      <td>114</td>\n",
       "      <td>7xn1</td>\n",
       "    </tr>\n",
       "    <tr>\n",
       "      <th>2</th>\n",
       "      <td>117</td>\n",
       "      <td>117</td>\n",
       "      <td>TRP</td>\n",
       "      <td>TRP</td>\n",
       "      <td>UNIPROT</td>\n",
       "      <td>[7xn1]</td>\n",
       "      <td>THA</td>\n",
       "      <td>TACRINE</td>\n",
       "      <td>15</td>\n",
       "      <td>P22303</td>\n",
       "      <td>1.0</td>\n",
       "      <td>7xn1</td>\n",
       "      <td>1</td>\n",
       "      <td>A</td>\n",
       "      <td>117</td>\n",
       "      <td>7xn1</td>\n",
       "    </tr>\n",
       "    <tr>\n",
       "      <th>3</th>\n",
       "      <td>233</td>\n",
       "      <td>233</td>\n",
       "      <td>GLU</td>\n",
       "      <td>GLU</td>\n",
       "      <td>UNIPROT</td>\n",
       "      <td>[7xn1]</td>\n",
       "      <td>THA</td>\n",
       "      <td>TACRINE</td>\n",
       "      <td>15</td>\n",
       "      <td>P22303</td>\n",
       "      <td>1.0</td>\n",
       "      <td>7xn1</td>\n",
       "      <td>1</td>\n",
       "      <td>A</td>\n",
       "      <td>233</td>\n",
       "      <td>7xn1</td>\n",
       "    </tr>\n",
       "    <tr>\n",
       "      <th>4</th>\n",
       "      <td>368</td>\n",
       "      <td>368</td>\n",
       "      <td>TYR</td>\n",
       "      <td>TYR</td>\n",
       "      <td>UNIPROT</td>\n",
       "      <td>[7xn1]</td>\n",
       "      <td>THA</td>\n",
       "      <td>TACRINE</td>\n",
       "      <td>15</td>\n",
       "      <td>P22303</td>\n",
       "      <td>1.0</td>\n",
       "      <td>7xn1</td>\n",
       "      <td>1</td>\n",
       "      <td>A</td>\n",
       "      <td>368</td>\n",
       "      <td>7xn1</td>\n",
       "    </tr>\n",
       "  </tbody>\n",
       "</table>\n",
       "</div>"
      ],
      "text/plain": [
       "   startIndex  endIndex startCode endCode indexType allPDBEntries   \n",
       "0         113       113       GLY     GLY   UNIPROT        [7xn1]  \\\n",
       "1         114       114       THR     THR   UNIPROT        [7xn1]   \n",
       "2         117       117       TRP     TRP   UNIPROT        [7xn1]   \n",
       "3         233       233       GLU     GLU   UNIPROT        [7xn1]   \n",
       "4         368       368       TYR     TYR   UNIPROT        [7xn1]   \n",
       "\n",
       "  ligand_accession ligand_name  ligand_num_atoms uniprot_accession   \n",
       "0              THA     TACRINE                15            P22303  \\\n",
       "1              THA     TACRINE                15            P22303   \n",
       "2              THA     TACRINE                15            P22303   \n",
       "3              THA     TACRINE                15            P22303   \n",
       "4              THA     TACRINE                15            P22303   \n",
       "\n",
       "   interaction_ratio pdbId  entityId chainIds  residue_number count  \n",
       "0                1.0  7xn1         1        A             113  7xn1  \n",
       "1                1.0  7xn1         1        A             114  7xn1  \n",
       "2                1.0  7xn1         1        A             117  7xn1  \n",
       "3                1.0  7xn1         1        A             233  7xn1  \n",
       "4                1.0  7xn1         1        A             368  7xn1  "
      ]
     },
     "execution_count": 9,
     "metadata": {},
     "output_type": "execute_result"
    }
   ],
   "source": [
    "df3.head()"
   ]
  },
  {
   "cell_type": "markdown",
   "metadata": {
    "pycharm": {
     "name": "#%% md\n"
    }
   },
   "source": [
    "Ligands which interact with every entry have an interaction_ratio of 1.0.\n",
    "So lets get them...."
   ]
  },
  {
   "cell_type": "code",
   "execution_count": 10,
   "metadata": {
    "pycharm": {
     "name": "#%%\n"
    }
   },
   "outputs": [],
   "source": [
    "df4 = df3.groupby('ligand_accession')['interaction_ratio'].mean().reset_index()\n",
    "ret = df4.query('interaction_ratio == 1.0')['ligand_accession'].values"
   ]
  },
  {
   "cell_type": "code",
   "execution_count": 11,
   "metadata": {
    "pycharm": {
     "name": "#%%\n"
    }
   },
   "outputs": [
    {
     "data": {
      "text/plain": [
       "array(['1PE', '1YK', '1YL', '4IX', '4J1', 'AA', 'BR', 'CVZ', 'E20', 'EBW',\n",
       "       'FP1', 'FUL', 'GAL', 'GD8', 'GNT', 'H0L', 'H0R', 'H1R', 'HLO',\n",
       "       'HUP', 'HUW', 'L0S', 'L1M', 'PEG', 'PQY', 'QRH', 'THA', 'WW2'],\n",
       "      dtype=object)"
      ]
     },
     "execution_count": 11,
     "metadata": {},
     "output_type": "execute_result"
    }
   ],
   "source": [
    "ret"
   ]
  },
  {
   "cell_type": "markdown",
   "metadata": {
    "pycharm": {
     "name": "#%% md\n"
    }
   },
   "source": [
    "Lets see if we can filter ligands by which ligands interact with the residues which have the most interactions.\n",
    "\n",
    "First lets see how many interactions we have per residue."
   ]
  },
  {
   "cell_type": "code",
   "execution_count": 12,
   "metadata": {
    "pycharm": {
     "name": "#%%\n"
    }
   },
   "outputs": [],
   "source": [
    "df4 = df3.groupby('residue_number')['count'].count().reset_index()"
   ]
  },
  {
   "cell_type": "code",
   "execution_count": 13,
   "metadata": {
    "pycharm": {
     "name": "#%%\n"
    }
   },
   "outputs": [
    {
     "data": {
      "text/plain": [
       "<Axes: xlabel='residue_number', ylabel='count'>"
      ]
     },
     "execution_count": 13,
     "metadata": {},
     "output_type": "execute_result"
    },
    {
     "data": {
      "image/png": "[encoded data removed]",
      "text/plain": [
       "<Figure size 640x480 with 1 Axes>"
      ]
     },
     "metadata": {},
     "output_type": "display_data"
    }
   ],
   "source": [
    "df4.plot.scatter(x='residue_number', y='count')"
   ]
  },
  {
   "cell_type": "markdown",
   "metadata": {
    "pycharm": {
     "name": "#%% md\n"
    }
   },
   "source": [
    "We can the determine the mean number of interactions and the standard deviation"
   ]
  },
  {
   "cell_type": "code",
   "execution_count": 14,
   "metadata": {
    "pycharm": {
     "name": "#%%\n"
    }
   },
   "outputs": [
    {
     "name": "stdout",
     "output_type": "stream",
     "text": [
      "Mean:\n",
      "residue_number    322.565934\n",
      "count              10.945055\n",
      "dtype: float64\n",
      "Standard deviation:\n",
      "residue_number    144.868634\n",
      "count              15.981593\n",
      "dtype: float64\n"
     ]
    }
   ],
   "source": [
    "mean = df4.mean()\n",
    "std = df4.std()\n",
    "print(\"Mean:\")\n",
    "print(mean)\n",
    "print(\"Standard deviation:\")\n",
    "print(std)"
   ]
  },
  {
   "cell_type": "markdown",
   "metadata": {
    "pycharm": {
     "name": "#%% md\n"
    }
   },
   "source": [
    "We need to extract the standard deviation value as a number from the above result"
   ]
  },
  {
   "cell_type": "code",
   "execution_count": 15,
   "metadata": {
    "pycharm": {
     "name": "#%%\n"
    }
   },
   "outputs": [
    {
     "name": "stdout",
     "output_type": "stream",
     "text": [
      "10.945054945054945 15.9815934437868\n"
     ]
    }
   ],
   "source": [
    "mean_value = float(mean.values[1])\n",
    "std_value = float(std.values[1])\n",
    "print(mean_value, std_value)"
   ]
  },
  {
   "cell_type": "markdown",
   "metadata": {
    "pycharm": {
     "name": "#%% md\n"
    }
   },
   "source": [
    "Then we can plot residues which have more interactions than the mean in red\n",
    "and those which are equal to or below in blue."
   ]
  },
  {
   "cell_type": "code",
   "execution_count": 16,
   "metadata": {
    "pycharm": {
     "name": "#%%\n"
    }
   },
   "outputs": [
    {
     "data": {
      "image/png": "[encoded data removed]",
      "text/plain": [
       "<Figure size 640x480 with 1 Axes>"
      ]
     },
     "metadata": {},
     "output_type": "display_data"
    }
   ],
   "source": [
    "fig, ax = plt.subplots() # this makes one plot with an axis \"ax\" which we can add several plots to\n",
    "df4.query('count <= {}'.format(mean_value)).plot.scatter(x='residue_number', y='count', color='blue', ax=ax)\n",
    "df4.query('count > {}'.format(mean_value)).plot.scatter(x='residue_number', y='count', color='red', ax=ax)\n",
    "ax.axhline(mean_value)\n",
    "plt.show()\n",
    "plt.close()"
   ]
  },
  {
   "cell_type": "markdown",
   "metadata": {},
   "source": [
    "A higher threshold (two standard deviations) would be more useful to select only the most common ligand-binding residues"
   ]
  },
  {
   "cell_type": "code",
   "execution_count": 17,
   "metadata": {},
   "outputs": [
    {
     "data": {
      "image/png": "[encoded data removed]",
      "text/plain": [
       "<Figure size 640x480 with 1 Axes>"
      ]
     },
     "metadata": {},
     "output_type": "display_data"
    }
   ],
   "source": [
    "two_std_value = std_value * 2\n",
    "fig, ax = plt.subplots() # this makes one plot with an axis \"ax\" which we can add several plots to\n",
    "df4.query('count <= {}'.format(two_std_value)).plot.scatter(x='residue_number', y='count', color='blue', ax=ax)\n",
    "df4.query('count > {}'.format(two_std_value)).plot.scatter(x='residue_number', y='count', color='red', ax=ax)\n",
    "ax.axhline(two_std_value)\n",
    "plt.show()\n",
    "plt.close()"
   ]
  },
  {
   "cell_type": "markdown",
   "metadata": {
    "pycharm": {
     "name": "#%% md\n"
    }
   },
   "source": [
    "\n",
    "The actual residues are"
   ]
  },
  {
   "cell_type": "code",
   "execution_count": 18,
   "metadata": {
    "pycharm": {
     "name": "#%%\n"
    }
   },
   "outputs": [
    {
     "data": {
      "text/html": [
       "<div>\n",
       "<style scoped>\n",
       "    .dataframe tbody tr th:only-of-type {\n",
       "        vertical-align: middle;\n",
       "    }\n",
       "\n",
       "    .dataframe tbody tr th {\n",
       "        vertical-align: top;\n",
       "    }\n",
       "\n",
       "    .dataframe thead th {\n",
       "        text-align: right;\n",
       "    }\n",
       "</style>\n",
       "<table border=\"1\" class=\"dataframe\">\n",
       "  <thead>\n",
       "    <tr style=\"text-align: right;\">\n",
       "      <th></th>\n",
       "      <th>residue_number</th>\n",
       "      <th>count</th>\n",
       "    </tr>\n",
       "  </thead>\n",
       "  <tbody>\n",
       "    <tr>\n",
       "      <th>13</th>\n",
       "      <td>103</td>\n",
       "      <td>38</td>\n",
       "    </tr>\n",
       "    <tr>\n",
       "      <th>21</th>\n",
       "      <td>117</td>\n",
       "      <td>47</td>\n",
       "    </tr>\n",
       "    <tr>\n",
       "      <th>31</th>\n",
       "      <td>152</td>\n",
       "      <td>50</td>\n",
       "    </tr>\n",
       "    <tr>\n",
       "      <th>32</th>\n",
       "      <td>153</td>\n",
       "      <td>42</td>\n",
       "    </tr>\n",
       "    <tr>\n",
       "      <th>33</th>\n",
       "      <td>155</td>\n",
       "      <td>55</td>\n",
       "    </tr>\n",
       "    <tr>\n",
       "      <th>54</th>\n",
       "      <td>233</td>\n",
       "      <td>43</td>\n",
       "    </tr>\n",
       "    <tr>\n",
       "      <th>55</th>\n",
       "      <td>234</td>\n",
       "      <td>54</td>\n",
       "    </tr>\n",
       "    <tr>\n",
       "      <th>56</th>\n",
       "      <td>235</td>\n",
       "      <td>37</td>\n",
       "    </tr>\n",
       "    <tr>\n",
       "      <th>62</th>\n",
       "      <td>267</td>\n",
       "      <td>33</td>\n",
       "    </tr>\n",
       "    <tr>\n",
       "      <th>69</th>\n",
       "      <td>296</td>\n",
       "      <td>35</td>\n",
       "    </tr>\n",
       "    <tr>\n",
       "      <th>79</th>\n",
       "      <td>317</td>\n",
       "      <td>43</td>\n",
       "    </tr>\n",
       "    <tr>\n",
       "      <th>86</th>\n",
       "      <td>326</td>\n",
       "      <td>64</td>\n",
       "    </tr>\n",
       "    <tr>\n",
       "      <th>88</th>\n",
       "      <td>328</td>\n",
       "      <td>61</td>\n",
       "    </tr>\n",
       "    <tr>\n",
       "      <th>105</th>\n",
       "      <td>368</td>\n",
       "      <td>68</td>\n",
       "    </tr>\n",
       "    <tr>\n",
       "      <th>106</th>\n",
       "      <td>369</td>\n",
       "      <td>77</td>\n",
       "    </tr>\n",
       "    <tr>\n",
       "      <th>107</th>\n",
       "      <td>372</td>\n",
       "      <td>45</td>\n",
       "    </tr>\n",
       "    <tr>\n",
       "      <th>109</th>\n",
       "      <td>375</td>\n",
       "      <td>42</td>\n",
       "    </tr>\n",
       "    <tr>\n",
       "      <th>110</th>\n",
       "      <td>376</td>\n",
       "      <td>51</td>\n",
       "    </tr>\n",
       "    <tr>\n",
       "      <th>112</th>\n",
       "      <td>378</td>\n",
       "      <td>60</td>\n",
       "    </tr>\n",
       "    <tr>\n",
       "      <th>114</th>\n",
       "      <td>380</td>\n",
       "      <td>42</td>\n",
       "    </tr>\n",
       "    <tr>\n",
       "      <th>115</th>\n",
       "      <td>381</td>\n",
       "      <td>59</td>\n",
       "    </tr>\n",
       "    <tr>\n",
       "      <th>152</th>\n",
       "      <td>478</td>\n",
       "      <td>59</td>\n",
       "    </tr>\n",
       "  </tbody>\n",
       "</table>\n",
       "</div>"
      ],
      "text/plain": [
       "     residue_number  count\n",
       "13              103     38\n",
       "21              117     47\n",
       "31              152     50\n",
       "32              153     42\n",
       "33              155     55\n",
       "54              233     43\n",
       "55              234     54\n",
       "56              235     37\n",
       "62              267     33\n",
       "69              296     35\n",
       "79              317     43\n",
       "86              326     64\n",
       "88              328     61\n",
       "105             368     68\n",
       "106             369     77\n",
       "107             372     45\n",
       "109             375     42\n",
       "110             376     51\n",
       "112             378     60\n",
       "114             380     42\n",
       "115             381     59\n",
       "152             478     59"
      ]
     },
     "execution_count": 18,
     "metadata": {},
     "output_type": "execute_result"
    }
   ],
   "source": [
    "all_data_over_two_std = df4.query('count > {}'.format(two_std_value))\n",
    "all_data_over_two_std\n"
   ]
  },
  {
   "cell_type": "markdown",
   "metadata": {
    "pycharm": {
     "name": "#%% md\n"
    }
   },
   "source": [
    "we only want the residue numbers for the next step"
   ]
  },
  {
   "cell_type": "code",
   "execution_count": 19,
   "metadata": {
    "pycharm": {
     "name": "#%%\n"
    }
   },
   "outputs": [
    {
     "data": {
      "text/plain": [
       "13     103\n",
       "21     117\n",
       "31     152\n",
       "32     153\n",
       "33     155\n",
       "54     233\n",
       "55     234\n",
       "56     235\n",
       "62     267\n",
       "69     296\n",
       "79     317\n",
       "86     326\n",
       "88     328\n",
       "105    368\n",
       "106    369\n",
       "107    372\n",
       "109    375\n",
       "110    376\n",
       "112    378\n",
       "114    380\n",
       "115    381\n",
       "152    478\n",
       "Name: residue_number, dtype: int64"
      ]
     },
     "execution_count": 19,
     "metadata": {},
     "output_type": "execute_result"
    }
   ],
   "source": [
    "residue_numbers_over_two_std = all_data_over_two_std['residue_number']\n",
    "residue_numbers_over_two_std"
   ]
  },
  {
   "cell_type": "markdown",
   "metadata": {
    "pycharm": {
     "name": "#%% md\n"
    }
   },
   "source": [
    "What ligands interact with these residues?\n",
    "\n",
    "Now we want to get all ligand_accessions which interact with a residue in \"residue_numbers_over_two_std\""
   ]
  },
  {
   "cell_type": "code",
   "execution_count": 20,
   "metadata": {
    "pycharm": {
     "name": "#%%\n"
    }
   },
   "outputs": [
    {
     "data": {
      "text/plain": [
       "2       THA\n",
       "3       THA\n",
       "4       THA\n",
       "5       THA\n",
       "7       THA\n",
       "       ... \n",
       "1919     CL\n",
       "1920     CL\n",
       "1921     CL\n",
       "1922     CL\n",
       "1923     CL\n",
       "Name: ligand_accession, Length: 1105, dtype: object"
      ]
     },
     "execution_count": 20,
     "metadata": {},
     "output_type": "execute_result"
    }
   ],
   "source": [
    "df5  = df3[df3['residue_number'].isin(residue_numbers_over_two_std)]['ligand_accession']\n",
    "df5"
   ]
  },
  {
   "cell_type": "markdown",
   "metadata": {
    "pycharm": {
     "name": "#%% md\n"
    }
   },
   "source": [
    "The same ligand appears several times so we an \"unique\" the list to get our list of ligands\n",
    "which have a number of interactions over the mean interaction count."
   ]
  },
  {
   "cell_type": "code",
   "execution_count": 21,
   "metadata": {
    "pycharm": {
     "name": "#%%\n"
    }
   },
   "outputs": [
    {
     "data": {
      "text/plain": [
       "['THA',\n",
       " 'AA',\n",
       " '4IX',\n",
       " '4J1',\n",
       " '3VI',\n",
       " 'HLO',\n",
       " 'HI6',\n",
       " 'LND',\n",
       " 'CVZ',\n",
       " 'E20',\n",
       " 'H0R',\n",
       " 'H1R',\n",
       " 'H0L',\n",
       " '1YK',\n",
       " '1YL',\n",
       " 'EBW',\n",
       " 'QRH',\n",
       " 'FP1',\n",
       " 'HUP',\n",
       " 'MES',\n",
       " 'PQY',\n",
       " 'FUL',\n",
       " 'FUC',\n",
       " 'NAG',\n",
       " 'PQV',\n",
       " 'WW2',\n",
       " 'UCY',\n",
       " 'GNT',\n",
       " 'HUW',\n",
       " 'GOL',\n",
       " 'EFS',\n",
       " 'ELT',\n",
       " 'NWA',\n",
       " 'GD8',\n",
       " 'UCJ',\n",
       " 'DMS',\n",
       " 'DEP',\n",
       " 'L2Y',\n",
       " 'L0S',\n",
       " 'L1M',\n",
       " 'VX',\n",
       " 'SO4',\n",
       " 'CL']"
      ]
     },
     "execution_count": 21,
     "metadata": {},
     "output_type": "execute_result"
    }
   ],
   "source": [
    "interesting_ligands = list(df5.unique())\n",
    "interesting_ligands"
   ]
  },
  {
   "cell_type": "markdown",
   "metadata": {
    "pycharm": {
     "name": "#%% md\n"
    }
   },
   "source": [
    "It's worth seeing which ligands are not in our list"
   ]
  },
  {
   "cell_type": "code",
   "execution_count": 22,
   "metadata": {
    "pycharm": {
     "name": "#%%\n"
    }
   },
   "outputs": [
    {
     "data": {
      "text/plain": [
       "['GAL', 'SIA', 'BR', '1PE', 'MG', 'PE8', '7PE', 'PEG', 'EDO', 'NO3']"
      ]
     },
     "execution_count": 22,
     "metadata": {},
     "output_type": "execute_result"
    }
   ],
   "source": [
    "all_ligands = list(df3['ligand_accession'].unique())\n",
    "\n",
    "missing_ligands = [x for x in all_ligands if x not in interesting_ligands]\n",
    "missing_ligands"
   ]
  },
  {
   "cell_type": "markdown",
   "metadata": {
    "pycharm": {
     "name": "#%% md\n"
    }
   },
   "source": [
    "Now we can display the interactions only for those ligands we have found\n",
    "\n",
    "We will start with our Dataframe df3"
   ]
  },
  {
   "cell_type": "code",
   "execution_count": 23,
   "metadata": {
    "pycharm": {
     "name": "#%%\n"
    }
   },
   "outputs": [
    {
     "data": {
      "text/html": [
       "<div>\n",
       "<style scoped>\n",
       "    .dataframe tbody tr th:only-of-type {\n",
       "        vertical-align: middle;\n",
       "    }\n",
       "\n",
       "    .dataframe tbody tr th {\n",
       "        vertical-align: top;\n",
       "    }\n",
       "\n",
       "    .dataframe thead th {\n",
       "        text-align: right;\n",
       "    }\n",
       "</style>\n",
       "<table border=\"1\" class=\"dataframe\">\n",
       "  <thead>\n",
       "    <tr style=\"text-align: right;\">\n",
       "      <th></th>\n",
       "      <th>startIndex</th>\n",
       "      <th>endIndex</th>\n",
       "      <th>startCode</th>\n",
       "      <th>endCode</th>\n",
       "      <th>indexType</th>\n",
       "      <th>allPDBEntries</th>\n",
       "      <th>ligand_accession</th>\n",
       "      <th>ligand_name</th>\n",
       "      <th>ligand_num_atoms</th>\n",
       "      <th>uniprot_accession</th>\n",
       "      <th>interaction_ratio</th>\n",
       "      <th>pdbId</th>\n",
       "      <th>entityId</th>\n",
       "      <th>chainIds</th>\n",
       "      <th>residue_number</th>\n",
       "      <th>count</th>\n",
       "    </tr>\n",
       "  </thead>\n",
       "  <tbody>\n",
       "    <tr>\n",
       "      <th>0</th>\n",
       "      <td>113</td>\n",
       "      <td>113</td>\n",
       "      <td>GLY</td>\n",
       "      <td>GLY</td>\n",
       "      <td>UNIPROT</td>\n",
       "      <td>[7xn1]</td>\n",
       "      <td>THA</td>\n",
       "      <td>TACRINE</td>\n",
       "      <td>15</td>\n",
       "      <td>P22303</td>\n",
       "      <td>1.0</td>\n",
       "      <td>7xn1</td>\n",
       "      <td>1</td>\n",
       "      <td>A</td>\n",
       "      <td>113</td>\n",
       "      <td>7xn1</td>\n",
       "    </tr>\n",
       "    <tr>\n",
       "      <th>1</th>\n",
       "      <td>114</td>\n",
       "      <td>114</td>\n",
       "      <td>THR</td>\n",
       "      <td>THR</td>\n",
       "      <td>UNIPROT</td>\n",
       "      <td>[7xn1]</td>\n",
       "      <td>THA</td>\n",
       "      <td>TACRINE</td>\n",
       "      <td>15</td>\n",
       "      <td>P22303</td>\n",
       "      <td>1.0</td>\n",
       "      <td>7xn1</td>\n",
       "      <td>1</td>\n",
       "      <td>A</td>\n",
       "      <td>114</td>\n",
       "      <td>7xn1</td>\n",
       "    </tr>\n",
       "    <tr>\n",
       "      <th>2</th>\n",
       "      <td>117</td>\n",
       "      <td>117</td>\n",
       "      <td>TRP</td>\n",
       "      <td>TRP</td>\n",
       "      <td>UNIPROT</td>\n",
       "      <td>[7xn1]</td>\n",
       "      <td>THA</td>\n",
       "      <td>TACRINE</td>\n",
       "      <td>15</td>\n",
       "      <td>P22303</td>\n",
       "      <td>1.0</td>\n",
       "      <td>7xn1</td>\n",
       "      <td>1</td>\n",
       "      <td>A</td>\n",
       "      <td>117</td>\n",
       "      <td>7xn1</td>\n",
       "    </tr>\n",
       "    <tr>\n",
       "      <th>3</th>\n",
       "      <td>233</td>\n",
       "      <td>233</td>\n",
       "      <td>GLU</td>\n",
       "      <td>GLU</td>\n",
       "      <td>UNIPROT</td>\n",
       "      <td>[7xn1]</td>\n",
       "      <td>THA</td>\n",
       "      <td>TACRINE</td>\n",
       "      <td>15</td>\n",
       "      <td>P22303</td>\n",
       "      <td>1.0</td>\n",
       "      <td>7xn1</td>\n",
       "      <td>1</td>\n",
       "      <td>A</td>\n",
       "      <td>233</td>\n",
       "      <td>7xn1</td>\n",
       "    </tr>\n",
       "    <tr>\n",
       "      <th>4</th>\n",
       "      <td>368</td>\n",
       "      <td>368</td>\n",
       "      <td>TYR</td>\n",
       "      <td>TYR</td>\n",
       "      <td>UNIPROT</td>\n",
       "      <td>[7xn1]</td>\n",
       "      <td>THA</td>\n",
       "      <td>TACRINE</td>\n",
       "      <td>15</td>\n",
       "      <td>P22303</td>\n",
       "      <td>1.0</td>\n",
       "      <td>7xn1</td>\n",
       "      <td>1</td>\n",
       "      <td>A</td>\n",
       "      <td>368</td>\n",
       "      <td>7xn1</td>\n",
       "    </tr>\n",
       "  </tbody>\n",
       "</table>\n",
       "</div>"
      ],
      "text/plain": [
       "   startIndex  endIndex startCode endCode indexType allPDBEntries   \n",
       "0         113       113       GLY     GLY   UNIPROT        [7xn1]  \\\n",
       "1         114       114       THR     THR   UNIPROT        [7xn1]   \n",
       "2         117       117       TRP     TRP   UNIPROT        [7xn1]   \n",
       "3         233       233       GLU     GLU   UNIPROT        [7xn1]   \n",
       "4         368       368       TYR     TYR   UNIPROT        [7xn1]   \n",
       "\n",
       "  ligand_accession ligand_name  ligand_num_atoms uniprot_accession   \n",
       "0              THA     TACRINE                15            P22303  \\\n",
       "1              THA     TACRINE                15            P22303   \n",
       "2              THA     TACRINE                15            P22303   \n",
       "3              THA     TACRINE                15            P22303   \n",
       "4              THA     TACRINE                15            P22303   \n",
       "\n",
       "   interaction_ratio pdbId  entityId chainIds  residue_number count  \n",
       "0                1.0  7xn1         1        A             113  7xn1  \n",
       "1                1.0  7xn1         1        A             114  7xn1  \n",
       "2                1.0  7xn1         1        A             117  7xn1  \n",
       "3                1.0  7xn1         1        A             233  7xn1  \n",
       "4                1.0  7xn1         1        A             368  7xn1  "
      ]
     },
     "execution_count": 23,
     "metadata": {},
     "output_type": "execute_result"
    }
   ],
   "source": [
    "df3.head()"
   ]
  },
  {
   "cell_type": "markdown",
   "metadata": {
    "pycharm": {
     "name": "#%% md\n"
    }
   },
   "source": [
    "We will select only ligands which interact the most in a Dataframe df6"
   ]
  },
  {
   "cell_type": "code",
   "execution_count": 24,
   "metadata": {
    "pycharm": {
     "name": "#%%\n"
    }
   },
   "outputs": [],
   "source": [
    "df6 = df3.groupby(['residue_number', 'ligand_accession'])['interaction_ratio'].mean().reset_index()"
   ]
  },
  {
   "cell_type": "markdown",
   "metadata": {
    "pycharm": {
     "name": "#%% md\n"
    }
   },
   "source": [
    "We are going to scale the interactions as we use this later"
   ]
  },
  {
   "cell_type": "code",
   "execution_count": 25,
   "metadata": {
    "pycharm": {
     "name": "#%%\n"
    }
   },
   "outputs": [
    {
     "data": {
      "text/html": [
       "<div>\n",
       "<style scoped>\n",
       "    .dataframe tbody tr th:only-of-type {\n",
       "        vertical-align: middle;\n",
       "    }\n",
       "\n",
       "    .dataframe tbody tr th {\n",
       "        vertical-align: top;\n",
       "    }\n",
       "\n",
       "    .dataframe thead th {\n",
       "        text-align: right;\n",
       "    }\n",
       "</style>\n",
       "<table border=\"1\" class=\"dataframe\">\n",
       "  <thead>\n",
       "    <tr style=\"text-align: right;\">\n",
       "      <th></th>\n",
       "      <th>residue_number</th>\n",
       "      <th>ligand_accession</th>\n",
       "      <th>interaction_ratio</th>\n",
       "    </tr>\n",
       "  </thead>\n",
       "  <tbody>\n",
       "    <tr>\n",
       "      <th>0</th>\n",
       "      <td>47</td>\n",
       "      <td>CL</td>\n",
       "      <td>1.428571</td>\n",
       "    </tr>\n",
       "    <tr>\n",
       "      <th>1</th>\n",
       "      <td>47</td>\n",
       "      <td>SO4</td>\n",
       "      <td>0.750000</td>\n",
       "    </tr>\n",
       "    <tr>\n",
       "      <th>2</th>\n",
       "      <td>53</td>\n",
       "      <td>SO4</td>\n",
       "      <td>0.250000</td>\n",
       "    </tr>\n",
       "    <tr>\n",
       "      <th>3</th>\n",
       "      <td>54</td>\n",
       "      <td>CL</td>\n",
       "      <td>0.285714</td>\n",
       "    </tr>\n",
       "    <tr>\n",
       "      <th>4</th>\n",
       "      <td>54</td>\n",
       "      <td>SO4</td>\n",
       "      <td>0.500000</td>\n",
       "    </tr>\n",
       "    <tr>\n",
       "      <th>...</th>\n",
       "      <td>...</td>\n",
       "      <td>...</td>\n",
       "      <td>...</td>\n",
       "    </tr>\n",
       "    <tr>\n",
       "      <th>680</th>\n",
       "      <td>565</td>\n",
       "      <td>CL</td>\n",
       "      <td>0.285714</td>\n",
       "    </tr>\n",
       "    <tr>\n",
       "      <th>681</th>\n",
       "      <td>565</td>\n",
       "      <td>EDO</td>\n",
       "      <td>2.000000</td>\n",
       "    </tr>\n",
       "    <tr>\n",
       "      <th>682</th>\n",
       "      <td>565</td>\n",
       "      <td>NO3</td>\n",
       "      <td>0.631579</td>\n",
       "    </tr>\n",
       "    <tr>\n",
       "      <th>683</th>\n",
       "      <td>565</td>\n",
       "      <td>SO4</td>\n",
       "      <td>1.250000</td>\n",
       "    </tr>\n",
       "    <tr>\n",
       "      <th>684</th>\n",
       "      <td>569</td>\n",
       "      <td>CL</td>\n",
       "      <td>0.285714</td>\n",
       "    </tr>\n",
       "  </tbody>\n",
       "</table>\n",
       "<p>685 rows × 3 columns</p>\n",
       "</div>"
      ],
      "text/plain": [
       "     residue_number ligand_accession  interaction_ratio\n",
       "0                47               CL           1.428571\n",
       "1                47              SO4           0.750000\n",
       "2                53              SO4           0.250000\n",
       "3                54               CL           0.285714\n",
       "4                54              SO4           0.500000\n",
       "..              ...              ...                ...\n",
       "680             565               CL           0.285714\n",
       "681             565              EDO           2.000000\n",
       "682             565              NO3           0.631579\n",
       "683             565              SO4           1.250000\n",
       "684             569               CL           0.285714\n",
       "\n",
       "[685 rows x 3 columns]"
      ]
     },
     "execution_count": 25,
     "metadata": {},
     "output_type": "execute_result"
    }
   ],
   "source": [
    "df6['interaction_ratio'] = df6['interaction_ratio'].apply(lambda x: x*2)\n",
    "df6"
   ]
  },
  {
   "cell_type": "markdown",
   "metadata": {
    "pycharm": {
     "name": "#%% md\n"
    }
   },
   "source": [
    "Now we can plot the ligand interactions of those ligands which interact with the most interacting residues.\n",
    "\n",
    "We will put each ligand on a row and scale the interactions by the percentage of PDB entries they are seen in.\n"
   ]
  },
  {
   "cell_type": "code",
   "execution_count": 26,
   "metadata": {
    "pycharm": {
     "name": "#%%\n"
    }
   },
   "outputs": [
    {
     "data": {
      "image/png": "[encoded data removed]",
      "text/plain": [
       "<Figure size 1200x1200 with 1 Axes>"
      ]
     },
     "metadata": {},
     "output_type": "display_data"
    }
   ],
   "source": [
    "# prepare a figure\n",
    "plt.rcParams['figure.figsize'] = [12, 12]\n",
    "fig, ax = plt.subplots()\n",
    "\n",
    "# plot the less interesting ligands in blue\n",
    "for ligand in missing_ligands:\n",
    "    data = df6[df6['ligand_accession'] == ligand]\n",
    "    data.plot.scatter(x='residue_number', y='ligand_accession', ax=ax, s='interaction_ratio', c='blue')\n",
    "\n",
    "# plot the interesting ligands in red\n",
    "for ligand in interesting_ligands:\n",
    "    data = df6[df6['ligand_accession'] == ligand]\n",
    "    data.plot.scatter(x='residue_number', y='ligand_accession', ax=ax, s='interaction_ratio', c='red')\n",
    "\n",
    "\n",
    "plt.ylabel('Ligand')\n",
    "plt.xlabel('UniProt Residue Number')\n",
    "plt.title('Residues which interact with ligands,\\nSpheres scaled by amount of times each interaction is seen in PDB entries')\n",
    "plt.show()\n",
    "plt.close()"
   ]
  },
  {
   "cell_type": "markdown",
   "metadata": {},
   "source": [
    "It would be interesting to see if the ligands binding to same residues are similar to each other. Let's take any ligand from above interesting ligand dataset and find all the other ligands which are similar to it. \n",
    "\n",
    "In the example below, we have taken the neurotoxin VX (HET CODE- VX) and found all the ligands similar to it using \"get_similar_ligand_data\" function. This function takes ligand name and similarity cutoff (0-1) as arguments. Here we have used similarity cutoff of 0.7 and found all the ligands which are 70 % or more similar to VX. "
   ]
  },
  {
   "cell_type": "code",
   "execution_count": 27,
   "metadata": {
    "pycharm": {
     "name": "#%%\n"
    }
   },
   "outputs": [
    {
     "name": "stdout",
     "output_type": "stream",
     "text": [
      "https://www.ebi.ac.uk/pdbe/graph-api/compound/similarity/VX\n",
      "  similar_ligand  similarity_score\n",
      "0            ATJ             0.857\n",
      "1            CVX             0.778\n",
      "2            E8W             0.778\n",
      "3            E9E             0.875\n",
      "4            EFS             0.750\n",
      "5             GB             0.714\n",
      "6            H9A             0.778\n",
      "7             VR             0.778\n",
      "['EFS']\n"
     ]
    }
   ],
   "source": [
    "ligand_exp = \"VX\"\n",
    "similarity_cutoff = 0.7\n",
    "#finding similar ligands to ligand_exp \n",
    "similar_ligands = get_similar_ligand_data(ligand_exp, similarity_cutoff)\n",
    "sdf=pd.DataFrame(similar_ligands.items(),columns = ['similar_ligand','similarity_score'])\n",
    "print(sdf)\n",
    "#find common ligands from similar_ligands and interesting_ligands\n",
    "common_ligands = [item for item in similar_ligands if item in interesting_ligands]\n",
    "print(common_ligands)"
   ]
  },
  {
   "cell_type": "markdown",
   "metadata": {},
   "source": [
    "Now, you can compare if VX and common_ligands bind to same residues or not and check if similar ligands tend to bind to similar sites."
   ]
  }
 ],
 "metadata": {
  "kernelspec": {
   "display_name": "Python 3 (ipykernel)",
   "language": "python",
   "name": "python3"
  },
  "language_info": {
   "codemirror_mode": {
    "name": "ipython",
    "version": 3
   },
   "file_extension": ".py",
   "mimetype": "text/x-python",
   "name": "python",
   "nbconvert_exporter": "python",
   "pygments_lexer": "ipython3",
   "version": "3.9.16"
  }
 },
 "nbformat": 4,
 "nbformat_minor": 1
}
