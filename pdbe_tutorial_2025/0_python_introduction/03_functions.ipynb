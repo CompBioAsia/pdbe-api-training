{
  "cells": [
    {
      "cell_type": "markdown",
      "metadata": {
        "id": "Qa-JSsh8bVqt"
      },
      "source": [
        "# **Functions**\n",
        "\n",
        "Functions are an essential component to any programming language. They allow us to compartmentalise a block of code and then call that code again and again, wherever we need it, with only a single command. For example, if you wanted to sort a list of strings alphabetically and you were given five lists, one approach could be to write the code in full to sort each of the five lists. With functions, we can instead write the code to sort the list once and simply call that code whenever we need to sort a new list. \n",
        "\n",
        "Take a look at this math example:"
      ]
    },
    {
      "cell_type": "code",
      "execution_count": null,
      "metadata": {
        "id": "mv2wI-FebJF6"
      },
      "outputs": [],
      "source": [
        "# Function to find the cube root of a number\n",
        "def cube(number):\n",
        "\n",
        "  cube = number * number * number\n",
        "\n",
        "  return cube"
      ]
    },
    {
      "cell_type": "markdown",
      "metadata": {
        "id": "ZcW-FpxucX80"
      },
      "source": [
        "Of course, the same thing can be written using `number**3`, but the function above gives us a way to simplify the code. We can parse in as many parameters (the things in brackets) as we want into the function. Have a look at the example below:"
      ]
    },
    {
      "cell_type": "code",
      "execution_count": null,
      "metadata": {
        "id": "TSm5LBS9cvH-"
      },
      "outputs": [],
      "source": [
        "# Function to find the value of a number to a given power\n",
        "def find_power(base, power):\n",
        "\n",
        "  while power > 1:\n",
        "    base *= base\n",
        "\n",
        "    power -= 1\n",
        "\n",
        "  return base\n",
        "\n",
        "\n",
        "if __name__ == \"__main__\":\n",
        "\n",
        "  two_cubed = find_power(2, 3)\n",
        "\n",
        "  print(two_cubed)\n"
      ]
    },
    {
      "cell_type": "markdown",
      "metadata": {
        "id": "jCgY3TE7dnRX"
      },
      "source": [
        "We have also used a new statement here, the `if __name__ == \"__main__\"` line. This may look daunting but it is quite simply in reality. It just tells Python to run the code if the current Python file is being executed. In notebooks, like this one, it is not strictly necessary but is very useful when you begin writing standalone Python applications comprised of many files, which can talk to each other to perform more complicated tasks.\n",
        "\n",
        "## Task 1:\n",
        "\n",
        "Write a function to return the names of the employees who have `Admin` roles in the company.\n",
        "\n",
        "The function should return all of the employee names as a list and take in a single dictionary as an argument.\n",
        "\n",
        "This will require the use of many skills learned throughout previous lessons so take your time to think of your solution to the problem."
      ]
    },
    {
      "cell_type": "code",
      "execution_count": null,
      "metadata": {
        "id": "Vanmrps0et9h"
      },
      "outputs": [],
      "source": [
        "# Dictionary of employees and their roles\n",
        "employees = {\n",
        "    \"James\" : \"Legal\",\n",
        "    \"Susan\" : \"Legal\",\n",
        "    \"Jason\" : \"Admin\",\n",
        "    \"Leslie\" : \"Research\",\n",
        "    \"Isaac\" : \"Legal\",\n",
        "    \"Emily\" : \"Research\",\n",
        "    \"Rachel\" : \"Admin\",\n",
        "    \"John\" : \"Admin\",\n",
        "    \"Bill\" : \"Sales\",\n",
        "    \"Maisie\" : \"Admin\"\n",
        "}\n",
        "\n",
        "# Write your function within the following lines:\n",
        "# start ...\n",
        "\n",
        "\n",
        "\n",
        "\n",
        "# ... end\n",
        "\n",
        "if __name__ == \"__main__\":\n",
        "\n",
        "  # Execute your function within the following lines:\n",
        "\n",
        "  # start ...\n",
        "\n",
        "\n",
        "\n",
        "\n",
        "  # ... end\n",
        "\n",
        "  pass"
      ]
    }
  ],
  "metadata": {
    "colab": {
      "provenance": []
    },
    "kernelspec": {
      "display_name": "env",
      "language": "python",
      "name": "python3"
    },
    "language_info": {
      "codemirror_mode": {
        "name": "ipython",
        "version": 3
      },
      "file_extension": ".py",
      "mimetype": "text/x-python",
      "name": "python",
      "nbconvert_exporter": "python",
      "pygments_lexer": "ipython3",
      "version": "3.10.15"
    }
  },
  "nbformat": 4,
  "nbformat_minor": 0
}
