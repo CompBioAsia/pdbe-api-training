{
  "cells": [
    {
      "cell_type": "markdown",
      "metadata": {
        "id": "gD3rujhHUpmm"
      },
      "source": [
        "# Pandas and Matplotlib Session"
      ]
    },
    {
      "cell_type": "markdown",
      "metadata": {
        "id": "BpLsYAbSUpmn"
      },
      "source": [
        "In this session, we will cover the basics of Pandas and Matplotlib - two packages used to manipulate, analyse and visualise data. The content herein aims to act as an introduction to Pandas/Matplotlib and is by no means exhastive. Refering to the [Pandas](https://pandas.pydata.org/pandas-docs/stable/reference/index.html) and [Matplotlib](https://matplotlib.org/stable/api/index) documentation is an excellent way to extend your knowledge of these two modules and find answers to edge cases.\n",
        "\n",
        "Pandas leverages another library called Numpy, which is a framework for numerical computing in Python. It's worth noting that Pandas is built on top of Numpy, but we will not be covering NumPy in this session. If you are interested in learning more about Numpy, please refer to the [Numpy documentation](https://numpy.org/doc/stable/reference/index.html).\n",
        "\n",
        "___\n",
        "\n",
        "Let's start by importing the modules required for the session."
      ]
    },
    {
      "cell_type": "code",
      "execution_count": 1,
      "metadata": {
        "id": "ZWqGEUSAUpmn"
      },
      "outputs": [],
      "source": [
        "import numpy as np\n",
        "import pandas as pd\n",
        "from matplotlib import pyplot as plt\n",
        "import time"
      ]
    },
    {
      "cell_type": "markdown",
      "metadata": {},
      "source": [
        "To illustrate the benefit of using Numpy, take a look at the two code blocks below. Both achieve the same result, but the first uses a for loop to iterate through a list of numbers and the second uses Numpy to achieve the same result in a single line of code. The second method is much faster and more efficient, especially for large datasets."
      ]
    },
    {
      "cell_type": "code",
      "execution_count": null,
      "metadata": {
        "id": "0_oTSg3mWFEo"
      },
      "outputs": [],
      "source": [
        "number_list = [1, 2, 3, 4, 5, 6, 7, 8]\n",
        "\n",
        "for num in number_list:\n",
        "  print(num**3)\n",
        "\n",
        "print(\n",
        "    number_list * 3\n",
        ")"
      ]
    },
    {
      "cell_type": "code",
      "execution_count": null,
      "metadata": {
        "id": "zfiXKE1XWYGE"
      },
      "outputs": [],
      "source": [
        "number_array = np.array(\n",
        "    [1, 2, 3, 4, 5, 6, 7, 8]\n",
        ")\n",
        "\n",
        "print(\n",
        "  number_array ** 3\n",
        ")"
      ]
    },
    {
      "cell_type": "markdown",
      "metadata": {},
      "source": [
        "To demonstrate the runtime improvement of the Numpy array over the Python list, we will use the `timeit` module. This module provides a simple way to time small bits of Python code. We will use it to measure the time it takes to create a list of numbers using a for loop and the time it takes to create a Numpy array using the `np.arange()` function."
      ]
    },
    {
      "cell_type": "code",
      "execution_count": null,
      "metadata": {
        "id": "jA3jbYaZW3e_"
      },
      "outputs": [],
      "source": [
        "number_list = list(range(0, 1000001))\n",
        "number_array = np.array(range(0, 1000001))\n",
        "\n",
        "# Find time taken to cube elements in list\n",
        "begin_time = time.time()\n",
        "cubes_list = []\n",
        "for i in number_list:\n",
        "  cubes_list.append(i**3)\n",
        "print(time.time() - begin_time)\n",
        "\n",
        "# Find time taken to cube elements in numpy array\n",
        "begin_time = time.time()\n",
        "cubes_list = number_array ** 3\n",
        "print(time.time() - begin_time)"
      ]
    },
    {
      "cell_type": "markdown",
      "metadata": {
        "id": "ZujOGbIPUpmo"
      },
      "source": [
        "For this session, you will need the data set named ```pdb_data_no_dups.csv.gz```, which should be found in this folder's `data` directory. \n",
        "___"
      ]
    },
    {
      "cell_type": "markdown",
      "metadata": {
        "id": "Sg0iWfJ3Upmo"
      },
      "source": [
        "## Pandas introduction"
      ]
    },
    {
      "cell_type": "markdown",
      "metadata": {
        "id": "6XPOxPWsUpmo"
      },
      "source": [
        "Pandas is a Python module, underpinned by Numpy, that enables efficient handling of tabular data structures, which are stored as DataFrame objects. These can either be created within a Python script or imported from separate files such as CSVs or Excel spreadsheets.\n",
        "\n",
        "Here, we will be working with a data set on summary protein structure determination informaiton taken from [Kaggle](https://www.kaggle.com/shahir/protein-data-set) to introduce basic Pandas commands.\n",
        "\n",
        "We will start by importing the data set into this Jupyter notebook and assigning it as a DataFrame to the variable ```df```."
      ]
    },
    {
      "cell_type": "code",
      "execution_count": 3,
      "metadata": {
        "id": "c5w4Tua6Upmo"
      },
      "outputs": [],
      "source": [
        "df = pd.read_csv('data/pdb_data_no_dups.csv.gz')"
      ]
    },
    {
      "cell_type": "code",
      "execution_count": null,
      "metadata": {
        "id": "vaHyY1syaQ9G"
      },
      "outputs": [],
      "source": [
        "df.head()"
      ]
    },
    {
      "cell_type": "markdown",
      "metadata": {
        "id": "dki2dQW3Upmo"
      },
      "source": [
        "The attribute ```.columns``` returns an array of column names from the DataFrame. Let's apply this to our ```df``` DataFrame."
      ]
    },
    {
      "cell_type": "code",
      "execution_count": null,
      "metadata": {
        "id": "ZxPCyu_CUpmo"
      },
      "outputs": [],
      "source": [
        "df.columns"
      ]
    },
    {
      "cell_type": "markdown",
      "metadata": {
        "id": "Sz3iDCUIUpmp"
      },
      "source": [
        "### Task 1\n",
        "Convert the array of columns into a list and assign it to a Python variable.\n",
        "\n"
      ]
    },
    {
      "cell_type": "code",
      "execution_count": null,
      "metadata": {
        "id": "8y_XaJvDUpmp"
      },
      "outputs": [],
      "source": [
        "### Task 1 ###\n"
      ]
    },
    {
      "cell_type": "markdown",
      "metadata": {
        "id": "r3IhCvPAUpmp"
      },
      "source": [
        "___\n",
        "The top five rows of of the Pandas DataFrame can be returned by using the method ```.head()```. Run ```.head()``` on your ```df``` to get a brief insight to the data."
      ]
    },
    {
      "cell_type": "code",
      "execution_count": null,
      "metadata": {
        "id": "C5osLc2BUpmp"
      },
      "outputs": [],
      "source": [
        "### Enter code below\n"
      ]
    },
    {
      "cell_type": "markdown",
      "metadata": {
        "id": "hh8E8R8aUpmp"
      },
      "source": [
        "The attribute ```.index``` can give you some information on the number of entries in the DataFrame. Apply this attribute to your DataFrame. Is the result useful?\n"
      ]
    },
    {
      "cell_type": "code",
      "execution_count": null,
      "metadata": {
        "id": "iPugEhbAUpmp"
      },
      "outputs": [],
      "source": [
        "### Enter code below\n"
      ]
    },
    {
      "cell_type": "markdown",
      "metadata": {
        "id": "mA8UTCYLUpmp"
      },
      "source": [
        "### Task 2\n",
        "Determine the number of rows (entries) in your ```df``` DataFrame."
      ]
    },
    {
      "cell_type": "code",
      "execution_count": null,
      "metadata": {
        "id": "F4WYCJKWUpmp"
      },
      "outputs": [],
      "source": [
        "### Task 2 ###\n"
      ]
    },
    {
      "cell_type": "markdown",
      "metadata": {
        "id": "tIZSFgXGUpmq"
      },
      "source": [
        "___\n",
        "DataFrames are typically structured with a single Python data type assigned to each column. In other words, columns containing numeric data should not include strings (e.g. `1, 2, 3, 'four'` is not good practice). What Python function is used to return the data type of the variable's below?"
      ]
    },
    {
      "cell_type": "code",
      "execution_count": null,
      "metadata": {
        "id": "HRIpUSmvUpmq"
      },
      "outputs": [],
      "source": [
        "example_string = 'Hello_world'\n",
        "example_integer = 1234\n",
        "example_float = 1.234\n",
        "\n",
        "### Enter code below\n"
      ]
    },
    {
      "cell_type": "markdown",
      "metadata": {
        "id": "Iiik0zUAUpmq"
      },
      "source": [
        "Pandas allows you to check the data type contained within a column using the attribute ```.dtype```. "
      ]
    },
    {
      "cell_type": "code",
      "execution_count": null,
      "metadata": {
        "id": "oI1yYHsHUpmq"
      },
      "outputs": [],
      "source": [
        "dict_1 = {\n",
        "    \"key1\" : [1, 2, 3, 4],\n",
        "    \"key2\" : [10, 20, 30, 40]\n",
        "}\n",
        "dict_1[\"key1\"]\n",
        "\n",
        "df[\"resolution\"].dtype\n"
      ]
    },
    {
      "cell_type": "markdown",
      "metadata": {},
      "source": [
        "Apply `.dtype` to your entire DataFrame. Are the results what you would expect considering your previous insight into the DataFrame?"
      ]
    },
    {
      "cell_type": "code",
      "execution_count": null,
      "metadata": {},
      "outputs": [],
      "source": [
        "# Enter code below"
      ]
    },
    {
      "cell_type": "markdown",
      "metadata": {
        "id": "8-PzzexUUpmq"
      },
      "source": [
        "Another useful feature of Pandas is the ability to find all the unique values contained within a column. Squre brackets ```[]``` are used to slice a DataFrame into a single column and the method ```.unique()``` returns non-duplicate values. Run the cell below to see what the code returns."
      ]
    },
    {
      "cell_type": "code",
      "execution_count": null,
      "metadata": {
        "id": "UcJOp_jgUpmq"
      },
      "outputs": [],
      "source": [
        "df['experimentalTechnique'].unique()"
      ]
    },
    {
      "cell_type": "markdown",
      "metadata": {
        "id": "Q8oYMW4NUpmq"
      },
      "source": [
        "### Task 3\n",
        "What types of macromolecules are included in your DataFrame?\n",
        "\n",
        "How could you clean this data?"
      ]
    },
    {
      "cell_type": "code",
      "execution_count": null,
      "metadata": {
        "id": "fwtRLOBRUpmq"
      },
      "outputs": [],
      "source": [
        "### Task 3 ###\n"
      ]
    },
    {
      "cell_type": "markdown",
      "metadata": {
        "id": "nvoNazUXUpmq"
      },
      "source": [
        "___\n",
        "As well as returning unique entries in a column, we can find their frequencies using the method ```.value_counts()```.\n",
        "\n",
        "### Task 4\n",
        "\n",
        "Apply ```.value_counts()``` to an appropriate column of your choice."
      ]
    },
    {
      "cell_type": "code",
      "execution_count": null,
      "metadata": {
        "id": "9IND8JrEUpmq"
      },
      "outputs": [],
      "source": [
        "### Task 4 ###\n"
      ]
    },
    {
      "cell_type": "markdown",
      "metadata": {
        "id": "P3CdYb34Upmr"
      },
      "source": [
        "___\n",
        "Often, we only want to work with numeric data from a DataFrame. Columns containing strings can confound analysis if they are not removed. We can create a new DataFrame that countains only floats and integers using the following code:"
      ]
    },
    {
      "cell_type": "code",
      "execution_count": null,
      "metadata": {
        "id": "eGtSkowiUpmr"
      },
      "outputs": [],
      "source": [
        "# DataFrame copy made of df, containing only integers and floats.\n",
        "df_numeric = df.select_dtypes(include = [\"int64\", \"float64\"])\n",
        "\n",
        "# Displaying new DataFrame.\n",
        "df_numeric"
      ]
    },
    {
      "cell_type": "markdown",
      "metadata": {
        "id": "sfBVs2qrUpmr"
      },
      "source": [
        "#### Task 5\n",
        "Modify the code above to create a copy of ```df``` that contains only string-type data."
      ]
    },
    {
      "cell_type": "code",
      "execution_count": null,
      "metadata": {
        "id": "dfKR-DxZUpmr"
      },
      "outputs": [],
      "source": [
        "### Task 5 ###\n"
      ]
    },
    {
      "cell_type": "markdown",
      "metadata": {
        "id": "_2K9YgRHUpmr"
      },
      "source": [
        "___\n",
        "A quick summary of numeric data within a DataFrame can be obtained using the method ```.describe()```. Apply this to your ```df```. Ask your supervisor how you can transpose the DataFrame to move your summary statistics returned by ```.describe()``` to the column position."
      ]
    },
    {
      "cell_type": "code",
      "execution_count": null,
      "metadata": {
        "id": "2MKV9HhrUpmr"
      },
      "outputs": [],
      "source": [
        "# Enter code below\n"
      ]
    },
    {
      "cell_type": "markdown",
      "metadata": {
        "id": "MzyhL7F-Upmr"
      },
      "source": [
        "A major problem that arises when working with unfamiliar data sets is the insertion of ```NULL```, ```Na``` or ```NaN``` values. Rows with any of these values can be removed using the ```.dropna()``` method.\n",
        "\n",
        "How many entries of your original ```df``` DataFrame are free from missing values for all parameters?"
      ]
    },
    {
      "cell_type": "code",
      "execution_count": null,
      "metadata": {
        "id": "J7xw4-XqUpmr"
      },
      "outputs": [],
      "source": [
        "# Enter code below\n"
      ]
    },
    {
      "cell_type": "markdown",
      "metadata": {
        "id": "WniQihHqUpmr"
      },
      "source": [
        "Does the presence of missing values in a DataFrame affect summary statistics? Write some code in the cell below to test your hypothesis."
      ]
    },
    {
      "cell_type": "code",
      "execution_count": null,
      "metadata": {
        "id": "_L_UPBniUpmr"
      },
      "outputs": [],
      "source": [
        "# Enter code below\n"
      ]
    },
    {
      "cell_type": "markdown",
      "metadata": {
        "id": "xgXF0HjpUpmr"
      },
      "source": [
        "___\n",
        "\n",
        "The final feature Pandas we will look at is boolean operators. The method ```.iloc[]``` will return the entry at a given index. A further argument can be parsed into ```.iloc[]``` to return both the entry at a given index and that entry's parameter value at a given column. Pandas, like Python, uses a starting index of ```0```. Run the code below to see ```.iloc[]``` in action."
      ]
    },
    {
      "cell_type": "code",
      "execution_count": null,
      "metadata": {
        "id": "D0zvrJYPUpms"
      },
      "outputs": [],
      "source": [
        "entry_two = df.iloc[1]                   # Returns the entire entry from the second column\n",
        "\n",
        "entry_three_column_four = df.iloc[2:10, 3]  # Returns the single value in row 3, column 4\n",
        "\n",
        "print(entry_two)\n",
        "print('-------')                         # Arbitrary seperator\n",
        "print(entry_three_column_four)"
      ]
    },
    {
      "cell_type": "markdown",
      "metadata": {
        "id": "eWv6a9o1Upmu"
      },
      "source": [
        "Another useful method is ```.loc[]```. It works in a similar way to ```.iloc[]``` but is used as a logical entry selector. Boolean operators are used with ```.loc[]``` to exclusively select entries based on values in a specified column. Run the code below to get a feel for ```.loc[]```.  "
      ]
    },
    {
      "cell_type": "code",
      "execution_count": null,
      "metadata": {
        "id": "-ddIkwPtUpmu"
      },
      "outputs": [],
      "source": [
        "# Select only entries solved by X-ray diffraction and assign to new DataFrame\n",
        "xray_structures = df.loc[df['experimentalTechnique'] == 'X-RAY DIFFRACTION']\n",
        "print(len(xray_structures))\n",
        "\n",
        "# Select only entries solved by X-ray diffraciton and are DNA-based\n",
        "dna_xray_structures = df.loc[(df['experimentalTechnique'] == 'X-RAY DIFFRACTION') & (df['classification'] == 'DNA')]\n",
        "print(len(dna_xray_structures))\n",
        "\n",
        "# Shows the DataFrame contains only one unique entry in the 'experimentalTechnique' field.\n",
        "xray_structures['experimentalTechnique'].unique()"
      ]
    },
    {
      "cell_type": "markdown",
      "metadata": {
        "id": "tHkS5xOYUpmu"
      },
      "source": [
        "Note that the second variable is defined using the element-wise boolean operator ```&```. The element-wise booleans in Pandas for AND, OR and XOR are ```&```, ```|``` and ```^```, respectively.\n",
        "\n",
        "\n",
        "It is good practice to use ```.loc[]``` to conditionally select entries from DataFrames but can be omitted, giving the same result.\n",
        "\n",
        "\n",
        "### Task 6\n",
        "\n",
        "What year was the 100th protein structure (```macromoleculeType```) solved solely by ```ELECTRON MICROSCOPY```?"
      ]
    },
    {
      "cell_type": "code",
      "execution_count": null,
      "metadata": {
        "id": "8zQFQJfiUpmu"
      },
      "outputs": [],
      "source": [
        "#### Task 6 ###\n"
      ]
    },
    {
      "cell_type": "markdown",
      "metadata": {
        "id": "M8TRzoq5Upmu"
      },
      "source": [
        "___"
      ]
    },
    {
      "cell_type": "markdown",
      "metadata": {
        "id": "Di7NMt-dUpmu"
      },
      "source": [
        "## Matplotlib introduction\n",
        "\n",
        "This section will introduce some of the basics of Maplotlib. It is by no means an exhaustive overview of the package and you should look through the [Matplotlib documentation](https://matplotlib.org/) when working on your own projects in the future.\n",
        "\n",
        "The terminology of Matplotlib can cause confusion for those unfamiliar with the package. The term ***figure*** refers to the entire plot area of a graph, which i sseparate from the plot area. An ***axis*** is placed onto the Matplotlib *figure* and defines the area onto which your data will be plotted. A Matplotlib *axis*, ambiguously, includes both x- and y-axes. Multiple *axes* can be plotted onto a single figure.\n",
        "\n",
        "Let's start by plotting a histogram of the resolution data in the DataFrame. By doing so, we can get an insight into how the data is distributed.\n",
        "\n",
        "Run the code below. What does each line do? Speak with your supervisor for clarification."
      ]
    },
    {
      "cell_type": "code",
      "execution_count": null,
      "metadata": {
        "id": "n28QZWlDUpmu"
      },
      "outputs": [],
      "source": [
        "# Initialising figure as a 1x1 grid of axes\n",
        "resolution_fig, ax_res_hist = plt.subplots(1, 1)\n",
        "\n",
        " # Define number, size and range of bins\n",
        "res_bins = np.arange(0, 5, 0.2)\n",
        "\n",
        "# Plot histogram of non-NaN resolution data using Pandas\n",
        "ax_res_hist.hist(df['resolution'].dropna(),\n",
        "                 bins=res_bins\n",
        "                )\n",
        "\n",
        "plt.show()         # Displays all axes on figure"
      ]
    },
    {
      "cell_type": "markdown",
      "metadata": {
        "id": "rtr5zpgYUpmv"
      },
      "source": [
        "### Task 7\n",
        "\n",
        "Plot a histogram for a numerical parameter from ```df``` of your chioce. Inspect the [Maplotlib documentation](https://matplotlib.org/api/_as_gen/matplotlib.axes.Axes.hist.html?highlight=hist#matplotlib.axes.Axes.hist) for this form of histogram and add additional arguments into your code to format the graph's appearance.\n",
        "\n",
        "Axes labels can also be added using the method ```.set_nlabel```, replacing ```n``` with either ```x``` or ```y```."
      ]
    },
    {
      "cell_type": "code",
      "execution_count": null,
      "metadata": {
        "id": "NOFC7aipUpmv"
      },
      "outputs": [],
      "source": [
        "### Task 7 ###\n"
      ]
    },
    {
      "cell_type": "markdown",
      "metadata": {
        "id": "9t9Egz-rUpmv"
      },
      "source": [
        "___\n",
        "Scatter plots can be a good way to identify trends or groups within data.\n",
        "\n",
        "Run the code below. Is it valid to say the resolution of solved macromolecules has been worsening over time? What reasons are there for the trends observed? Discuss with your supervisor."
      ]
    },
    {
      "cell_type": "code",
      "execution_count": null,
      "metadata": {
        "id": "FK1AONouUpmv"
      },
      "outputs": [],
      "source": [
        "# Initialise figure with 1x1 grid of axes\n",
        "res_year_fig, res_year_ax = plt.subplots(1, 1)\n",
        "\n",
        "''' Remove only NaN/NULL values from the resolution and publicationYear columns and\n",
        "return a DataFrame with only these two columns, saving computer memory '''\n",
        "\n",
        "year_resolution_df = df.dropna(subset=['resolution', 'publicationYear'])[['resolution', 'publicationYear']]\n",
        "\n",
        "res_year_ax.scatter(year_resolution_df['publicationYear'],   # Plot x-axis data\n",
        "                    year_resolution_df['resolution']         # Plot y-axis data\n",
        "                   )\n",
        "\n",
        "plt.show()   # Display figure"
      ]
    },
    {
      "cell_type": "markdown",
      "metadata": {
        "id": "CJUlwYgBUpmv"
      },
      "source": [
        "### Task 8\n",
        "\n",
        "Repurpose the code above to plot *resolution* as a function of *molecular weight*.\n",
        "\n",
        "Refer to the [Matplotlib documentation](https://matplotlib.org/api/_as_gen/matplotlib.axes.Axes.scatter.html?highlight=scatter#matplotlib.axes.Axes.scatter) for scatter plots and add some formatting to change the plot's appearance."
      ]
    },
    {
      "cell_type": "code",
      "execution_count": null,
      "metadata": {
        "id": "s08GXrPMUpmv"
      },
      "outputs": [],
      "source": [
        "### Task 7 ###\n",
        "\n",
        "fig, axes = plt.subplots(1, 2)\n",
        "# axes = (<AxesSubplot:> <AxesSubplot:>)\n",
        "print(axes)\n",
        "\n",
        "axes[0].scatter(df[\"publicationYear\"], df[\"resolution\"])\n",
        "axes[1].scatter(df[\"structureMolecularWeight\"], df[\"resolution\"])\n"
      ]
    },
    {
      "cell_type": "markdown",
      "metadata": {
        "id": "cYnvxzsDUpmv"
      },
      "source": [
        "___\n",
        "The final plot we will look at is the bar plot, specifically a horizontal bar plot. Run the code below. Discuss the code with your supervisor if anything is unlcear."
      ]
    },
    {
      "cell_type": "code",
      "execution_count": null,
      "metadata": {
        "id": "sBOSCunUUpmv"
      },
      "outputs": [],
      "source": [
        "# Setting the style of figure\n",
        "plt.style.use('ggplot')\n",
        "\n",
        "# Initialise figure with 1x1 grid of axes\n",
        "fig, ax = plt.subplots(1, 1)\n",
        "\n",
        "ax.barh(y=df['experimentalTechnique'].value_counts().index,   # Labels added to y-axis\n",
        "        width=df['experimentalTechnique'].value_counts(),     # Frequency added to x-axis\n",
        "        log=True         # The difference between frequencies spans several orders of magnitude. Using a semi-log scale makes the data easier to interpret here\n",
        "       )                 # Comment out 'log=True' to highlight its usefulness here.\n",
        "\n",
        "plt.show()   # Display figure"
      ]
    },
    {
      "cell_type": "markdown",
      "metadata": {
        "id": "hWUyS0WQUpmw"
      },
      "source": [
        "### Task 9\n",
        "\n",
        "What is the most commonly soled type of macromolecule? Plot a bargraph to get your answer."
      ]
    },
    {
      "cell_type": "code",
      "execution_count": null,
      "metadata": {
        "id": "rOR9dUJkUpmw"
      },
      "outputs": [],
      "source": [
        "### Task 8 ###\n"
      ]
    }
  ],
  "metadata": {
    "colab": {
      "provenance": []
    },
    "kernelspec": {
      "display_name": "env",
      "language": "python",
      "name": "python3"
    },
    "language_info": {
      "codemirror_mode": {
        "name": "ipython",
        "version": 3
      },
      "file_extension": ".py",
      "mimetype": "text/x-python",
      "name": "python",
      "nbconvert_exporter": "python",
      "pygments_lexer": "ipython3",
      "version": "3.10.15"
    }
  },
  "nbformat": 4,
  "nbformat_minor": 0
}
