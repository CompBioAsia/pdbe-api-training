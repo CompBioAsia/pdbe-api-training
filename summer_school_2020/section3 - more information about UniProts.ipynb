{
 "cells": [
  {
   "cell_type": "markdown",
   "metadata": {},
   "source": [
    "# PDBe API Training\n",
    "\n",
    "### PDBe Interactions\n",
    "\n",
    "This tutorial will guide you through searching PDBe programmatically.\n",
    "\n",
    "\n",
    "First we will import the code which will do the work\n",
    "Run the cell below - by pressing the green play button."
   ]
  },
  {
   "cell_type": "code",
   "execution_count": 2,
   "metadata": {
    "pycharm": {
     "name": "#%%\n"
    }
   },
   "outputs": [],
   "source": [
    "import pandas as pd\n",
    "import numpy as np\n",
    "import requests\n",
    "import matplotlib.pyplot as plt\n",
    "from IPython.display import SVG, display\n",
    "import sys\n",
    "sys.path.insert(0,'..') # to ensure the below import works in all Jupyter notebooks\n",
    "from python_modules.api_modules import run_sequence_search, explode_dataset, get_ligand_site_data\n"
   ]
  },
  {
   "cell_type": "markdown",
   "metadata": {
    "pycharm": {
     "name": "#%% md\n"
    }
   },
   "source": [
    "Now we are ready to actually run the sequence search we did in the last module\n",
    "\n",
    "We will search for a sequence with an example sequence from UniProt P24941 -\n",
    "Cyclin-dependent kinase 2"
   ]
  },
  {
   "cell_type": "code",
   "execution_count": 3,
   "metadata": {
    "pycharm": {
     "name": "#%%\n"
    }
   },
   "outputs": [
    {
     "name": "stdout",
     "output_type": "stream",
     "text": [
      "Number of results 222\n"
     ]
    }
   ],
   "source": [
    "sequence_to_search = \"\"\"\n",
    "MEDAKNIKKGPAPFYPLEDGTAGEQLHKAMKRYALVPGTIAFTDAHIEVNITYAEYFEMS\n",
    "VRLAEAMKRYGLNTNHRIVVCSENSLQFFMPVLGALFIGVAVAPANDIYNERELLNSMNI\n",
    "SQPTVVFVSKKGLQKILNVQKKLPIIQKIIIMDSKTDYQGFQSMYTFVTSHLPPGFNEYD\n",
    "FVPESFDRDKTIALIMNSSGSTGLPKGVALPHRTACVRFSHARDPIFGNQIIPDTAILSV\n",
    "VPFHHGFGMFTTLGYLICGFRVVLMYRFEEELFLR\n",
    "SLQDYKIQSALLVPTLFSFFAKSTL\n",
    "IDKYDLSNLHEIASGGAPLSKEVGEAVAKRFHLPGIRQGYGLTETTSAILITPEGDDKPG\n",
    "AVGKVVPFFEAKVVDLDTGKTLGVNQRGELCVRGPMIMSGYVNNPEATNALIDKDGWLHS\n",
    "GDIAYWDEDEHFFIVDRLKSLIKYKGYQVAPAELESILLQHPNIFDAGVAGLPDDDAGEL\n",
    "PAAVVVLEHGKTMTEKEIVDYVASQVTTAKKLRGGVVFVDEVPKGLTGKLDARKIREILI\n",
    "KAKKGGKSKL\n",
    "\"\"\"\n",
    "filter_list = ['pfam_accession', 'pdb_id', 'molecule_name', 'ec_number',\n",
    "               'uniprot_accession_best', 'tax_id']\n",
    "\n",
    "search_results = run_sequence_search(sequence_to_search,\n",
    "                                     filter_terms=filter_list,\n",
    "                                     number_of_rows=1000\n",
    "                                     )"
   ]
  },
  {
   "cell_type": "markdown",
   "source": [
    "Load the data into a Dataframe"
   ],
   "metadata": {
    "collapsed": false,
    "pycharm": {
     "name": "#%% md\n"
    }
   }
  },
  {
   "cell_type": "code",
   "execution_count": 4,
   "metadata": {
    "pycharm": {
     "name": "#%%\n"
    }
   },
   "outputs": [],
   "source": [
    "df = explode_dataset(search_results)\n",
    "df = df.query('percentage_identity > 80')\n",
    "group_by_uniprot = df.groupby('uniprot_accession_best').count().sort_values('pdb_id', ascending=False)"
   ]
  },
  {
   "cell_type": "markdown",
   "metadata": {
    "pycharm": {
     "name": "#%% md\n"
    }
   },
   "source": [
    "How many UniProt accessions were there?"
   ]
  },
  {
   "cell_type": "code",
   "execution_count": 5,
   "metadata": {
    "pycharm": {
     "name": "#%%\n"
    }
   },
   "outputs": [
    {
     "data": {
      "text/plain": "2"
     },
     "execution_count": 5,
     "metadata": {},
     "output_type": "execute_result"
    }
   ],
   "source": [
    "len(group_by_uniprot)"
   ]
  },
  {
   "cell_type": "markdown",
   "metadata": {
    "pycharm": {
     "name": "#%% md\n"
    }
   },
   "source": [
    "lets look at the data to see what we have"
   ]
  },
  {
   "cell_type": "code",
   "execution_count": 6,
   "metadata": {
    "pycharm": {
     "name": "#%%\n"
    }
   },
   "outputs": [
    {
     "data": {
      "text/plain": "                        chain_id  ec_number  entity_id  entry_entity  \\\nuniprot_accession_best                                                 \nP08659                        48         48         48            48   \nQ5UFR2                         4          4          4             4   \n\n                        molecule_name  pdb_id  pfam_accession  tax_id  \\\nuniprot_accession_best                                                  \nP08659                             48      48              46      48   \nQ5UFR2                              4       4               4       4   \n\n                        e_value  percentage_identity  result_sequence  \nuniprot_accession_best                                                 \nP08659                       48                   48                0  \nQ5UFR2                        4                    4                0  ",
      "text/html": "<div>\n<style scoped>\n    .dataframe tbody tr th:only-of-type {\n        vertical-align: middle;\n    }\n\n    .dataframe tbody tr th {\n        vertical-align: top;\n    }\n\n    .dataframe thead th {\n        text-align: right;\n    }\n</style>\n<table border=\"1\" class=\"dataframe\">\n  <thead>\n    <tr style=\"text-align: right;\">\n      <th></th>\n      <th>chain_id</th>\n      <th>ec_number</th>\n      <th>entity_id</th>\n      <th>entry_entity</th>\n      <th>molecule_name</th>\n      <th>pdb_id</th>\n      <th>pfam_accession</th>\n      <th>tax_id</th>\n      <th>e_value</th>\n      <th>percentage_identity</th>\n      <th>result_sequence</th>\n    </tr>\n    <tr>\n      <th>uniprot_accession_best</th>\n      <th></th>\n      <th></th>\n      <th></th>\n      <th></th>\n      <th></th>\n      <th></th>\n      <th></th>\n      <th></th>\n      <th></th>\n      <th></th>\n      <th></th>\n    </tr>\n  </thead>\n  <tbody>\n    <tr>\n      <th>P08659</th>\n      <td>48</td>\n      <td>48</td>\n      <td>48</td>\n      <td>48</td>\n      <td>48</td>\n      <td>48</td>\n      <td>46</td>\n      <td>48</td>\n      <td>48</td>\n      <td>48</td>\n      <td>0</td>\n    </tr>\n    <tr>\n      <th>Q5UFR2</th>\n      <td>4</td>\n      <td>4</td>\n      <td>4</td>\n      <td>4</td>\n      <td>4</td>\n      <td>4</td>\n      <td>4</td>\n      <td>4</td>\n      <td>4</td>\n      <td>4</td>\n      <td>0</td>\n    </tr>\n  </tbody>\n</table>\n</div>"
     },
     "execution_count": 6,
     "metadata": {},
     "output_type": "execute_result"
    }
   ],
   "source": [
    "group_by_uniprot.head()"
   ]
  },
  {
   "cell_type": "markdown",
   "metadata": {
    "pycharm": {
     "name": "#%% md\n"
    }
   },
   "source": [
    "get the first UniProt from the results"
   ]
  },
  {
   "cell_type": "code",
   "execution_count": 7,
   "metadata": {
    "pycharm": {
     "name": "#%%\n"
    }
   },
   "outputs": [
    {
     "data": {
      "text/plain": "'P08659'"
     },
     "execution_count": 7,
     "metadata": {},
     "output_type": "execute_result"
    }
   ],
   "source": [
    "uniprot_accession = df['uniprot_accession_best'].iloc[0]\n",
    "\n",
    "uniprot_accession"
   ]
  },
  {
   "cell_type": "markdown",
   "metadata": {
    "pycharm": {
     "name": "#%% md\n"
    }
   },
   "source": [
    "Get compounds which interact with the UniProt"
   ]
  },
  {
   "cell_type": "code",
   "execution_count": 8,
   "metadata": {
    "pycharm": {
     "name": "#%%\n"
    }
   },
   "outputs": [
    {
     "name": "stdout",
     "output_type": "stream",
     "text": [
      "https://www.ebi.ac.uk/pdbe/graph-api/uniprot/ligand_sites/P08659\n"
     ]
    }
   ],
   "source": [
    "ligand_data = get_ligand_site_data(uniprot_accession=uniprot_accession)\n",
    "df2 = explode_dataset(ligand_data)"
   ]
  },
  {
   "cell_type": "markdown",
   "source": [
    "Some post processing is required to separating interactingPDBEntries into separate columns"
   ],
   "metadata": {
    "collapsed": false,
    "pycharm": {
     "name": "#%% md\n"
    }
   }
  },
  {
   "cell_type": "code",
   "execution_count": 9,
   "outputs": [],
   "source": [
    "data = pd.json_normalize(df2['interactingPDBEntries'])\n",
    "df3 = df2.join(data).drop(columns='interactingPDBEntries')"
   ],
   "metadata": {
    "collapsed": false,
    "pycharm": {
     "name": "#%%\n"
    }
   }
  },
  {
   "cell_type": "markdown",
   "source": [
    "\n",
    "startIndex and endIndex are the UniProt residue number, so we'll make a new column called residue_number\n",
    "and copy the startIndex there.\n",
    "We are also going to \"count\" the number of results - so we'll make a dummy count column to store it in"
   ],
   "metadata": {
    "collapsed": false,
    "pycharm": {
     "name": "#%% md\n"
    }
   }
  },
  {
   "cell_type": "code",
   "execution_count": 10,
   "outputs": [],
   "source": [
    "df3['residue_number'] = df3['startIndex']\n",
    "df3['count'] = df3['pdbId']"
   ],
   "metadata": {
    "collapsed": false,
    "pycharm": {
     "name": "#%%\n"
    }
   }
  },
  {
   "cell_type": "markdown",
   "source": [
    "Now we are ready to use the data."
   ],
   "metadata": {
    "collapsed": false,
    "pycharm": {
     "name": "#%% md\n"
    }
   }
  },
  {
   "cell_type": "code",
   "execution_count": 11,
   "outputs": [
    {
     "data": {
      "text/plain": "   startIndex  endIndex startCode endCode indexType allPDBEntries  \\\n0         316       316       GLY     GLY   UNIPROT          5gyz   \n1         317       317       ALA     ALA   UNIPROT          5gyz   \n2         318       318       PRO     PRO   UNIPROT          5gyz   \n3         339       339       GLY     GLY   UNIPROT          5gyz   \n4         340       340       TYR     TYR   UNIPROT          5gyz   \n\n  ligand_accession              ligand_name  ligand_num_atoms  \\\n0              AMP  ADENOSINE MONOPHOSPHATE                23   \n1              AMP  ADENOSINE MONOPHOSPHATE                23   \n2              AMP  ADENOSINE MONOPHOSPHATE                23   \n3              AMP  ADENOSINE MONOPHOSPHATE                23   \n4              AMP  ADENOSINE MONOPHOSPHATE                23   \n\n  uniprot_accession  interaction_ratio pdbId  entityId chainIds  \\\n0            P08659                1.0  5gyz         1        A   \n1            P08659                1.0  5gyz         1        A   \n2            P08659                1.0  5gyz         1        A   \n3            P08659                1.0  5gyz         1        A   \n4            P08659                1.0  5gyz         1        A   \n\n   residue_number count  \n0             316  5gyz  \n1             317  5gyz  \n2             318  5gyz  \n3             339  5gyz  \n4             340  5gyz  ",
      "text/html": "<div>\n<style scoped>\n    .dataframe tbody tr th:only-of-type {\n        vertical-align: middle;\n    }\n\n    .dataframe tbody tr th {\n        vertical-align: top;\n    }\n\n    .dataframe thead th {\n        text-align: right;\n    }\n</style>\n<table border=\"1\" class=\"dataframe\">\n  <thead>\n    <tr style=\"text-align: right;\">\n      <th></th>\n      <th>startIndex</th>\n      <th>endIndex</th>\n      <th>startCode</th>\n      <th>endCode</th>\n      <th>indexType</th>\n      <th>allPDBEntries</th>\n      <th>ligand_accession</th>\n      <th>ligand_name</th>\n      <th>ligand_num_atoms</th>\n      <th>uniprot_accession</th>\n      <th>interaction_ratio</th>\n      <th>pdbId</th>\n      <th>entityId</th>\n      <th>chainIds</th>\n      <th>residue_number</th>\n      <th>count</th>\n    </tr>\n  </thead>\n  <tbody>\n    <tr>\n      <th>0</th>\n      <td>316</td>\n      <td>316</td>\n      <td>GLY</td>\n      <td>GLY</td>\n      <td>UNIPROT</td>\n      <td>5gyz</td>\n      <td>AMP</td>\n      <td>ADENOSINE MONOPHOSPHATE</td>\n      <td>23</td>\n      <td>P08659</td>\n      <td>1.0</td>\n      <td>5gyz</td>\n      <td>1</td>\n      <td>A</td>\n      <td>316</td>\n      <td>5gyz</td>\n    </tr>\n    <tr>\n      <th>1</th>\n      <td>317</td>\n      <td>317</td>\n      <td>ALA</td>\n      <td>ALA</td>\n      <td>UNIPROT</td>\n      <td>5gyz</td>\n      <td>AMP</td>\n      <td>ADENOSINE MONOPHOSPHATE</td>\n      <td>23</td>\n      <td>P08659</td>\n      <td>1.0</td>\n      <td>5gyz</td>\n      <td>1</td>\n      <td>A</td>\n      <td>317</td>\n      <td>5gyz</td>\n    </tr>\n    <tr>\n      <th>2</th>\n      <td>318</td>\n      <td>318</td>\n      <td>PRO</td>\n      <td>PRO</td>\n      <td>UNIPROT</td>\n      <td>5gyz</td>\n      <td>AMP</td>\n      <td>ADENOSINE MONOPHOSPHATE</td>\n      <td>23</td>\n      <td>P08659</td>\n      <td>1.0</td>\n      <td>5gyz</td>\n      <td>1</td>\n      <td>A</td>\n      <td>318</td>\n      <td>5gyz</td>\n    </tr>\n    <tr>\n      <th>3</th>\n      <td>339</td>\n      <td>339</td>\n      <td>GLY</td>\n      <td>GLY</td>\n      <td>UNIPROT</td>\n      <td>5gyz</td>\n      <td>AMP</td>\n      <td>ADENOSINE MONOPHOSPHATE</td>\n      <td>23</td>\n      <td>P08659</td>\n      <td>1.0</td>\n      <td>5gyz</td>\n      <td>1</td>\n      <td>A</td>\n      <td>339</td>\n      <td>5gyz</td>\n    </tr>\n    <tr>\n      <th>4</th>\n      <td>340</td>\n      <td>340</td>\n      <td>TYR</td>\n      <td>TYR</td>\n      <td>UNIPROT</td>\n      <td>5gyz</td>\n      <td>AMP</td>\n      <td>ADENOSINE MONOPHOSPHATE</td>\n      <td>23</td>\n      <td>P08659</td>\n      <td>1.0</td>\n      <td>5gyz</td>\n      <td>1</td>\n      <td>A</td>\n      <td>340</td>\n      <td>5gyz</td>\n    </tr>\n  </tbody>\n</table>\n</div>"
     },
     "execution_count": 11,
     "metadata": {},
     "output_type": "execute_result"
    }
   ],
   "source": [
    "df3.head()"
   ],
   "metadata": {
    "collapsed": false,
    "pycharm": {
     "name": "#%%\n"
    }
   }
  },
  {
   "cell_type": "markdown",
   "source": [
    "Ligands which interact with every entry have an interaction_ratio of 1.0.\n",
    "So lets get them...."
   ],
   "metadata": {
    "collapsed": false,
    "pycharm": {
     "name": "#%% md\n"
    }
   }
  },
  {
   "cell_type": "code",
   "execution_count": 12,
   "outputs": [],
   "source": [
    "df4 = df3.groupby('ligand_accession')['interaction_ratio'].mean().reset_index()\n",
    "ret = df4.query('interaction_ratio == 1.0')['ligand_accession'].values"
   ],
   "metadata": {
    "collapsed": false,
    "pycharm": {
     "name": "#%%\n"
    }
   }
  },
  {
   "cell_type": "code",
   "execution_count": 23,
   "outputs": [
    {
     "data": {
      "text/plain": "array(['0NJ', '5J4', '7V6', '923', 'AMP', 'CL', 'DYD', 'GKH', 'GOL',\n       'M24', 'MBR', 'PEG', 'PG4', 'TLA', 'XLX'], dtype=object)"
     },
     "execution_count": 23,
     "metadata": {},
     "output_type": "execute_result"
    }
   ],
   "source": [
    "ret"
   ],
   "metadata": {
    "collapsed": false,
    "pycharm": {
     "name": "#%%\n"
    }
   }
  },
  {
   "cell_type": "markdown",
   "source": [
    "We have GOL (glycerol) and PEG in the list of ligands so this isn't enough to filter them\n",
    "\n",
    "So, lets see if we can filter ligands by which ligands interact with the residues which have the most interactions.\n",
    "\n",
    "First lets see how many interactions we have per residue."
   ],
   "metadata": {
    "collapsed": false,
    "pycharm": {
     "name": "#%% md\n"
    }
   }
  },
  {
   "cell_type": "code",
   "source": [
    "df4 = df3.groupby('residue_number')['count'].count().reset_index()"
   ],
   "metadata": {
    "collapsed": false,
    "pycharm": {
     "name": "#%%\n"
    }
   },
   "execution_count": 13,
   "outputs": []
  },
  {
   "cell_type": "code",
   "execution_count": 14,
   "outputs": [
    {
     "data": {
      "text/plain": "<AxesSubplot:xlabel='residue_number', ylabel='count'>"
     },
     "execution_count": 14,
     "metadata": {},
     "output_type": "execute_result"
    },
    {
     "data": {
      "text/plain": "<Figure size 432x288 with 1 Axes>",
      "image/png": "[encoded data removed]"
     },
     "metadata": {
      "needs_background": "light"
     },
     "output_type": "display_data"
    }
   ],
   "source": [
    "df4.plot.scatter(x='residue_number', y='count')"
   ],
   "metadata": {
    "collapsed": false,
    "pycharm": {
     "name": "#%%\n"
    }
   }
  },
  {
   "cell_type": "markdown",
   "source": [
    "We can the determine the mean number of interactions"
   ],
   "metadata": {
    "collapsed": false,
    "pycharm": {
     "name": "#%% md\n"
    }
   }
  },
  {
   "cell_type": "code",
   "source": [
    "mean = df4.mean()\n",
    "mean"
   ],
   "metadata": {
    "collapsed": false,
    "pycharm": {
     "name": "#%%\n"
    }
   },
   "execution_count": 15,
   "outputs": [
    {
     "data": {
      "text/plain": "residue_number    253.227273\ncount               8.602273\ndtype: float64"
     },
     "execution_count": 15,
     "metadata": {},
     "output_type": "execute_result"
    }
   ]
  },
  {
   "cell_type": "markdown",
   "source": [
    "We need to extract the mean value as a number from the above result"
   ],
   "metadata": {
    "collapsed": false,
    "pycharm": {
     "name": "#%% md\n"
    }
   }
  },
  {
   "cell_type": "code",
   "execution_count": 16,
   "outputs": [
    {
     "data": {
      "text/plain": "8.602272727272727"
     },
     "execution_count": 16,
     "metadata": {},
     "output_type": "execute_result"
    }
   ],
   "source": [
    "mean_value = float(mean.values[1])\n",
    "mean_value"
   ],
   "metadata": {
    "collapsed": false,
    "pycharm": {
     "name": "#%%\n"
    }
   }
  },
  {
   "cell_type": "markdown",
   "source": [
    "Then we can plot residues which have more interactions than the mean in red\n",
    "and those which are equal to or below in blue."
   ],
   "metadata": {
    "collapsed": false,
    "pycharm": {
     "name": "#%% md\n"
    }
   }
  },
  {
   "cell_type": "code",
   "execution_count": 17,
   "outputs": [
    {
     "data": {
      "text/plain": "<Figure size 432x288 with 1 Axes>",
      "image/png": "[encoded data removed]"
     },
     "metadata": {
      "needs_background": "light"
     },
     "output_type": "display_data"
    }
   ],
   "source": [
    "fig, ax = plt.subplots() # this makes one plot with an axis \"ax\" which we can add several plots to\n",
    "df4.query('count <= {}'.format(mean_value)).plot.scatter(x='residue_number', y='count', color='blue', ax=ax)\n",
    "df4.query('count > {}'.format(mean_value)).plot.scatter(x='residue_number', y='count', color='red', ax=ax)\n",
    "ax.axhline(mean_value)\n",
    "plt.show()\n",
    "plt.close()"
   ],
   "metadata": {
    "collapsed": false,
    "pycharm": {
     "name": "#%%\n"
    }
   }
  },
  {
   "cell_type": "markdown",
   "source": [
    "We can see the red interactions cluster around residue 250-400\n",
    "\n",
    "The actual residues are"
   ],
   "metadata": {
    "collapsed": false,
    "pycharm": {
     "name": "#%% md\n"
    }
   }
  },
  {
   "cell_type": "code",
   "execution_count": 18,
   "outputs": [
    {
     "data": {
      "text/plain": "    residue_number  count\n36             245     31\n37             246     24\n38             247     36\n39             251     36\n52             313     15\n53             314     25\n54             315     37\n55             316     34\n56             317     28\n57             318     27\n58             337     10\n59             338     17\n60             339     29\n61             340     28\n62             341     36\n63             342     35\n64             343     29\n66             347     36\n67             348     37\n78             422     28\n80             437     16\n87             529     11",
      "text/html": "<div>\n<style scoped>\n    .dataframe tbody tr th:only-of-type {\n        vertical-align: middle;\n    }\n\n    .dataframe tbody tr th {\n        vertical-align: top;\n    }\n\n    .dataframe thead th {\n        text-align: right;\n    }\n</style>\n<table border=\"1\" class=\"dataframe\">\n  <thead>\n    <tr style=\"text-align: right;\">\n      <th></th>\n      <th>residue_number</th>\n      <th>count</th>\n    </tr>\n  </thead>\n  <tbody>\n    <tr>\n      <th>36</th>\n      <td>245</td>\n      <td>31</td>\n    </tr>\n    <tr>\n      <th>37</th>\n      <td>246</td>\n      <td>24</td>\n    </tr>\n    <tr>\n      <th>38</th>\n      <td>247</td>\n      <td>36</td>\n    </tr>\n    <tr>\n      <th>39</th>\n      <td>251</td>\n      <td>36</td>\n    </tr>\n    <tr>\n      <th>52</th>\n      <td>313</td>\n      <td>15</td>\n    </tr>\n    <tr>\n      <th>53</th>\n      <td>314</td>\n      <td>25</td>\n    </tr>\n    <tr>\n      <th>54</th>\n      <td>315</td>\n      <td>37</td>\n    </tr>\n    <tr>\n      <th>55</th>\n      <td>316</td>\n      <td>34</td>\n    </tr>\n    <tr>\n      <th>56</th>\n      <td>317</td>\n      <td>28</td>\n    </tr>\n    <tr>\n      <th>57</th>\n      <td>318</td>\n      <td>27</td>\n    </tr>\n    <tr>\n      <th>58</th>\n      <td>337</td>\n      <td>10</td>\n    </tr>\n    <tr>\n      <th>59</th>\n      <td>338</td>\n      <td>17</td>\n    </tr>\n    <tr>\n      <th>60</th>\n      <td>339</td>\n      <td>29</td>\n    </tr>\n    <tr>\n      <th>61</th>\n      <td>340</td>\n      <td>28</td>\n    </tr>\n    <tr>\n      <th>62</th>\n      <td>341</td>\n      <td>36</td>\n    </tr>\n    <tr>\n      <th>63</th>\n      <td>342</td>\n      <td>35</td>\n    </tr>\n    <tr>\n      <th>64</th>\n      <td>343</td>\n      <td>29</td>\n    </tr>\n    <tr>\n      <th>66</th>\n      <td>347</td>\n      <td>36</td>\n    </tr>\n    <tr>\n      <th>67</th>\n      <td>348</td>\n      <td>37</td>\n    </tr>\n    <tr>\n      <th>78</th>\n      <td>422</td>\n      <td>28</td>\n    </tr>\n    <tr>\n      <th>80</th>\n      <td>437</td>\n      <td>16</td>\n    </tr>\n    <tr>\n      <th>87</th>\n      <td>529</td>\n      <td>11</td>\n    </tr>\n  </tbody>\n</table>\n</div>"
     },
     "execution_count": 18,
     "metadata": {},
     "output_type": "execute_result"
    }
   ],
   "source": [
    "all_data_over_mean = df4.query('count > {}'.format(mean_value))\n",
    "all_data_over_mean\n"
   ],
   "metadata": {
    "collapsed": false,
    "pycharm": {
     "name": "#%%\n"
    }
   }
  },
  {
   "cell_type": "markdown",
   "source": [
    "we only want the residue numbers for the next step"
   ],
   "metadata": {
    "collapsed": false,
    "pycharm": {
     "name": "#%% md\n"
    }
   }
  },
  {
   "cell_type": "code",
   "execution_count": 19,
   "outputs": [
    {
     "data": {
      "text/plain": "36    245\n37    246\n38    247\n39    251\n52    313\n53    314\n54    315\n55    316\n56    317\n57    318\n58    337\n59    338\n60    339\n61    340\n62    341\n63    342\n64    343\n66    347\n67    348\n78    422\n80    437\n87    529\nName: residue_number, dtype: int64"
     },
     "execution_count": 19,
     "metadata": {},
     "output_type": "execute_result"
    }
   ],
   "source": [
    "residue_numbers_over_mean = all_data_over_mean['residue_number']\n",
    "residue_numbers_over_mean"
   ],
   "metadata": {
    "collapsed": false,
    "pycharm": {
     "name": "#%%\n"
    }
   }
  },
  {
   "cell_type": "markdown",
   "source": [
    "What ligands interact with these residues?\n",
    "\n",
    "Now we want to get all ligand_accessions which interact with a residue in \"residue_numbers_over_mean\""
   ],
   "metadata": {
    "collapsed": false,
    "pycharm": {
     "name": "#%% md\n"
    }
   }
  },
  {
   "cell_type": "code",
   "execution_count": 20,
   "outputs": [
    {
     "data": {
      "text/plain": "0      AMP\n1      AMP\n2      AMP\n3      AMP\n4      AMP\n      ... \n679    MBR\n682    MBR\n683    MBR\n684    MBR\n685    MBR\nName: ligand_accession, Length: 605, dtype: object"
     },
     "execution_count": 20,
     "metadata": {},
     "output_type": "execute_result"
    }
   ],
   "source": [
    "df5  = df3[df3['residue_number'].isin(residue_numbers_over_mean)]['ligand_accession']\n",
    "df5"
   ],
   "metadata": {
    "collapsed": false,
    "pycharm": {
     "name": "#%%\n"
    }
   }
  },
  {
   "cell_type": "markdown",
   "source": [
    "The same ligand appears several times so we an \"unique\" the list to get our list of ligands\n",
    "which have a number of interactions over the mean interaction count."
   ],
   "metadata": {
    "collapsed": false,
    "pycharm": {
     "name": "#%% md\n"
    }
   }
  },
  {
   "cell_type": "code",
   "execution_count": 23,
   "outputs": [
    {
     "data": {
      "text/plain": "['AMP',\n '7V6',\n '0NJ',\n '7BV',\n '923',\n 'M24',\n 'GKH',\n 'SLU',\n '5J4',\n 'PG4',\n 'DYD',\n 'MBR']"
     },
     "execution_count": 23,
     "metadata": {},
     "output_type": "execute_result"
    }
   ],
   "source": [
    "interesting_ligands = list(df5.unique())\n",
    "interesting_ligands"
   ],
   "metadata": {
    "collapsed": false,
    "pycharm": {
     "name": "#%%\n"
    }
   }
  },
  {
   "cell_type": "markdown",
   "source": [
    "It's worth seeing which ligands are not in our list"
   ],
   "metadata": {
    "collapsed": false,
    "pycharm": {
     "name": "#%% md\n"
    }
   }
  },
  {
   "cell_type": "code",
   "execution_count": 22,
   "outputs": [
    {
     "data": {
      "text/plain": "['GOL', 'CL', 'XLX', 'TLA', 'PEG', 'SO4', 'EDO']"
     },
     "execution_count": 22,
     "metadata": {},
     "output_type": "execute_result"
    }
   ],
   "source": [
    "all_ligands = list(df3['ligand_accession'].unique())\n",
    "\n",
    "missing_ligands = [x for x in all_ligands if x not in interesting_ligands]\n",
    "missing_ligands"
   ],
   "metadata": {
    "collapsed": false,
    "pycharm": {
     "name": "#%%\n"
    }
   }
  },
  {
   "cell_type": "markdown",
   "source": [
    "Now we can display the interactions only for those ligands we have found\n",
    "\n",
    "We will start with our Dataframe df3"
   ],
   "metadata": {
    "collapsed": false,
    "pycharm": {
     "name": "#%% md\n"
    }
   }
  },
  {
   "cell_type": "code",
   "execution_count": 24,
   "outputs": [
    {
     "data": {
      "text/plain": "   startIndex  endIndex startCode endCode indexType allPDBEntries  \\\n0         316       316       GLY     GLY   UNIPROT          5gyz   \n1         317       317       ALA     ALA   UNIPROT          5gyz   \n2         318       318       PRO     PRO   UNIPROT          5gyz   \n3         339       339       GLY     GLY   UNIPROT          5gyz   \n4         340       340       TYR     TYR   UNIPROT          5gyz   \n\n  ligand_accession              ligand_name  ligand_num_atoms  \\\n0              AMP  ADENOSINE MONOPHOSPHATE                23   \n1              AMP  ADENOSINE MONOPHOSPHATE                23   \n2              AMP  ADENOSINE MONOPHOSPHATE                23   \n3              AMP  ADENOSINE MONOPHOSPHATE                23   \n4              AMP  ADENOSINE MONOPHOSPHATE                23   \n\n  uniprot_accession  interaction_ratio pdbId  entityId chainIds  \\\n0            P08659                1.0  5gyz         1        A   \n1            P08659                1.0  5gyz         1        A   \n2            P08659                1.0  5gyz         1        A   \n3            P08659                1.0  5gyz         1        A   \n4            P08659                1.0  5gyz         1        A   \n\n   residue_number count  \n0             316  5gyz  \n1             317  5gyz  \n2             318  5gyz  \n3             339  5gyz  \n4             340  5gyz  ",
      "text/html": "<div>\n<style scoped>\n    .dataframe tbody tr th:only-of-type {\n        vertical-align: middle;\n    }\n\n    .dataframe tbody tr th {\n        vertical-align: top;\n    }\n\n    .dataframe thead th {\n        text-align: right;\n    }\n</style>\n<table border=\"1\" class=\"dataframe\">\n  <thead>\n    <tr style=\"text-align: right;\">\n      <th></th>\n      <th>startIndex</th>\n      <th>endIndex</th>\n      <th>startCode</th>\n      <th>endCode</th>\n      <th>indexType</th>\n      <th>allPDBEntries</th>\n      <th>ligand_accession</th>\n      <th>ligand_name</th>\n      <th>ligand_num_atoms</th>\n      <th>uniprot_accession</th>\n      <th>interaction_ratio</th>\n      <th>pdbId</th>\n      <th>entityId</th>\n      <th>chainIds</th>\n      <th>residue_number</th>\n      <th>count</th>\n    </tr>\n  </thead>\n  <tbody>\n    <tr>\n      <th>0</th>\n      <td>316</td>\n      <td>316</td>\n      <td>GLY</td>\n      <td>GLY</td>\n      <td>UNIPROT</td>\n      <td>5gyz</td>\n      <td>AMP</td>\n      <td>ADENOSINE MONOPHOSPHATE</td>\n      <td>23</td>\n      <td>P08659</td>\n      <td>1.0</td>\n      <td>5gyz</td>\n      <td>1</td>\n      <td>A</td>\n      <td>316</td>\n      <td>5gyz</td>\n    </tr>\n    <tr>\n      <th>1</th>\n      <td>317</td>\n      <td>317</td>\n      <td>ALA</td>\n      <td>ALA</td>\n      <td>UNIPROT</td>\n      <td>5gyz</td>\n      <td>AMP</td>\n      <td>ADENOSINE MONOPHOSPHATE</td>\n      <td>23</td>\n      <td>P08659</td>\n      <td>1.0</td>\n      <td>5gyz</td>\n      <td>1</td>\n      <td>A</td>\n      <td>317</td>\n      <td>5gyz</td>\n    </tr>\n    <tr>\n      <th>2</th>\n      <td>318</td>\n      <td>318</td>\n      <td>PRO</td>\n      <td>PRO</td>\n      <td>UNIPROT</td>\n      <td>5gyz</td>\n      <td>AMP</td>\n      <td>ADENOSINE MONOPHOSPHATE</td>\n      <td>23</td>\n      <td>P08659</td>\n      <td>1.0</td>\n      <td>5gyz</td>\n      <td>1</td>\n      <td>A</td>\n      <td>318</td>\n      <td>5gyz</td>\n    </tr>\n    <tr>\n      <th>3</th>\n      <td>339</td>\n      <td>339</td>\n      <td>GLY</td>\n      <td>GLY</td>\n      <td>UNIPROT</td>\n      <td>5gyz</td>\n      <td>AMP</td>\n      <td>ADENOSINE MONOPHOSPHATE</td>\n      <td>23</td>\n      <td>P08659</td>\n      <td>1.0</td>\n      <td>5gyz</td>\n      <td>1</td>\n      <td>A</td>\n      <td>339</td>\n      <td>5gyz</td>\n    </tr>\n    <tr>\n      <th>4</th>\n      <td>340</td>\n      <td>340</td>\n      <td>TYR</td>\n      <td>TYR</td>\n      <td>UNIPROT</td>\n      <td>5gyz</td>\n      <td>AMP</td>\n      <td>ADENOSINE MONOPHOSPHATE</td>\n      <td>23</td>\n      <td>P08659</td>\n      <td>1.0</td>\n      <td>5gyz</td>\n      <td>1</td>\n      <td>A</td>\n      <td>340</td>\n      <td>5gyz</td>\n    </tr>\n  </tbody>\n</table>\n</div>"
     },
     "execution_count": 24,
     "metadata": {},
     "output_type": "execute_result"
    }
   ],
   "source": [
    "df3.head()"
   ],
   "metadata": {
    "collapsed": false,
    "pycharm": {
     "name": "#%%\n"
    }
   }
  },
  {
   "cell_type": "markdown",
   "source": [
    "We will select only ligands which interact the most in a Dataframe df6"
   ],
   "metadata": {
    "collapsed": false,
    "pycharm": {
     "name": "#%% md\n"
    }
   }
  },
  {
   "cell_type": "code",
   "execution_count": 25,
   "outputs": [],
   "source": [
    "df6 = df3.groupby(['residue_number', 'ligand_accession'])['interaction_ratio'].mean().reset_index()"
   ],
   "metadata": {
    "collapsed": false,
    "pycharm": {
     "name": "#%%\n"
    }
   }
  },
  {
   "cell_type": "markdown",
   "source": [
    "We are going to scale the interactions as we use this later"
   ],
   "metadata": {
    "collapsed": false,
    "pycharm": {
     "name": "#%% md\n"
    }
   }
  },
  {
   "cell_type": "code",
   "execution_count": 26,
   "outputs": [
    {
     "data": {
      "text/plain": "     residue_number ligand_accession  interaction_ratio\n0                15              EDO                2.0\n1                18              EDO                1.0\n2                19              EDO                2.0\n3                28              EDO                1.0\n4                32              EDO                2.0\n..              ...              ...                ...\n216             447              XLX                2.0\n217             448              SLU                0.4\n218             509              XLX                2.0\n219             529              GKH                2.0\n220             529              SLU                0.8\n\n[221 rows x 3 columns]",
      "text/html": "<div>\n<style scoped>\n    .dataframe tbody tr th:only-of-type {\n        vertical-align: middle;\n    }\n\n    .dataframe tbody tr th {\n        vertical-align: top;\n    }\n\n    .dataframe thead th {\n        text-align: right;\n    }\n</style>\n<table border=\"1\" class=\"dataframe\">\n  <thead>\n    <tr style=\"text-align: right;\">\n      <th></th>\n      <th>residue_number</th>\n      <th>ligand_accession</th>\n      <th>interaction_ratio</th>\n    </tr>\n  </thead>\n  <tbody>\n    <tr>\n      <th>0</th>\n      <td>15</td>\n      <td>EDO</td>\n      <td>2.0</td>\n    </tr>\n    <tr>\n      <th>1</th>\n      <td>18</td>\n      <td>EDO</td>\n      <td>1.0</td>\n    </tr>\n    <tr>\n      <th>2</th>\n      <td>19</td>\n      <td>EDO</td>\n      <td>2.0</td>\n    </tr>\n    <tr>\n      <th>3</th>\n      <td>28</td>\n      <td>EDO</td>\n      <td>1.0</td>\n    </tr>\n    <tr>\n      <th>4</th>\n      <td>32</td>\n      <td>EDO</td>\n      <td>2.0</td>\n    </tr>\n    <tr>\n      <th>...</th>\n      <td>...</td>\n      <td>...</td>\n      <td>...</td>\n    </tr>\n    <tr>\n      <th>216</th>\n      <td>447</td>\n      <td>XLX</td>\n      <td>2.0</td>\n    </tr>\n    <tr>\n      <th>217</th>\n      <td>448</td>\n      <td>SLU</td>\n      <td>0.4</td>\n    </tr>\n    <tr>\n      <th>218</th>\n      <td>509</td>\n      <td>XLX</td>\n      <td>2.0</td>\n    </tr>\n    <tr>\n      <th>219</th>\n      <td>529</td>\n      <td>GKH</td>\n      <td>2.0</td>\n    </tr>\n    <tr>\n      <th>220</th>\n      <td>529</td>\n      <td>SLU</td>\n      <td>0.8</td>\n    </tr>\n  </tbody>\n</table>\n<p>221 rows × 3 columns</p>\n</div>"
     },
     "execution_count": 26,
     "metadata": {},
     "output_type": "execute_result"
    }
   ],
   "source": [
    "df6['interaction_ratio'] = df6['interaction_ratio'].apply(lambda x: x*2)\n",
    "df6"
   ],
   "metadata": {
    "collapsed": false,
    "pycharm": {
     "name": "#%%\n"
    }
   }
  },
  {
   "cell_type": "markdown",
   "source": [
    "Now we can plot the ligand interactions of those ligands which interact with the most interacting residues.\n",
    "\n",
    "We will put each ligand on a row and scale the interactions by the percentage of PDB entries they are seen in.\n"
   ],
   "metadata": {
    "collapsed": false,
    "pycharm": {
     "name": "#%% md\n"
    }
   }
  },
  {
   "cell_type": "code",
   "execution_count": 27,
   "outputs": [
    {
     "name": "stderr",
     "output_type": "stream",
     "text": [
      "C:\\Users\\jmb\\Documents\\software\\git\\pdbe\\pdbe_jupyter\\venv\\lib\\site-packages\\ipykernel_launcher.py:9: SettingWithCopyWarning: \n",
      "A value is trying to be set on a copy of a slice from a DataFrame.\n",
      "Try using .loc[row_indexer,col_indexer] = value instead\n",
      "\n",
      "See the caveats in the documentation: https://pandas.pydata.org/pandas-docs/stable/user_guide/indexing.html#returning-a-view-versus-a-copy\n",
      "  if __name__ == '__main__':\n",
      "C:\\Users\\jmb\\Documents\\software\\git\\pdbe\\pdbe_jupyter\\venv\\lib\\site-packages\\ipykernel_launcher.py:16: SettingWithCopyWarning: \n",
      "A value is trying to be set on a copy of a slice from a DataFrame.\n",
      "Try using .loc[row_indexer,col_indexer] = value instead\n",
      "\n",
      "See the caveats in the documentation: https://pandas.pydata.org/pandas-docs/stable/user_guide/indexing.html#returning-a-view-versus-a-copy\n",
      "  app.launch_new_instance()\n"
     ]
    },
    {
     "data": {
      "text/plain": "<Figure size 720x1440 with 0 Axes>"
     },
     "metadata": {},
     "output_type": "display_data"
    },
    {
     "data": {
      "text/plain": "<Figure size 432x288 with 1 Axes>",
      "image/png": "[encoded data removed]"
     },
     "metadata": {
      "needs_background": "light"
     },
     "output_type": "display_data"
    }
   ],
   "source": [
    "# prepare a figure\n",
    "plt.figure(figsize=(10, 20))\n",
    "fig, ax = plt.subplots()\n",
    "\n",
    "# plot the less interesting ligands in blue\n",
    "for ligand in missing_ligands:\n",
    "    data = df6[df6['ligand_accession'] == ligand]\n",
    "    y_data = [ligand] * len(data)\n",
    "    data['y_data'] = y_data\n",
    "    data.plot.scatter(x='residue_number', y='y_data', ax=ax, s='interaction_ratio', c='blue')\n",
    "\n",
    "# plot the interesting ligands in red\n",
    "for ligand in interesting_ligands:\n",
    "    data = df6[df6['ligand_accession'] == ligand]\n",
    "    y_data = [ligand] * len(data)\n",
    "    data['y_data'] = y_data\n",
    "    data.plot.scatter(x='residue_number', y='y_data', ax=ax, s='interaction_ratio', c='red')\n",
    "\n",
    "plt.ylabel('Ligand')\n",
    "plt.xlabel('UniProt Residue Number')\n",
    "plt.title('Residues which interact with ligands,\\nSpheres scaled by amount of times each interaction is seen in PDB entries')\n",
    "plt.show()\n",
    "plt.close()"
   ],
   "metadata": {
    "collapsed": false,
    "pycharm": {
     "name": "#%%\n"
    }
   }
  },
  {
   "cell_type": "code",
   "execution_count": null,
   "outputs": [],
   "source": [],
   "metadata": {
    "collapsed": false,
    "pycharm": {
     "name": "#%%\n"
    }
   }
  }
 ],
 "metadata": {
  "kernelspec": {
   "name": "pycharm-9a06295a",
   "language": "python",
   "display_name": "PyCharm (pdbe_jupyter)"
  },
  "language_info": {
   "codemirror_mode": {
    "name": "ipython",
    "version": 3
   },
   "file_extension": ".py",
   "mimetype": "text/x-python",
   "name": "python",
   "nbconvert_exporter": "python",
   "pygments_lexer": "ipython3",
   "version": "3.7.0"
  }
 },
 "nbformat": 4,
 "nbformat_minor": 1
}