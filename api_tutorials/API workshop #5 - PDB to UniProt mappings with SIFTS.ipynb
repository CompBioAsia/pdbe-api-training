{
 "cells": [
  {
   "cell_type": "markdown",
   "metadata": {},
   "source": [
    "PDBe API Training\n",
    "=========\n",
    "\n",
    "This interactive Python notebook will guide you through various ways of programmatically accessing Protein Data Bank in Europe (PDBe) data using REST API\n",
    "\n",
    "The REST API is a programmatic way to obtain information from the PDB and EMDB. You can access details about:\n",
    "\n",
    "* sample\n",
    "* experiment\n",
    "* models\n",
    "* compounds\n",
    "* cross-references\n",
    "* publications \n",
    "* quality \n",
    "* assemblies \n",
    "* and more...\n",
    "\n",
    "For more information, visit http://www.ebi.ac.uk/pdbe/pdbe-rest-api"
   ]
  },
  {
   "cell_type": "markdown",
   "metadata": {},
   "source": [
    "# Notebook #5\n",
    "\n",
    "This notebook is the fifth in the training material series, and focuses on how to know which UniProt residue does a certain PDB residue map to using the REST API of PDBe."
   ]
  },
  {
   "cell_type": "markdown",
   "metadata": {},
   "source": [
    "## 1) Making imports and setting variables\n",
    "\n",
    "First, we import some packages that we will use, and set some variables.\n",
    "\n",
    "Note: Full list of valid URLs is available from http://www.ebi.ac.uk/pdbe/api/doc/"
   ]
  },
  {
   "cell_type": "code",
   "execution_count": 1,
   "metadata": {},
   "outputs": [],
   "source": [
    "import requests\n",
    "import re\n",
    "\n",
    "base_url = \"https://www.ebi.ac.uk/pdbe/\"\n",
    "\n",
    "api_base = base_url + \"api/\"\n",
    "\n",
    "uniprot_mapping_url = api_base + 'mappings/uniprot/'"
   ]
  },
  {
   "cell_type": "markdown",
   "metadata": {},
   "source": [
    "## 2) Defining request function\n",
    "\n",
    "Let's start with defining a function that can be used to GET a single PDB entry. Please note that the APi call we use in this exercise accepts only GET requests, thus, only single PDB ids.\n",
    "\n",
    "We will use this function to retrieve UniProt mapping between PDB residues and UniProt residues."
   ]
  },
  {
   "cell_type": "code",
   "execution_count": 2,
   "metadata": {},
   "outputs": [],
   "source": [
    "def make_request(url, mode, pdb_id):\n",
    "    \"\"\"\n",
    "    This function can make GET and POST requests to\n",
    "    the PDBe API\n",
    "    \n",
    "    :param url: String,\n",
    "    :param mode: String,\n",
    "    :param pdb_id: String\n",
    "    :return: JSON or None\n",
    "    \"\"\"\n",
    "    if mode == \"get\":\n",
    "        response = requests.get(url=url+pdb_id)\n",
    "    elif mode == \"post\":\n",
    "        response = requests.post(url, data=pdb_id)\n",
    "\n",
    "    if response.status_code == 200:\n",
    "        return response.json()\n",
    "    else:\n",
    "        print(\"[No data retrieved - %s] %s\" % (response.status_code, response.text))\n",
    "    \n",
    "    return None"
   ]
  },
  {
   "cell_type": "markdown",
   "metadata": {},
   "source": [
    "## 3) Mapping PDB residues to UniProt residues\n",
    "\n",
    "The numbering of residues in PDB entries is unfortunately not a trivial matter. Residue indexing not necessarily starts from 1, as authors may choose to use any indexing they would find best suited for their needs. For example the first residue in the PDB structure can have an \"author_residue_number\" of 42 or -6.\n",
    "\n",
    "The situation is further complicated when you try to find out how a certain residue in the PDB entry relates to the same residue numbered in UniProt (i.e. the main protein sequence database).\n",
    "\n",
    "We have developed SIFTS to address this issue. SIFTS is an up-to-date resource for residue-level mapping between UniProt and PDB entries. The resource also provides residue-level annotation from the IntEnz, GO, Pfam, InterPro, SCOP, CATH and PubMed resources. The information is updated and released every week at the same time as the release of new PDB entries and is widely used by resources such as RCSB, PDBsum, Pfam, SCOP, InterPro.\n",
    "\n",
    "In this example we will look at how to map PDB residues to UniProt residues."
   ]
  },
  {
   "cell_type": "markdown",
   "metadata": {},
   "source": [
    "### 3.1) Example data\n",
    "\n",
    "Let's start by looking at the JSON served by the PDBe API (http://www.ebi.ac.uk/pdbe/api/mappings/uniprot/1cbs)"
   ]
  },
  {
   "cell_type": "code",
   "execution_count": 3,
   "metadata": {},
   "outputs": [],
   "source": [
    "example = {\n",
    "    \"1cbs\": {\n",
    "        \"UniProt\": {\n",
    "            \"P29373\": {\n",
    "                \"identifier\": \"RABP2_HUMAN\",\n",
    "                \"name\": \"RABP2_HUMAN\",\n",
    "                \"mappings\": [\n",
    "                    {\n",
    "                        \"entity_id\": 1,\n",
    "                        \"end\": {\n",
    "                            \"author_residue_number\": 137,\n",
    "                            \"author_insertion_code\": \"\",\n",
    "                            \"residue_number\": 137\n",
    "                        },\n",
    "                        \"chain_id\": \"A\",\n",
    "                        \"start\": {\n",
    "                            \"author_residue_number\": 1,\n",
    "                            \"author_insertion_code\": \"\",\n",
    "                            \"residue_number\": 1\n",
    "                        },\n",
    "                        \"unp_end\": 138,\n",
    "                        \"unp_start\": 2,\n",
    "                        \"struct_asym_id\": \"A\"\n",
    "                    }\n",
    "                ]\n",
    "            }\n",
    "        }\n",
    "    }\n",
    "}"
   ]
  },
  {
   "cell_type": "markdown",
   "metadata": {},
   "source": [
    "According to the data, PDB entry \"1cbs\" maps to UniProt entry \"P29373\". The \"mappings\" list contains the actual mappings corresponding to regions of entities and chains. In the data above, entity 1 seen in chain A is indexed from 1 to 137, and in terms of UniProt sequence, 2 to 138."
   ]
  },
  {
   "cell_type": "markdown",
   "metadata": {},
   "source": [
    "### 3.2) Defining the mapper function\n",
    "\n",
    "We move on to defining functions to retrieve the mapping for a specific PDB entry, and process the mapping:"
   ]
  },
  {
   "cell_type": "code",
   "execution_count": 4,
   "metadata": {},
   "outputs": [
    {
     "name": "stdout",
     "output_type": "stream",
     "text": [
      "entity 3 in chain C is indexed from 2 to 95 in PDB, and from 571 to 664 in UniProt P27321\n",
      "entity 2 in chain B is indexed from 2 to 184 in PDB, and from 88 to 270 in UniProt Q64537\n",
      "entity 1 in chain A is indexed from 1 to 700 in PDB, and from 1 to 700 in UniProt Q07009\n"
     ]
    }
   ],
   "source": [
    "def get_mappings_data(pdb_id):\n",
    "    \"\"\"\n",
    "    This function will GET the mappings data from\n",
    "    the PDBe API using the make_request() function\n",
    "    \n",
    "    :param pdb_id: String\n",
    "    :return: JSON\n",
    "    \"\"\"\n",
    "    # Check if the provided PDB id is valid\n",
    "    # There is no point in making an API call\n",
    "    # with bad PDB ids\n",
    "    if not re.match(\"[0-9][A-Za-z][A-Za-z0-9]{2}\", pdb_id):\n",
    "        print(\"Invalid PDB id\")\n",
    "        return None\n",
    "    \n",
    "    # GET the mappings data\n",
    "    mappings_data = make_request(uniprot_mapping_url, \"get\", pdb_id)\n",
    "    \n",
    "    # Check if there is data\n",
    "    if not mappings_data:\n",
    "        print(\"No data found\")\n",
    "        return None\n",
    "    \n",
    "    return mappings_data\n",
    "\n",
    "def list_uniprot_pdb_mappings(pdb_id):\n",
    "    \"\"\"\n",
    "    This function retrieves PDB > UniProt\n",
    "    mappings using the get_mappings_data() function\n",
    "    \n",
    "    :param pdb_id: String,\n",
    "    :return: None\n",
    "    \"\"\"\n",
    "    \n",
    "    # Getting the mappings data\n",
    "    mappings_data = get_mappings_data(pdb_id)\n",
    "    \n",
    "    # If there is no data, return None\n",
    "    if not mappings_data:\n",
    "        return None\n",
    "    \n",
    "    \n",
    "    uniprot = mappings_data[pdb_id][\"UniProt\"]\n",
    "    for uniprot_id in uniprot.keys():\n",
    "        mappings = uniprot[uniprot_id][\"mappings\"]\n",
    "        \n",
    "        for mapping in mappings:\n",
    "            entity_id = mapping[\"entity_id\"]\n",
    "            chain_id = mapping[\"chain_id\"]\n",
    "            pdb_start = mapping[\"start\"][\"residue_number\"]\n",
    "            pdb_end = mapping[\"end\"][\"residue_number\"]\n",
    "            uniprot_start = mapping[\"unp_start\"]\n",
    "            uniprot_end = mapping[\"unp_end\"]\n",
    "            print(\"entity %i in chain %s is indexed from %i to %i in PDB, and from %i to %i in UniProt %s\" % (\n",
    "                entity_id,\n",
    "                chain_id,\n",
    "                pdb_start,\n",
    "                pdb_end,\n",
    "                uniprot_start,\n",
    "                uniprot_end,\n",
    "                uniprot_id\n",
    "                )\n",
    "            )\n",
    "        \n",
    "    return None\n",
    "        \n",
    "    \n",
    "list_uniprot_pdb_mappings(\"3bow\")"
   ]
  },
  {
   "cell_type": "markdown",
   "metadata": {},
   "source": [
    "### 3.3) Getting mapping for a specific residue of a certain chain\n",
    "\n",
    "If we are only interested in a particular residue of a chain, we could write a function such as:"
   ]
  },
  {
   "cell_type": "code",
   "execution_count": 5,
   "metadata": {},
   "outputs": [
    {
     "name": "stdout",
     "output_type": "stream",
     "text": [
      "Examples of residue mappings:\n",
      "Residue 3 of chain C in PDB entry 3bow is mapped to UniProt residue 572\n",
      "Residue 184 of chain B in PDB entry 3bow is mapped to UniProt residue 270\n"
     ]
    }
   ],
   "source": [
    "def get_uniprot_pdb_residue_mapping(pdb_id, chain_id, residue_number):\n",
    "    \"\"\"\n",
    "    This function uses get_mappings_data() function\n",
    "    to retrieve mappings between UniProt and PDB\n",
    "    for a PDB entry, and then maps one specific\n",
    "    residue of one specific chain\n",
    "    \n",
    "    :param pdb_id: String,\n",
    "    :param chain_id: String,\n",
    "    :param residue_number: String,\n",
    "    :return: Integer\n",
    "    \"\"\"\n",
    "    \n",
    "    mappings_data = get_mappings_data(pdb_id)\n",
    "    \n",
    "    if not mappings_data:\n",
    "        return None\n",
    "    \n",
    "    uniprot = mappings_data[pdb_id][\"UniProt\"]\n",
    "    for uniprot_id in uniprot:\n",
    "        for i in range(len(uniprot[uniprot_id][\"mappings\"])):\n",
    "            mapping = uniprot[uniprot_id][\"mappings\"][i]\n",
    "            if not mapping[\"chain_id\"] == chain_id:\n",
    "                continue\n",
    "            pdb_start = mapping[\"start\"][\"residue_number\"]\n",
    "            pdb_end = mapping[\"end\"][\"residue_number\"]\n",
    "            uniprot_start = mapping[\"unp_start\"]\n",
    "            uniprot_end = mapping[\"unp_end\"]\n",
    "            if residue_number >= pdb_start and residue_number <= pdb_end:\n",
    "                offset = uniprot_start - pdb_start\n",
    "                return residue_number + offset\n",
    "    return None\n",
    "\n",
    "print(\"Examples of residue mappings:\")\n",
    "print(\"Residue 3 of chain C in PDB entry 3bow is mapped to UniProt residue %i\" % \n",
    "      (get_uniprot_pdb_residue_mapping(\"3bow\", \"C\", 3)))\n",
    "    \n",
    "print(\"Residue 184 of chain B in PDB entry 3bow is mapped to UniProt residue %i\" % \n",
    "      (get_uniprot_pdb_residue_mapping(\"3bow\", \"B\", 184)))"
   ]
  },
  {
   "cell_type": "markdown",
   "metadata": {},
   "source": [
    "## This ends the fifth notebook - please proceed to other notebooks of your interest"
   ]
  },
  {
   "cell_type": "markdown",
   "metadata": {},
   "source": [
    "Copyright 2018 EMBL - European Bioinformatics Institute\n",
    "\n",
    "Licensed under the Apache License, Version 2.0 (the \"License\"); you may not use this file except in compliance with the License. You may obtain a copy of the License at http://www.apache.org/licenses/LICENSE-2.0\n",
    "\n",
    "Unless required by applicable law or agreed to in writing, software distributed under the License is distributed on an \"AS IS\" BASIS, WITHOUT WARRANTIES OR CONDITIONS OF ANY KIND, either express or implied. See the License for the specific language governing permissions and limitations under the License."
   ]
  }
 ],
 "metadata": {
  "kernelspec": {
   "display_name": "Python 3",
   "language": "python",
   "name": "python3"
  },
  "language_info": {
   "codemirror_mode": {
    "name": "ipython",
    "version": 3
   },
   "file_extension": ".py",
   "mimetype": "text/x-python",
   "name": "python",
   "nbconvert_exporter": "python",
   "pygments_lexer": "ipython3",
   "version": "3.6.3"
  }
 },
 "nbformat": 4,
 "nbformat_minor": 2
}
