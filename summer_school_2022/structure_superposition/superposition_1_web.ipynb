{
 "cells": [
  {
   "cell_type": "markdown",
   "metadata": {},
   "source": [
    "# Protein structure superposing\n",
    "\n"
   ]
  },
  {
   "cell_type": "markdown",
   "metadata": {},
   "source": [
    "## 1) **Web-based tools**\n",
    "\n",
    "Delegating computational processes to external servers is extremely useful. We can make use of hardware more powerful than consumer PCs and access large databases. Protein superposing lends itself to leveraging web-based tools as we often want to perform computationally demanding searches against large databases, an impractical task to perform on your own laptop/PC. Here, we will take an initial protein structure and search databases for other models that fold into similar conformations. Protein structure databases can either include experimentally determined peptide models, such as the PDBe archive; general classes of protein folds, such as CATH; or AI-predicted protein structures, as stored in the AlphaFold database. \n",
    "\n",
    "In the following sections of this tutorial, we will explore tools for performing structure alignment locally. For now, we will focus on querying protein structure databases using online tools. "
   ]
  },
  {
   "cell_type": "markdown",
   "metadata": {},
   "source": [
    "### 1.1) PDBeFold\n",
    "\n",
    "EMBL-EBI's [PDBeFold server](https://www.ebi.ac.uk/msd-srv/ssm/cgi-bin/ssmserver) enables us to search for similar structures to a given query against the entire [PDBe archive](https://www.ebi.ac.uk/pdbe/node/1). We can also modify our query to search the [CATH database](http://www.cathdb.info/search/by_sequence) instead. The output is similar to the results returned by a [BLAST search](https://www.uniprot.org/blast/). In fact, you might find it useful to combine the results from PDBeFold with data from (PSI-)BLAST searches, domain predictions from [InterPro](https://www.ebi.ac.uk/interpro/) and functional annotations collated by the [SIFTS](https://www.ebi.ac.uk/pdbe/docs/sifts/index.html) project. However, the search tool uses the less-accurate [SSM algorithm](https://www.ncbi.nlm.nih.gov/pmc/articles/PMC2692023/) for identifying similar protein structures. In section 1.2), the newer [Aggregate Views of Proteins](https://www.ebi.ac.uk/pdbe/pdbe-kb/protein) is introduced, which uses the more accurate [GESAMT algorithm](https://www.ncbi.nlm.nih.gov/pmc/articles/PMC5117261/) for superposing protein structures. "
   ]
  },
  {
   "cell_type": "markdown",
   "metadata": {},
   "source": [
    "### 1.2) Aggregate Views of Proteins\n",
    "\n",
    "Integrated with the molecular graphics viewer [Mol*](https://molstar.org/), EMBL-EBI's [Aggregate Views of Proteins](https://www.ebi.ac.uk/pdbe/pdbe-kb/protein) page can be used to find proteins with similar structures to a query [UniProt accession](https://www.uniprot.org/) or PDB ID. The results are pre-calculated superpositions of protein structures deposited in the PDBe archive. Only structure matching the same segment of the UniProt sequence are considered for superposition, which is performed weekly to include newly submitted structures. The page also superposes using the more accurate [GESAMT algorithm](https://www.ncbi.nlm.nih.gov/pmc/articles/PMC5117261/) and clusters the structures by conformation using a parameter called the reverse Q-score. You can find out more details on the [page's wiki](https://github.com/PDBe-KB/pdbe-kb-manual/wiki/Superposition)"
   ]
  },
  {
   "cell_type": "markdown",
   "metadata": {},
   "source": [
    "### 1.3) Foldseek\n",
    "\n",
    "To search against the [AlphaFold atabase](https://alphafold.ebi.ac.uk/), [Foldseek](https://search.foldseek.com/search) provides users with a probability-ranked (by E-value) list of similar structures to the query. Foldseek also searches against the whole [PDBe archive](https://www.ebi.ac.uk/pdbe/node/1), if toggled. The listed results link to the hits' structures. However, a further superposition step is required to view hits in a molecular graphics viewer. We will look at this in the next step. "
   ]
  },
  {
   "cell_type": "markdown",
   "metadata": {},
   "source": [
    "____________________"
   ]
  },
  {
   "cell_type": "markdown",
   "metadata": {},
   "source": [
    "#### **Practice exercise 1**: Searching for structures with similar folds\n",
    "\n",
    "Use the experimentally-derived model [5igh](https://www.ebi.ac.uk/pdbe/entry/pdb/5igh) (_Escherichia coli_ aminoglycoside phosphotransferase protein) to identify other proteins with similar tertiary structures. Any or all of the tools above can be used to perform your search. You might want to inspect the results in your browser before downloading them to your local machine as your searches could return many hits. \n",
    "\n",
    "Once you have some hits, query [InterPro](https://www.ebi.ac.uk/interpro/) to explore the proteins' domain structure. Do your hits have similar domain structures? Are they similar to [5igh](https://www.ebi.ac.uk/pdbe/entry/pdb/5igh)?\n",
    "\n",
    "Retain your results for the next stage of the tutorial, where we will begin to superpose structures locally. "
   ]
  }
 ],
 "metadata": {
  "interpreter": {
   "hash": "e7370f93d1d0cde622a1f8e1c04877d8463912d04d973331ad4851f04de6915a"
  },
  "kernelspec": {
   "display_name": "Python 3.10.4 64-bit",
   "language": "python",
   "name": "python3"
  },
  "language_info": {
   "codemirror_mode": {
    "name": "ipython",
    "version": 3
   },
   "file_extension": ".py",
   "mimetype": "text/x-python",
   "name": "python",
   "nbconvert_exporter": "python",
   "pygments_lexer": "ipython3",
   "version": "3.10.4"
  },
  "orig_nbformat": 4
 },
 "nbformat": 4,
 "nbformat_minor": 2
}
