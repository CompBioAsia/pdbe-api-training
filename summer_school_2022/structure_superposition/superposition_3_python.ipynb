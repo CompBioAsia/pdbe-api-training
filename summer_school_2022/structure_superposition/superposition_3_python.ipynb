{
 "cells": [
  {
   "cell_type": "markdown",
   "metadata": {},
   "source": [
    "# Protein structure superposing\n",
    "\n"
   ]
  },
  {
   "cell_type": "markdown",
   "metadata": {},
   "source": [
    "## 3) **Superposing with Python**\n",
    "\n",
    "Gemmi is an efficient parser for the `mmCIF` file format. We will be using it here to parse in structures from the PDBe we have saved locally. Once loaded into the script, we will explore different protein structure superposition tools. "
   ]
  },
  {
   "cell_type": "code",
   "execution_count": 1,
   "metadata": {},
   "outputs": [],
   "source": [
    "import subprocess\n",
    "import pathlib\n",
    "import gemmi\n",
    "import Bio"
   ]
  },
  {
   "cell_type": "markdown",
   "metadata": {},
   "source": [
    "### 3.1) Superposing in Python\n",
    "\n",
    "#### **Biopython**\n",
    "One approach to superposing structures programatically is use the popular Python package _Biopython_. The package contains three structural alignment tools, `SVDSuperimposer`, `Superimposer` and `CEAligner`. Each tool implements a different algorithm that attempts to minimise the root mean square deviation (RMSD) between all atoms for two given protein structures. A quick summary for each is detailed below:\n",
    "\n",
    " - `SVDSuperimposer`: \n",
    " - `Superimposer`:\n",
    " - `CEAligner`:\n",
    "\n",
    "\n",
    " "
   ]
  },
  {
   "cell_type": "code",
   "execution_count": null,
   "metadata": {},
   "outputs": [],
   "source": [
    "import Bio.PDB\n",
    "import numpy\n",
    "\n",
    "pdb_code = \"1JOY\"\n",
    "pdb_filename = \"%s.pdb\" % pdb_code\n",
    "pdb_out_filename = \"%s_aligned.pdb\" % pdb_code\n",
    "\n",
    "seq_str = 'MAAGVKQLADDRTLLMAGVSHDLRTPLTRIRLATEMMSEQDGYLAESINKDIEECNAIIEQFIDYLR'\n",
    "use_str = '-----------RTLLMAGVSHDLRTPLTRIRLATEMMSEQDGYLAESINKDI---------------'\n",
    "use = [letter<>\"-\" for letter in use_str]\n",
    "assert len(use) == len(seq_str)"
   ]
  },
  {
   "cell_type": "code",
   "execution_count": null,
   "metadata": {},
   "outputs": [],
   "source": [
    "    ref_atoms = []\n",
    "    alt_atoms = []\n",
    "    for (ref_chain, alt_chain) in zip(ref_model, alt_model) :\n",
    "        for ref_res, alt_res, amino, allow in zip(ref_chain, alt_chain, seq_str, use) :\n",
    "            assert ref_res.resname == alt_res.resname\n",
    "            assert ref_res.id      == alt_res.id\n",
    "            assert amino == Bio.PDB.Polypeptide.three_to_one(ref_res.resname)\n",
    "            if allow :\n",
    "                #CA = alpha carbon\n",
    "                ref_atoms.append(ref_res['CA'])    \n",
    "                alt_atoms.append(alt_res['CA'])"
   ]
  },
  {
   "cell_type": "code",
   "execution_count": null,
   "metadata": {},
   "outputs": [],
   "source": [
    "print(\"Loading PDB file %s\" % pdb_filename)\n",
    "structure = Bio.PDB.PDBParser().get_structure(pdb_code, pdb_filename)\n",
    "\n",
    "print(\"Everything aligned to first model...\")\n",
    "ref_model = structure[0]\n",
    "for alt_model in structure :\n",
    "    #Build paired lists of c-alpha atoms, ref_atoms and alt_atoms\n",
    "    #[code shown later]\n",
    "\n",
    "    #Align these paired atom lists:\n",
    "    super_imposer = Bio.PDB.Superimposer()\n",
    "    super_imposer.set_atoms(ref_atoms, alt_atoms)\n",
    "\n",
    "    if ref_model.id == alt_model.id :\n",
    "        #Check for self/self get zero RMS, zero translation\n",
    "        #and identity matrix for the rotation.\n",
    "        assert numpy.abs(super_imposer.rms) < 0.0000001\n",
    "        assert numpy.max(numpy.abs(super_imposer.rotran[1])) < 0.000001\n",
    "        assert numpy.max(numpy.abs(super_imposer.rotran[0]) - numpy.identity(3)) < 0.000001\n",
    "    else :\n",
    "        #Update the structure by moving all the atoms in\n",
    "        #this model (not just the ones used for the alignment)\n",
    "        super_imposer.apply(alt_model.get_atoms())\n",
    "\n",
    "    print(\"RMS(first model, model %i) = %0.2f\" % (alt_model.id, super_imposer.rms) )"
   ]
  },
  {
   "cell_type": "markdown",
   "metadata": {},
   "source": [
    "#### **Gemmi**\n",
    "\n"
   ]
  },
  {
   "cell_type": "code",
   "execution_count": null,
   "metadata": {},
   "outputs": [],
   "source": []
  },
  {
   "cell_type": "markdown",
   "metadata": {},
   "source": [
    "### 3.2) Invoking command line tools through Python\n",
    "\n",
    "#### SSM\n",
    "\n",
    "#### GESAMT\n",
    "\n",
    "#### Pymol\n",
    "\n"
   ]
  },
  {
   "cell_type": "code",
   "execution_count": null,
   "metadata": {},
   "outputs": [],
   "source": []
  },
  {
   "cell_type": "markdown",
   "metadata": {},
   "source": []
  }
 ],
 "metadata": {
  "interpreter": {
   "hash": "767d51c1340bd893661ea55ea3124f6de3c7a262a8b4abca0554b478b1e2ff90"
  },
  "kernelspec": {
   "display_name": "Python 3.10.4 64-bit",
   "language": "python",
   "name": "python3"
  },
  "language_info": {
   "codemirror_mode": {
    "name": "ipython",
    "version": 3
   },
   "file_extension": ".py",
   "mimetype": "text/x-python",
   "name": "python",
   "nbconvert_exporter": "python",
   "pygments_lexer": "ipython3",
   "version": "3.10.4"
  },
  "orig_nbformat": 4
 },
 "nbformat": 4,
 "nbformat_minor": 2
}
