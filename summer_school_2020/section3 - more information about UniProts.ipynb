{
 "cells": [
  {
   "cell_type": "markdown",
   "metadata": {},
   "source": [
    "# PDBe API Training\n",
    "\n",
    "### PDBe Interactions\n",
    "\n",
    "This tutorial will guide you through searching PDBe programmatically.\n",
    "\n",
    "\n",
    "First we will import the code which will do the work\n",
    "Run the cell below - by pressing the green play button."
   ]
  },
  {
   "cell_type": "code",
   "execution_count": 56,
   "metadata": {
    "pycharm": {
     "name": "#%%\n"
    }
   },
   "outputs": [],
   "source": [
    "import pandas as pd\n",
    "import numpy as np\n",
    "import matplotlib.pyplot as plt\n",
    "import sys\n",
    "sys.path.insert(0,'..') # to ensure the below import works in all Jupyter notebooks\n",
    "from python_modules.api_modules import run_sequence_search, explode_dataset, get_ligand_site_data\n"
   ]
  },
  {
   "cell_type": "markdown",
   "metadata": {
    "pycharm": {
     "name": "#%% md\n"
    }
   },
   "source": [
    "Now we are ready to actually run the sequence search we did in the last module\n",
    "\n",
    "We will search for a sequence with an example sequence from UniProt P24941 -\n",
    "Cyclin-dependent kinase 2"
   ]
  },
  {
   "cell_type": "code",
   "execution_count": 2,
   "metadata": {
    "pycharm": {
     "name": "#%%\n"
    }
   },
   "outputs": [
    {
     "name": "stdout",
     "output_type": "stream",
     "text": [
      "Number of results 222\n"
     ]
    }
   ],
   "source": [
    "sequence_to_search = \"\"\"\n",
    "MEDAKNIKKGPAPFYPLEDGTAGEQLHKAMKRYALVPGTIAFTDAHIEVNITYAEYFEMS\n",
    "VRLAEAMKRYGLNTNHRIVVCSENSLQFFMPVLGALFIGVAVAPANDIYNERELLNSMNI\n",
    "SQPTVVFVSKKGLQKILNVQKKLPIIQKIIIMDSKTDYQGFQSMYTFVTSHLPPGFNEYD\n",
    "FVPESFDRDKTIALIMNSSGSTGLPKGVALPHRTACVRFSHARDPIFGNQIIPDTAILSV\n",
    "VPFHHGFGMFTTLGYLICGFRVVLMYRFEEELFLRSLQDYKIQSALLVPTLFSFFAKSTL\n",
    "IDKYDLSNLHEIASGGAPLSKEVGEAVAKRFHLPGIRQGYGLTETTSAILITPEGDDKPG\n",
    "AVGKVVPFFEAKVVDLDTGKTLGVNQRGELCVRGPMIMSGYVNNPEATNALIDKDGWLHS\n",
    "GDIAYWDEDEHFFIVDRLKSLIKYKGYQVAPAELESILLQHPNIFDAGVAGLPDDDAGEL\n",
    "PAAVVVLEHGKTMTEKEIVDYVASQVTTAKKLRGGVVFVDEVPKGLTGKLDARKIREILI\n",
    "KAKKGGKSKL\n",
    "\"\"\"\n",
    "filter_list = ['pfam_accession', 'pdb_id', 'molecule_name', 'ec_number',\n",
    "               'uniprot_accession_best', 'tax_id']\n",
    "\n",
    "search_results = run_sequence_search(sequence_to_search,\n",
    "                                     filter_terms=filter_list,\n",
    "                                     number_of_rows=1000\n",
    "                                     )"
   ]
  },
  {
   "cell_type": "markdown",
   "source": [
    "Load the data into a Dataframe"
   ],
   "metadata": {
    "collapsed": false,
    "pycharm": {
     "name": "#%% md\n"
    }
   }
  },
  {
   "cell_type": "code",
   "execution_count": 3,
   "metadata": {
    "pycharm": {
     "name": "#%%\n"
    }
   },
   "outputs": [],
   "source": [
    "df = explode_dataset(search_results)\n",
    "df = df.query('percentage_identity > 80')\n",
    "group_by_uniprot = df.groupby('uniprot_accession_best').count().sort_values('pdb_id', ascending=False)"
   ]
  },
  {
   "cell_type": "markdown",
   "metadata": {
    "pycharm": {
     "name": "#%% md\n"
    }
   },
   "source": [
    "How many UniProt accessions were there?"
   ]
  },
  {
   "cell_type": "code",
   "execution_count": 4,
   "metadata": {
    "pycharm": {
     "name": "#%%\n"
    }
   },
   "outputs": [
    {
     "data": {
      "text/plain": "2"
     },
     "execution_count": 4,
     "metadata": {},
     "output_type": "execute_result"
    }
   ],
   "source": [
    "len(group_by_uniprot)"
   ]
  },
  {
   "cell_type": "markdown",
   "metadata": {
    "pycharm": {
     "name": "#%% md\n"
    }
   },
   "source": [
    "lets look at the data to see what we have"
   ]
  },
  {
   "cell_type": "code",
   "execution_count": 6,
   "metadata": {
    "pycharm": {
     "name": "#%%\n"
    }
   },
   "outputs": [
    {
     "data": {
      "text/plain": "                        chain_id  ec_number  entity_id  entry_entity  \\\nuniprot_accession_best                                                 \nP08659                        48         48         48            48   \nQ5UFR2                         4          4          4             4   \n\n                        molecule_name  pdb_id  pfam_accession  tax_id  \\\nuniprot_accession_best                                                  \nP08659                             48      48              46      48   \nQ5UFR2                              4       4               4       4   \n\n                        e_value  percentage_identity  result_sequence  \nuniprot_accession_best                                                 \nP08659                       48                   48                0  \nQ5UFR2                        4                    4                0  ",
      "text/html": "<div>\n<style scoped>\n    .dataframe tbody tr th:only-of-type {\n        vertical-align: middle;\n    }\n\n    .dataframe tbody tr th {\n        vertical-align: top;\n    }\n\n    .dataframe thead th {\n        text-align: right;\n    }\n</style>\n<table border=\"1\" class=\"dataframe\">\n  <thead>\n    <tr style=\"text-align: right;\">\n      <th></th>\n      <th>chain_id</th>\n      <th>ec_number</th>\n      <th>entity_id</th>\n      <th>entry_entity</th>\n      <th>molecule_name</th>\n      <th>pdb_id</th>\n      <th>pfam_accession</th>\n      <th>tax_id</th>\n      <th>e_value</th>\n      <th>percentage_identity</th>\n      <th>result_sequence</th>\n    </tr>\n    <tr>\n      <th>uniprot_accession_best</th>\n      <th></th>\n      <th></th>\n      <th></th>\n      <th></th>\n      <th></th>\n      <th></th>\n      <th></th>\n      <th></th>\n      <th></th>\n      <th></th>\n      <th></th>\n    </tr>\n  </thead>\n  <tbody>\n    <tr>\n      <th>P08659</th>\n      <td>48</td>\n      <td>48</td>\n      <td>48</td>\n      <td>48</td>\n      <td>48</td>\n      <td>48</td>\n      <td>46</td>\n      <td>48</td>\n      <td>48</td>\n      <td>48</td>\n      <td>0</td>\n    </tr>\n    <tr>\n      <th>Q5UFR2</th>\n      <td>4</td>\n      <td>4</td>\n      <td>4</td>\n      <td>4</td>\n      <td>4</td>\n      <td>4</td>\n      <td>4</td>\n      <td>4</td>\n      <td>4</td>\n      <td>4</td>\n      <td>0</td>\n    </tr>\n  </tbody>\n</table>\n</div>"
     },
     "execution_count": 6,
     "metadata": {},
     "output_type": "execute_result"
    }
   ],
   "source": [
    "group_by_uniprot.head()"
   ]
  },
  {
   "cell_type": "markdown",
   "metadata": {
    "pycharm": {
     "name": "#%% md\n"
    }
   },
   "source": [
    "get the first UniProt from the results"
   ]
  },
  {
   "cell_type": "code",
   "execution_count": 7,
   "metadata": {
    "pycharm": {
     "name": "#%%\n"
    }
   },
   "outputs": [
    {
     "data": {
      "text/plain": "'P08659'"
     },
     "execution_count": 7,
     "metadata": {},
     "output_type": "execute_result"
    }
   ],
   "source": [
    "uniprot_accession = df['uniprot_accession_best'].iloc[0]\n",
    "\n",
    "uniprot_accession"
   ]
  },
  {
   "cell_type": "markdown",
   "metadata": {
    "pycharm": {
     "name": "#%% md\n"
    }
   },
   "source": [
    "Get compounds which interact with the UniProt"
   ]
  },
  {
   "cell_type": "code",
   "execution_count": 8,
   "metadata": {
    "pycharm": {
     "name": "#%%\n"
    }
   },
   "outputs": [
    {
     "name": "stdout",
     "output_type": "stream",
     "text": [
      "https://www.ebi.ac.uk/pdbe/graph-api/uniprot/ligand_sites/P08659\n"
     ]
    }
   ],
   "source": [
    "ligand_data = get_ligand_site_data(uniprot_accession=uniprot_accession)\n",
    "df2 = explode_dataset(ligand_data)"
   ]
  },
  {
   "cell_type": "markdown",
   "source": [
    "Some post processing is required to separating interactingPDBEntries into separate columns"
   ],
   "metadata": {
    "collapsed": false,
    "pycharm": {
     "name": "#%% md\n"
    }
   }
  },
  {
   "cell_type": "code",
   "execution_count": 9,
   "outputs": [],
   "source": [
    "data = pd.json_normalize(df2['interactingPDBEntries'])\n",
    "df3 = df2.join(data).drop(columns='interactingPDBEntries')"
   ],
   "metadata": {
    "collapsed": false,
    "pycharm": {
     "name": "#%%\n"
    }
   }
  },
  {
   "cell_type": "markdown",
   "source": [
    "\n",
    "startIndex and endIndex are the UniProt residue number, so we'll make a new column called residue_number.\n",
    "We are also going to \"count\" the number of results - so we'll make a dummy count column to store it in"
   ],
   "metadata": {
    "collapsed": false,
    "pycharm": {
     "name": "#%% md\n"
    }
   }
  },
  {
   "cell_type": "code",
   "execution_count": 32,
   "outputs": [],
   "source": [
    "df3['residue_number'] = df3['startIndex']\n",
    "df3['count'] = df3['pdbId']"
   ],
   "metadata": {
    "collapsed": false,
    "pycharm": {
     "name": "#%%\n"
    }
   }
  },
  {
   "cell_type": "markdown",
   "source": [
    "Now we are ready to use the data."
   ],
   "metadata": {
    "collapsed": false,
    "pycharm": {
     "name": "#%% md\n"
    }
   }
  },
  {
   "cell_type": "code",
   "execution_count": 90,
   "outputs": [
    {
     "data": {
      "text/plain": "   startIndex  endIndex startCode endCode indexType allPDBEntries  \\\n0         316       316       GLY     GLY   UNIPROT          5gyz   \n1         317       317       ALA     ALA   UNIPROT          5gyz   \n2         318       318       PRO     PRO   UNIPROT          5gyz   \n3         339       339       GLY     GLY   UNIPROT          5gyz   \n4         340       340       TYR     TYR   UNIPROT          5gyz   \n\n  ligand_accession              ligand_name  ligand_num_atoms  \\\n0              AMP  ADENOSINE MONOPHOSPHATE                23   \n1              AMP  ADENOSINE MONOPHOSPHATE                23   \n2              AMP  ADENOSINE MONOPHOSPHATE                23   \n3              AMP  ADENOSINE MONOPHOSPHATE                23   \n4              AMP  ADENOSINE MONOPHOSPHATE                23   \n\n  uniprot_accession  interaction_ratio pdbId  entityId chainIds  \\\n0            P08659                1.0  5gyz         1        A   \n1            P08659                1.0  5gyz         1        A   \n2            P08659                1.0  5gyz         1        A   \n3            P08659                1.0  5gyz         1        A   \n4            P08659                1.0  5gyz         1        A   \n\n   residue_number count  \n0             316  5gyz  \n1             317  5gyz  \n2             318  5gyz  \n3             339  5gyz  \n4             340  5gyz  ",
      "text/html": "<div>\n<style scoped>\n    .dataframe tbody tr th:only-of-type {\n        vertical-align: middle;\n    }\n\n    .dataframe tbody tr th {\n        vertical-align: top;\n    }\n\n    .dataframe thead th {\n        text-align: right;\n    }\n</style>\n<table border=\"1\" class=\"dataframe\">\n  <thead>\n    <tr style=\"text-align: right;\">\n      <th></th>\n      <th>startIndex</th>\n      <th>endIndex</th>\n      <th>startCode</th>\n      <th>endCode</th>\n      <th>indexType</th>\n      <th>allPDBEntries</th>\n      <th>ligand_accession</th>\n      <th>ligand_name</th>\n      <th>ligand_num_atoms</th>\n      <th>uniprot_accession</th>\n      <th>interaction_ratio</th>\n      <th>pdbId</th>\n      <th>entityId</th>\n      <th>chainIds</th>\n      <th>residue_number</th>\n      <th>count</th>\n    </tr>\n  </thead>\n  <tbody>\n    <tr>\n      <th>0</th>\n      <td>316</td>\n      <td>316</td>\n      <td>GLY</td>\n      <td>GLY</td>\n      <td>UNIPROT</td>\n      <td>5gyz</td>\n      <td>AMP</td>\n      <td>ADENOSINE MONOPHOSPHATE</td>\n      <td>23</td>\n      <td>P08659</td>\n      <td>1.0</td>\n      <td>5gyz</td>\n      <td>1</td>\n      <td>A</td>\n      <td>316</td>\n      <td>5gyz</td>\n    </tr>\n    <tr>\n      <th>1</th>\n      <td>317</td>\n      <td>317</td>\n      <td>ALA</td>\n      <td>ALA</td>\n      <td>UNIPROT</td>\n      <td>5gyz</td>\n      <td>AMP</td>\n      <td>ADENOSINE MONOPHOSPHATE</td>\n      <td>23</td>\n      <td>P08659</td>\n      <td>1.0</td>\n      <td>5gyz</td>\n      <td>1</td>\n      <td>A</td>\n      <td>317</td>\n      <td>5gyz</td>\n    </tr>\n    <tr>\n      <th>2</th>\n      <td>318</td>\n      <td>318</td>\n      <td>PRO</td>\n      <td>PRO</td>\n      <td>UNIPROT</td>\n      <td>5gyz</td>\n      <td>AMP</td>\n      <td>ADENOSINE MONOPHOSPHATE</td>\n      <td>23</td>\n      <td>P08659</td>\n      <td>1.0</td>\n      <td>5gyz</td>\n      <td>1</td>\n      <td>A</td>\n      <td>318</td>\n      <td>5gyz</td>\n    </tr>\n    <tr>\n      <th>3</th>\n      <td>339</td>\n      <td>339</td>\n      <td>GLY</td>\n      <td>GLY</td>\n      <td>UNIPROT</td>\n      <td>5gyz</td>\n      <td>AMP</td>\n      <td>ADENOSINE MONOPHOSPHATE</td>\n      <td>23</td>\n      <td>P08659</td>\n      <td>1.0</td>\n      <td>5gyz</td>\n      <td>1</td>\n      <td>A</td>\n      <td>339</td>\n      <td>5gyz</td>\n    </tr>\n    <tr>\n      <th>4</th>\n      <td>340</td>\n      <td>340</td>\n      <td>TYR</td>\n      <td>TYR</td>\n      <td>UNIPROT</td>\n      <td>5gyz</td>\n      <td>AMP</td>\n      <td>ADENOSINE MONOPHOSPHATE</td>\n      <td>23</td>\n      <td>P08659</td>\n      <td>1.0</td>\n      <td>5gyz</td>\n      <td>1</td>\n      <td>A</td>\n      <td>340</td>\n      <td>5gyz</td>\n    </tr>\n  </tbody>\n</table>\n</div>"
     },
     "execution_count": 90,
     "metadata": {},
     "output_type": "execute_result"
    }
   ],
   "source": [
    "df3.head()"
   ],
   "metadata": {
    "collapsed": false,
    "pycharm": {
     "name": "#%%\n"
    }
   }
  },
  {
   "cell_type": "markdown",
   "source": [
    "Ligands which interact with every entry have an interaction_ratio of 1.0.\n",
    "So lets get them...."
   ],
   "metadata": {
    "collapsed": false,
    "pycharm": {
     "name": "#%% md\n"
    }
   }
  },
  {
   "cell_type": "code",
   "execution_count": 22,
   "outputs": [],
   "source": [
    "df4 = df3.groupby('ligand_accession')['interaction_ratio'].mean().reset_index()\n",
    "ret = df4.query('interaction_ratio == 1.0')['ligand_accession'].values"
   ],
   "metadata": {
    "collapsed": false,
    "pycharm": {
     "name": "#%%\n"
    }
   }
  },
  {
   "cell_type": "code",
   "execution_count": 23,
   "outputs": [
    {
     "data": {
      "text/plain": "array(['0NJ', '5J4', '7V6', '923', 'AMP', 'CL', 'DYD', 'GKH', 'GOL',\n       'M24', 'MBR', 'PEG', 'PG4', 'TLA', 'XLX'], dtype=object)"
     },
     "execution_count": 23,
     "metadata": {},
     "output_type": "execute_result"
    }
   ],
   "source": [
    "ret"
   ],
   "metadata": {
    "collapsed": false,
    "pycharm": {
     "name": "#%%\n"
    }
   }
  },
  {
   "cell_type": "markdown",
   "source": [
    "We have GOL (glycerol) and PEG in the list of ligands so this isn't enough to filter them\n",
    "\n",
    "So, lets see how many interactions we have per residue."
   ],
   "metadata": {
    "collapsed": false,
    "pycharm": {
     "name": "#%% md\n"
    }
   }
  },
  {
   "cell_type": "code",
   "source": [
    "df4 = df3.groupby('residue_number')['count'].count().reset_index()"
   ],
   "metadata": {
    "collapsed": false,
    "pycharm": {
     "name": "#%%\n"
    }
   },
   "execution_count": 69,
   "outputs": []
  },
  {
   "cell_type": "code",
   "execution_count": 70,
   "outputs": [
    {
     "data": {
      "text/plain": "<AxesSubplot:xlabel='residue_number', ylabel='count'>"
     },
     "execution_count": 70,
     "metadata": {},
     "output_type": "execute_result"
    },
    {
     "data": {
      "text/plain": "<Figure size 432x288 with 1 Axes>",
      "image/png": "[encoded data removed]"
     },
     "metadata": {
      "needs_background": "light"
     },
     "output_type": "display_data"
    }
   ],
   "source": [
    "df4.plot.scatter(x='residue_number', y='count')"
   ],
   "metadata": {
    "collapsed": false,
    "pycharm": {
     "name": "#%%\n"
    }
   }
  },
  {
   "cell_type": "markdown",
   "source": [
    "We can the determine the mean number of interactions"
   ],
   "metadata": {
    "collapsed": false,
    "pycharm": {
     "name": "#%% md\n"
    }
   }
  },
  {
   "cell_type": "code",
   "source": [
    "mean = df4.mean()\n",
    "mean"
   ],
   "metadata": {
    "collapsed": false,
    "pycharm": {
     "name": "#%%\n"
    }
   },
   "execution_count": 71,
   "outputs": [
    {
     "data": {
      "text/plain": "residue_number    253.227273\ncount               8.602273\ndtype: float64"
     },
     "execution_count": 71,
     "metadata": {},
     "output_type": "execute_result"
    }
   ]
  },
  {
   "cell_type": "markdown",
   "source": [
    "We need to extract the mean value as a number from the above result"
   ],
   "metadata": {
    "collapsed": false,
    "pycharm": {
     "name": "#%% md\n"
    }
   }
  },
  {
   "cell_type": "code",
   "execution_count": 84,
   "outputs": [
    {
     "data": {
      "text/plain": "8.602272727272727"
     },
     "execution_count": 84,
     "metadata": {},
     "output_type": "execute_result"
    }
   ],
   "source": [
    "mean_value = float(mean.values[1])\n",
    "mean_value"
   ],
   "metadata": {
    "collapsed": false,
    "pycharm": {
     "name": "#%%\n"
    }
   }
  },
  {
   "cell_type": "code",
   "execution_count": 86,
   "outputs": [
    {
     "data": {
      "text/plain": "<AxesSubplot:xlabel='residue_number', ylabel='count'>"
     },
     "execution_count": 86,
     "metadata": {},
     "output_type": "execute_result"
    },
    {
     "data": {
      "text/plain": "<Figure size 432x288 with 1 Axes>",
      "image/png": "[encoded data removed]"
     },
     "metadata": {
      "needs_background": "light"
     },
     "output_type": "display_data"
    }
   ],
   "source": [
    "fig, ax = plt.subplots() # this makes one plot with an axis \"ax\" which we can add several plots to\n",
    "df4.query('count <= {}'.format(mean_value)).plot.scatter(x='residue_number', y='count', color='blue', ax=ax)\n",
    "df4.query('count > {}'.format(mean_value)).plot.scatter(x='residue_number', y='count', color='red', ax=ax)"
   ],
   "metadata": {
    "collapsed": false,
    "pycharm": {
     "name": "#%%\n"
    }
   }
  },
  {
   "cell_type": "markdown",
   "source": [
    "We can see the red interactions cluster around residue 250-400\n",
    "\n",
    "What ligands interact with these residues?"
   ],
   "metadata": {
    "collapsed": false,
    "pycharm": {
     "name": "#%% md\n"
    }
   }
  },
  {
   "cell_type": "code",
   "execution_count": 105,
   "outputs": [],
   "source": [
    "all_data_over_mean = df4.query('count > {}'.format(mean_value))"
   ],
   "metadata": {
    "collapsed": false,
    "pycharm": {
     "name": "#%%\n"
    }
   }
  },
  {
   "cell_type": "markdown",
   "source": [
    "we only want the residue numbers, so we'll discard everything else"
   ],
   "metadata": {
    "collapsed": false,
    "pycharm": {
     "name": "#%% md\n"
    }
   }
  },
  {
   "cell_type": "code",
   "execution_count": 107,
   "outputs": [
    {
     "data": {
      "text/plain": "36    245\n37    246\n38    247\n39    251\n52    313\n53    314\n54    315\n55    316\n56    317\n57    318\n58    337\n59    338\n60    339\n61    340\n62    341\n63    342\n64    343\n66    347\n67    348\n78    422\n80    437\n87    529\nName: residue_number, dtype: int64"
     },
     "execution_count": 107,
     "metadata": {},
     "output_type": "execute_result"
    }
   ],
   "source": [
    "residue_numbers_over_mean = all_data_over_mean['residue_number']\n",
    "residue_numbers_over_mean"
   ],
   "metadata": {
    "collapsed": false,
    "pycharm": {
     "name": "#%%\n"
    }
   }
  },
  {
   "cell_type": "markdown",
   "source": [
    "Now we want to get all ligand_accessions which interact with a residue in \"residue_numbers_over_mean\""
   ],
   "metadata": {
    "collapsed": false,
    "pycharm": {
     "name": "#%% md\n"
    }
   }
  },
  {
   "cell_type": "code",
   "execution_count": 111,
   "outputs": [
    {
     "data": {
      "text/plain": "0      AMP\n1      AMP\n2      AMP\n3      AMP\n4      AMP\n      ... \n679    MBR\n682    MBR\n683    MBR\n684    MBR\n685    MBR\nName: ligand_accession, Length: 605, dtype: object"
     },
     "execution_count": 111,
     "metadata": {},
     "output_type": "execute_result"
    }
   ],
   "source": [
    "df5  = df3[df3['residue_number'].isin(residue_numbers_over_mean)]['ligand_accession']\n",
    "df5"
   ],
   "metadata": {
    "collapsed": false,
    "pycharm": {
     "name": "#%%\n"
    }
   }
  },
  {
   "cell_type": "markdown",
   "source": [
    "The same ligand appears several times so we an \"unique\" the list to get our list of ligands\n",
    "which have a number of interactions over the mean interaction count."
   ],
   "metadata": {
    "collapsed": false,
    "pycharm": {
     "name": "#%% md\n"
    }
   }
  },
  {
   "cell_type": "code",
   "execution_count": 112,
   "outputs": [
    {
     "data": {
      "text/plain": "array(['AMP', '7V6', '0NJ', '7BV', '923', 'M24', 'GKH', 'SLU', '5J4',\n       'PG4', 'DYD', 'MBR'], dtype=object)"
     },
     "execution_count": 112,
     "metadata": {},
     "output_type": "execute_result"
    }
   ],
   "source": [
    "df5.unique()"
   ],
   "metadata": {
    "collapsed": false,
    "pycharm": {
     "name": "#%%\n"
    }
   }
  }
 ],
 "metadata": {
  "kernelspec": {
   "name": "pycharm-9a06295a",
   "language": "python",
   "display_name": "PyCharm (pdbe_jupyter)"
  },
  "language_info": {
   "codemirror_mode": {
    "name": "ipython",
    "version": 3
   },
   "file_extension": ".py",
   "mimetype": "text/x-python",
   "name": "python",
   "nbconvert_exporter": "python",
   "pygments_lexer": "ipython3",
   "version": "3.7.0"
  }
 },
 "nbformat": 4,
 "nbformat_minor": 1
}