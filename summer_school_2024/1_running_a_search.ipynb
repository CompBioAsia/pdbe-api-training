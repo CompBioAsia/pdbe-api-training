{
 "cells": [
  {
   "cell_type": "markdown",
   "metadata": {
    "pycharm": {
     "name": "#%% md\n"
    }
   },
   "source": [
    "# PDBe API Training\n",
    "\n",
    "### Introduction\n",
    "\n",
    "This interactive Python notebook will guide you through programmatically accessing Protein Data Bank in Europe (PDBe) data using our REST API.\n",
    "\n",
    "The REST API is a programmatic way to obtain information from the PDB and EMDB archives. It allows you to access and filter the vast amount of data stored about the protein structures stored in the archives. \n",
    "\n",
    "Many types of information about the structures stored are made available through structured data categories. For example, you can access information about:\n",
    "* sample details\n",
    "* experimental setup\n",
    "* model quality\n",
    "* bound compounds\n",
    "* assembly formation\n",
    "* cross-references\n",
    "* publications\n",
    "* and much more...\n",
    "\n",
    "For more information, visit https://pdbe.org/api\n",
    "\n"
   ]
  },
  {
   "cell_type": "markdown",
   "metadata": {},
   "source": [
    "### Setup\n",
    "\n",
    "First we will import the code which is required to search the API and plot the results.\n",
    "\n",
    "Run the cell below - by pressing the play button."
   ]
  },
  {
   "cell_type": "code",
   "execution_count": null,
   "metadata": {},
   "outputs": [],
   "source": [
    "from pprint import pprint\n",
    "from solrq import Q, Range\n",
    "import sys\n",
    "sys.path.insert(0,'..')\n",
    "from tutorial_utilities.api_modules import (\n",
    "    format_search_terms_post,\n",
    "    make_request_post,\n",
    "    pandas_dataset, \n",
    "    pandas_count, \n",
    "    pandas_plot, \n",
    "    pandas_plot_multi_groupby   \n",
    ")"
   ]
  },
  {
   "cell_type": "code",
   "execution_count": null,
   "metadata": {},
   "outputs": [],
   "source": [
    "def run_search(search_terms, filter_terms=None, number_of_rows=10, **kwargs):\n",
    "    \"\"\"\n",
    "    Run the search with set of search terms\n",
    "    :param str search_terms: string of search terms\n",
    "    :param list filter_terms: list of terms to filter by\n",
    "    :param int number_of_rows: number of search rows to return\n",
    "    :return lst: list of results\n",
    "    \"\"\"\n",
    "    search_params = format_search_terms_post(search_terms=search_terms, filter_terms=filter_terms)\n",
    "    if search_params:\n",
    "        response = make_request_post(search_dict=search_params, number_of_rows=number_of_rows)\n",
    "        if response:\n",
    "            results = response.get('response', {}).get('docs', [])\n",
    "            print('Number of results for {}: {}'.format(search_terms, len(results)))\n",
    "            return results\n",
    "\n",
    "    print('No results')\n",
    "    return []"
   ]
  },
  {
   "cell_type": "markdown",
   "metadata": {
    "pycharm": {
     "name": "#%% md\n"
    }
   },
   "source": [
    "### Initial testing\n",
    "\n",
    "Now we are ready to run a search against the PDB API for entries containing Acetylcholinesterase from *Homo sapiens*  from  in the PDB. \n",
    "\n",
    "A list of search terms is available at:\n",
    "https://www.ebi.ac.uk/pdbe/api/doc/search.html\n",
    "\n",
    "For this task we will search for the molecule name \"Acetylcholinesterase\" in the PDB.\n",
    "\n",
    "To run the search above we first need to set the query parameters using the module Q, which stands for query. Once these have been set, we can use the \"run_search\" function that we defined above to perform the API query and return the results.\n",
    "\n",
    "By default we have limited the length of the results to 10 rows. "
   ]
  },
  {
   "cell_type": "code",
   "execution_count": null,
   "metadata": {
    "pycharm": {
     "name": "#%%\n"
    }
   },
   "outputs": [],
   "source": [
    "# Create the Solr search terms object\n",
    "search_terms = Q(molecule_name='Acetylcholinesterase')\n",
    "\n",
    "# Run the search\n",
    "initial_results = run_search(search_terms)\n",
    "print(\"Finished\")"
   ]
  },
  {
   "cell_type": "markdown",
   "metadata": {
    "pycharm": {
     "name": "#%% md\n"
    }
   },
   "source": [
    "Not all queries will return valuable results.\n",
    "\n",
    "What if we try to search for something that doesn't exist?"
   ]
  },
  {
   "cell_type": "code",
   "execution_count": null,
   "metadata": {
    "pycharm": {
     "name": "#%%\n"
    }
   },
   "outputs": [],
   "source": [
    "# The Solr search object can be created with the incorrect search term, 'bob'\n",
    "search_terms = Q(bob=\"Acetylcholinesterase\")\n",
    "\n",
    "# Run the erroneous search\n",
    "bad_results = run_search(search_terms)\n",
    "print(\"Finished\")"
   ]
  },
  {
   "cell_type": "code",
   "execution_count": null,
   "metadata": {
    "pycharm": {
     "name": "#%%\n"
    }
   },
   "outputs": [],
   "source": [
    "# The search term is now correct, but the value is incorrect\n",
    "search_terms = Q(molecule_name=\"bob\")\n",
    "\n",
    "# Run the erroneous search and see what you get\n",
    "empty_results = run_search(search_terms)\n",
    "print(\"Finished\")"
   ]
  },
  {
   "cell_type": "markdown",
   "metadata": {
    "pycharm": {
     "name": "#%% md\n"
    }
   },
   "source": [
    "What if we define the search terms incorrectly? (Hint: This will fail!)"
   ]
  },
  {
   "cell_type": "code",
   "execution_count": null,
   "metadata": {
    "pycharm": {
     "name": "#%%\n"
    }
   },
   "outputs": [],
   "source": [
    "search_terms = Q('bob')\n",
    "bad_results = run_search(search_terms)"
   ]
  },
  {
   "cell_type": "markdown",
   "metadata": {
    "pycharm": {
     "name": "#%% md\n"
    }
   },
   "source": [
    "### Refining the query\n",
    "\n",
    "We can make the search results more specific by adding additional query parameters.\n",
    "\n",
    "Here we will try to add organism_name \"Homo sapiens\" to the query to limit the results to only return those that are structures of the human Acetylcholinesterase."
   ]
  },
  {
   "cell_type": "code",
   "execution_count": null,
   "metadata": {
    "pycharm": {
     "name": "#%%\n"
    }
   },
   "outputs": [],
   "source": [
    "search_terms = Q(organism_name='Homo sapiens', molecule_name='Acetylcholinesterase')\n",
    "refined_results = run_search(search_terms)"
   ]
  },
  {
   "cell_type": "markdown",
   "metadata": {},
   "source": [
    "How did we know which search terms to use?\n",
    "\n",
    "There are many parameters that can be used to filter the results of a search. To find useful data requires an understanding of the data available.\n",
    "\n",
    "\n",
    "Exploring the data available is an essential part of the process, all the search terms can be found here:\n",
    "\n",
    "https://www.ebi.ac.uk/pdbe/api/doc/search.html\n",
    "\n",
    "For more complicated queries have a look at the documentation:\n",
    "\n",
    "https://solrq.readthedocs.io/en/latest/index.html\n"
   ]
  },
  {
   "cell_type": "markdown",
   "metadata": {},
   "source": [
    "### Exploring the results\n",
    "\n",
    "Once a set of results have been obtained, they can be explored in more detail.\n",
    "\n",
    "We will now look at individual protein structures returned in the refined_results.\n",
    "\n",
    "The following code returns all the data associated with the first protein structure found in the refined_results. It uses \"pprint\" (pretty print) to make the results easier to read.\n",
    "\n",
    "All of the \"keys\" on the left side of the results can be used as a search term."
   ]
  },
  {
   "cell_type": "code",
   "execution_count": null,
   "metadata": {
    "pycharm": {
     "name": "#%%\n"
    }
   },
   "outputs": [],
   "source": [
    "pprint(refined_results[0])"
   ]
  },
  {
   "cell_type": "markdown",
   "metadata": {},
   "source": [
    "There are many terms with the prefixes \"q_\" and \"t_\". These are only used for internal processes in PDBe and so can be ignored. \n",
    "\n",
    "Below we will find all the search terms that might be useful when querying the data (excludes the \"q_\" and \"t_\" search terms)."
   ]
  },
  {
   "cell_type": "code",
   "execution_count": null,
   "metadata": {
    "pycharm": {
     "name": "#%%\n"
    }
   },
   "outputs": [],
   "source": [
    "useful_search_terms = []\n",
    "for term in refined_results[0].keys():\n",
    "    if not term.startswith('q_') and not term.startswith('t_'):\n",
    "        useful_search_terms.append(term)\n",
    "           \n",
    "print(f'There are {len(useful_search_terms)} available search terms (excluding \"q_\" and \"t_\" terms)')"
   ]
  },
  {
   "cell_type": "markdown",
   "metadata": {
    "pycharm": {
     "name": "#%% md\n"
    }
   },
   "source": [
    "and then print out the terms we can use"
   ]
  },
  {
   "cell_type": "code",
   "execution_count": null,
   "metadata": {
    "pycharm": {
     "name": "#%%\n"
    }
   },
   "outputs": [],
   "source": [
    "pprint(useful_search_terms)"
   ]
  },
  {
   "cell_type": "markdown",
   "metadata": {
    "pycharm": {
     "name": "#%% md\n"
    }
   },
   "source": [
    "As you can see we get lots of data back about the individual molecule we have searched for and the PDB entries\n",
    "in which it is contained.\n",
    "\n",
    "For example, we can get the PDB ID and structure resolution for this first result as follows:"
   ]
  },
  {
   "cell_type": "code",
   "execution_count": null,
   "metadata": {
    "pycharm": {
     "name": "#%%\n"
    }
   },
   "outputs": [],
   "source": [
    "print(f\"PDB ID:     {refined_results[0].get('pdb_id')}\")\n",
    "print(f\"Resolution: {refined_results[0].get('resolution')}\")"
   ]
  },
  {
   "cell_type": "markdown",
   "metadata": {},
   "source": [
    "### Filtering the output data\n",
    "\n",
    "There are too many different terms to look through so we can restrict the results to only the information we want\n",
    "using a filter so its easier to see the information we want."
   ]
  },
  {
   "cell_type": "code",
   "execution_count": null,
   "metadata": {
    "pycharm": {
     "name": "#%%\n"
    }
   },
   "outputs": [],
   "source": [
    "search_terms = Q(molecule_name=\"Acetylcholinesterase\",organism_name=\"Homo sapiens\")\n",
    "filter_terms = ['pdb_id', 'resolution']\n",
    "resolution_results = run_search(search_terms, filter_terms)\n",
    "pprint(resolution_results)"
   ]
  },
  {
   "cell_type": "markdown",
   "metadata": {
    "pycharm": {
     "name": "#%% md\n"
    }
   },
   "source": [
    "### Reformatting the results\n",
    "\n",
    "While we were exploring the data we restricted the number of entries in the output to 10 rows. This allows us to get the results more quickly. Once we have refined our query parameters we can increase this limit.\n",
    "\n",
    "Now we have a refined query, lets increase the output to 1000 rows. We will then increase the number of rows to 1000 - depending on the search we might get fewer than 1000 results back\n",
    "\n",
    "**--This fulfils Project Aim 1A--**"
   ]
  },
  {
   "cell_type": "code",
   "execution_count": null,
   "metadata": {
    "pycharm": {
     "name": "#%%\n"
    }
   },
   "outputs": [],
   "source": [
    "search_terms = Q(molecule_name=\"Acetylcholinesterase\",organism_name=\"Homo sapiens\")\n",
    "filter_terms = ['pdb_id', 'resolution', 'release_year']\n",
    "project_aim_1a_results = run_search(search_terms,filter_terms, number_of_rows=1000)\n",
    "pprint(project_aim_1a_results)"
   ]
  },
  {
   "cell_type": "markdown",
   "metadata": {},
   "source": [
    "We are going to use a Python package called Pandas to help us analyse and visualise the results"
   ]
  },
  {
   "cell_type": "code",
   "execution_count": null,
   "metadata": {
    "pycharm": {
     "name": "#%%\n"
    }
   },
   "outputs": [],
   "source": [
    "df_1a_results = pandas_dataset(list_of_results=project_aim_1a_results)\n",
    "print(df_1a_results)"
   ]
  },
  {
   "cell_type": "markdown",
   "metadata": {},
   "source": [
    "We can save the results to a CSV file which we can load into excel"
   ]
  },
  {
   "cell_type": "code",
   "execution_count": null,
   "metadata": {
    "pycharm": {
     "name": "#%%\n"
    }
   },
   "outputs": [],
   "source": [
    "df_1a_results.to_csv(\"search_results_project_aims_1a.csv\")\n",
    "print('Search results written in to file: search_results_project_aims_1a.csv')"
   ]
  },
  {
   "cell_type": "markdown",
   "metadata": {
    "pycharm": {
     "name": "#%% md\n"
    }
   },
   "source": [
    "### Analysing and plotting the results\n",
    "\n",
    "We can use the this to count how many PDB codes there are for each resolution\n",
    "This groups PDB IDs by resolution value and then counts the number of unique PDB IDs per method."
   ]
  },
  {
   "cell_type": "code",
   "execution_count": null,
   "metadata": {
    "pycharm": {
     "name": "#%%\n"
    }
   },
   "outputs": [],
   "source": [
    "pandas_count(df=df_1a_results,\n",
    "             column_to_group_by='resolution')"
   ]
  },
  {
   "cell_type": "markdown",
   "metadata": {
    "pycharm": {
     "name": "#%% md\n"
    }
   },
   "source": [
    "We can then plot these results in a variety of ways using pandas:"
   ]
  },
  {
   "cell_type": "code",
   "execution_count": null,
   "metadata": {
    "pycharm": {
     "name": "#%%\n"
    }
   },
   "outputs": [],
   "source": [
    "# Plot resolution as a histogram\n",
    "pandas_plot(df=df_1a_results,\n",
    "            column_to_group_by='resolution',\n",
    "            graph_type='hist'\n",
    "            )"
   ]
  },
  {
   "cell_type": "code",
   "execution_count": null,
   "metadata": {},
   "outputs": [],
   "source": [
    "# Plot release year as a bar chart\n",
    "pandas_plot(df=df_1a_results,\n",
    "            column_to_group_by='release_year',\n",
    "            graph_type='bar'\n",
    "            )"
   ]
  },
  {
   "cell_type": "markdown",
   "metadata": {
    "pycharm": {
     "name": "#%% md\n"
    }
   },
   "source": [
    "A line plot might make more sense for this data:"
   ]
  },
  {
   "cell_type": "code",
   "execution_count": null,
   "metadata": {
    "pycharm": {
     "name": "#%%\n"
    }
   },
   "outputs": [],
   "source": [
    "# Plot release year as a line chart\n",
    "pandas_plot(df=df_1a_results,\n",
    "            column_to_group_by='release_year',\n",
    "            graph_type='line'\n",
    "            )"
   ]
  },
  {
   "cell_type": "markdown",
   "metadata": {},
   "source": [
    "### Searching for interacting macromolecules\n",
    "\n",
    "We can now use what we have learnt to obtain the data other project aims:\n",
    "\n",
    "**--The following search fulfils Project Aim 1B--**"
   ]
  },
  {
   "cell_type": "code",
   "execution_count": null,
   "metadata": {
    "scrolled": false
   },
   "outputs": [],
   "source": [
    "# Obtain Project Aim 1B results\n",
    "search_terms = Q(molecule_name=\"Acetylcholinesterase\",organism_name=\"Homo sapiens\")\n",
    "filter_terms = ['pdb_id','interacting_uniprot_accession']\n",
    "project_aim_1b_results = run_search(search_terms, filter_terms, number_of_rows = 1000)"
   ]
  },
  {
   "cell_type": "code",
   "execution_count": null,
   "metadata": {},
   "outputs": [],
   "source": [
    "# Reformat and write results to file\n",
    "df_1b_results = pandas_dataset(list_of_results=project_aim_1b_results)\n",
    "df_1b_results.to_csv(\"search_results_project_aims_1b.csv\")\n",
    "print('Search results written in to file: search_results_project_aims_1b.csv')"
   ]
  },
  {
   "cell_type": "code",
   "execution_count": null,
   "metadata": {},
   "outputs": [],
   "source": [
    "# Print results\n",
    "pprint(project_aim_1b_results)"
   ]
  },
  {
   "cell_type": "markdown",
   "metadata": {},
   "source": [
    "**--The following search fulfils Project Aim 1C--**"
   ]
  },
  {
   "cell_type": "code",
   "execution_count": null,
   "metadata": {},
   "outputs": [],
   "source": [
    "# Obtain Project Aim 1C results\n",
    "search_terms = Q(molecule_name=\"Acetylcholinesterase\",organism_name=\"Homo sapiens\")\n",
    "filter_terms = ['pdb_id','interacting_ligands']\n",
    "project_aim_1c_results = run_search(search_terms, filter_terms, number_of_rows = 1000)"
   ]
  },
  {
   "cell_type": "code",
   "execution_count": null,
   "metadata": {},
   "outputs": [],
   "source": [
    "# Reformat and write results to file\n",
    "df_1c_results = pandas_dataset(list_of_results=project_aim_1c_results)\n",
    "df_1c_results.to_csv(\"search_results_project_aims_3.csv\")\n",
    "print('Search results written in to file: search_results_project_aims_1c.csv')"
   ]
  },
  {
   "cell_type": "code",
   "execution_count": null,
   "metadata": {},
   "outputs": [],
   "source": [
    "# Print results\n",
    "pprint(project_aim_1c_results)"
   ]
  },
  {
   "cell_type": "markdown",
   "metadata": {},
   "source": [
    "### Optional extras\n",
    "\n",
    "Some data is only available through the search API and not the web interface.\n",
    "\n",
    "One example of this is the additional information made available about antibodies:"
   ]
  },
  {
   "cell_type": "code",
   "execution_count": null,
   "metadata": {
    "pycharm": {
     "name": "#%%\n"
    }
   },
   "outputs": [],
   "source": [
    "search_terms = Q(antibody_flag='Y')\n",
    "filter_terms = ['antibody_name', 'antibody_species', 'pdb_id']\n",
    "antibody_results = run_search(search_terms, filter_terms=filter_terms, number_of_rows=1000000)"
   ]
  },
  {
   "cell_type": "markdown",
   "metadata": {},
   "source": [
    "With this data we can explore it by grouping the column values:"
   ]
  },
  {
   "cell_type": "code",
   "execution_count": null,
   "metadata": {
    "pycharm": {
     "name": "#%%\n"
    }
   },
   "outputs": [],
   "source": [
    "df_antibody_results = pandas_dataset(antibody_results)\n",
    "print(df_antibody_results)\n",
    "\n",
    "# Count number of entries containing an antibody\n",
    "ds_antibody_entries = df_api_only_results.groupby('pdb_id').count()\n",
    "print(\n",
    "f\"\"\"\n",
    "Number of antibody entries: {len(ds_antibody_entries)}\n",
    "\"\"\"\n",
    ")\n",
    "\n",
    "# Count all the species which an antibody has been obtained from \n",
    "ds_antibody_species = df_antibody_results.groupby('antibody_species').count()\n",
    "print(\n",
    "f\"\"\"\n",
    "Antibody entries broken down by species: \n",
    "{ds_antibody_species['antibody_name']}\n",
    "\"\"\"\n",
    ")"
   ]
  }
 ],
 "metadata": {
  "kernelspec": {
   "display_name": "Python 3 (ipykernel)",
   "language": "python",
   "name": "python3"
  },
  "language_info": {
   "codemirror_mode": {
    "name": "ipython",
    "version": 3
   },
   "file_extension": ".py",
   "mimetype": "text/x-python",
   "name": "python",
   "nbconvert_exporter": "python",
   "pygments_lexer": "ipython3",
   "version": "3.9.16"
  }
 },
 "nbformat": 4,
 "nbformat_minor": 1
}
