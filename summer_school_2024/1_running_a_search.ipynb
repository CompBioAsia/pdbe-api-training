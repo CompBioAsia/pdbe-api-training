{
 "cells": [
  {
   "attachments": {},
   "cell_type": "markdown",
   "metadata": {
    "pycharm": {
     "name": "#%% md\n"
    }
   },
   "source": [
    "# PDBe API Training\n",
    "\n",
    "### PDBe search\n",
    "\n",
    "This interactive Python notebook will guide you through programmatically accessing Protein Data Bank in Europe (PDBe)\n",
    "data using our REST API\n",
    "\n",
    "The REST API is a programmatic way to obtain information from the PDB and EMDB. You can access details about:\n",
    "\n",
    "* sample\n",
    "* experiment\n",
    "* models\n",
    "* compounds\n",
    "* cross-references\n",
    "* publications\n",
    "* quality\n",
    "* assemblies\n",
    "* search\n",
    "and more...\n",
    "For more information, visit https://pdbe.org/api\n",
    "\n",
    "\n",
    "This tutorial will guide you through searching PDBe programmatically.\n",
    "\n",
    "\n",
    "First we will import the code which will do the work\n",
    "Run the cell below - by pressing the green play button."
   ]
  },
  {
   "cell_type": "code",
   "execution_count": null,
   "metadata": {},
   "outputs": [],
   "source": [
    "from pprint import pprint\n",
    "from solrq import Q, Range\n",
    "import sys\n",
    "sys.path.insert(0,'..')\n",
    "from tutorial_utilities.api_modules import (\n",
    "    pandas_dataset, \n",
    "    pandas_count, \n",
    "    pandas_plot, \n",
    "    pandas_plot_multi_groupby\n",
    ")"
   ]
  },
  {
   "attachments": {},
   "cell_type": "markdown",
   "metadata": {
    "pycharm": {
     "name": "#%% md\n"
    }
   },
   "source": [
    "Now we are ready to actually run a search against the PDB API for entries containing Acetylcholinesterase from *Homo sapiens*  from  in the PDB. This will return a list of results - only 10 to start with.\n",
    "\n",
    "A list of search terms is available at:\n",
    "https://www.ebi.ac.uk/pdbe/api/doc/search.html\n",
    "\n",
    "We are going to search for the molecule name \"Acetylcholinesterase\" in the PDB\n",
    "\n",
    "The search terms are defined using a module called Q\n",
    "\n",
    "We have imported a function called \"run_search\" that will do the search for us.\n",
    "We have limited this to 10 results and we will print finished at the end to show its complete"
   ]
  },
  {
   "cell_type": "code",
   "execution_count": null,
   "metadata": {},
   "outputs": [],
   "source": [
    "def run_search(search_terms, filter_terms=None, number_of_rows=10, **kwargs):\n",
    "    \"\"\"\n",
    "    Run the search with set of search terms\n",
    "    :param str search_terms: string of search terms\n",
    "    :param list filter_terms: list of terms to filter by\n",
    "    :param int number_of_rows: number of search rows to return\n",
    "    :return lst: list of results\n",
    "    \"\"\"\n",
    "    search_params = format_search_terms_post(search_terms=search_terms, filter_terms=filter_terms)\n",
    "    if search_params:\n",
    "        response = make_request_post(search_dict=search_params, number_of_rows=number_of_rows)\n",
    "        if response:\n",
    "            results = response.get('response', {}).get('docs', [])\n",
    "            print('Number of results for {}: {}'.format(search_terms, len(results)))\n",
    "            return results\n",
    "\n",
    "    print('No results')\n",
    "    return []"
   ]
  },
  {
   "cell_type": "code",
   "execution_count": null,
   "metadata": {
    "pycharm": {
     "name": "#%%\n"
    }
   },
   "outputs": [],
   "source": [
    "# Create the Solr search object\n",
    "search_terms = Q(molecule_name='Acetylcholinesterase')\n",
    "\n",
    "# Run the search\n",
    "first_results = run_search(search_terms)\n",
    "print(\"Finished\")"
   ]
  },
  {
   "attachments": {},
   "cell_type": "markdown",
   "metadata": {
    "pycharm": {
     "name": "#%% md\n"
    }
   },
   "source": [
    "What if we try to search for something that doesn't exist"
   ]
  },
  {
   "cell_type": "code",
   "execution_count": null,
   "metadata": {
    "pycharm": {
     "name": "#%%\n"
    }
   },
   "outputs": [],
   "source": [
    "# The Solr search object can be created with the incorrect keyterm, 'bob'\n",
    "search_terms = Q(bob=\"Acetylcholinesterase\")\n",
    "\n",
    "# Run the erroneous search\n",
    "false_results = run_search(search_terms)\n",
    "print(\"Finished\")"
   ]
  },
  {
   "cell_type": "code",
   "execution_count": null,
   "metadata": {
    "pycharm": {
     "name": "#%%\n"
    }
   },
   "outputs": [],
   "source": [
    "# The keyterm is now correct, but the value is incorrect\n",
    "search_terms = Q(molecule_name=\"bob\")\n",
    "\n",
    "# Run the erroneous search and see what you get\n",
    "empty_results = run_search(search_terms)\n",
    "\n",
    "empty_results"
   ]
  },
  {
   "attachments": {},
   "cell_type": "markdown",
   "metadata": {
    "pycharm": {
     "name": "#%% md\n"
    }
   },
   "source": [
    "or we define our search terms incorrectly (this will fail)"
   ]
  },
  {
   "cell_type": "code",
   "execution_count": null,
   "metadata": {
    "pycharm": {
     "name": "#%%\n"
    }
   },
   "outputs": [],
   "source": [
    "search_terms = Q('bob')\n",
    "false_results3 = run_search(search_terms)"
   ]
  },
  {
   "attachments": {},
   "cell_type": "markdown",
   "metadata": {
    "pycharm": {
     "name": "#%% md\n"
    }
   },
   "source": [
    "We will add organism_name of *Homo sapiens* to the query to limit the results to only return those that are structures of the human Acetylcholinesterase."
   ]
  },
  {
   "cell_type": "code",
   "execution_count": null,
   "metadata": {
    "pycharm": {
     "name": "#%%\n"
    }
   },
   "outputs": [],
   "source": [
    "print('2nd search - two terms together')\n",
    "search_terms = Q(organism_name='Homo sapiens', molecule_name='Acetylcholinesterase')\n",
    "second_results = run_search(search_terms)\n"
   ]
  },
  {
   "attachments": {},
   "cell_type": "markdown",
   "metadata": {},
   "source": [
    "For more complicated queries have a look at the documentation\n",
    "https://solrq.readthedocs.io/en/latest/index.html\n",
    "\n",
    "How did we know which search terms to use?\n",
    "\n",
    "We will then look at the results of the last search.\n",
    "\n",
    "We will look at the first result with the following command\n",
    "i.e. second_results[0]\n",
    "\n",
    "We are going to use \"pprint\" (pretty print) rather than \"print\" to make the result easier to read.\n",
    "\n",
    "All of the \"keys\" on the left side of the results can be used as a search term."
   ]
  },
  {
   "cell_type": "code",
   "execution_count": null,
   "metadata": {
    "pycharm": {
     "name": "#%%\n"
    }
   },
   "outputs": [],
   "source": [
    "pprint(second_results[0])"
   ]
  },
  {
   "attachments": {},
   "cell_type": "markdown",
   "metadata": {},
   "source": [
    "We use terms prefixed with q_ and t_ for our internal use so we can exclude the\n",
    " list of available search terms is available using the following command and then see how many search terms there are"
   ]
  },
  {
   "cell_type": "code",
   "execution_count": null,
   "metadata": {
    "pycharm": {
     "name": "#%%\n"
    }
   },
   "outputs": [],
   "source": [
    "keys_without_q = [q for q in second_results[0].keys() if not (q.startswith('q_') or (q.startswith('t_')))]\n",
    "print('There are {} available search terms'.format(len(keys_without_q)))"
   ]
  },
  {
   "attachments": {},
   "cell_type": "markdown",
   "metadata": {
    "pycharm": {
     "name": "#%% md\n"
    }
   },
   "source": [
    "and then print out the terms we can use"
   ]
  },
  {
   "cell_type": "code",
   "execution_count": null,
   "metadata": {
    "pycharm": {
     "name": "#%%\n"
    }
   },
   "outputs": [],
   "source": [
    "pprint(keys_without_q)"
   ]
  },
  {
   "attachments": {},
   "cell_type": "markdown",
   "metadata": {
    "pycharm": {
     "name": "#%% md\n"
    }
   },
   "source": [
    "As you can see we get lots of data back about the individual molecule we have searched for and the PDB entries\n",
    "in which it is contained.\n",
    "\n",
    "We can get the PDB ID and structure resolution for this first result as follows."
   ]
  },
  {
   "cell_type": "code",
   "execution_count": null,
   "metadata": {
    "pycharm": {
     "name": "#%%\n"
    }
   },
   "outputs": [],
   "source": [
    "print(second_results[0].get('pdb_id'))\n",
    "print(second_results[0].get('resolution'))"
   ]
  },
  {
   "attachments": {},
   "cell_type": "markdown",
   "metadata": {},
   "source": [
    "There are too many different terms to look through so we can restrict the results to only the information we want\n",
    "using a filter so its easier to see the information we want."
   ]
  },
  {
   "cell_type": "code",
   "execution_count": null,
   "metadata": {
    "pycharm": {
     "name": "#%%\n"
    }
   },
   "outputs": [],
   "source": [
    "print('3rd search')\n",
    "search_terms = Q(molecule_name=\"Acetylcholinesterase\",organism_name=\"Homo sapiens\")\n",
    "filter_terms = ['pdb_id', 'resolution']\n",
    "third_results = run_search(search_terms, filter_terms)\n",
    "pprint(third_results)"
   ]
  },
  {
   "attachments": {},
   "cell_type": "markdown",
   "metadata": {
    "pycharm": {
     "name": "#%% md\n"
    }
   },
   "source": [
    "We are still restricting the number of entries to 10 so we get the results quickly\n",
    "\n",
    "We will then increase the number of rows to 1000 - depending on the search we might get fewer than 1000 results back"
   ]
  },
  {
   "cell_type": "code",
   "execution_count": null,
   "metadata": {
    "pycharm": {
     "name": "#%%\n"
    }
   },
   "outputs": [],
   "source": [
    "print('Project aims 1: Search all the structures of Human Acetylcholinesterase, Search with up to 1000 rows')\n",
    "search_terms = Q(molecule_name=\"Acetylcholinesterase\",organism_name=\"Homo sapiens\")\n",
    "filter_terms = ['pdb_id', 'resolution', 'release_year']\n",
    "third_results_more_rows = run_search(search_terms,filter_terms, number_of_rows=1000)\n",
    "pprint(third_results_more_rows)"
   ]
  },
  {
   "attachments": {},
   "cell_type": "markdown",
   "metadata": {},
   "source": [
    "We are going to use a Python package called Pandas to help us analyse and visualise the results"
   ]
  },
  {
   "cell_type": "code",
   "execution_count": null,
   "metadata": {
    "pycharm": {
     "name": "#%%\n"
    }
   },
   "outputs": [],
   "source": [
    "df = pandas_dataset(list_of_results=third_results_more_rows)\n",
    "print(df)"
   ]
  },
  {
   "attachments": {},
   "cell_type": "markdown",
   "metadata": {},
   "source": [
    "We can save the results to a CSV file which we can load into excel"
   ]
  },
  {
   "cell_type": "code",
   "execution_count": null,
   "metadata": {
    "pycharm": {
     "name": "#%%\n"
    }
   },
   "outputs": [],
   "source": [
    "df.to_csv(\"search_results_project_aims_1.csv\")\n",
    "print('Search results with structures of Human Acetylcholinesterase written in filename:search_results_project_aims_1.csv')"
   ]
  },
  {
   "attachments": {},
   "cell_type": "markdown",
   "metadata": {
    "pycharm": {
     "name": "#%% md\n"
    }
   },
   "source": [
    "We can use the this to count how many PDB codes there are for each resolution\n",
    "This groups PDB IDs by resolution value and then counts the number of unique PDB IDs per method."
   ]
  },
  {
   "cell_type": "code",
   "execution_count": null,
   "metadata": {
    "pycharm": {
     "name": "#%%\n"
    }
   },
   "outputs": [],
   "source": [
    "pandas_count(df=df,\n",
    "             column_to_group_by='resolution')"
   ]
  },
  {
   "attachments": {},
   "cell_type": "markdown",
   "metadata": {
    "pycharm": {
     "name": "#%% md\n"
    }
   },
   "source": [
    "or plot the results as a histogram"
   ]
  },
  {
   "cell_type": "code",
   "execution_count": null,
   "metadata": {
    "pycharm": {
     "name": "#%%\n"
    }
   },
   "outputs": [],
   "source": [
    "pandas_plot(df=df,\n",
    "            column_to_group_by='resolution',\n",
    "            graph_type='hist'\n",
    "            )"
   ]
  },
  {
   "attachments": {},
   "cell_type": "markdown",
   "metadata": {
    "pycharm": {
     "name": "#%% md\n"
    }
   },
   "source": [
    "or plot per release year"
   ]
  },
  {
   "cell_type": "code",
   "execution_count": null,
   "metadata": {},
   "outputs": [],
   "source": [
    "pandas_plot(df=df,\n",
    "            column_to_group_by='release_year',\n",
    "            graph_type='bar'\n",
    "            )"
   ]
  },
  {
   "cell_type": "code",
   "execution_count": null,
   "metadata": {
    "pycharm": {
     "name": "#%%\n"
    }
   },
   "outputs": [],
   "source": [
    "\n",
    "pandas_plot(df=df,\n",
    "            column_to_group_by='release_year',\n",
    "            graph_type='line'\n",
    "            )"
   ]
  },
  {
   "attachments": {},
   "cell_type": "markdown",
   "metadata": {
    "pycharm": {
     "name": "#%% md\n"
    }
   },
   "source": [
    "maybe a line plot makes more sense here"
   ]
  },
  {
   "cell_type": "code",
   "execution_count": null,
   "metadata": {
    "scrolled": false
   },
   "outputs": [],
   "source": [
    "print('Project aims 2- Searching all the interacting macromolecules')\n",
    "search_terms = Q(molecule_name=\"Acetylcholinesterase\",organism_name=\"Homo sapiens\")\n",
    "filter_terms = ['pdb_id','interacting_uniprot_accession']\n",
    "fourth_results = run_search(search_terms, filter_terms, number_of_rows = 1000)\n",
    "#pprint(fourth_results)\n",
    "df4 = pandas_dataset(list_of_results=fourth_results)\n",
    "df4.to_csv(\"search_results_project_aims_2.csv\")\n",
    "print('Search results with interacting macromolecules written in filename:search_results_project_aims_2.csv')"
   ]
  },
  {
   "cell_type": "code",
   "execution_count": null,
   "metadata": {},
   "outputs": [],
   "source": [
    "print('Project aims 2- Searching all the interacting ligands')\n",
    "search_terms = Q(molecule_name=\"Acetylcholinesterase\",organism_name=\"Homo sapiens\")\n",
    "filter_terms = ['pdb_id','interacting_ligands']\n",
    "fifth_results = run_search(search_terms, filter_terms, number_of_rows = 1000)\n",
    "#pprint(fourth_results)\n",
    "df5 = pandas_dataset(list_of_results=fifth_results)\n",
    "df5.to_csv(\"search_results_project_aims_3.csv\")\n",
    "print('Search results with interacting ligands/small molecules written in filename:search_results_project_aims_3.csv')"
   ]
  },
  {
   "attachments": {},
   "cell_type": "markdown",
   "metadata": {},
   "source": [
    "Some data is only available through the search API and not the web interface.\n",
    "An example of this is information about antibodies.  "
   ]
  },
  {
   "cell_type": "code",
   "execution_count": null,
   "metadata": {
    "pycharm": {
     "name": "#%%\n"
    }
   },
   "outputs": [],
   "source": [
    "search_terms = Q(antibody_flag='Y')\n",
    "filter_terms = ['antibody_flag', 'antibody_name', 'antibody_species', 'pdb_id']\n",
    "api_only_results1 = run_search(search_terms, filter_terms=filter_terms, number_of_rows=1000000)\n",
    "print(len(api_only_results1))"
   ]
  },
  {
   "cell_type": "code",
   "execution_count": null,
   "metadata": {
    "pycharm": {
     "name": "#%%\n"
    }
   },
   "outputs": [],
   "source": [
    "df = pandas_dataset(api_only_results1)\n",
    "print(df)\n",
    "ds = df.groupby('pdb_id').count()\n",
    "print(len(ds))\n",
    "#ds = df.groupby('antibody_species').count().sort_values('antibody_flag', ascending=False)\n",
    "#print(ds)\n",
    "#ds.to_csv('output.csv')\n"
   ]
  }
 ],
 "metadata": {
  "kernelspec": {
   "display_name": "Python 3 (ipykernel)",
   "language": "python",
   "name": "python3"
  },
  "language_info": {
   "codemirror_mode": {
    "name": "ipython",
    "version": 3
   },
   "file_extension": ".py",
   "mimetype": "text/x-python",
   "name": "python",
   "nbconvert_exporter": "python",
   "pygments_lexer": "ipython3",
   "version": "3.11.4"
  }
 },
 "nbformat": 4,
 "nbformat_minor": 1
}
